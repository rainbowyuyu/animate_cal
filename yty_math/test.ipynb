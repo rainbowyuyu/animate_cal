{
 "cells": [
  {
   "cell_type": "code",
   "id": "initial_id",
   "metadata": {
    "collapsed": true,
    "ExecuteTime": {
     "end_time": "2024-12-08T15:40:24.627940Z",
     "start_time": "2024-12-08T15:40:03.015145Z"
    }
   },
   "source": [
    "import os.path\n",
    "\n",
    "from sklearn.cluster import DBSCAN\n",
    "from matplotlib.patches import Rectangle\n",
    "from PIL import Image\n",
    "import numpy as np\n",
    "import cv2\n",
    "import yolo_detection as yd\n",
    "import picture_roi as pr\n",
    "import dbscan_line as dl\n",
    "import matplotlib.pyplot as plt\n",
    "\n",
    "image_path = r\"C:\\Users\\rainbow_yu\\Desktop\\p1.png\"\n",
    "image = pr.extract_roi(image_path)\n",
    "image, mask , detections = yd.detect_objects(image, yd.load_model(\"train_class\"))\n",
    "image, _, _ = dl.create_line(image, mask)\n",
    "plt.imshow(image)\n",
    "plt.axis('off')\n",
    "plt.show()\n",
    "# detections = yd.remove_low_confidence_detections(detections, 0.1)\n",
    "print(detections)\n"
   ],
   "outputs": [
    {
     "name": "stdout",
     "output_type": "stream",
     "text": [
      "\n",
      "0: 352x640 1 Mobile-Phone, 94.8ms\n",
      "Speed: 11.5ms preprocess, 94.8ms inference, 404.8ms postprocess per image at shape (1, 3, 352, 640)\n"
     ]
    },
    {
     "ename": "IndexError",
     "evalue": "list index out of range",
     "output_type": "error",
     "traceback": [
      "\u001B[1;31m---------------------------------------------------------------------------\u001B[0m",
      "\u001B[1;31mIndexError\u001B[0m                                Traceback (most recent call last)",
      "Cell \u001B[1;32mIn[1], line 16\u001B[0m\n\u001B[0;32m     14\u001B[0m image \u001B[38;5;241m=\u001B[39m pr\u001B[38;5;241m.\u001B[39mextract_roi(image_path)\n\u001B[0;32m     15\u001B[0m image, mask , detections \u001B[38;5;241m=\u001B[39m yd\u001B[38;5;241m.\u001B[39mdetect_objects(image, yd\u001B[38;5;241m.\u001B[39mload_model(\u001B[38;5;124m\"\u001B[39m\u001B[38;5;124mtrain_class\u001B[39m\u001B[38;5;124m\"\u001B[39m))\n\u001B[1;32m---> 16\u001B[0m image, _, _ \u001B[38;5;241m=\u001B[39m \u001B[43mdl\u001B[49m\u001B[38;5;241;43m.\u001B[39;49m\u001B[43mcreate_line\u001B[49m\u001B[43m(\u001B[49m\u001B[43mimage\u001B[49m\u001B[43m,\u001B[49m\u001B[43m \u001B[49m\u001B[43mmask\u001B[49m\u001B[43m)\u001B[49m\n\u001B[0;32m     17\u001B[0m plt\u001B[38;5;241m.\u001B[39mimshow(image)\n\u001B[0;32m     18\u001B[0m plt\u001B[38;5;241m.\u001B[39maxis(\u001B[38;5;124m'\u001B[39m\u001B[38;5;124moff\u001B[39m\u001B[38;5;124m'\u001B[39m)\n",
      "File \u001B[1;32mE:\\ipynb\\python_design\\yty_math\\dbscan_line.py:124\u001B[0m, in \u001B[0;36mcreate_line\u001B[1;34m(detection_result, detection_mask)\u001B[0m\n\u001B[0;32m    123\u001B[0m \u001B[38;5;28;01mdef\u001B[39;00m \u001B[38;5;21mcreate_line\u001B[39m(detection_result, detection_mask):\n\u001B[1;32m--> 124\u001B[0m     vertical_lines, horizontal_lines \u001B[38;5;241m=\u001B[39m \u001B[43mdetect_division_lines\u001B[49m\u001B[43m(\u001B[49m\u001B[43mdetection_mask\u001B[49m\u001B[43m)\u001B[49m\n\u001B[0;32m    125\u001B[0m     height, width \u001B[38;5;241m=\u001B[39m detection_result\u001B[38;5;241m.\u001B[39mshape[:\u001B[38;5;241m2\u001B[39m]\n\u001B[0;32m    126\u001B[0m     \u001B[38;5;66;03m# 绘制分割线\u001B[39;00m\n",
      "File \u001B[1;32mE:\\ipynb\\python_design\\yty_math\\dbscan_line.py:104\u001B[0m, in \u001B[0;36mdetect_division_lines\u001B[1;34m(detection_mask)\u001B[0m\n\u001B[0;32m    102\u001B[0m v_threshold \u001B[38;5;241m=\u001B[39m width \u001B[38;5;241m/\u001B[39m\u001B[38;5;241m/\u001B[39m col \u001B[38;5;241m/\u001B[39m\u001B[38;5;241m/\u001B[39m \u001B[38;5;241m2\u001B[39m\n\u001B[0;32m    103\u001B[0m h_threshold \u001B[38;5;241m=\u001B[39m height \u001B[38;5;241m/\u001B[39m\u001B[38;5;241m/\u001B[39m row \u001B[38;5;241m/\u001B[39m\u001B[38;5;241m/\u001B[39m \u001B[38;5;241m2\u001B[39m\n\u001B[1;32m--> 104\u001B[0m vertical_lines \u001B[38;5;241m=\u001B[39m \u001B[43mthreshold_lines\u001B[49m\u001B[43m(\u001B[49m\u001B[43mvertical_lines\u001B[49m\u001B[43m,\u001B[49m\u001B[43m \u001B[49m\u001B[43mv_threshold\u001B[49m\u001B[43m)\u001B[49m\n\u001B[0;32m    105\u001B[0m horizontal_lines \u001B[38;5;241m=\u001B[39m threshold_lines(horizontal_lines, h_threshold)\n\u001B[0;32m    107\u001B[0m \u001B[38;5;66;03m# 验证分割线\u001B[39;00m\n",
      "File \u001B[1;32mE:\\ipynb\\python_design\\yty_math\\dbscan_line.py:96\u001B[0m, in \u001B[0;36mdetect_division_lines.<locals>.threshold_lines\u001B[1;34m(lines, threshold)\u001B[0m\n\u001B[0;32m     95\u001B[0m \u001B[38;5;28;01mdef\u001B[39;00m \u001B[38;5;21mthreshold_lines\u001B[39m(lines, threshold):\n\u001B[1;32m---> 96\u001B[0m     threshold_line \u001B[38;5;241m=\u001B[39m [\u001B[43mlines\u001B[49m\u001B[43m[\u001B[49m\u001B[38;5;241;43m0\u001B[39;49m\u001B[43m]\u001B[49m]\n\u001B[0;32m     97\u001B[0m     \u001B[38;5;28;01mfor\u001B[39;00m line \u001B[38;5;129;01min\u001B[39;00m lines[\u001B[38;5;241m1\u001B[39m:]:\n\u001B[0;32m     98\u001B[0m         \u001B[38;5;28;01mif\u001B[39;00m line \u001B[38;5;241m-\u001B[39m threshold_line[\u001B[38;5;241m-\u001B[39m\u001B[38;5;241m1\u001B[39m] \u001B[38;5;241m>\u001B[39m\u001B[38;5;241m=\u001B[39m threshold:\n",
      "\u001B[1;31mIndexError\u001B[0m: list index out of range"
     ]
    }
   ],
   "execution_count": 1
  },
  {
   "metadata": {
    "ExecuteTime": {
     "end_time": "2024-11-29T15:44:05.796770Z",
     "start_time": "2024-11-29T15:44:05.159931Z"
    }
   },
   "cell_type": "code",
   "source": [
    "import cv2\n",
    "import numpy as np\n",
    "from sklearn.cluster import DBSCAN\n",
    "import matplotlib.pyplot as plt\n",
    "from matplotlib.patches import Rectangle\n",
    "\n",
    "# 读取图像并转换为灰度\n",
    "image = cv2.cvtColor(mask, cv2.COLOR_BGR2GRAY)\n",
    "\n",
    "# 二值化（将图像转为黑白）\n",
    "_, binary_image = cv2.threshold(image, 127, 255, cv2.THRESH_BINARY_INV)\n",
    "\n",
    "# 执行膨胀操作以扩大连通区域\n",
    "kernel = cv2.getStructuringElement(cv2.MORPH_RECT, (10, 10))  # 核大小越大，扩展范围越大\n",
    "dilated_image = cv2.dilate(binary_image, kernel, iterations=1)\n",
    "\n",
    "# 去除小噪点：使用开运算（先腐蚀后膨胀）来去除小的连通区域\n",
    "kernel_open = cv2.getStructuringElement(cv2.MORPH_RECT, (2, 2))  # 可调整核的大小\n",
    "opened_image = cv2.morphologyEx(dilated_image, cv2.MORPH_OPEN, kernel_open)\n",
    "\n",
    "# 查找连通域\n",
    "contours, _ = cv2.findContours(opened_image, cv2.RETR_EXTERNAL, cv2.CHAIN_APPROX_SIMPLE)\n",
    "\n",
    "# 获取连通域的中心坐标\n",
    "centroids = []\n",
    "for contour in contours:\n",
    "    M = cv2.moments(contour)\n",
    "    if M[\"m00\"] != 0:\n",
    "        cX = int(M[\"m10\"] / M[\"m00\"])\n",
    "        cY = int(M[\"m01\"] / M[\"m00\"])\n",
    "        centroids.append([cX, cY])\n",
    "\n",
    "# 使用 DBSCAN 聚类算法进行聚类\n",
    "eps = 150  # 邻域半径\n",
    "min_samples = 1  # 每个聚类中的最小样本数\n",
    "dbscan = DBSCAN(eps=eps, min_samples=min_samples)\n",
    "labels = dbscan.fit_predict(centroids)\n",
    "\n",
    "# 获取图像的尺寸\n",
    "height, width = image.shape\n",
    "\n",
    "# 获取聚类结果\n",
    "unique_labels = np.unique(labels)\n",
    "\n",
    "# 排除噪声点标签为-1\n",
    "centroids_no_noise = [centroids[i] for i in range(len(centroids)) if labels[i] != -1]\n",
    "labels_no_noise = labels[labels != -1]\n",
    "\n",
    "# 根据聚类位置计算行列数\n",
    "x_coords = [centroid[0] for centroid in centroids_no_noise]\n",
    "y_coords = [centroid[1] for centroid in centroids_no_noise]\n",
    "\n",
    "# 计算位置范围\n",
    "min_x, max_x = min(x_coords), max(x_coords)\n",
    "min_y, max_y = min(y_coords), max(y_coords)\n",
    "\n",
    "# 根据位置范围计算行列数\n",
    "row = int(np.ceil(np.sqrt(len(centroids_no_noise))))\n",
    "col = int(np.ceil(len(centroids_no_noise) / row))\n",
    "\n",
    "# 创建子图\n",
    "fig, axes = plt.subplots(row, col, figsize=(12, 12))\n",
    "axes = axes.flatten()  # 将axes展平成一维，便于索引\n",
    "\n",
    "# 创建一张新的图像，用于显示聚类区域\n",
    "restored_image = image.copy()\n",
    "\n",
    "# 遍历每个子图\n",
    "for idx, ax in enumerate(axes):\n",
    "    ax.set_title(f'Cluster {idx + 1}')\n",
    "    ax.axis('off')\n",
    "\n",
    "    # 检查当前索引是否有对应的聚类\n",
    "    if idx < len(centroids_no_noise):\n",
    "        cX, cY = centroids_no_noise[idx]\n",
    "\n",
    "        # 计算子图区域的边界，给定中心和一些大小\n",
    "        sub_width = width // col\n",
    "        sub_height = height // row\n",
    "\n",
    "        # 计算聚类边界（基于中心点的偏移）\n",
    "        start_y = max(0, cY - sub_height // 2)\n",
    "        end_y = min(height, cY + sub_height // 2)\n",
    "        start_x = max(0, cX - sub_width // 2)\n",
    "        end_x = min(width, cX + sub_width // 2)\n",
    "\n",
    "        # 切割原始图像的对应部分\n",
    "        sub_image = image[start_y:end_y, start_x:end_x]\n",
    "\n",
    "        # 显示切割的子图\n",
    "        ax.imshow(sub_image, cmap='gray')\n",
    "\n",
    "        # 在子图外面画一个矩形框，框住该区域\n",
    "        rect = Rectangle((0, 0), end_x - start_x, end_y - start_y, linewidth=2, edgecolor='red', facecolor='none')\n",
    "        ax.add_patch(rect)\n",
    "\n",
    "        # 绘制聚类信息：显示聚类编号和中心坐标\n",
    "        ax.text(0.05, 0.95, f'Cluster {idx + 1}', transform=ax.transAxes, color='red', fontsize=12, ha='left', va='top')\n",
    "        ax.text(0.05, 0.90, f'Center: ({cX}, {cY})', transform=ax.transAxes, color='red', fontsize=10, ha='left', va='top')\n",
    "\n",
    "        # 在原图上绘制矩形框，标出当前子图区域\n",
    "        cv2.rectangle(restored_image, (start_x, start_y), (end_x, end_y), (0, 0, 0), 2)\n",
    "    else:\n",
    "        ax.axis('off')  # 如果当前子图没有对应聚类，则关闭\n",
    "\n",
    "# 调整布局并显示\n",
    "plt.tight_layout()\n",
    "plt.show()\n",
    "\n",
    "# 在原图上绘制分割线\n",
    "restored_image_with_lines = restored_image.copy()\n",
    "\n",
    "# 初始化分割线列表\n",
    "vertical_lines = []\n",
    "horizontal_lines = []\n",
    "\n",
    "# 计算每个子图的边界（基于中心点位置）\n",
    "sub_rects = []\n",
    "for cX, cY in centroids_no_noise:\n",
    "    sub_width = width // col\n",
    "    sub_height = height // row\n",
    "\n",
    "    start_y = max(0, cY - sub_height // 2)\n",
    "    end_y = min(height, cY + sub_height // 2)\n",
    "    start_x = max(0, cX - sub_width // 2)\n",
    "    end_x = min(width, cX + sub_width // 2)\n",
    "    \n",
    "    sub_rects.append((start_x, start_y, end_x, end_y))\n",
    "\n",
    "# 遍历所有子图，记录行列交界处的分割线\n",
    "for i in range(1, len(sub_rects)):\n",
    "    prev_x, prev_y, prev_end_x, prev_end_y = sub_rects[i - 1]\n",
    "    curr_x, curr_y, curr_end_x, curr_end_y = sub_rects[i]\n",
    "\n",
    "    # 记录垂直分割线\n",
    "    if prev_x != curr_x:\n",
    "        vertical_lines.append(curr_x)\n",
    "\n",
    "    # 记录水平分割线\n",
    "    if prev_y != curr_y:\n",
    "        horizontal_lines.append(curr_y)\n",
    "\n",
    "# 定义横向和纵向去重的阈值\n",
    "horizontal_threshold = width // col // 3\n",
    "vertical_threshold = height // row // 3\n",
    "\n",
    "# 去重函数\n",
    "def deduplicate_lines(lines, threshold):\n",
    "    lines = sorted(lines)  # 先排序\n",
    "    deduplicated = [lines[0]]  # 保留第一条线\n",
    "    for line in lines[1:]:\n",
    "        if line - deduplicated[-1] >= threshold:  # 与上一次保留的线比较\n",
    "            deduplicated.append(line)\n",
    "    return deduplicated\n",
    "\n",
    "# 去重后的分割线\n",
    "vertical_lines = deduplicate_lines(vertical_lines, vertical_threshold)\n",
    "horizontal_lines = deduplicate_lines(horizontal_lines, horizontal_threshold)\n",
    "\n",
    "# 确保分割线两侧存在聚类中心点的函数\n",
    "def validate_lines(lines, centroids, axis, max_size):\n",
    "    validated_lines = []\n",
    "    for line in lines:\n",
    "        # 左侧和右侧的边界范围\n",
    "        lower_bound = line\n",
    "        upper_bound = line\n",
    "        \n",
    "        # 检查是否存在聚类中心点\n",
    "        has_left = any(c[axis] < lower_bound for c in centroids)\n",
    "        has_right = any(c[axis] >= upper_bound for c in centroids)\n",
    "        \n",
    "        if has_left and has_right:\n",
    "            validated_lines.append(line)\n",
    "    return validated_lines\n",
    "\n",
    "# 验证并去除无效分割线\n",
    "vertical_lines = validate_lines(vertical_lines, centroids_no_noise, axis=0, max_size=width)\n",
    "horizontal_lines = validate_lines(horizontal_lines, centroids_no_noise, axis=1, max_size=height)\n",
    "\n",
    "restored_image_with_lines = cv2.cvtColor(restored_image_with_lines, cv2.COLOR_GRAY2BGR)\n",
    "\n",
    "# 绘制分割线\n",
    "for x in vertical_lines:\n",
    "    cv2.line(restored_image_with_lines, (x, 0), (x, height), (255, 0, 0), 2)\n",
    "\n",
    "for y in horizontal_lines:\n",
    "    cv2.line(restored_image_with_lines, (0, y), (width, y), (255, 0, 0), 2)\n",
    "\n",
    "\n",
    "# 显示绘制分割线后的图像\n",
    "plt.figure(figsize=(10, 10))\n",
    "plt.imshow(restored_image_with_lines, cmap='gray')\n",
    "plt.title(\"Restored Image with Division Lines\")\n",
    "plt.axis('off')\n",
    "plt.show()\n"
   ],
   "id": "235f654326f42387",
   "outputs": [
    {
     "data": {
      "text/plain": [
       "<Figure size 1200x1200 with 6 Axes>"
      ],
      "image/png": "[encoded data removed]"
     },
     "metadata": {},
     "output_type": "display_data"
    },
    {
     "data": {
      "text/plain": [
       "<Figure size 1000x1000 with 1 Axes>"
      ],
      "image/png": "[encoded data removed]"
     },
     "metadata": {},
     "output_type": "display_data"
    }
   ],
   "execution_count": 10
  },
  {
   "metadata": {
    "ExecuteTime": {
     "end_time": "2024-11-29T15:44:05.812279Z",
     "start_time": "2024-11-29T15:44:05.797770Z"
    }
   },
   "cell_type": "code",
   "source": [
    "def class_name_and_center(detections, image):\n",
    "    \"\"\"\n",
    "    将每个 detection 的中心点 (x, y) 坐标归一化后，与对应的类别名称配对。\n",
    "    \n",
    "    参数:\n",
    "        detections: list，每个元素包含检测结果，格式如 \n",
    "                    (array([x_min, y_min, x_max, y_max], dtype=float32), ..., {'class_name': '...'})\n",
    "        image: 图像数据，用于获取宽度和高度信息 (image.shape)\n",
    "    \n",
    "    返回:\n",
    "        list: 包含 (class_name, x_center, y_center) 的元组列表\n",
    "    \"\"\"\n",
    "    # 提取图像高度和宽度\n",
    "    height, width, _ = image.shape\n",
    "\n",
    "    # 提取 class_name 和对应的中心点\n",
    "    class_centers = [\n",
    "        (\n",
    "            detection[-1]['class_name'],  # 类别名称\n",
    "            (detection[0][0] + detection[0][2]) / 2,  # x_center 归一化\n",
    "            (detection[0][1] + detection[0][3]) / 2  # y_center 归一化\n",
    "        )\n",
    "        for detection in detections\n",
    "    ]\n",
    "    \n",
    "    return class_centers"
   ],
   "id": "1a875e3777e79f23",
   "outputs": [],
   "execution_count": 11
  },
  {
   "metadata": {
    "ExecuteTime": {
     "end_time": "2024-11-24T10:19:40.726924Z",
     "start_time": "2024-11-24T10:19:40.708196Z"
    }
   },
   "cell_type": "code",
   "source": [
    "def organize_detections(class_centers, row_lines, col_lines):\n",
    "    \"\"\"\n",
    "    将检测结果根据中心点在分割线的位置划分到行列矩阵中。\n",
    "\n",
    "    参数:\n",
    "        class_centers: list，每个元素为 (class_name, x_center, y_center) 的元组\n",
    "        row_lines: list，表示行分割线的 y 坐标，从小到大排列\n",
    "        col_lines: list，表示列分割线的 x 坐标，从小到大排列\n",
    "\n",
    "    返回:\n",
    "        matrix: list，row+1 行，col+1 列的二维列表，每个元素包含该单元格内的 class_name\n",
    "    \"\"\"\n",
    "    # 检查输入的分割线是否有序\n",
    "    if row_lines != sorted(row_lines):\n",
    "        raise ValueError(\"Row lines must be sorted in ascending order.\")\n",
    "    if col_lines != sorted(col_lines):\n",
    "        raise ValueError(\"Column lines must be sorted in ascending order.\")\n",
    "    \n",
    "    # 对 class_centers 按 x_center 排序\n",
    "    class_centers_sorted = sorted(class_centers, key=lambda x: x[1])  # 根据 x_center 排序\n",
    "\n",
    "    # 初始化矩阵\n",
    "    num_rows = len(row_lines) + 1\n",
    "    num_cols = len(col_lines) + 1\n",
    "    matrix = [['' for _ in range(num_cols)] for _ in range(num_rows)]  # 改为存储字符串\n",
    "\n",
    "    # 确定中心点所在行号\n",
    "    def get_row_idx(y_center):\n",
    "        return next((i for i, y in enumerate(row_lines) if y_center < y), len(row_lines))\n",
    "\n",
    "    # 确定中心点所在列号\n",
    "    def get_col_idx(x_center):\n",
    "        return next((i for i, x in enumerate(col_lines) if x_center < x), len(col_lines))\n",
    "\n",
    "    # 遍历排序后的检测结果，填充矩阵\n",
    "    for class_name, x_center, y_center in class_centers_sorted:\n",
    "        row_idx = get_row_idx(y_center)\n",
    "        col_idx = get_col_idx(x_center)\n",
    "        if class_name == \"[\" or class_name == \"]\":\n",
    "            continue\n",
    "        if class_name == \"-\" and matrix[row_idx][col_idx]:  # 如果该格已经有值\n",
    "            continue\n",
    "        # 如果当前格子有元素且是'-'，将当前元素合并到已有的元素\n",
    "        if matrix[row_idx][col_idx]:\n",
    "            matrix[row_idx][col_idx] += class_name\n",
    "        else:\n",
    "            matrix[row_idx][col_idx] = class_name\n",
    "    \n",
    "    for r in range(len(matrix)):\n",
    "        for c in range(len(matrix[r_idx])):\n",
    "            matrix[r][c] = int(matrix[r][c])\n",
    "    \n",
    "    return matrix\n",
    "\n",
    "\n",
    "# 示例调用\n",
    "matrix = organize_detections(class_name_and_center(detections, mask), horizontal_lines, vertical_lines)\n",
    "\n",
    "# 打印结果\n",
    "for r_idx, row in enumerate(matrix):\n",
    "    for c_idx, cell in enumerate(row):\n",
    "        print(f\"Row {r_idx}, Col {c_idx}: {cell}\")\n",
    "\n",
    "print(matrix)"
   ],
   "id": "daa6b47c881438d3",
   "outputs": [
    {
     "name": "stdout",
     "output_type": "stream",
     "text": [
      "Row 0, Col 0: -18\n",
      "Row 0, Col 1: 23\n",
      "Row 0, Col 2: 397\n",
      "Row 1, Col 0: 42\n",
      "Row 1, Col 1: 96\n",
      "Row 1, Col 2: 87\n",
      "Row 2, Col 0: 33\n",
      "Row 2, Col 1: 15\n",
      "Row 2, Col 2: -54\n",
      "[[-18, 23, 397], [42, 96, 87], [33, 15, -54]]\n"
     ]
    }
   ],
   "execution_count": 90
  },
  {
   "metadata": {
    "ExecuteTime": {
     "end_time": "2024-11-25T10:50:32.115583Z",
     "start_time": "2024-11-25T10:50:30.455934Z"
    }
   },
   "cell_type": "code",
   "source": "from manim import *",
   "id": "f9bd683b9bb86271",
   "outputs": [
    {
     "data": {
      "text/plain": [
       "Manim Community \u001B[32mv0.\u001B[0m\u001B[32m18.0\u001B[0m\n",
       "\n"
      ],
      "text/html": [
       "<pre style=\"white-space:pre;overflow-x:auto;line-height:normal;font-family:Menlo,'DejaVu Sans Mono',consolas,'Courier New',monospace\">Manim Community <span style=\"color: #008000; text-decoration-color: #008000\">v0.18.0</span>\n",
       "\n",
       "</pre>\n"
      ]
     },
     "metadata": {},
     "output_type": "display_data"
    }
   ],
   "execution_count": 2
  },
  {
   "metadata": {
    "ExecuteTime": {
     "end_time": "2024-11-26T04:27:54.214877Z",
     "start_time": "2024-11-26T04:27:51.943245Z"
    }
   },
   "cell_type": "code",
   "source": [
    "matrix = r\"\"\"\n",
    "    \\left[\\begin{array}\n",
    "    1 & 2 & 3 \\\\\n",
    "    4 & 5 & 6 \\\\\n",
    "    7 & 8 & 9\n",
    "    \\end{array}\\right]\n",
    "    \"\"\"\n",
    "\n",
    "fig, ax = plt.subplots()\n",
    "ax.axis('off')  # 关闭坐标轴\n",
    "ax.text(0.5, 0.5, r\"$%s$\" % matrix, fontsize=20, ha='center', va='center')  # 使用 MathText 渲染\n",
    "\n",
    "plt.show()"
   ],
   "id": "891ccdd76cc39acd",
   "outputs": [
    {
     "ename": "RuntimeError",
     "evalue": "latex was not able to process the following string:\nb'$'\n\nHere is the full command invocation and its output:\n\nlatex -interaction=nonstopmode --halt-on-error --output-directory=tmpq28phshe 12460b452c85b4813cae90f8d4bfd330.tex\n\nThis is pdfTeX, Version 3.141592653-2.6-1.40.24 (MiKTeX 22.10) (preloaded format=latex.fmt)\r\n restricted \\write18 enabled.\r\nentering extended mode\r\n(12460b452c85b4813cae90f8d4bfd330.tex\r\nLaTeX2e <2022-06-01> patch level 5\r\nL3 programming layer <2022-09-28> (E:\\miktex\\tex/latex/base\\article.cls\r\nDocument Class: article 2021/10/04 v1.4n Standard LaTeX document class\r\n(E:\\miktex\\tex/latex/base\\size10.clo)) (E:\\miktex\\tex/latex/type1cm\\type1cm.sty\r\n) (E:\\miktex\\tex/latex/cm-super\\type1ec.sty (E:\\miktex\\tex/latex/base\\t1cmr.fd)\r\n) (E:\\miktex\\tex/latex/base\\inputenc.sty)\r\n(E:\\miktex\\tex/latex/geometry\\geometry.sty\r\n(E:\\miktex\\tex/latex/graphics\\keyval.sty)\r\n(E:\\miktex\\tex/generic/iftex\\ifvtex.sty (E:\\miktex\\tex/generic/iftex\\iftex.sty)\r\n) (E:\\miktex\\tex/latex/geometry\\geometry.cfg))\r\n(E:\\miktex\\tex/latex/underscore\\underscore.sty)\r\n(E:\\miktex\\tex/latex/base\\textcomp.sty)\r\n(E:\\miktex\\tex/latex/l3backend\\l3backend-dvips.def)\r\nNo file 12460b452c85b4813cae90f8d4bfd330.aux.\r\n*geometry* driver: auto-detecting\r\n*geometry* detected driver: dvips\r\n! Extra }, or forgotten $.\r\n<recently read> }\r\n                 \r\nl.29 {\\rmfamily $}\r\n                  %\r\nNo pages of output.\r\nTranscript written on C:\\Users\\rainbow_yu\\.matplotlib\\tex.cache\\12\\46\\tmpq28phs\r\nhe\\12460b452c85b4813cae90f8d4bfd330.log.\r\n\n\n",
     "output_type": "error",
     "traceback": [
      "\u001B[1;31m---------------------------------------------------------------------------\u001B[0m",
      "\u001B[1;31mRuntimeError\u001B[0m                              Traceback (most recent call last)",
      "File \u001B[1;32mE:\\ipynb\\venv\\lib\\site-packages\\IPython\\core\\formatters.py:343\u001B[0m, in \u001B[0;36mBaseFormatter.__call__\u001B[1;34m(self, obj)\u001B[0m\n\u001B[0;32m    341\u001B[0m     \u001B[38;5;28;01mpass\u001B[39;00m\n\u001B[0;32m    342\u001B[0m \u001B[38;5;28;01melse\u001B[39;00m:\n\u001B[1;32m--> 343\u001B[0m     \u001B[38;5;28;01mreturn\u001B[39;00m \u001B[43mprinter\u001B[49m\u001B[43m(\u001B[49m\u001B[43mobj\u001B[49m\u001B[43m)\u001B[49m\n\u001B[0;32m    344\u001B[0m \u001B[38;5;66;03m# Finally look for special method names\u001B[39;00m\n\u001B[0;32m    345\u001B[0m method \u001B[38;5;241m=\u001B[39m get_real_method(obj, \u001B[38;5;28mself\u001B[39m\u001B[38;5;241m.\u001B[39mprint_method)\n",
      "File \u001B[1;32mE:\\ipynb\\venv\\lib\\site-packages\\IPython\\core\\pylabtools.py:170\u001B[0m, in \u001B[0;36mprint_figure\u001B[1;34m(fig, fmt, bbox_inches, base64, **kwargs)\u001B[0m\n\u001B[0;32m    167\u001B[0m     \u001B[38;5;28;01mfrom\u001B[39;00m \u001B[38;5;21;01mmatplotlib\u001B[39;00m\u001B[38;5;21;01m.\u001B[39;00m\u001B[38;5;21;01mbackend_bases\u001B[39;00m \u001B[38;5;28;01mimport\u001B[39;00m FigureCanvasBase\n\u001B[0;32m    168\u001B[0m     FigureCanvasBase(fig)\n\u001B[1;32m--> 170\u001B[0m fig\u001B[38;5;241m.\u001B[39mcanvas\u001B[38;5;241m.\u001B[39mprint_figure(bytes_io, \u001B[38;5;241m*\u001B[39m\u001B[38;5;241m*\u001B[39mkw)\n\u001B[0;32m    171\u001B[0m data \u001B[38;5;241m=\u001B[39m bytes_io\u001B[38;5;241m.\u001B[39mgetvalue()\n\u001B[0;32m    172\u001B[0m \u001B[38;5;28;01mif\u001B[39;00m fmt \u001B[38;5;241m==\u001B[39m \u001B[38;5;124m'\u001B[39m\u001B[38;5;124msvg\u001B[39m\u001B[38;5;124m'\u001B[39m:\n",
      "File \u001B[1;32mE:\\ipynb\\venv\\lib\\site-packages\\matplotlib\\backend_bases.py:2158\u001B[0m, in \u001B[0;36mFigureCanvasBase.print_figure\u001B[1;34m(self, filename, dpi, facecolor, edgecolor, orientation, format, bbox_inches, pad_inches, bbox_extra_artists, backend, **kwargs)\u001B[0m\n\u001B[0;32m   2155\u001B[0m     \u001B[38;5;66;03m# we do this instead of `self.figure.draw_without_rendering`\u001B[39;00m\n\u001B[0;32m   2156\u001B[0m     \u001B[38;5;66;03m# so that we can inject the orientation\u001B[39;00m\n\u001B[0;32m   2157\u001B[0m     \u001B[38;5;28;01mwith\u001B[39;00m \u001B[38;5;28mgetattr\u001B[39m(renderer, \u001B[38;5;124m\"\u001B[39m\u001B[38;5;124m_draw_disabled\u001B[39m\u001B[38;5;124m\"\u001B[39m, nullcontext)():\n\u001B[1;32m-> 2158\u001B[0m         \u001B[38;5;28;43mself\u001B[39;49m\u001B[38;5;241;43m.\u001B[39;49m\u001B[43mfigure\u001B[49m\u001B[38;5;241;43m.\u001B[39;49m\u001B[43mdraw\u001B[49m\u001B[43m(\u001B[49m\u001B[43mrenderer\u001B[49m\u001B[43m)\u001B[49m\n\u001B[0;32m   2159\u001B[0m \u001B[38;5;28;01mif\u001B[39;00m bbox_inches:\n\u001B[0;32m   2160\u001B[0m     \u001B[38;5;28;01mif\u001B[39;00m bbox_inches \u001B[38;5;241m==\u001B[39m \u001B[38;5;124m\"\u001B[39m\u001B[38;5;124mtight\u001B[39m\u001B[38;5;124m\"\u001B[39m:\n",
      "File \u001B[1;32mE:\\ipynb\\venv\\lib\\site-packages\\matplotlib\\artist.py:95\u001B[0m, in \u001B[0;36m_finalize_rasterization.<locals>.draw_wrapper\u001B[1;34m(artist, renderer, *args, **kwargs)\u001B[0m\n\u001B[0;32m     93\u001B[0m \u001B[38;5;129m@wraps\u001B[39m(draw)\n\u001B[0;32m     94\u001B[0m \u001B[38;5;28;01mdef\u001B[39;00m \u001B[38;5;21mdraw_wrapper\u001B[39m(artist, renderer, \u001B[38;5;241m*\u001B[39margs, \u001B[38;5;241m*\u001B[39m\u001B[38;5;241m*\u001B[39mkwargs):\n\u001B[1;32m---> 95\u001B[0m     result \u001B[38;5;241m=\u001B[39m draw(artist, renderer, \u001B[38;5;241m*\u001B[39margs, \u001B[38;5;241m*\u001B[39m\u001B[38;5;241m*\u001B[39mkwargs)\n\u001B[0;32m     96\u001B[0m     \u001B[38;5;28;01mif\u001B[39;00m renderer\u001B[38;5;241m.\u001B[39m_rasterizing:\n\u001B[0;32m     97\u001B[0m         renderer\u001B[38;5;241m.\u001B[39mstop_rasterizing()\n",
      "File \u001B[1;32mE:\\ipynb\\venv\\lib\\site-packages\\matplotlib\\artist.py:72\u001B[0m, in \u001B[0;36mallow_rasterization.<locals>.draw_wrapper\u001B[1;34m(artist, renderer)\u001B[0m\n\u001B[0;32m     69\u001B[0m     \u001B[38;5;28;01mif\u001B[39;00m artist\u001B[38;5;241m.\u001B[39mget_agg_filter() \u001B[38;5;129;01mis\u001B[39;00m \u001B[38;5;129;01mnot\u001B[39;00m \u001B[38;5;28;01mNone\u001B[39;00m:\n\u001B[0;32m     70\u001B[0m         renderer\u001B[38;5;241m.\u001B[39mstart_filter()\n\u001B[1;32m---> 72\u001B[0m     \u001B[38;5;28;01mreturn\u001B[39;00m \u001B[43mdraw\u001B[49m\u001B[43m(\u001B[49m\u001B[43martist\u001B[49m\u001B[43m,\u001B[49m\u001B[43m \u001B[49m\u001B[43mrenderer\u001B[49m\u001B[43m)\u001B[49m\n\u001B[0;32m     73\u001B[0m \u001B[38;5;28;01mfinally\u001B[39;00m:\n\u001B[0;32m     74\u001B[0m     \u001B[38;5;28;01mif\u001B[39;00m artist\u001B[38;5;241m.\u001B[39mget_agg_filter() \u001B[38;5;129;01mis\u001B[39;00m \u001B[38;5;129;01mnot\u001B[39;00m \u001B[38;5;28;01mNone\u001B[39;00m:\n",
      "File \u001B[1;32mE:\\ipynb\\venv\\lib\\site-packages\\matplotlib\\figure.py:3154\u001B[0m, in \u001B[0;36mFigure.draw\u001B[1;34m(self, renderer)\u001B[0m\n\u001B[0;32m   3151\u001B[0m         \u001B[38;5;66;03m# ValueError can occur when resizing a window.\u001B[39;00m\n\u001B[0;32m   3153\u001B[0m \u001B[38;5;28mself\u001B[39m\u001B[38;5;241m.\u001B[39mpatch\u001B[38;5;241m.\u001B[39mdraw(renderer)\n\u001B[1;32m-> 3154\u001B[0m \u001B[43mmimage\u001B[49m\u001B[38;5;241;43m.\u001B[39;49m\u001B[43m_draw_list_compositing_images\u001B[49m\u001B[43m(\u001B[49m\n\u001B[0;32m   3155\u001B[0m \u001B[43m    \u001B[49m\u001B[43mrenderer\u001B[49m\u001B[43m,\u001B[49m\u001B[43m \u001B[49m\u001B[38;5;28;43mself\u001B[39;49m\u001B[43m,\u001B[49m\u001B[43m \u001B[49m\u001B[43martists\u001B[49m\u001B[43m,\u001B[49m\u001B[43m \u001B[49m\u001B[38;5;28;43mself\u001B[39;49m\u001B[38;5;241;43m.\u001B[39;49m\u001B[43msuppressComposite\u001B[49m\u001B[43m)\u001B[49m\n\u001B[0;32m   3157\u001B[0m \u001B[38;5;28;01mfor\u001B[39;00m sfig \u001B[38;5;129;01min\u001B[39;00m \u001B[38;5;28mself\u001B[39m\u001B[38;5;241m.\u001B[39msubfigs:\n\u001B[0;32m   3158\u001B[0m     sfig\u001B[38;5;241m.\u001B[39mdraw(renderer)\n",
      "File \u001B[1;32mE:\\ipynb\\venv\\lib\\site-packages\\matplotlib\\image.py:132\u001B[0m, in \u001B[0;36m_draw_list_compositing_images\u001B[1;34m(renderer, parent, artists, suppress_composite)\u001B[0m\n\u001B[0;32m    130\u001B[0m \u001B[38;5;28;01mif\u001B[39;00m not_composite \u001B[38;5;129;01mor\u001B[39;00m \u001B[38;5;129;01mnot\u001B[39;00m has_images:\n\u001B[0;32m    131\u001B[0m     \u001B[38;5;28;01mfor\u001B[39;00m a \u001B[38;5;129;01min\u001B[39;00m artists:\n\u001B[1;32m--> 132\u001B[0m         \u001B[43ma\u001B[49m\u001B[38;5;241;43m.\u001B[39;49m\u001B[43mdraw\u001B[49m\u001B[43m(\u001B[49m\u001B[43mrenderer\u001B[49m\u001B[43m)\u001B[49m\n\u001B[0;32m    133\u001B[0m \u001B[38;5;28;01melse\u001B[39;00m:\n\u001B[0;32m    134\u001B[0m     \u001B[38;5;66;03m# Composite any adjacent images together\u001B[39;00m\n\u001B[0;32m    135\u001B[0m     image_group \u001B[38;5;241m=\u001B[39m []\n",
      "File \u001B[1;32mE:\\ipynb\\venv\\lib\\site-packages\\matplotlib\\artist.py:72\u001B[0m, in \u001B[0;36mallow_rasterization.<locals>.draw_wrapper\u001B[1;34m(artist, renderer)\u001B[0m\n\u001B[0;32m     69\u001B[0m     \u001B[38;5;28;01mif\u001B[39;00m artist\u001B[38;5;241m.\u001B[39mget_agg_filter() \u001B[38;5;129;01mis\u001B[39;00m \u001B[38;5;129;01mnot\u001B[39;00m \u001B[38;5;28;01mNone\u001B[39;00m:\n\u001B[0;32m     70\u001B[0m         renderer\u001B[38;5;241m.\u001B[39mstart_filter()\n\u001B[1;32m---> 72\u001B[0m     \u001B[38;5;28;01mreturn\u001B[39;00m \u001B[43mdraw\u001B[49m\u001B[43m(\u001B[49m\u001B[43martist\u001B[49m\u001B[43m,\u001B[49m\u001B[43m \u001B[49m\u001B[43mrenderer\u001B[49m\u001B[43m)\u001B[49m\n\u001B[0;32m     73\u001B[0m \u001B[38;5;28;01mfinally\u001B[39;00m:\n\u001B[0;32m     74\u001B[0m     \u001B[38;5;28;01mif\u001B[39;00m artist\u001B[38;5;241m.\u001B[39mget_agg_filter() \u001B[38;5;129;01mis\u001B[39;00m \u001B[38;5;129;01mnot\u001B[39;00m \u001B[38;5;28;01mNone\u001B[39;00m:\n",
      "File \u001B[1;32mE:\\ipynb\\venv\\lib\\site-packages\\matplotlib\\axes\\_base.py:3070\u001B[0m, in \u001B[0;36m_AxesBase.draw\u001B[1;34m(self, renderer)\u001B[0m\n\u001B[0;32m   3067\u001B[0m \u001B[38;5;28;01mif\u001B[39;00m artists_rasterized:\n\u001B[0;32m   3068\u001B[0m     _draw_rasterized(\u001B[38;5;28mself\u001B[39m\u001B[38;5;241m.\u001B[39mfigure, artists_rasterized, renderer)\n\u001B[1;32m-> 3070\u001B[0m \u001B[43mmimage\u001B[49m\u001B[38;5;241;43m.\u001B[39;49m\u001B[43m_draw_list_compositing_images\u001B[49m\u001B[43m(\u001B[49m\n\u001B[0;32m   3071\u001B[0m \u001B[43m    \u001B[49m\u001B[43mrenderer\u001B[49m\u001B[43m,\u001B[49m\u001B[43m \u001B[49m\u001B[38;5;28;43mself\u001B[39;49m\u001B[43m,\u001B[49m\u001B[43m \u001B[49m\u001B[43martists\u001B[49m\u001B[43m,\u001B[49m\u001B[43m \u001B[49m\u001B[38;5;28;43mself\u001B[39;49m\u001B[38;5;241;43m.\u001B[39;49m\u001B[43mfigure\u001B[49m\u001B[38;5;241;43m.\u001B[39;49m\u001B[43msuppressComposite\u001B[49m\u001B[43m)\u001B[49m\n\u001B[0;32m   3073\u001B[0m renderer\u001B[38;5;241m.\u001B[39mclose_group(\u001B[38;5;124m'\u001B[39m\u001B[38;5;124maxes\u001B[39m\u001B[38;5;124m'\u001B[39m)\n\u001B[0;32m   3074\u001B[0m \u001B[38;5;28mself\u001B[39m\u001B[38;5;241m.\u001B[39mstale \u001B[38;5;241m=\u001B[39m \u001B[38;5;28;01mFalse\u001B[39;00m\n",
      "File \u001B[1;32mE:\\ipynb\\venv\\lib\\site-packages\\matplotlib\\image.py:132\u001B[0m, in \u001B[0;36m_draw_list_compositing_images\u001B[1;34m(renderer, parent, artists, suppress_composite)\u001B[0m\n\u001B[0;32m    130\u001B[0m \u001B[38;5;28;01mif\u001B[39;00m not_composite \u001B[38;5;129;01mor\u001B[39;00m \u001B[38;5;129;01mnot\u001B[39;00m has_images:\n\u001B[0;32m    131\u001B[0m     \u001B[38;5;28;01mfor\u001B[39;00m a \u001B[38;5;129;01min\u001B[39;00m artists:\n\u001B[1;32m--> 132\u001B[0m         \u001B[43ma\u001B[49m\u001B[38;5;241;43m.\u001B[39;49m\u001B[43mdraw\u001B[49m\u001B[43m(\u001B[49m\u001B[43mrenderer\u001B[49m\u001B[43m)\u001B[49m\n\u001B[0;32m    133\u001B[0m \u001B[38;5;28;01melse\u001B[39;00m:\n\u001B[0;32m    134\u001B[0m     \u001B[38;5;66;03m# Composite any adjacent images together\u001B[39;00m\n\u001B[0;32m    135\u001B[0m     image_group \u001B[38;5;241m=\u001B[39m []\n",
      "File \u001B[1;32mE:\\ipynb\\venv\\lib\\site-packages\\matplotlib\\artist.py:72\u001B[0m, in \u001B[0;36mallow_rasterization.<locals>.draw_wrapper\u001B[1;34m(artist, renderer)\u001B[0m\n\u001B[0;32m     69\u001B[0m     \u001B[38;5;28;01mif\u001B[39;00m artist\u001B[38;5;241m.\u001B[39mget_agg_filter() \u001B[38;5;129;01mis\u001B[39;00m \u001B[38;5;129;01mnot\u001B[39;00m \u001B[38;5;28;01mNone\u001B[39;00m:\n\u001B[0;32m     70\u001B[0m         renderer\u001B[38;5;241m.\u001B[39mstart_filter()\n\u001B[1;32m---> 72\u001B[0m     \u001B[38;5;28;01mreturn\u001B[39;00m \u001B[43mdraw\u001B[49m\u001B[43m(\u001B[49m\u001B[43martist\u001B[49m\u001B[43m,\u001B[49m\u001B[43m \u001B[49m\u001B[43mrenderer\u001B[49m\u001B[43m)\u001B[49m\n\u001B[0;32m     73\u001B[0m \u001B[38;5;28;01mfinally\u001B[39;00m:\n\u001B[0;32m     74\u001B[0m     \u001B[38;5;28;01mif\u001B[39;00m artist\u001B[38;5;241m.\u001B[39mget_agg_filter() \u001B[38;5;129;01mis\u001B[39;00m \u001B[38;5;129;01mnot\u001B[39;00m \u001B[38;5;28;01mNone\u001B[39;00m:\n",
      "File \u001B[1;32mE:\\ipynb\\venv\\lib\\site-packages\\matplotlib\\text.py:748\u001B[0m, in \u001B[0;36mText.draw\u001B[1;34m(self, renderer)\u001B[0m\n\u001B[0;32m    745\u001B[0m renderer\u001B[38;5;241m.\u001B[39mopen_group(\u001B[38;5;124m'\u001B[39m\u001B[38;5;124mtext\u001B[39m\u001B[38;5;124m'\u001B[39m, \u001B[38;5;28mself\u001B[39m\u001B[38;5;241m.\u001B[39mget_gid())\n\u001B[0;32m    747\u001B[0m \u001B[38;5;28;01mwith\u001B[39;00m \u001B[38;5;28mself\u001B[39m\u001B[38;5;241m.\u001B[39m_cm_set(text\u001B[38;5;241m=\u001B[39m\u001B[38;5;28mself\u001B[39m\u001B[38;5;241m.\u001B[39m_get_wrapped_text()):\n\u001B[1;32m--> 748\u001B[0m     bbox, info, descent \u001B[38;5;241m=\u001B[39m \u001B[38;5;28;43mself\u001B[39;49m\u001B[38;5;241;43m.\u001B[39;49m\u001B[43m_get_layout\u001B[49m\u001B[43m(\u001B[49m\u001B[43mrenderer\u001B[49m\u001B[43m)\u001B[49m\n\u001B[0;32m    749\u001B[0m     trans \u001B[38;5;241m=\u001B[39m \u001B[38;5;28mself\u001B[39m\u001B[38;5;241m.\u001B[39mget_transform()\n\u001B[0;32m    751\u001B[0m     \u001B[38;5;66;03m# don't use self.get_position here, which refers to text\u001B[39;00m\n\u001B[0;32m    752\u001B[0m     \u001B[38;5;66;03m# position in Text:\u001B[39;00m\n",
      "File \u001B[1;32mE:\\ipynb\\venv\\lib\\site-packages\\matplotlib\\text.py:381\u001B[0m, in \u001B[0;36mText._get_layout\u001B[1;34m(self, renderer)\u001B[0m\n\u001B[0;32m    379\u001B[0m clean_line, ismath \u001B[38;5;241m=\u001B[39m \u001B[38;5;28mself\u001B[39m\u001B[38;5;241m.\u001B[39m_preprocess_math(line)\n\u001B[0;32m    380\u001B[0m \u001B[38;5;28;01mif\u001B[39;00m clean_line:\n\u001B[1;32m--> 381\u001B[0m     w, h, d \u001B[38;5;241m=\u001B[39m \u001B[43m_get_text_metrics_with_cache\u001B[49m\u001B[43m(\u001B[49m\n\u001B[0;32m    382\u001B[0m \u001B[43m        \u001B[49m\u001B[43mrenderer\u001B[49m\u001B[43m,\u001B[49m\u001B[43m \u001B[49m\u001B[43mclean_line\u001B[49m\u001B[43m,\u001B[49m\u001B[43m \u001B[49m\u001B[38;5;28;43mself\u001B[39;49m\u001B[38;5;241;43m.\u001B[39;49m\u001B[43m_fontproperties\u001B[49m\u001B[43m,\u001B[49m\n\u001B[0;32m    383\u001B[0m \u001B[43m        \u001B[49m\u001B[43mismath\u001B[49m\u001B[38;5;241;43m=\u001B[39;49m\u001B[43mismath\u001B[49m\u001B[43m,\u001B[49m\u001B[43m \u001B[49m\u001B[43mdpi\u001B[49m\u001B[38;5;241;43m=\u001B[39;49m\u001B[38;5;28;43mself\u001B[39;49m\u001B[38;5;241;43m.\u001B[39;49m\u001B[43mfigure\u001B[49m\u001B[38;5;241;43m.\u001B[39;49m\u001B[43mdpi\u001B[49m\u001B[43m)\u001B[49m\n\u001B[0;32m    384\u001B[0m \u001B[38;5;28;01melse\u001B[39;00m:\n\u001B[0;32m    385\u001B[0m     w \u001B[38;5;241m=\u001B[39m h \u001B[38;5;241m=\u001B[39m d \u001B[38;5;241m=\u001B[39m \u001B[38;5;241m0\u001B[39m\n",
      "File \u001B[1;32mE:\\ipynb\\venv\\lib\\site-packages\\matplotlib\\text.py:69\u001B[0m, in \u001B[0;36m_get_text_metrics_with_cache\u001B[1;34m(renderer, text, fontprop, ismath, dpi)\u001B[0m\n\u001B[0;32m     66\u001B[0m \u001B[38;5;250m\u001B[39m\u001B[38;5;124;03m\"\"\"Call ``renderer.get_text_width_height_descent``, caching the results.\"\"\"\u001B[39;00m\n\u001B[0;32m     67\u001B[0m \u001B[38;5;66;03m# Cached based on a copy of fontprop so that later in-place mutations of\u001B[39;00m\n\u001B[0;32m     68\u001B[0m \u001B[38;5;66;03m# the passed-in argument do not mess up the cache.\u001B[39;00m\n\u001B[1;32m---> 69\u001B[0m \u001B[38;5;28;01mreturn\u001B[39;00m \u001B[43m_get_text_metrics_with_cache_impl\u001B[49m\u001B[43m(\u001B[49m\n\u001B[0;32m     70\u001B[0m \u001B[43m    \u001B[49m\u001B[43mweakref\u001B[49m\u001B[38;5;241;43m.\u001B[39;49m\u001B[43mref\u001B[49m\u001B[43m(\u001B[49m\u001B[43mrenderer\u001B[49m\u001B[43m)\u001B[49m\u001B[43m,\u001B[49m\u001B[43m \u001B[49m\u001B[43mtext\u001B[49m\u001B[43m,\u001B[49m\u001B[43m \u001B[49m\u001B[43mfontprop\u001B[49m\u001B[38;5;241;43m.\u001B[39;49m\u001B[43mcopy\u001B[49m\u001B[43m(\u001B[49m\u001B[43m)\u001B[49m\u001B[43m,\u001B[49m\u001B[43m \u001B[49m\u001B[43mismath\u001B[49m\u001B[43m,\u001B[49m\u001B[43m \u001B[49m\u001B[43mdpi\u001B[49m\u001B[43m)\u001B[49m\n",
      "File \u001B[1;32mE:\\ipynb\\venv\\lib\\site-packages\\matplotlib\\text.py:77\u001B[0m, in \u001B[0;36m_get_text_metrics_with_cache_impl\u001B[1;34m(renderer_ref, text, fontprop, ismath, dpi)\u001B[0m\n\u001B[0;32m     73\u001B[0m \u001B[38;5;129m@functools\u001B[39m\u001B[38;5;241m.\u001B[39mlru_cache(\u001B[38;5;241m4096\u001B[39m)\n\u001B[0;32m     74\u001B[0m \u001B[38;5;28;01mdef\u001B[39;00m \u001B[38;5;21m_get_text_metrics_with_cache_impl\u001B[39m(\n\u001B[0;32m     75\u001B[0m         renderer_ref, text, fontprop, ismath, dpi):\n\u001B[0;32m     76\u001B[0m     \u001B[38;5;66;03m# dpi is unused, but participates in cache invalidation (via the renderer).\u001B[39;00m\n\u001B[1;32m---> 77\u001B[0m     \u001B[38;5;28;01mreturn\u001B[39;00m \u001B[43mrenderer_ref\u001B[49m\u001B[43m(\u001B[49m\u001B[43m)\u001B[49m\u001B[38;5;241;43m.\u001B[39;49m\u001B[43mget_text_width_height_descent\u001B[49m\u001B[43m(\u001B[49m\u001B[43mtext\u001B[49m\u001B[43m,\u001B[49m\u001B[43m \u001B[49m\u001B[43mfontprop\u001B[49m\u001B[43m,\u001B[49m\u001B[43m \u001B[49m\u001B[43mismath\u001B[49m\u001B[43m)\u001B[49m\n",
      "File \u001B[1;32mE:\\ipynb\\venv\\lib\\site-packages\\matplotlib\\backends\\backend_agg.py:213\u001B[0m, in \u001B[0;36mRendererAgg.get_text_width_height_descent\u001B[1;34m(self, s, prop, ismath)\u001B[0m\n\u001B[0;32m    211\u001B[0m _api\u001B[38;5;241m.\u001B[39mcheck_in_list([\u001B[38;5;124m\"\u001B[39m\u001B[38;5;124mTeX\u001B[39m\u001B[38;5;124m\"\u001B[39m, \u001B[38;5;28;01mTrue\u001B[39;00m, \u001B[38;5;28;01mFalse\u001B[39;00m], ismath\u001B[38;5;241m=\u001B[39mismath)\n\u001B[0;32m    212\u001B[0m \u001B[38;5;28;01mif\u001B[39;00m ismath \u001B[38;5;241m==\u001B[39m \u001B[38;5;124m\"\u001B[39m\u001B[38;5;124mTeX\u001B[39m\u001B[38;5;124m\"\u001B[39m:\n\u001B[1;32m--> 213\u001B[0m     \u001B[38;5;28;01mreturn\u001B[39;00m \u001B[38;5;28;43msuper\u001B[39;49m\u001B[43m(\u001B[49m\u001B[43m)\u001B[49m\u001B[38;5;241;43m.\u001B[39;49m\u001B[43mget_text_width_height_descent\u001B[49m\u001B[43m(\u001B[49m\u001B[43ms\u001B[49m\u001B[43m,\u001B[49m\u001B[43m \u001B[49m\u001B[43mprop\u001B[49m\u001B[43m,\u001B[49m\u001B[43m \u001B[49m\u001B[43mismath\u001B[49m\u001B[43m)\u001B[49m\n\u001B[0;32m    215\u001B[0m \u001B[38;5;28;01mif\u001B[39;00m ismath:\n\u001B[0;32m    216\u001B[0m     ox, oy, width, height, descent, font_image \u001B[38;5;241m=\u001B[39m \\\n\u001B[0;32m    217\u001B[0m         \u001B[38;5;28mself\u001B[39m\u001B[38;5;241m.\u001B[39mmathtext_parser\u001B[38;5;241m.\u001B[39mparse(s, \u001B[38;5;28mself\u001B[39m\u001B[38;5;241m.\u001B[39mdpi, prop)\n",
      "File \u001B[1;32mE:\\ipynb\\venv\\lib\\site-packages\\matplotlib\\backend_bases.py:652\u001B[0m, in \u001B[0;36mRendererBase.get_text_width_height_descent\u001B[1;34m(self, s, prop, ismath)\u001B[0m\n\u001B[0;32m    648\u001B[0m fontsize \u001B[38;5;241m=\u001B[39m prop\u001B[38;5;241m.\u001B[39mget_size_in_points()\n\u001B[0;32m    650\u001B[0m \u001B[38;5;28;01mif\u001B[39;00m ismath \u001B[38;5;241m==\u001B[39m \u001B[38;5;124m'\u001B[39m\u001B[38;5;124mTeX\u001B[39m\u001B[38;5;124m'\u001B[39m:\n\u001B[0;32m    651\u001B[0m     \u001B[38;5;66;03m# todo: handle properties\u001B[39;00m\n\u001B[1;32m--> 652\u001B[0m     \u001B[38;5;28;01mreturn\u001B[39;00m \u001B[38;5;28;43mself\u001B[39;49m\u001B[38;5;241;43m.\u001B[39;49m\u001B[43mget_texmanager\u001B[49m\u001B[43m(\u001B[49m\u001B[43m)\u001B[49m\u001B[38;5;241;43m.\u001B[39;49m\u001B[43mget_text_width_height_descent\u001B[49m\u001B[43m(\u001B[49m\n\u001B[0;32m    653\u001B[0m \u001B[43m        \u001B[49m\u001B[43ms\u001B[49m\u001B[43m,\u001B[49m\u001B[43m \u001B[49m\u001B[43mfontsize\u001B[49m\u001B[43m,\u001B[49m\u001B[43m \u001B[49m\u001B[43mrenderer\u001B[49m\u001B[38;5;241;43m=\u001B[39;49m\u001B[38;5;28;43mself\u001B[39;49m\u001B[43m)\u001B[49m\n\u001B[0;32m    655\u001B[0m dpi \u001B[38;5;241m=\u001B[39m \u001B[38;5;28mself\u001B[39m\u001B[38;5;241m.\u001B[39mpoints_to_pixels(\u001B[38;5;241m72\u001B[39m)\n\u001B[0;32m    656\u001B[0m \u001B[38;5;28;01mif\u001B[39;00m ismath:\n",
      "File \u001B[1;32mE:\\ipynb\\venv\\lib\\site-packages\\matplotlib\\texmanager.py:363\u001B[0m, in \u001B[0;36mTexManager.get_text_width_height_descent\u001B[1;34m(cls, tex, fontsize, renderer)\u001B[0m\n\u001B[0;32m    361\u001B[0m \u001B[38;5;28;01mif\u001B[39;00m tex\u001B[38;5;241m.\u001B[39mstrip() \u001B[38;5;241m==\u001B[39m \u001B[38;5;124m'\u001B[39m\u001B[38;5;124m'\u001B[39m:\n\u001B[0;32m    362\u001B[0m     \u001B[38;5;28;01mreturn\u001B[39;00m \u001B[38;5;241m0\u001B[39m, \u001B[38;5;241m0\u001B[39m, \u001B[38;5;241m0\u001B[39m\n\u001B[1;32m--> 363\u001B[0m dvifile \u001B[38;5;241m=\u001B[39m \u001B[38;5;28;43mcls\u001B[39;49m\u001B[38;5;241;43m.\u001B[39;49m\u001B[43mmake_dvi\u001B[49m\u001B[43m(\u001B[49m\u001B[43mtex\u001B[49m\u001B[43m,\u001B[49m\u001B[43m \u001B[49m\u001B[43mfontsize\u001B[49m\u001B[43m)\u001B[49m\n\u001B[0;32m    364\u001B[0m dpi_fraction \u001B[38;5;241m=\u001B[39m renderer\u001B[38;5;241m.\u001B[39mpoints_to_pixels(\u001B[38;5;241m1.\u001B[39m) \u001B[38;5;28;01mif\u001B[39;00m renderer \u001B[38;5;28;01melse\u001B[39;00m \u001B[38;5;241m1\u001B[39m\n\u001B[0;32m    365\u001B[0m \u001B[38;5;28;01mwith\u001B[39;00m dviread\u001B[38;5;241m.\u001B[39mDvi(dvifile, \u001B[38;5;241m72\u001B[39m \u001B[38;5;241m*\u001B[39m dpi_fraction) \u001B[38;5;28;01mas\u001B[39;00m dvi:\n",
      "File \u001B[1;32mE:\\ipynb\\venv\\lib\\site-packages\\matplotlib\\texmanager.py:295\u001B[0m, in \u001B[0;36mTexManager.make_dvi\u001B[1;34m(cls, tex, fontsize)\u001B[0m\n\u001B[0;32m    293\u001B[0m     \u001B[38;5;28;01mwith\u001B[39;00m TemporaryDirectory(\u001B[38;5;28mdir\u001B[39m\u001B[38;5;241m=\u001B[39mcwd) \u001B[38;5;28;01mas\u001B[39;00m tmpdir:\n\u001B[0;32m    294\u001B[0m         tmppath \u001B[38;5;241m=\u001B[39m Path(tmpdir)\n\u001B[1;32m--> 295\u001B[0m         \u001B[38;5;28;43mcls\u001B[39;49m\u001B[38;5;241;43m.\u001B[39;49m\u001B[43m_run_checked_subprocess\u001B[49m\u001B[43m(\u001B[49m\n\u001B[0;32m    296\u001B[0m \u001B[43m            \u001B[49m\u001B[43m[\u001B[49m\u001B[38;5;124;43m\"\u001B[39;49m\u001B[38;5;124;43mlatex\u001B[39;49m\u001B[38;5;124;43m\"\u001B[39;49m\u001B[43m,\u001B[49m\u001B[43m \u001B[49m\u001B[38;5;124;43m\"\u001B[39;49m\u001B[38;5;124;43m-interaction=nonstopmode\u001B[39;49m\u001B[38;5;124;43m\"\u001B[39;49m\u001B[43m,\u001B[49m\u001B[43m \u001B[49m\u001B[38;5;124;43m\"\u001B[39;49m\u001B[38;5;124;43m--halt-on-error\u001B[39;49m\u001B[38;5;124;43m\"\u001B[39;49m\u001B[43m,\u001B[49m\n\u001B[0;32m    297\u001B[0m \u001B[43m             \u001B[49m\u001B[38;5;124;43mf\u001B[39;49m\u001B[38;5;124;43m\"\u001B[39;49m\u001B[38;5;124;43m--output-directory=\u001B[39;49m\u001B[38;5;132;43;01m{\u001B[39;49;00m\u001B[43mtmppath\u001B[49m\u001B[38;5;241;43m.\u001B[39;49m\u001B[43mname\u001B[49m\u001B[38;5;132;43;01m}\u001B[39;49;00m\u001B[38;5;124;43m\"\u001B[39;49m\u001B[43m,\u001B[49m\n\u001B[0;32m    298\u001B[0m \u001B[43m             \u001B[49m\u001B[38;5;124;43mf\u001B[39;49m\u001B[38;5;124;43m\"\u001B[39;49m\u001B[38;5;132;43;01m{\u001B[39;49;00m\u001B[43mtexfile\u001B[49m\u001B[38;5;241;43m.\u001B[39;49m\u001B[43mname\u001B[49m\u001B[38;5;132;43;01m}\u001B[39;49;00m\u001B[38;5;124;43m\"\u001B[39;49m\u001B[43m]\u001B[49m\u001B[43m,\u001B[49m\u001B[43m \u001B[49m\u001B[43mtex\u001B[49m\u001B[43m,\u001B[49m\u001B[43m \u001B[49m\u001B[43mcwd\u001B[49m\u001B[38;5;241;43m=\u001B[39;49m\u001B[43mcwd\u001B[49m\u001B[43m)\u001B[49m\n\u001B[0;32m    299\u001B[0m         (tmppath \u001B[38;5;241m/\u001B[39m Path(dvifile)\u001B[38;5;241m.\u001B[39mname)\u001B[38;5;241m.\u001B[39mreplace(dvifile)\n\u001B[0;32m    300\u001B[0m \u001B[38;5;28;01mreturn\u001B[39;00m dvifile\n",
      "File \u001B[1;32mE:\\ipynb\\venv\\lib\\site-packages\\matplotlib\\texmanager.py:258\u001B[0m, in \u001B[0;36mTexManager._run_checked_subprocess\u001B[1;34m(cls, command, tex, cwd)\u001B[0m\n\u001B[0;32m    254\u001B[0m     \u001B[38;5;28;01mraise\u001B[39;00m \u001B[38;5;167;01mRuntimeError\u001B[39;00m(\n\u001B[0;32m    255\u001B[0m         \u001B[38;5;124mf\u001B[39m\u001B[38;5;124m'\u001B[39m\u001B[38;5;124mFailed to process string with tex because \u001B[39m\u001B[38;5;132;01m{\u001B[39;00mcommand[\u001B[38;5;241m0\u001B[39m]\u001B[38;5;132;01m}\u001B[39;00m\u001B[38;5;124m \u001B[39m\u001B[38;5;124m'\u001B[39m\n\u001B[0;32m    256\u001B[0m         \u001B[38;5;124m'\u001B[39m\u001B[38;5;124mcould not be found\u001B[39m\u001B[38;5;124m'\u001B[39m) \u001B[38;5;28;01mfrom\u001B[39;00m \u001B[38;5;21;01mexc\u001B[39;00m\n\u001B[0;32m    257\u001B[0m \u001B[38;5;28;01mexcept\u001B[39;00m subprocess\u001B[38;5;241m.\u001B[39mCalledProcessError \u001B[38;5;28;01mas\u001B[39;00m exc:\n\u001B[1;32m--> 258\u001B[0m     \u001B[38;5;28;01mraise\u001B[39;00m \u001B[38;5;167;01mRuntimeError\u001B[39;00m(\n\u001B[0;32m    259\u001B[0m         \u001B[38;5;124m'\u001B[39m\u001B[38;5;132;01m{prog}\u001B[39;00m\u001B[38;5;124m was not able to process the following string:\u001B[39m\u001B[38;5;130;01m\\n\u001B[39;00m\u001B[38;5;124m'\u001B[39m\n\u001B[0;32m    260\u001B[0m         \u001B[38;5;124m'\u001B[39m\u001B[38;5;132;01m{tex!r}\u001B[39;00m\u001B[38;5;130;01m\\n\u001B[39;00m\u001B[38;5;130;01m\\n\u001B[39;00m\u001B[38;5;124m'\u001B[39m\n\u001B[0;32m    261\u001B[0m         \u001B[38;5;124m'\u001B[39m\u001B[38;5;124mHere is the full command invocation and its output:\u001B[39m\u001B[38;5;130;01m\\n\u001B[39;00m\u001B[38;5;130;01m\\n\u001B[39;00m\u001B[38;5;124m'\u001B[39m\n\u001B[0;32m    262\u001B[0m         \u001B[38;5;124m'\u001B[39m\u001B[38;5;132;01m{format_command}\u001B[39;00m\u001B[38;5;130;01m\\n\u001B[39;00m\u001B[38;5;130;01m\\n\u001B[39;00m\u001B[38;5;124m'\u001B[39m\n\u001B[0;32m    263\u001B[0m         \u001B[38;5;124m'\u001B[39m\u001B[38;5;132;01m{exc}\u001B[39;00m\u001B[38;5;130;01m\\n\u001B[39;00m\u001B[38;5;130;01m\\n\u001B[39;00m\u001B[38;5;124m'\u001B[39m\u001B[38;5;241m.\u001B[39mformat(\n\u001B[0;32m    264\u001B[0m             prog\u001B[38;5;241m=\u001B[39mcommand[\u001B[38;5;241m0\u001B[39m],\n\u001B[0;32m    265\u001B[0m             format_command\u001B[38;5;241m=\u001B[39mcbook\u001B[38;5;241m.\u001B[39m_pformat_subprocess(command),\n\u001B[0;32m    266\u001B[0m             tex\u001B[38;5;241m=\u001B[39mtex\u001B[38;5;241m.\u001B[39mencode(\u001B[38;5;124m'\u001B[39m\u001B[38;5;124municode_escape\u001B[39m\u001B[38;5;124m'\u001B[39m),\n\u001B[0;32m    267\u001B[0m             exc\u001B[38;5;241m=\u001B[39mexc\u001B[38;5;241m.\u001B[39moutput\u001B[38;5;241m.\u001B[39mdecode(\u001B[38;5;124m'\u001B[39m\u001B[38;5;124mutf-8\u001B[39m\u001B[38;5;124m'\u001B[39m, \u001B[38;5;124m'\u001B[39m\u001B[38;5;124mbackslashreplace\u001B[39m\u001B[38;5;124m'\u001B[39m))\n\u001B[0;32m    268\u001B[0m         ) \u001B[38;5;28;01mfrom\u001B[39;00m \u001B[38;5;28;01mNone\u001B[39;00m\n\u001B[0;32m    269\u001B[0m _log\u001B[38;5;241m.\u001B[39mdebug(report)\n\u001B[0;32m    270\u001B[0m \u001B[38;5;28;01mreturn\u001B[39;00m report\n",
      "\u001B[1;31mRuntimeError\u001B[0m: latex was not able to process the following string:\nb'$'\n\nHere is the full command invocation and its output:\n\nlatex -interaction=nonstopmode --halt-on-error --output-directory=tmpq28phshe 12460b452c85b4813cae90f8d4bfd330.tex\n\nThis is pdfTeX, Version 3.141592653-2.6-1.40.24 (MiKTeX 22.10) (preloaded format=latex.fmt)\r\n restricted \\write18 enabled.\r\nentering extended mode\r\n(12460b452c85b4813cae90f8d4bfd330.tex\r\nLaTeX2e <2022-06-01> patch level 5\r\nL3 programming layer <2022-09-28> (E:\\miktex\\tex/latex/base\\article.cls\r\nDocument Class: article 2021/10/04 v1.4n Standard LaTeX document class\r\n(E:\\miktex\\tex/latex/base\\size10.clo)) (E:\\miktex\\tex/latex/type1cm\\type1cm.sty\r\n) (E:\\miktex\\tex/latex/cm-super\\type1ec.sty (E:\\miktex\\tex/latex/base\\t1cmr.fd)\r\n) (E:\\miktex\\tex/latex/base\\inputenc.sty)\r\n(E:\\miktex\\tex/latex/geometry\\geometry.sty\r\n(E:\\miktex\\tex/latex/graphics\\keyval.sty)\r\n(E:\\miktex\\tex/generic/iftex\\ifvtex.sty (E:\\miktex\\tex/generic/iftex\\iftex.sty)\r\n) (E:\\miktex\\tex/latex/geometry\\geometry.cfg))\r\n(E:\\miktex\\tex/latex/underscore\\underscore.sty)\r\n(E:\\miktex\\tex/latex/base\\textcomp.sty)\r\n(E:\\miktex\\tex/latex/l3backend\\l3backend-dvips.def)\r\nNo file 12460b452c85b4813cae90f8d4bfd330.aux.\r\n*geometry* driver: auto-detecting\r\n*geometry* detected driver: dvips\r\n! Extra }, or forgotten $.\r\n<recently read> }\r\n                 \r\nl.29 {\\rmfamily $}\r\n                  %\r\nNo pages of output.\r\nTranscript written on C:\\Users\\rainbow_yu\\.matplotlib\\tex.cache\\12\\46\\tmpq28phs\r\nhe\\12460b452c85b4813cae90f8d4bfd330.log.\r\n\n\n"
     ]
    },
    {
     "data": {
      "text/plain": [
       "<Figure size 640x480 with 1 Axes>"
      ]
     },
     "metadata": {},
     "output_type": "display_data"
    }
   ],
   "execution_count": 8
  },
  {
   "metadata": {
    "ExecuteTime": {
     "end_time": "2024-11-26T04:36:33.263117Z",
     "start_time": "2024-11-26T04:36:28.293303Z"
    }
   },
   "cell_type": "code",
   "source": [
    "import numpy as np\n",
    "import matplotlib.pyplot as plt\n",
    "\n",
    "# 启用 LaTeX 模式\n",
    "plt.rc('text', usetex=True)\n",
    "plt.rc('font', family='serif')\n",
    "\n",
    "# 创建两个矩阵\n",
    "matrix1 = np.random.randint(0, 10, (3, 3))\n",
    "matrix2 = np.random.randint(0, 10, (3, 3))\n",
    "matrix_sum = matrix1 + matrix2\n",
    "\n",
    "# 将矩阵转换为 LaTeX 格式字符串\n",
    "def matrix_to_latex(matrix):\n",
    "    rows = [\" & \".join(map(str, row)) for row in matrix]\n",
    "    return r\"\\begin{bmatrix}\" + \" \\\\\\\\ \".join(rows) + r\"\\end{bmatrix}\"\n",
    "\n",
    "# 生成 LaTeX 表达式\n",
    "latex_expr = (\n",
    "    f\"${matrix_to_latex(matrix1)} + {matrix_to_latex(matrix2)} = {matrix_to_latex(matrix_sum)}$\"\n",
    ")\n",
    "\n",
    "# 绘制图像并展示 LaTeX 表达式\n",
    "fig, ax = plt.subplots(figsize=(8, 3))\n",
    "ax.axis(\"off\")  # 隐藏坐标轴\n",
    "ax.text(0.5, 0.5, latex_expr, fontsize=18, ha=\"center\", va=\"center\")\n",
    "\n",
    "# 显示图像\n",
    "plt.tight_layout()\n",
    "plt.show()\n"
   ],
   "id": "f48181606c31e797",
   "outputs": [
    {
     "ename": "RuntimeError",
     "evalue": "latex was not able to process the following string:\nb'$\\\\\\\\begin{bmatrix}8 & 4 & 8 \\\\\\\\\\\\\\\\ 9 & 1 & 3 \\\\\\\\\\\\\\\\ 4 & 1 & 2\\\\\\\\end{bmatrix} + \\\\\\\\begin{bmatrix}6 & 8 & 7 \\\\\\\\\\\\\\\\ 1 & 1 & 7 \\\\\\\\\\\\\\\\ 9 & 4 & 4\\\\\\\\end{bmatrix} = \\\\\\\\begin{bmatrix}14 & 12 & 15 \\\\\\\\\\\\\\\\ 10 & 2 & 10 \\\\\\\\\\\\\\\\ 13 & 5 & 6\\\\\\\\end{bmatrix}$'\n\nHere is the full command invocation and its output:\n\nlatex -interaction=nonstopmode --halt-on-error --output-directory=tmpkph0bsgq 07c9b191fe746fb2ec23e2df520508d2.tex\n\nThis is pdfTeX, Version 3.141592653-2.6-1.40.24 (MiKTeX 22.10) (preloaded format=latex.fmt)\r\n restricted \\write18 enabled.\r\nentering extended mode\r\n(07c9b191fe746fb2ec23e2df520508d2.tex\r\nLaTeX2e <2022-06-01> patch level 5\r\nL3 programming layer <2022-09-28> (E:\\miktex\\tex/latex/base\\article.cls\r\nDocument Class: article 2021/10/04 v1.4n Standard LaTeX document class\r\n(E:\\miktex\\tex/latex/base\\size10.clo)) (E:\\miktex\\tex/latex/type1cm\\type1cm.sty\r\n) (E:\\miktex\\tex/latex/cm-super\\type1ec.sty (E:\\miktex\\tex/latex/base\\t1cmr.fd)\r\n) (E:\\miktex\\tex/latex/base\\inputenc.sty)\r\n(E:\\miktex\\tex/latex/geometry\\geometry.sty\r\n(E:\\miktex\\tex/latex/graphics\\keyval.sty)\r\n(E:\\miktex\\tex/generic/iftex\\ifvtex.sty (E:\\miktex\\tex/generic/iftex\\iftex.sty)\r\n) (E:\\miktex\\tex/latex/geometry\\geometry.cfg))\r\n(E:\\miktex\\tex/latex/underscore\\underscore.sty)\r\n(E:\\miktex\\tex/latex/base\\textcomp.sty)\r\n(E:\\miktex\\tex/latex/l3backend\\l3backend-dvips.def)\r\nNo file 07c9b191fe746fb2ec23e2df520508d2.aux.\r\n*geometry* driver: auto-detecting\r\n*geometry* detected driver: dvips\r\n\r\n! LaTeX Error: Environment bmatrix undefined.\r\n\r\nSee the LaTeX manual or LaTeX Companion for explanation.\r\nType  H <return>  for immediate help.\r\n ...                                              \r\n                                                  \r\nl.29 {\\rmfamily $\\begin{bmatrix}\r\n                                8 & 4 & 8 \\\\ 9 & 1 & 3 \\\\ 4 & 1 & 2\\end{bmat...\r\nNo pages of output.\r\nTranscript written on C:\\Users\\rainbow_yu\\.matplotlib\\tex.cache\\07\\c9\\tmpkph0bs\r\ngq\\07c9b191fe746fb2ec23e2df520508d2.log.\r\n\n\n",
     "output_type": "error",
     "traceback": [
      "\u001B[1;31m---------------------------------------------------------------------------\u001B[0m",
      "\u001B[1;31mRuntimeError\u001B[0m                              Traceback (most recent call last)",
      "Cell \u001B[1;32mIn[12], line 29\u001B[0m\n\u001B[0;32m     26\u001B[0m ax\u001B[38;5;241m.\u001B[39mtext(\u001B[38;5;241m0.5\u001B[39m, \u001B[38;5;241m0.5\u001B[39m, latex_expr, fontsize\u001B[38;5;241m=\u001B[39m\u001B[38;5;241m18\u001B[39m, ha\u001B[38;5;241m=\u001B[39m\u001B[38;5;124m\"\u001B[39m\u001B[38;5;124mcenter\u001B[39m\u001B[38;5;124m\"\u001B[39m, va\u001B[38;5;241m=\u001B[39m\u001B[38;5;124m\"\u001B[39m\u001B[38;5;124mcenter\u001B[39m\u001B[38;5;124m\"\u001B[39m)\n\u001B[0;32m     28\u001B[0m \u001B[38;5;66;03m# 显示图像\u001B[39;00m\n\u001B[1;32m---> 29\u001B[0m \u001B[43mplt\u001B[49m\u001B[38;5;241;43m.\u001B[39;49m\u001B[43mtight_layout\u001B[49m\u001B[43m(\u001B[49m\u001B[43m)\u001B[49m\n\u001B[0;32m     30\u001B[0m plt\u001B[38;5;241m.\u001B[39mshow()\n",
      "File \u001B[1;32mE:\\ipynb\\venv\\lib\\site-packages\\matplotlib\\pyplot.py:2587\u001B[0m, in \u001B[0;36mtight_layout\u001B[1;34m(pad, h_pad, w_pad, rect)\u001B[0m\n\u001B[0;32m   2579\u001B[0m \u001B[38;5;129m@_copy_docstring_and_deprecators\u001B[39m(Figure\u001B[38;5;241m.\u001B[39mtight_layout)\n\u001B[0;32m   2580\u001B[0m \u001B[38;5;28;01mdef\u001B[39;00m \u001B[38;5;21mtight_layout\u001B[39m(\n\u001B[0;32m   2581\u001B[0m     \u001B[38;5;241m*\u001B[39m,\n\u001B[1;32m   (...)\u001B[0m\n\u001B[0;32m   2585\u001B[0m     rect: \u001B[38;5;28mtuple\u001B[39m[\u001B[38;5;28mfloat\u001B[39m, \u001B[38;5;28mfloat\u001B[39m, \u001B[38;5;28mfloat\u001B[39m, \u001B[38;5;28mfloat\u001B[39m] \u001B[38;5;241m|\u001B[39m \u001B[38;5;28;01mNone\u001B[39;00m \u001B[38;5;241m=\u001B[39m \u001B[38;5;28;01mNone\u001B[39;00m,\n\u001B[0;32m   2586\u001B[0m ) \u001B[38;5;241m-\u001B[39m\u001B[38;5;241m>\u001B[39m \u001B[38;5;28;01mNone\u001B[39;00m:\n\u001B[1;32m-> 2587\u001B[0m     \u001B[43mgcf\u001B[49m\u001B[43m(\u001B[49m\u001B[43m)\u001B[49m\u001B[38;5;241;43m.\u001B[39;49m\u001B[43mtight_layout\u001B[49m\u001B[43m(\u001B[49m\u001B[43mpad\u001B[49m\u001B[38;5;241;43m=\u001B[39;49m\u001B[43mpad\u001B[49m\u001B[43m,\u001B[49m\u001B[43m \u001B[49m\u001B[43mh_pad\u001B[49m\u001B[38;5;241;43m=\u001B[39;49m\u001B[43mh_pad\u001B[49m\u001B[43m,\u001B[49m\u001B[43m \u001B[49m\u001B[43mw_pad\u001B[49m\u001B[38;5;241;43m=\u001B[39;49m\u001B[43mw_pad\u001B[49m\u001B[43m,\u001B[49m\u001B[43m \u001B[49m\u001B[43mrect\u001B[49m\u001B[38;5;241;43m=\u001B[39;49m\u001B[43mrect\u001B[49m\u001B[43m)\u001B[49m\n",
      "File \u001B[1;32mE:\\ipynb\\venv\\lib\\site-packages\\matplotlib\\figure.py:3540\u001B[0m, in \u001B[0;36mFigure.tight_layout\u001B[1;34m(self, pad, h_pad, w_pad, rect)\u001B[0m\n\u001B[0;32m   3538\u001B[0m previous_engine \u001B[38;5;241m=\u001B[39m \u001B[38;5;28mself\u001B[39m\u001B[38;5;241m.\u001B[39mget_layout_engine()\n\u001B[0;32m   3539\u001B[0m \u001B[38;5;28mself\u001B[39m\u001B[38;5;241m.\u001B[39mset_layout_engine(engine)\n\u001B[1;32m-> 3540\u001B[0m \u001B[43mengine\u001B[49m\u001B[38;5;241;43m.\u001B[39;49m\u001B[43mexecute\u001B[49m\u001B[43m(\u001B[49m\u001B[38;5;28;43mself\u001B[39;49m\u001B[43m)\u001B[49m\n\u001B[0;32m   3541\u001B[0m \u001B[38;5;28;01mif\u001B[39;00m previous_engine \u001B[38;5;129;01mis\u001B[39;00m \u001B[38;5;129;01mnot\u001B[39;00m \u001B[38;5;28;01mNone\u001B[39;00m \u001B[38;5;129;01mand\u001B[39;00m \u001B[38;5;129;01mnot\u001B[39;00m \u001B[38;5;28misinstance\u001B[39m(\n\u001B[0;32m   3542\u001B[0m     previous_engine, (TightLayoutEngine, PlaceHolderLayoutEngine)\n\u001B[0;32m   3543\u001B[0m ):\n\u001B[0;32m   3544\u001B[0m     _api\u001B[38;5;241m.\u001B[39mwarn_external(\u001B[38;5;124m'\u001B[39m\u001B[38;5;124mThe figure layout has changed to tight\u001B[39m\u001B[38;5;124m'\u001B[39m)\n",
      "File \u001B[1;32mE:\\ipynb\\venv\\lib\\site-packages\\matplotlib\\layout_engine.py:183\u001B[0m, in \u001B[0;36mTightLayoutEngine.execute\u001B[1;34m(self, fig)\u001B[0m\n\u001B[0;32m    181\u001B[0m renderer \u001B[38;5;241m=\u001B[39m fig\u001B[38;5;241m.\u001B[39m_get_renderer()\n\u001B[0;32m    182\u001B[0m \u001B[38;5;28;01mwith\u001B[39;00m \u001B[38;5;28mgetattr\u001B[39m(renderer, \u001B[38;5;124m\"\u001B[39m\u001B[38;5;124m_draw_disabled\u001B[39m\u001B[38;5;124m\"\u001B[39m, nullcontext)():\n\u001B[1;32m--> 183\u001B[0m     kwargs \u001B[38;5;241m=\u001B[39m \u001B[43mget_tight_layout_figure\u001B[49m\u001B[43m(\u001B[49m\n\u001B[0;32m    184\u001B[0m \u001B[43m        \u001B[49m\u001B[43mfig\u001B[49m\u001B[43m,\u001B[49m\u001B[43m \u001B[49m\u001B[43mfig\u001B[49m\u001B[38;5;241;43m.\u001B[39;49m\u001B[43maxes\u001B[49m\u001B[43m,\u001B[49m\u001B[43m \u001B[49m\u001B[43mget_subplotspec_list\u001B[49m\u001B[43m(\u001B[49m\u001B[43mfig\u001B[49m\u001B[38;5;241;43m.\u001B[39;49m\u001B[43maxes\u001B[49m\u001B[43m)\u001B[49m\u001B[43m,\u001B[49m\u001B[43m \u001B[49m\u001B[43mrenderer\u001B[49m\u001B[43m,\u001B[49m\n\u001B[0;32m    185\u001B[0m \u001B[43m        \u001B[49m\u001B[43mpad\u001B[49m\u001B[38;5;241;43m=\u001B[39;49m\u001B[43minfo\u001B[49m\u001B[43m[\u001B[49m\u001B[38;5;124;43m'\u001B[39;49m\u001B[38;5;124;43mpad\u001B[39;49m\u001B[38;5;124;43m'\u001B[39;49m\u001B[43m]\u001B[49m\u001B[43m,\u001B[49m\u001B[43m \u001B[49m\u001B[43mh_pad\u001B[49m\u001B[38;5;241;43m=\u001B[39;49m\u001B[43minfo\u001B[49m\u001B[43m[\u001B[49m\u001B[38;5;124;43m'\u001B[39;49m\u001B[38;5;124;43mh_pad\u001B[39;49m\u001B[38;5;124;43m'\u001B[39;49m\u001B[43m]\u001B[49m\u001B[43m,\u001B[49m\u001B[43m \u001B[49m\u001B[43mw_pad\u001B[49m\u001B[38;5;241;43m=\u001B[39;49m\u001B[43minfo\u001B[49m\u001B[43m[\u001B[49m\u001B[38;5;124;43m'\u001B[39;49m\u001B[38;5;124;43mw_pad\u001B[39;49m\u001B[38;5;124;43m'\u001B[39;49m\u001B[43m]\u001B[49m\u001B[43m,\u001B[49m\n\u001B[0;32m    186\u001B[0m \u001B[43m        \u001B[49m\u001B[43mrect\u001B[49m\u001B[38;5;241;43m=\u001B[39;49m\u001B[43minfo\u001B[49m\u001B[43m[\u001B[49m\u001B[38;5;124;43m'\u001B[39;49m\u001B[38;5;124;43mrect\u001B[39;49m\u001B[38;5;124;43m'\u001B[39;49m\u001B[43m]\u001B[49m\u001B[43m)\u001B[49m\n\u001B[0;32m    187\u001B[0m \u001B[38;5;28;01mif\u001B[39;00m kwargs:\n\u001B[0;32m    188\u001B[0m     fig\u001B[38;5;241m.\u001B[39msubplots_adjust(\u001B[38;5;241m*\u001B[39m\u001B[38;5;241m*\u001B[39mkwargs)\n",
      "File \u001B[1;32mE:\\ipynb\\venv\\lib\\site-packages\\matplotlib\\_tight_layout.py:266\u001B[0m, in \u001B[0;36mget_tight_layout_figure\u001B[1;34m(fig, axes_list, subplotspec_list, renderer, pad, h_pad, w_pad, rect)\u001B[0m\n\u001B[0;32m    261\u001B[0m         \u001B[38;5;28;01mreturn\u001B[39;00m {}\n\u001B[0;32m    262\u001B[0m     span_pairs\u001B[38;5;241m.\u001B[39mappend((\n\u001B[0;32m    263\u001B[0m         \u001B[38;5;28mslice\u001B[39m(ss\u001B[38;5;241m.\u001B[39mrowspan\u001B[38;5;241m.\u001B[39mstart \u001B[38;5;241m*\u001B[39m div_row, ss\u001B[38;5;241m.\u001B[39mrowspan\u001B[38;5;241m.\u001B[39mstop \u001B[38;5;241m*\u001B[39m div_row),\n\u001B[0;32m    264\u001B[0m         \u001B[38;5;28mslice\u001B[39m(ss\u001B[38;5;241m.\u001B[39mcolspan\u001B[38;5;241m.\u001B[39mstart \u001B[38;5;241m*\u001B[39m div_col, ss\u001B[38;5;241m.\u001B[39mcolspan\u001B[38;5;241m.\u001B[39mstop \u001B[38;5;241m*\u001B[39m div_col)))\n\u001B[1;32m--> 266\u001B[0m kwargs \u001B[38;5;241m=\u001B[39m \u001B[43m_auto_adjust_subplotpars\u001B[49m\u001B[43m(\u001B[49m\u001B[43mfig\u001B[49m\u001B[43m,\u001B[49m\u001B[43m \u001B[49m\u001B[43mrenderer\u001B[49m\u001B[43m,\u001B[49m\n\u001B[0;32m    267\u001B[0m \u001B[43m                                  \u001B[49m\u001B[43mshape\u001B[49m\u001B[38;5;241;43m=\u001B[39;49m\u001B[43m(\u001B[49m\u001B[43mmax_nrows\u001B[49m\u001B[43m,\u001B[49m\u001B[43m \u001B[49m\u001B[43mmax_ncols\u001B[49m\u001B[43m)\u001B[49m\u001B[43m,\u001B[49m\n\u001B[0;32m    268\u001B[0m \u001B[43m                                  \u001B[49m\u001B[43mspan_pairs\u001B[49m\u001B[38;5;241;43m=\u001B[39;49m\u001B[43mspan_pairs\u001B[49m\u001B[43m,\u001B[49m\n\u001B[0;32m    269\u001B[0m \u001B[43m                                  \u001B[49m\u001B[43msubplot_list\u001B[49m\u001B[38;5;241;43m=\u001B[39;49m\u001B[43msubplot_list\u001B[49m\u001B[43m,\u001B[49m\n\u001B[0;32m    270\u001B[0m \u001B[43m                                  \u001B[49m\u001B[43max_bbox_list\u001B[49m\u001B[38;5;241;43m=\u001B[39;49m\u001B[43max_bbox_list\u001B[49m\u001B[43m,\u001B[49m\n\u001B[0;32m    271\u001B[0m \u001B[43m                                  \u001B[49m\u001B[43mpad\u001B[49m\u001B[38;5;241;43m=\u001B[39;49m\u001B[43mpad\u001B[49m\u001B[43m,\u001B[49m\u001B[43m \u001B[49m\u001B[43mh_pad\u001B[49m\u001B[38;5;241;43m=\u001B[39;49m\u001B[43mh_pad\u001B[49m\u001B[43m,\u001B[49m\u001B[43m \u001B[49m\u001B[43mw_pad\u001B[49m\u001B[38;5;241;43m=\u001B[39;49m\u001B[43mw_pad\u001B[49m\u001B[43m)\u001B[49m\n\u001B[0;32m    273\u001B[0m \u001B[38;5;66;03m# kwargs can be none if tight_layout fails...\u001B[39;00m\n\u001B[0;32m    274\u001B[0m \u001B[38;5;28;01mif\u001B[39;00m rect \u001B[38;5;129;01mis\u001B[39;00m \u001B[38;5;129;01mnot\u001B[39;00m \u001B[38;5;28;01mNone\u001B[39;00m \u001B[38;5;129;01mand\u001B[39;00m kwargs \u001B[38;5;129;01mis\u001B[39;00m \u001B[38;5;129;01mnot\u001B[39;00m \u001B[38;5;28;01mNone\u001B[39;00m:\n\u001B[0;32m    275\u001B[0m     \u001B[38;5;66;03m# if rect is given, the whole subplots area (including\u001B[39;00m\n\u001B[0;32m    276\u001B[0m     \u001B[38;5;66;03m# labels) will fit into the rect instead of the\u001B[39;00m\n\u001B[1;32m   (...)\u001B[0m\n\u001B[0;32m    280\u001B[0m     \u001B[38;5;66;03m# auto_adjust_subplotpars twice, where the second run\u001B[39;00m\n\u001B[0;32m    281\u001B[0m     \u001B[38;5;66;03m# with adjusted rect parameters.\u001B[39;00m\n",
      "File \u001B[1;32mE:\\ipynb\\venv\\lib\\site-packages\\matplotlib\\_tight_layout.py:82\u001B[0m, in \u001B[0;36m_auto_adjust_subplotpars\u001B[1;34m(fig, renderer, shape, span_pairs, subplot_list, ax_bbox_list, pad, h_pad, w_pad, rect)\u001B[0m\n\u001B[0;32m     80\u001B[0m \u001B[38;5;28;01mfor\u001B[39;00m ax \u001B[38;5;129;01min\u001B[39;00m subplots:\n\u001B[0;32m     81\u001B[0m     \u001B[38;5;28;01mif\u001B[39;00m ax\u001B[38;5;241m.\u001B[39mget_visible():\n\u001B[1;32m---> 82\u001B[0m         bb \u001B[38;5;241m+\u001B[39m\u001B[38;5;241m=\u001B[39m [\u001B[43mmartist\u001B[49m\u001B[38;5;241;43m.\u001B[39;49m\u001B[43m_get_tightbbox_for_layout_only\u001B[49m\u001B[43m(\u001B[49m\u001B[43max\u001B[49m\u001B[43m,\u001B[49m\u001B[43m \u001B[49m\u001B[43mrenderer\u001B[49m\u001B[43m)\u001B[49m]\n\u001B[0;32m     84\u001B[0m tight_bbox_raw \u001B[38;5;241m=\u001B[39m Bbox\u001B[38;5;241m.\u001B[39munion(bb)\n\u001B[0;32m     85\u001B[0m tight_bbox \u001B[38;5;241m=\u001B[39m fig\u001B[38;5;241m.\u001B[39mtransFigure\u001B[38;5;241m.\u001B[39minverted()\u001B[38;5;241m.\u001B[39mtransform_bbox(tight_bbox_raw)\n",
      "File \u001B[1;32mE:\\ipynb\\venv\\lib\\site-packages\\matplotlib\\artist.py:1411\u001B[0m, in \u001B[0;36m_get_tightbbox_for_layout_only\u001B[1;34m(obj, *args, **kwargs)\u001B[0m\n\u001B[0;32m   1405\u001B[0m \u001B[38;5;250m\u001B[39m\u001B[38;5;124;03m\"\"\"\u001B[39;00m\n\u001B[0;32m   1406\u001B[0m \u001B[38;5;124;03mMatplotlib's `.Axes.get_tightbbox` and `.Axis.get_tightbbox` support a\u001B[39;00m\n\u001B[0;32m   1407\u001B[0m \u001B[38;5;124;03m*for_layout_only* kwarg; this helper tries to use the kwarg but skips it\u001B[39;00m\n\u001B[0;32m   1408\u001B[0m \u001B[38;5;124;03mwhen encountering third-party subclasses that do not support it.\u001B[39;00m\n\u001B[0;32m   1409\u001B[0m \u001B[38;5;124;03m\"\"\"\u001B[39;00m\n\u001B[0;32m   1410\u001B[0m \u001B[38;5;28;01mtry\u001B[39;00m:\n\u001B[1;32m-> 1411\u001B[0m     \u001B[38;5;28;01mreturn\u001B[39;00m obj\u001B[38;5;241m.\u001B[39mget_tightbbox(\u001B[38;5;241m*\u001B[39margs, \u001B[38;5;241m*\u001B[39m\u001B[38;5;241m*\u001B[39m{\u001B[38;5;241m*\u001B[39m\u001B[38;5;241m*\u001B[39mkwargs, \u001B[38;5;124m\"\u001B[39m\u001B[38;5;124mfor_layout_only\u001B[39m\u001B[38;5;124m\"\u001B[39m: \u001B[38;5;28;01mTrue\u001B[39;00m})\n\u001B[0;32m   1412\u001B[0m \u001B[38;5;28;01mexcept\u001B[39;00m \u001B[38;5;167;01mTypeError\u001B[39;00m:\n\u001B[0;32m   1413\u001B[0m     \u001B[38;5;28;01mreturn\u001B[39;00m obj\u001B[38;5;241m.\u001B[39mget_tightbbox(\u001B[38;5;241m*\u001B[39margs, \u001B[38;5;241m*\u001B[39m\u001B[38;5;241m*\u001B[39mkwargs)\n",
      "File \u001B[1;32mE:\\ipynb\\venv\\lib\\site-packages\\matplotlib\\_api\\deprecation.py:454\u001B[0m, in \u001B[0;36mmake_keyword_only.<locals>.wrapper\u001B[1;34m(*args, **kwargs)\u001B[0m\n\u001B[0;32m    448\u001B[0m \u001B[38;5;28;01mif\u001B[39;00m \u001B[38;5;28mlen\u001B[39m(args) \u001B[38;5;241m>\u001B[39m name_idx:\n\u001B[0;32m    449\u001B[0m     warn_deprecated(\n\u001B[0;32m    450\u001B[0m         since, message\u001B[38;5;241m=\u001B[39m\u001B[38;5;124m\"\u001B[39m\u001B[38;5;124mPassing the \u001B[39m\u001B[38;5;132;01m%(name)s\u001B[39;00m\u001B[38;5;124m \u001B[39m\u001B[38;5;132;01m%(obj_type)s\u001B[39;00m\u001B[38;5;124m \u001B[39m\u001B[38;5;124m\"\u001B[39m\n\u001B[0;32m    451\u001B[0m         \u001B[38;5;124m\"\u001B[39m\u001B[38;5;124mpositionally is deprecated since Matplotlib \u001B[39m\u001B[38;5;132;01m%(since)s\u001B[39;00m\u001B[38;5;124m; the \u001B[39m\u001B[38;5;124m\"\u001B[39m\n\u001B[0;32m    452\u001B[0m         \u001B[38;5;124m\"\u001B[39m\u001B[38;5;124mparameter will become keyword-only \u001B[39m\u001B[38;5;132;01m%(removal)s\u001B[39;00m\u001B[38;5;124m.\u001B[39m\u001B[38;5;124m\"\u001B[39m,\n\u001B[0;32m    453\u001B[0m         name\u001B[38;5;241m=\u001B[39mname, obj_type\u001B[38;5;241m=\u001B[39m\u001B[38;5;124mf\u001B[39m\u001B[38;5;124m\"\u001B[39m\u001B[38;5;124mparameter of \u001B[39m\u001B[38;5;132;01m{\u001B[39;00mfunc\u001B[38;5;241m.\u001B[39m\u001B[38;5;18m__name__\u001B[39m\u001B[38;5;132;01m}\u001B[39;00m\u001B[38;5;124m()\u001B[39m\u001B[38;5;124m\"\u001B[39m)\n\u001B[1;32m--> 454\u001B[0m \u001B[38;5;28;01mreturn\u001B[39;00m func(\u001B[38;5;241m*\u001B[39margs, \u001B[38;5;241m*\u001B[39m\u001B[38;5;241m*\u001B[39mkwargs)\n",
      "File \u001B[1;32mE:\\ipynb\\venv\\lib\\site-packages\\matplotlib\\axes\\_base.py:4418\u001B[0m, in \u001B[0;36m_AxesBase.get_tightbbox\u001B[1;34m(self, renderer, call_axes_locator, bbox_extra_artists, for_layout_only)\u001B[0m\n\u001B[0;32m   4415\u001B[0m     bbox_artists \u001B[38;5;241m=\u001B[39m \u001B[38;5;28mself\u001B[39m\u001B[38;5;241m.\u001B[39mget_default_bbox_extra_artists()\n\u001B[0;32m   4417\u001B[0m \u001B[38;5;28;01mfor\u001B[39;00m a \u001B[38;5;129;01min\u001B[39;00m bbox_artists:\n\u001B[1;32m-> 4418\u001B[0m     bbox \u001B[38;5;241m=\u001B[39m \u001B[43ma\u001B[49m\u001B[38;5;241;43m.\u001B[39;49m\u001B[43mget_tightbbox\u001B[49m\u001B[43m(\u001B[49m\u001B[43mrenderer\u001B[49m\u001B[43m)\u001B[49m\n\u001B[0;32m   4419\u001B[0m     \u001B[38;5;28;01mif\u001B[39;00m (bbox \u001B[38;5;129;01mis\u001B[39;00m \u001B[38;5;129;01mnot\u001B[39;00m \u001B[38;5;28;01mNone\u001B[39;00m\n\u001B[0;32m   4420\u001B[0m             \u001B[38;5;129;01mand\u001B[39;00m \u001B[38;5;241m0\u001B[39m \u001B[38;5;241m<\u001B[39m bbox\u001B[38;5;241m.\u001B[39mwidth \u001B[38;5;241m<\u001B[39m np\u001B[38;5;241m.\u001B[39minf\n\u001B[0;32m   4421\u001B[0m             \u001B[38;5;129;01mand\u001B[39;00m \u001B[38;5;241m0\u001B[39m \u001B[38;5;241m<\u001B[39m bbox\u001B[38;5;241m.\u001B[39mheight \u001B[38;5;241m<\u001B[39m np\u001B[38;5;241m.\u001B[39minf):\n\u001B[0;32m   4422\u001B[0m         bb\u001B[38;5;241m.\u001B[39mappend(bbox)\n",
      "File \u001B[1;32mE:\\ipynb\\venv\\lib\\site-packages\\matplotlib\\artist.py:366\u001B[0m, in \u001B[0;36mArtist.get_tightbbox\u001B[1;34m(self, renderer)\u001B[0m\n\u001B[0;32m    350\u001B[0m \u001B[38;5;28;01mdef\u001B[39;00m \u001B[38;5;21mget_tightbbox\u001B[39m(\u001B[38;5;28mself\u001B[39m, renderer\u001B[38;5;241m=\u001B[39m\u001B[38;5;28;01mNone\u001B[39;00m):\n\u001B[0;32m    351\u001B[0m \u001B[38;5;250m    \u001B[39m\u001B[38;5;124;03m\"\"\"\u001B[39;00m\n\u001B[0;32m    352\u001B[0m \u001B[38;5;124;03m    Like `.Artist.get_window_extent`, but includes any clipping.\u001B[39;00m\n\u001B[0;32m    353\u001B[0m \n\u001B[1;32m   (...)\u001B[0m\n\u001B[0;32m    364\u001B[0m \u001B[38;5;124;03m        Returns None if clipping results in no intersection.\u001B[39;00m\n\u001B[0;32m    365\u001B[0m \u001B[38;5;124;03m    \"\"\"\u001B[39;00m\n\u001B[1;32m--> 366\u001B[0m     bbox \u001B[38;5;241m=\u001B[39m \u001B[38;5;28;43mself\u001B[39;49m\u001B[38;5;241;43m.\u001B[39;49m\u001B[43mget_window_extent\u001B[49m\u001B[43m(\u001B[49m\u001B[43mrenderer\u001B[49m\u001B[43m)\u001B[49m\n\u001B[0;32m    367\u001B[0m     \u001B[38;5;28;01mif\u001B[39;00m \u001B[38;5;28mself\u001B[39m\u001B[38;5;241m.\u001B[39mget_clip_on():\n\u001B[0;32m    368\u001B[0m         clip_box \u001B[38;5;241m=\u001B[39m \u001B[38;5;28mself\u001B[39m\u001B[38;5;241m.\u001B[39mget_clip_box()\n",
      "File \u001B[1;32mE:\\ipynb\\venv\\lib\\site-packages\\matplotlib\\text.py:956\u001B[0m, in \u001B[0;36mText.get_window_extent\u001B[1;34m(self, renderer, dpi)\u001B[0m\n\u001B[0;32m    951\u001B[0m     \u001B[38;5;28;01mraise\u001B[39;00m \u001B[38;5;167;01mRuntimeError\u001B[39;00m(\n\u001B[0;32m    952\u001B[0m         \u001B[38;5;124m\"\u001B[39m\u001B[38;5;124mCannot get window extent of text w/o renderer. You likely \u001B[39m\u001B[38;5;124m\"\u001B[39m\n\u001B[0;32m    953\u001B[0m         \u001B[38;5;124m\"\u001B[39m\u001B[38;5;124mwant to call \u001B[39m\u001B[38;5;124m'\u001B[39m\u001B[38;5;124mfigure.draw_without_rendering()\u001B[39m\u001B[38;5;124m'\u001B[39m\u001B[38;5;124m first.\u001B[39m\u001B[38;5;124m\"\u001B[39m)\n\u001B[0;32m    955\u001B[0m \u001B[38;5;28;01mwith\u001B[39;00m cbook\u001B[38;5;241m.\u001B[39m_setattr_cm(\u001B[38;5;28mself\u001B[39m\u001B[38;5;241m.\u001B[39mfigure, dpi\u001B[38;5;241m=\u001B[39mdpi):\n\u001B[1;32m--> 956\u001B[0m     bbox, info, descent \u001B[38;5;241m=\u001B[39m \u001B[38;5;28;43mself\u001B[39;49m\u001B[38;5;241;43m.\u001B[39;49m\u001B[43m_get_layout\u001B[49m\u001B[43m(\u001B[49m\u001B[38;5;28;43mself\u001B[39;49m\u001B[38;5;241;43m.\u001B[39;49m\u001B[43m_renderer\u001B[49m\u001B[43m)\u001B[49m\n\u001B[0;32m    957\u001B[0m     x, y \u001B[38;5;241m=\u001B[39m \u001B[38;5;28mself\u001B[39m\u001B[38;5;241m.\u001B[39mget_unitless_position()\n\u001B[0;32m    958\u001B[0m     x, y \u001B[38;5;241m=\u001B[39m \u001B[38;5;28mself\u001B[39m\u001B[38;5;241m.\u001B[39mget_transform()\u001B[38;5;241m.\u001B[39mtransform((x, y))\n",
      "File \u001B[1;32mE:\\ipynb\\venv\\lib\\site-packages\\matplotlib\\text.py:381\u001B[0m, in \u001B[0;36mText._get_layout\u001B[1;34m(self, renderer)\u001B[0m\n\u001B[0;32m    379\u001B[0m clean_line, ismath \u001B[38;5;241m=\u001B[39m \u001B[38;5;28mself\u001B[39m\u001B[38;5;241m.\u001B[39m_preprocess_math(line)\n\u001B[0;32m    380\u001B[0m \u001B[38;5;28;01mif\u001B[39;00m clean_line:\n\u001B[1;32m--> 381\u001B[0m     w, h, d \u001B[38;5;241m=\u001B[39m \u001B[43m_get_text_metrics_with_cache\u001B[49m\u001B[43m(\u001B[49m\n\u001B[0;32m    382\u001B[0m \u001B[43m        \u001B[49m\u001B[43mrenderer\u001B[49m\u001B[43m,\u001B[49m\u001B[43m \u001B[49m\u001B[43mclean_line\u001B[49m\u001B[43m,\u001B[49m\u001B[43m \u001B[49m\u001B[38;5;28;43mself\u001B[39;49m\u001B[38;5;241;43m.\u001B[39;49m\u001B[43m_fontproperties\u001B[49m\u001B[43m,\u001B[49m\n\u001B[0;32m    383\u001B[0m \u001B[43m        \u001B[49m\u001B[43mismath\u001B[49m\u001B[38;5;241;43m=\u001B[39;49m\u001B[43mismath\u001B[49m\u001B[43m,\u001B[49m\u001B[43m \u001B[49m\u001B[43mdpi\u001B[49m\u001B[38;5;241;43m=\u001B[39;49m\u001B[38;5;28;43mself\u001B[39;49m\u001B[38;5;241;43m.\u001B[39;49m\u001B[43mfigure\u001B[49m\u001B[38;5;241;43m.\u001B[39;49m\u001B[43mdpi\u001B[49m\u001B[43m)\u001B[49m\n\u001B[0;32m    384\u001B[0m \u001B[38;5;28;01melse\u001B[39;00m:\n\u001B[0;32m    385\u001B[0m     w \u001B[38;5;241m=\u001B[39m h \u001B[38;5;241m=\u001B[39m d \u001B[38;5;241m=\u001B[39m \u001B[38;5;241m0\u001B[39m\n",
      "File \u001B[1;32mE:\\ipynb\\venv\\lib\\site-packages\\matplotlib\\text.py:69\u001B[0m, in \u001B[0;36m_get_text_metrics_with_cache\u001B[1;34m(renderer, text, fontprop, ismath, dpi)\u001B[0m\n\u001B[0;32m     66\u001B[0m \u001B[38;5;250m\u001B[39m\u001B[38;5;124;03m\"\"\"Call ``renderer.get_text_width_height_descent``, caching the results.\"\"\"\u001B[39;00m\n\u001B[0;32m     67\u001B[0m \u001B[38;5;66;03m# Cached based on a copy of fontprop so that later in-place mutations of\u001B[39;00m\n\u001B[0;32m     68\u001B[0m \u001B[38;5;66;03m# the passed-in argument do not mess up the cache.\u001B[39;00m\n\u001B[1;32m---> 69\u001B[0m \u001B[38;5;28;01mreturn\u001B[39;00m \u001B[43m_get_text_metrics_with_cache_impl\u001B[49m\u001B[43m(\u001B[49m\n\u001B[0;32m     70\u001B[0m \u001B[43m    \u001B[49m\u001B[43mweakref\u001B[49m\u001B[38;5;241;43m.\u001B[39;49m\u001B[43mref\u001B[49m\u001B[43m(\u001B[49m\u001B[43mrenderer\u001B[49m\u001B[43m)\u001B[49m\u001B[43m,\u001B[49m\u001B[43m \u001B[49m\u001B[43mtext\u001B[49m\u001B[43m,\u001B[49m\u001B[43m \u001B[49m\u001B[43mfontprop\u001B[49m\u001B[38;5;241;43m.\u001B[39;49m\u001B[43mcopy\u001B[49m\u001B[43m(\u001B[49m\u001B[43m)\u001B[49m\u001B[43m,\u001B[49m\u001B[43m \u001B[49m\u001B[43mismath\u001B[49m\u001B[43m,\u001B[49m\u001B[43m \u001B[49m\u001B[43mdpi\u001B[49m\u001B[43m)\u001B[49m\n",
      "File \u001B[1;32mE:\\ipynb\\venv\\lib\\site-packages\\matplotlib\\text.py:77\u001B[0m, in \u001B[0;36m_get_text_metrics_with_cache_impl\u001B[1;34m(renderer_ref, text, fontprop, ismath, dpi)\u001B[0m\n\u001B[0;32m     73\u001B[0m \u001B[38;5;129m@functools\u001B[39m\u001B[38;5;241m.\u001B[39mlru_cache(\u001B[38;5;241m4096\u001B[39m)\n\u001B[0;32m     74\u001B[0m \u001B[38;5;28;01mdef\u001B[39;00m \u001B[38;5;21m_get_text_metrics_with_cache_impl\u001B[39m(\n\u001B[0;32m     75\u001B[0m         renderer_ref, text, fontprop, ismath, dpi):\n\u001B[0;32m     76\u001B[0m     \u001B[38;5;66;03m# dpi is unused, but participates in cache invalidation (via the renderer).\u001B[39;00m\n\u001B[1;32m---> 77\u001B[0m     \u001B[38;5;28;01mreturn\u001B[39;00m \u001B[43mrenderer_ref\u001B[49m\u001B[43m(\u001B[49m\u001B[43m)\u001B[49m\u001B[38;5;241;43m.\u001B[39;49m\u001B[43mget_text_width_height_descent\u001B[49m\u001B[43m(\u001B[49m\u001B[43mtext\u001B[49m\u001B[43m,\u001B[49m\u001B[43m \u001B[49m\u001B[43mfontprop\u001B[49m\u001B[43m,\u001B[49m\u001B[43m \u001B[49m\u001B[43mismath\u001B[49m\u001B[43m)\u001B[49m\n",
      "File \u001B[1;32mE:\\ipynb\\venv\\lib\\site-packages\\matplotlib\\backends\\backend_agg.py:213\u001B[0m, in \u001B[0;36mRendererAgg.get_text_width_height_descent\u001B[1;34m(self, s, prop, ismath)\u001B[0m\n\u001B[0;32m    211\u001B[0m _api\u001B[38;5;241m.\u001B[39mcheck_in_list([\u001B[38;5;124m\"\u001B[39m\u001B[38;5;124mTeX\u001B[39m\u001B[38;5;124m\"\u001B[39m, \u001B[38;5;28;01mTrue\u001B[39;00m, \u001B[38;5;28;01mFalse\u001B[39;00m], ismath\u001B[38;5;241m=\u001B[39mismath)\n\u001B[0;32m    212\u001B[0m \u001B[38;5;28;01mif\u001B[39;00m ismath \u001B[38;5;241m==\u001B[39m \u001B[38;5;124m\"\u001B[39m\u001B[38;5;124mTeX\u001B[39m\u001B[38;5;124m\"\u001B[39m:\n\u001B[1;32m--> 213\u001B[0m     \u001B[38;5;28;01mreturn\u001B[39;00m \u001B[38;5;28;43msuper\u001B[39;49m\u001B[43m(\u001B[49m\u001B[43m)\u001B[49m\u001B[38;5;241;43m.\u001B[39;49m\u001B[43mget_text_width_height_descent\u001B[49m\u001B[43m(\u001B[49m\u001B[43ms\u001B[49m\u001B[43m,\u001B[49m\u001B[43m \u001B[49m\u001B[43mprop\u001B[49m\u001B[43m,\u001B[49m\u001B[43m \u001B[49m\u001B[43mismath\u001B[49m\u001B[43m)\u001B[49m\n\u001B[0;32m    215\u001B[0m \u001B[38;5;28;01mif\u001B[39;00m ismath:\n\u001B[0;32m    216\u001B[0m     ox, oy, width, height, descent, font_image \u001B[38;5;241m=\u001B[39m \\\n\u001B[0;32m    217\u001B[0m         \u001B[38;5;28mself\u001B[39m\u001B[38;5;241m.\u001B[39mmathtext_parser\u001B[38;5;241m.\u001B[39mparse(s, \u001B[38;5;28mself\u001B[39m\u001B[38;5;241m.\u001B[39mdpi, prop)\n",
      "File \u001B[1;32mE:\\ipynb\\venv\\lib\\site-packages\\matplotlib\\backend_bases.py:652\u001B[0m, in \u001B[0;36mRendererBase.get_text_width_height_descent\u001B[1;34m(self, s, prop, ismath)\u001B[0m\n\u001B[0;32m    648\u001B[0m fontsize \u001B[38;5;241m=\u001B[39m prop\u001B[38;5;241m.\u001B[39mget_size_in_points()\n\u001B[0;32m    650\u001B[0m \u001B[38;5;28;01mif\u001B[39;00m ismath \u001B[38;5;241m==\u001B[39m \u001B[38;5;124m'\u001B[39m\u001B[38;5;124mTeX\u001B[39m\u001B[38;5;124m'\u001B[39m:\n\u001B[0;32m    651\u001B[0m     \u001B[38;5;66;03m# todo: handle properties\u001B[39;00m\n\u001B[1;32m--> 652\u001B[0m     \u001B[38;5;28;01mreturn\u001B[39;00m \u001B[38;5;28;43mself\u001B[39;49m\u001B[38;5;241;43m.\u001B[39;49m\u001B[43mget_texmanager\u001B[49m\u001B[43m(\u001B[49m\u001B[43m)\u001B[49m\u001B[38;5;241;43m.\u001B[39;49m\u001B[43mget_text_width_height_descent\u001B[49m\u001B[43m(\u001B[49m\n\u001B[0;32m    653\u001B[0m \u001B[43m        \u001B[49m\u001B[43ms\u001B[49m\u001B[43m,\u001B[49m\u001B[43m \u001B[49m\u001B[43mfontsize\u001B[49m\u001B[43m,\u001B[49m\u001B[43m \u001B[49m\u001B[43mrenderer\u001B[49m\u001B[38;5;241;43m=\u001B[39;49m\u001B[38;5;28;43mself\u001B[39;49m\u001B[43m)\u001B[49m\n\u001B[0;32m    655\u001B[0m dpi \u001B[38;5;241m=\u001B[39m \u001B[38;5;28mself\u001B[39m\u001B[38;5;241m.\u001B[39mpoints_to_pixels(\u001B[38;5;241m72\u001B[39m)\n\u001B[0;32m    656\u001B[0m \u001B[38;5;28;01mif\u001B[39;00m ismath:\n",
      "File \u001B[1;32mE:\\ipynb\\venv\\lib\\site-packages\\matplotlib\\texmanager.py:363\u001B[0m, in \u001B[0;36mTexManager.get_text_width_height_descent\u001B[1;34m(cls, tex, fontsize, renderer)\u001B[0m\n\u001B[0;32m    361\u001B[0m \u001B[38;5;28;01mif\u001B[39;00m tex\u001B[38;5;241m.\u001B[39mstrip() \u001B[38;5;241m==\u001B[39m \u001B[38;5;124m'\u001B[39m\u001B[38;5;124m'\u001B[39m:\n\u001B[0;32m    362\u001B[0m     \u001B[38;5;28;01mreturn\u001B[39;00m \u001B[38;5;241m0\u001B[39m, \u001B[38;5;241m0\u001B[39m, \u001B[38;5;241m0\u001B[39m\n\u001B[1;32m--> 363\u001B[0m dvifile \u001B[38;5;241m=\u001B[39m \u001B[38;5;28;43mcls\u001B[39;49m\u001B[38;5;241;43m.\u001B[39;49m\u001B[43mmake_dvi\u001B[49m\u001B[43m(\u001B[49m\u001B[43mtex\u001B[49m\u001B[43m,\u001B[49m\u001B[43m \u001B[49m\u001B[43mfontsize\u001B[49m\u001B[43m)\u001B[49m\n\u001B[0;32m    364\u001B[0m dpi_fraction \u001B[38;5;241m=\u001B[39m renderer\u001B[38;5;241m.\u001B[39mpoints_to_pixels(\u001B[38;5;241m1.\u001B[39m) \u001B[38;5;28;01mif\u001B[39;00m renderer \u001B[38;5;28;01melse\u001B[39;00m \u001B[38;5;241m1\u001B[39m\n\u001B[0;32m    365\u001B[0m \u001B[38;5;28;01mwith\u001B[39;00m dviread\u001B[38;5;241m.\u001B[39mDvi(dvifile, \u001B[38;5;241m72\u001B[39m \u001B[38;5;241m*\u001B[39m dpi_fraction) \u001B[38;5;28;01mas\u001B[39;00m dvi:\n",
      "File \u001B[1;32mE:\\ipynb\\venv\\lib\\site-packages\\matplotlib\\texmanager.py:295\u001B[0m, in \u001B[0;36mTexManager.make_dvi\u001B[1;34m(cls, tex, fontsize)\u001B[0m\n\u001B[0;32m    293\u001B[0m     \u001B[38;5;28;01mwith\u001B[39;00m TemporaryDirectory(\u001B[38;5;28mdir\u001B[39m\u001B[38;5;241m=\u001B[39mcwd) \u001B[38;5;28;01mas\u001B[39;00m tmpdir:\n\u001B[0;32m    294\u001B[0m         tmppath \u001B[38;5;241m=\u001B[39m Path(tmpdir)\n\u001B[1;32m--> 295\u001B[0m         \u001B[38;5;28;43mcls\u001B[39;49m\u001B[38;5;241;43m.\u001B[39;49m\u001B[43m_run_checked_subprocess\u001B[49m\u001B[43m(\u001B[49m\n\u001B[0;32m    296\u001B[0m \u001B[43m            \u001B[49m\u001B[43m[\u001B[49m\u001B[38;5;124;43m\"\u001B[39;49m\u001B[38;5;124;43mlatex\u001B[39;49m\u001B[38;5;124;43m\"\u001B[39;49m\u001B[43m,\u001B[49m\u001B[43m \u001B[49m\u001B[38;5;124;43m\"\u001B[39;49m\u001B[38;5;124;43m-interaction=nonstopmode\u001B[39;49m\u001B[38;5;124;43m\"\u001B[39;49m\u001B[43m,\u001B[49m\u001B[43m \u001B[49m\u001B[38;5;124;43m\"\u001B[39;49m\u001B[38;5;124;43m--halt-on-error\u001B[39;49m\u001B[38;5;124;43m\"\u001B[39;49m\u001B[43m,\u001B[49m\n\u001B[0;32m    297\u001B[0m \u001B[43m             \u001B[49m\u001B[38;5;124;43mf\u001B[39;49m\u001B[38;5;124;43m\"\u001B[39;49m\u001B[38;5;124;43m--output-directory=\u001B[39;49m\u001B[38;5;132;43;01m{\u001B[39;49;00m\u001B[43mtmppath\u001B[49m\u001B[38;5;241;43m.\u001B[39;49m\u001B[43mname\u001B[49m\u001B[38;5;132;43;01m}\u001B[39;49;00m\u001B[38;5;124;43m\"\u001B[39;49m\u001B[43m,\u001B[49m\n\u001B[0;32m    298\u001B[0m \u001B[43m             \u001B[49m\u001B[38;5;124;43mf\u001B[39;49m\u001B[38;5;124;43m\"\u001B[39;49m\u001B[38;5;132;43;01m{\u001B[39;49;00m\u001B[43mtexfile\u001B[49m\u001B[38;5;241;43m.\u001B[39;49m\u001B[43mname\u001B[49m\u001B[38;5;132;43;01m}\u001B[39;49;00m\u001B[38;5;124;43m\"\u001B[39;49m\u001B[43m]\u001B[49m\u001B[43m,\u001B[49m\u001B[43m \u001B[49m\u001B[43mtex\u001B[49m\u001B[43m,\u001B[49m\u001B[43m \u001B[49m\u001B[43mcwd\u001B[49m\u001B[38;5;241;43m=\u001B[39;49m\u001B[43mcwd\u001B[49m\u001B[43m)\u001B[49m\n\u001B[0;32m    299\u001B[0m         (tmppath \u001B[38;5;241m/\u001B[39m Path(dvifile)\u001B[38;5;241m.\u001B[39mname)\u001B[38;5;241m.\u001B[39mreplace(dvifile)\n\u001B[0;32m    300\u001B[0m \u001B[38;5;28;01mreturn\u001B[39;00m dvifile\n",
      "File \u001B[1;32mE:\\ipynb\\venv\\lib\\site-packages\\matplotlib\\texmanager.py:258\u001B[0m, in \u001B[0;36mTexManager._run_checked_subprocess\u001B[1;34m(cls, command, tex, cwd)\u001B[0m\n\u001B[0;32m    254\u001B[0m     \u001B[38;5;28;01mraise\u001B[39;00m \u001B[38;5;167;01mRuntimeError\u001B[39;00m(\n\u001B[0;32m    255\u001B[0m         \u001B[38;5;124mf\u001B[39m\u001B[38;5;124m'\u001B[39m\u001B[38;5;124mFailed to process string with tex because \u001B[39m\u001B[38;5;132;01m{\u001B[39;00mcommand[\u001B[38;5;241m0\u001B[39m]\u001B[38;5;132;01m}\u001B[39;00m\u001B[38;5;124m \u001B[39m\u001B[38;5;124m'\u001B[39m\n\u001B[0;32m    256\u001B[0m         \u001B[38;5;124m'\u001B[39m\u001B[38;5;124mcould not be found\u001B[39m\u001B[38;5;124m'\u001B[39m) \u001B[38;5;28;01mfrom\u001B[39;00m \u001B[38;5;21;01mexc\u001B[39;00m\n\u001B[0;32m    257\u001B[0m \u001B[38;5;28;01mexcept\u001B[39;00m subprocess\u001B[38;5;241m.\u001B[39mCalledProcessError \u001B[38;5;28;01mas\u001B[39;00m exc:\n\u001B[1;32m--> 258\u001B[0m     \u001B[38;5;28;01mraise\u001B[39;00m \u001B[38;5;167;01mRuntimeError\u001B[39;00m(\n\u001B[0;32m    259\u001B[0m         \u001B[38;5;124m'\u001B[39m\u001B[38;5;132;01m{prog}\u001B[39;00m\u001B[38;5;124m was not able to process the following string:\u001B[39m\u001B[38;5;130;01m\\n\u001B[39;00m\u001B[38;5;124m'\u001B[39m\n\u001B[0;32m    260\u001B[0m         \u001B[38;5;124m'\u001B[39m\u001B[38;5;132;01m{tex!r}\u001B[39;00m\u001B[38;5;130;01m\\n\u001B[39;00m\u001B[38;5;130;01m\\n\u001B[39;00m\u001B[38;5;124m'\u001B[39m\n\u001B[0;32m    261\u001B[0m         \u001B[38;5;124m'\u001B[39m\u001B[38;5;124mHere is the full command invocation and its output:\u001B[39m\u001B[38;5;130;01m\\n\u001B[39;00m\u001B[38;5;130;01m\\n\u001B[39;00m\u001B[38;5;124m'\u001B[39m\n\u001B[0;32m    262\u001B[0m         \u001B[38;5;124m'\u001B[39m\u001B[38;5;132;01m{format_command}\u001B[39;00m\u001B[38;5;130;01m\\n\u001B[39;00m\u001B[38;5;130;01m\\n\u001B[39;00m\u001B[38;5;124m'\u001B[39m\n\u001B[0;32m    263\u001B[0m         \u001B[38;5;124m'\u001B[39m\u001B[38;5;132;01m{exc}\u001B[39;00m\u001B[38;5;130;01m\\n\u001B[39;00m\u001B[38;5;130;01m\\n\u001B[39;00m\u001B[38;5;124m'\u001B[39m\u001B[38;5;241m.\u001B[39mformat(\n\u001B[0;32m    264\u001B[0m             prog\u001B[38;5;241m=\u001B[39mcommand[\u001B[38;5;241m0\u001B[39m],\n\u001B[0;32m    265\u001B[0m             format_command\u001B[38;5;241m=\u001B[39mcbook\u001B[38;5;241m.\u001B[39m_pformat_subprocess(command),\n\u001B[0;32m    266\u001B[0m             tex\u001B[38;5;241m=\u001B[39mtex\u001B[38;5;241m.\u001B[39mencode(\u001B[38;5;124m'\u001B[39m\u001B[38;5;124municode_escape\u001B[39m\u001B[38;5;124m'\u001B[39m),\n\u001B[0;32m    267\u001B[0m             exc\u001B[38;5;241m=\u001B[39mexc\u001B[38;5;241m.\u001B[39moutput\u001B[38;5;241m.\u001B[39mdecode(\u001B[38;5;124m'\u001B[39m\u001B[38;5;124mutf-8\u001B[39m\u001B[38;5;124m'\u001B[39m, \u001B[38;5;124m'\u001B[39m\u001B[38;5;124mbackslashreplace\u001B[39m\u001B[38;5;124m'\u001B[39m))\n\u001B[0;32m    268\u001B[0m         ) \u001B[38;5;28;01mfrom\u001B[39;00m \u001B[38;5;28;01mNone\u001B[39;00m\n\u001B[0;32m    269\u001B[0m _log\u001B[38;5;241m.\u001B[39mdebug(report)\n\u001B[0;32m    270\u001B[0m \u001B[38;5;28;01mreturn\u001B[39;00m report\n",
      "\u001B[1;31mRuntimeError\u001B[0m: latex was not able to process the following string:\nb'$\\\\\\\\begin{bmatrix}8 & 4 & 8 \\\\\\\\\\\\\\\\ 9 & 1 & 3 \\\\\\\\\\\\\\\\ 4 & 1 & 2\\\\\\\\end{bmatrix} + \\\\\\\\begin{bmatrix}6 & 8 & 7 \\\\\\\\\\\\\\\\ 1 & 1 & 7 \\\\\\\\\\\\\\\\ 9 & 4 & 4\\\\\\\\end{bmatrix} = \\\\\\\\begin{bmatrix}14 & 12 & 15 \\\\\\\\\\\\\\\\ 10 & 2 & 10 \\\\\\\\\\\\\\\\ 13 & 5 & 6\\\\\\\\end{bmatrix}$'\n\nHere is the full command invocation and its output:\n\nlatex -interaction=nonstopmode --halt-on-error --output-directory=tmpkph0bsgq 07c9b191fe746fb2ec23e2df520508d2.tex\n\nThis is pdfTeX, Version 3.141592653-2.6-1.40.24 (MiKTeX 22.10) (preloaded format=latex.fmt)\r\n restricted \\write18 enabled.\r\nentering extended mode\r\n(07c9b191fe746fb2ec23e2df520508d2.tex\r\nLaTeX2e <2022-06-01> patch level 5\r\nL3 programming layer <2022-09-28> (E:\\miktex\\tex/latex/base\\article.cls\r\nDocument Class: article 2021/10/04 v1.4n Standard LaTeX document class\r\n(E:\\miktex\\tex/latex/base\\size10.clo)) (E:\\miktex\\tex/latex/type1cm\\type1cm.sty\r\n) (E:\\miktex\\tex/latex/cm-super\\type1ec.sty (E:\\miktex\\tex/latex/base\\t1cmr.fd)\r\n) (E:\\miktex\\tex/latex/base\\inputenc.sty)\r\n(E:\\miktex\\tex/latex/geometry\\geometry.sty\r\n(E:\\miktex\\tex/latex/graphics\\keyval.sty)\r\n(E:\\miktex\\tex/generic/iftex\\ifvtex.sty (E:\\miktex\\tex/generic/iftex\\iftex.sty)\r\n) (E:\\miktex\\tex/latex/geometry\\geometry.cfg))\r\n(E:\\miktex\\tex/latex/underscore\\underscore.sty)\r\n(E:\\miktex\\tex/latex/base\\textcomp.sty)\r\n(E:\\miktex\\tex/latex/l3backend\\l3backend-dvips.def)\r\nNo file 07c9b191fe746fb2ec23e2df520508d2.aux.\r\n*geometry* driver: auto-detecting\r\n*geometry* detected driver: dvips\r\n\r\n! LaTeX Error: Environment bmatrix undefined.\r\n\r\nSee the LaTeX manual or LaTeX Companion for explanation.\r\nType  H <return>  for immediate help.\r\n ...                                              \r\n                                                  \r\nl.29 {\\rmfamily $\\begin{bmatrix}\r\n                                8 & 4 & 8 \\\\ 9 & 1 & 3 \\\\ 4 & 1 & 2\\end{bmat...\r\nNo pages of output.\r\nTranscript written on C:\\Users\\rainbow_yu\\.matplotlib\\tex.cache\\07\\c9\\tmpkph0bs\r\ngq\\07c9b191fe746fb2ec23e2df520508d2.log.\r\n\n\n"
     ]
    },
    {
     "name": "stdout",
     "output_type": "stream",
     "text": [
      "Error in callback <function _draw_all_if_interactive at 0x00000203461967A0> (for post_execute), with arguments args (),kwargs {}:\n"
     ]
    },
    {
     "ename": "RuntimeError",
     "evalue": "latex was not able to process the following string:\nb'$\\\\\\\\begin{bmatrix}8 & 4 & 8 \\\\\\\\\\\\\\\\ 9 & 1 & 3 \\\\\\\\\\\\\\\\ 4 & 1 & 2\\\\\\\\end{bmatrix} + \\\\\\\\begin{bmatrix}6 & 8 & 7 \\\\\\\\\\\\\\\\ 1 & 1 & 7 \\\\\\\\\\\\\\\\ 9 & 4 & 4\\\\\\\\end{bmatrix} = \\\\\\\\begin{bmatrix}14 & 12 & 15 \\\\\\\\\\\\\\\\ 10 & 2 & 10 \\\\\\\\\\\\\\\\ 13 & 5 & 6\\\\\\\\end{bmatrix}$'\n\nHere is the full command invocation and its output:\n\nlatex -interaction=nonstopmode --halt-on-error --output-directory=tmponk2yr6h 07c9b191fe746fb2ec23e2df520508d2.tex\n\nThis is pdfTeX, Version 3.141592653-2.6-1.40.24 (MiKTeX 22.10) (preloaded format=latex.fmt)\r\n restricted \\write18 enabled.\r\nentering extended mode\r\n(07c9b191fe746fb2ec23e2df520508d2.tex\r\nLaTeX2e <2022-06-01> patch level 5\r\nL3 programming layer <2022-09-28> (E:\\miktex\\tex/latex/base\\article.cls\r\nDocument Class: article 2021/10/04 v1.4n Standard LaTeX document class\r\n(E:\\miktex\\tex/latex/base\\size10.clo)) (E:\\miktex\\tex/latex/type1cm\\type1cm.sty\r\n) (E:\\miktex\\tex/latex/cm-super\\type1ec.sty (E:\\miktex\\tex/latex/base\\t1cmr.fd)\r\n) (E:\\miktex\\tex/latex/base\\inputenc.sty)\r\n(E:\\miktex\\tex/latex/geometry\\geometry.sty\r\n(E:\\miktex\\tex/latex/graphics\\keyval.sty)\r\n(E:\\miktex\\tex/generic/iftex\\ifvtex.sty (E:\\miktex\\tex/generic/iftex\\iftex.sty)\r\n) (E:\\miktex\\tex/latex/geometry\\geometry.cfg))\r\n(E:\\miktex\\tex/latex/underscore\\underscore.sty)\r\n(E:\\miktex\\tex/latex/base\\textcomp.sty)\r\n(E:\\miktex\\tex/latex/l3backend\\l3backend-dvips.def)\r\nNo file 07c9b191fe746fb2ec23e2df520508d2.aux.\r\n*geometry* driver: auto-detecting\r\n*geometry* detected driver: dvips\r\n\r\n! LaTeX Error: Environment bmatrix undefined.\r\n\r\nSee the LaTeX manual or LaTeX Companion for explanation.\r\nType  H <return>  for immediate help.\r\n ...                                              \r\n                                                  \r\nl.29 {\\rmfamily $\\begin{bmatrix}\r\n                                8 & 4 & 8 \\\\ 9 & 1 & 3 \\\\ 4 & 1 & 2\\end{bmat...\r\nNo pages of output.\r\nTranscript written on C:\\Users\\rainbow_yu\\.matplotlib\\tex.cache\\07\\c9\\tmponk2yr\r\n6h\\07c9b191fe746fb2ec23e2df520508d2.log.\r\n\n\n",
     "output_type": "error",
     "traceback": [
      "\u001B[1;31m---------------------------------------------------------------------------\u001B[0m",
      "\u001B[1;31mRuntimeError\u001B[0m                              Traceback (most recent call last)",
      "File \u001B[1;32mE:\\ipynb\\venv\\lib\\site-packages\\matplotlib\\pyplot.py:197\u001B[0m, in \u001B[0;36m_draw_all_if_interactive\u001B[1;34m()\u001B[0m\n\u001B[0;32m    195\u001B[0m \u001B[38;5;28;01mdef\u001B[39;00m \u001B[38;5;21m_draw_all_if_interactive\u001B[39m() \u001B[38;5;241m-\u001B[39m\u001B[38;5;241m>\u001B[39m \u001B[38;5;28;01mNone\u001B[39;00m:\n\u001B[0;32m    196\u001B[0m     \u001B[38;5;28;01mif\u001B[39;00m matplotlib\u001B[38;5;241m.\u001B[39mis_interactive():\n\u001B[1;32m--> 197\u001B[0m         \u001B[43mdraw_all\u001B[49m\u001B[43m(\u001B[49m\u001B[43m)\u001B[49m\n",
      "File \u001B[1;32mE:\\ipynb\\venv\\lib\\site-packages\\matplotlib\\_pylab_helpers.py:132\u001B[0m, in \u001B[0;36mGcf.draw_all\u001B[1;34m(cls, force)\u001B[0m\n\u001B[0;32m    130\u001B[0m \u001B[38;5;28;01mfor\u001B[39;00m manager \u001B[38;5;129;01min\u001B[39;00m \u001B[38;5;28mcls\u001B[39m\u001B[38;5;241m.\u001B[39mget_all_fig_managers():\n\u001B[0;32m    131\u001B[0m     \u001B[38;5;28;01mif\u001B[39;00m force \u001B[38;5;129;01mor\u001B[39;00m manager\u001B[38;5;241m.\u001B[39mcanvas\u001B[38;5;241m.\u001B[39mfigure\u001B[38;5;241m.\u001B[39mstale:\n\u001B[1;32m--> 132\u001B[0m         \u001B[43mmanager\u001B[49m\u001B[38;5;241;43m.\u001B[39;49m\u001B[43mcanvas\u001B[49m\u001B[38;5;241;43m.\u001B[39;49m\u001B[43mdraw_idle\u001B[49m\u001B[43m(\u001B[49m\u001B[43m)\u001B[49m\n",
      "File \u001B[1;32mE:\\ipynb\\venv\\lib\\site-packages\\matplotlib\\backend_bases.py:1893\u001B[0m, in \u001B[0;36mFigureCanvasBase.draw_idle\u001B[1;34m(self, *args, **kwargs)\u001B[0m\n\u001B[0;32m   1891\u001B[0m \u001B[38;5;28;01mif\u001B[39;00m \u001B[38;5;129;01mnot\u001B[39;00m \u001B[38;5;28mself\u001B[39m\u001B[38;5;241m.\u001B[39m_is_idle_drawing:\n\u001B[0;32m   1892\u001B[0m     \u001B[38;5;28;01mwith\u001B[39;00m \u001B[38;5;28mself\u001B[39m\u001B[38;5;241m.\u001B[39m_idle_draw_cntx():\n\u001B[1;32m-> 1893\u001B[0m         \u001B[38;5;28mself\u001B[39m\u001B[38;5;241m.\u001B[39mdraw(\u001B[38;5;241m*\u001B[39margs, \u001B[38;5;241m*\u001B[39m\u001B[38;5;241m*\u001B[39mkwargs)\n",
      "File \u001B[1;32mE:\\ipynb\\venv\\lib\\site-packages\\matplotlib\\backends\\backend_agg.py:388\u001B[0m, in \u001B[0;36mFigureCanvasAgg.draw\u001B[1;34m(self)\u001B[0m\n\u001B[0;32m    385\u001B[0m \u001B[38;5;66;03m# Acquire a lock on the shared font cache.\u001B[39;00m\n\u001B[0;32m    386\u001B[0m \u001B[38;5;28;01mwith\u001B[39;00m (\u001B[38;5;28mself\u001B[39m\u001B[38;5;241m.\u001B[39mtoolbar\u001B[38;5;241m.\u001B[39m_wait_cursor_for_draw_cm() \u001B[38;5;28;01mif\u001B[39;00m \u001B[38;5;28mself\u001B[39m\u001B[38;5;241m.\u001B[39mtoolbar\n\u001B[0;32m    387\u001B[0m       \u001B[38;5;28;01melse\u001B[39;00m nullcontext()):\n\u001B[1;32m--> 388\u001B[0m     \u001B[38;5;28;43mself\u001B[39;49m\u001B[38;5;241;43m.\u001B[39;49m\u001B[43mfigure\u001B[49m\u001B[38;5;241;43m.\u001B[39;49m\u001B[43mdraw\u001B[49m\u001B[43m(\u001B[49m\u001B[38;5;28;43mself\u001B[39;49m\u001B[38;5;241;43m.\u001B[39;49m\u001B[43mrenderer\u001B[49m\u001B[43m)\u001B[49m\n\u001B[0;32m    389\u001B[0m     \u001B[38;5;66;03m# A GUI class may be need to update a window using this draw, so\u001B[39;00m\n\u001B[0;32m    390\u001B[0m     \u001B[38;5;66;03m# don't forget to call the superclass.\u001B[39;00m\n\u001B[0;32m    391\u001B[0m     \u001B[38;5;28msuper\u001B[39m()\u001B[38;5;241m.\u001B[39mdraw()\n",
      "File \u001B[1;32mE:\\ipynb\\venv\\lib\\site-packages\\matplotlib\\artist.py:95\u001B[0m, in \u001B[0;36m_finalize_rasterization.<locals>.draw_wrapper\u001B[1;34m(artist, renderer, *args, **kwargs)\u001B[0m\n\u001B[0;32m     93\u001B[0m \u001B[38;5;129m@wraps\u001B[39m(draw)\n\u001B[0;32m     94\u001B[0m \u001B[38;5;28;01mdef\u001B[39;00m \u001B[38;5;21mdraw_wrapper\u001B[39m(artist, renderer, \u001B[38;5;241m*\u001B[39margs, \u001B[38;5;241m*\u001B[39m\u001B[38;5;241m*\u001B[39mkwargs):\n\u001B[1;32m---> 95\u001B[0m     result \u001B[38;5;241m=\u001B[39m draw(artist, renderer, \u001B[38;5;241m*\u001B[39margs, \u001B[38;5;241m*\u001B[39m\u001B[38;5;241m*\u001B[39mkwargs)\n\u001B[0;32m     96\u001B[0m     \u001B[38;5;28;01mif\u001B[39;00m renderer\u001B[38;5;241m.\u001B[39m_rasterizing:\n\u001B[0;32m     97\u001B[0m         renderer\u001B[38;5;241m.\u001B[39mstop_rasterizing()\n",
      "File \u001B[1;32mE:\\ipynb\\venv\\lib\\site-packages\\matplotlib\\artist.py:72\u001B[0m, in \u001B[0;36mallow_rasterization.<locals>.draw_wrapper\u001B[1;34m(artist, renderer)\u001B[0m\n\u001B[0;32m     69\u001B[0m     \u001B[38;5;28;01mif\u001B[39;00m artist\u001B[38;5;241m.\u001B[39mget_agg_filter() \u001B[38;5;129;01mis\u001B[39;00m \u001B[38;5;129;01mnot\u001B[39;00m \u001B[38;5;28;01mNone\u001B[39;00m:\n\u001B[0;32m     70\u001B[0m         renderer\u001B[38;5;241m.\u001B[39mstart_filter()\n\u001B[1;32m---> 72\u001B[0m     \u001B[38;5;28;01mreturn\u001B[39;00m \u001B[43mdraw\u001B[49m\u001B[43m(\u001B[49m\u001B[43martist\u001B[49m\u001B[43m,\u001B[49m\u001B[43m \u001B[49m\u001B[43mrenderer\u001B[49m\u001B[43m)\u001B[49m\n\u001B[0;32m     73\u001B[0m \u001B[38;5;28;01mfinally\u001B[39;00m:\n\u001B[0;32m     74\u001B[0m     \u001B[38;5;28;01mif\u001B[39;00m artist\u001B[38;5;241m.\u001B[39mget_agg_filter() \u001B[38;5;129;01mis\u001B[39;00m \u001B[38;5;129;01mnot\u001B[39;00m \u001B[38;5;28;01mNone\u001B[39;00m:\n",
      "File \u001B[1;32mE:\\ipynb\\venv\\lib\\site-packages\\matplotlib\\figure.py:3154\u001B[0m, in \u001B[0;36mFigure.draw\u001B[1;34m(self, renderer)\u001B[0m\n\u001B[0;32m   3151\u001B[0m         \u001B[38;5;66;03m# ValueError can occur when resizing a window.\u001B[39;00m\n\u001B[0;32m   3153\u001B[0m \u001B[38;5;28mself\u001B[39m\u001B[38;5;241m.\u001B[39mpatch\u001B[38;5;241m.\u001B[39mdraw(renderer)\n\u001B[1;32m-> 3154\u001B[0m \u001B[43mmimage\u001B[49m\u001B[38;5;241;43m.\u001B[39;49m\u001B[43m_draw_list_compositing_images\u001B[49m\u001B[43m(\u001B[49m\n\u001B[0;32m   3155\u001B[0m \u001B[43m    \u001B[49m\u001B[43mrenderer\u001B[49m\u001B[43m,\u001B[49m\u001B[43m \u001B[49m\u001B[38;5;28;43mself\u001B[39;49m\u001B[43m,\u001B[49m\u001B[43m \u001B[49m\u001B[43martists\u001B[49m\u001B[43m,\u001B[49m\u001B[43m \u001B[49m\u001B[38;5;28;43mself\u001B[39;49m\u001B[38;5;241;43m.\u001B[39;49m\u001B[43msuppressComposite\u001B[49m\u001B[43m)\u001B[49m\n\u001B[0;32m   3157\u001B[0m \u001B[38;5;28;01mfor\u001B[39;00m sfig \u001B[38;5;129;01min\u001B[39;00m \u001B[38;5;28mself\u001B[39m\u001B[38;5;241m.\u001B[39msubfigs:\n\u001B[0;32m   3158\u001B[0m     sfig\u001B[38;5;241m.\u001B[39mdraw(renderer)\n",
      "File \u001B[1;32mE:\\ipynb\\venv\\lib\\site-packages\\matplotlib\\image.py:132\u001B[0m, in \u001B[0;36m_draw_list_compositing_images\u001B[1;34m(renderer, parent, artists, suppress_composite)\u001B[0m\n\u001B[0;32m    130\u001B[0m \u001B[38;5;28;01mif\u001B[39;00m not_composite \u001B[38;5;129;01mor\u001B[39;00m \u001B[38;5;129;01mnot\u001B[39;00m has_images:\n\u001B[0;32m    131\u001B[0m     \u001B[38;5;28;01mfor\u001B[39;00m a \u001B[38;5;129;01min\u001B[39;00m artists:\n\u001B[1;32m--> 132\u001B[0m         \u001B[43ma\u001B[49m\u001B[38;5;241;43m.\u001B[39;49m\u001B[43mdraw\u001B[49m\u001B[43m(\u001B[49m\u001B[43mrenderer\u001B[49m\u001B[43m)\u001B[49m\n\u001B[0;32m    133\u001B[0m \u001B[38;5;28;01melse\u001B[39;00m:\n\u001B[0;32m    134\u001B[0m     \u001B[38;5;66;03m# Composite any adjacent images together\u001B[39;00m\n\u001B[0;32m    135\u001B[0m     image_group \u001B[38;5;241m=\u001B[39m []\n",
      "File \u001B[1;32mE:\\ipynb\\venv\\lib\\site-packages\\matplotlib\\artist.py:72\u001B[0m, in \u001B[0;36mallow_rasterization.<locals>.draw_wrapper\u001B[1;34m(artist, renderer)\u001B[0m\n\u001B[0;32m     69\u001B[0m     \u001B[38;5;28;01mif\u001B[39;00m artist\u001B[38;5;241m.\u001B[39mget_agg_filter() \u001B[38;5;129;01mis\u001B[39;00m \u001B[38;5;129;01mnot\u001B[39;00m \u001B[38;5;28;01mNone\u001B[39;00m:\n\u001B[0;32m     70\u001B[0m         renderer\u001B[38;5;241m.\u001B[39mstart_filter()\n\u001B[1;32m---> 72\u001B[0m     \u001B[38;5;28;01mreturn\u001B[39;00m \u001B[43mdraw\u001B[49m\u001B[43m(\u001B[49m\u001B[43martist\u001B[49m\u001B[43m,\u001B[49m\u001B[43m \u001B[49m\u001B[43mrenderer\u001B[49m\u001B[43m)\u001B[49m\n\u001B[0;32m     73\u001B[0m \u001B[38;5;28;01mfinally\u001B[39;00m:\n\u001B[0;32m     74\u001B[0m     \u001B[38;5;28;01mif\u001B[39;00m artist\u001B[38;5;241m.\u001B[39mget_agg_filter() \u001B[38;5;129;01mis\u001B[39;00m \u001B[38;5;129;01mnot\u001B[39;00m \u001B[38;5;28;01mNone\u001B[39;00m:\n",
      "File \u001B[1;32mE:\\ipynb\\venv\\lib\\site-packages\\matplotlib\\axes\\_base.py:3070\u001B[0m, in \u001B[0;36m_AxesBase.draw\u001B[1;34m(self, renderer)\u001B[0m\n\u001B[0;32m   3067\u001B[0m \u001B[38;5;28;01mif\u001B[39;00m artists_rasterized:\n\u001B[0;32m   3068\u001B[0m     _draw_rasterized(\u001B[38;5;28mself\u001B[39m\u001B[38;5;241m.\u001B[39mfigure, artists_rasterized, renderer)\n\u001B[1;32m-> 3070\u001B[0m \u001B[43mmimage\u001B[49m\u001B[38;5;241;43m.\u001B[39;49m\u001B[43m_draw_list_compositing_images\u001B[49m\u001B[43m(\u001B[49m\n\u001B[0;32m   3071\u001B[0m \u001B[43m    \u001B[49m\u001B[43mrenderer\u001B[49m\u001B[43m,\u001B[49m\u001B[43m \u001B[49m\u001B[38;5;28;43mself\u001B[39;49m\u001B[43m,\u001B[49m\u001B[43m \u001B[49m\u001B[43martists\u001B[49m\u001B[43m,\u001B[49m\u001B[43m \u001B[49m\u001B[38;5;28;43mself\u001B[39;49m\u001B[38;5;241;43m.\u001B[39;49m\u001B[43mfigure\u001B[49m\u001B[38;5;241;43m.\u001B[39;49m\u001B[43msuppressComposite\u001B[49m\u001B[43m)\u001B[49m\n\u001B[0;32m   3073\u001B[0m renderer\u001B[38;5;241m.\u001B[39mclose_group(\u001B[38;5;124m'\u001B[39m\u001B[38;5;124maxes\u001B[39m\u001B[38;5;124m'\u001B[39m)\n\u001B[0;32m   3074\u001B[0m \u001B[38;5;28mself\u001B[39m\u001B[38;5;241m.\u001B[39mstale \u001B[38;5;241m=\u001B[39m \u001B[38;5;28;01mFalse\u001B[39;00m\n",
      "File \u001B[1;32mE:\\ipynb\\venv\\lib\\site-packages\\matplotlib\\image.py:132\u001B[0m, in \u001B[0;36m_draw_list_compositing_images\u001B[1;34m(renderer, parent, artists, suppress_composite)\u001B[0m\n\u001B[0;32m    130\u001B[0m \u001B[38;5;28;01mif\u001B[39;00m not_composite \u001B[38;5;129;01mor\u001B[39;00m \u001B[38;5;129;01mnot\u001B[39;00m has_images:\n\u001B[0;32m    131\u001B[0m     \u001B[38;5;28;01mfor\u001B[39;00m a \u001B[38;5;129;01min\u001B[39;00m artists:\n\u001B[1;32m--> 132\u001B[0m         \u001B[43ma\u001B[49m\u001B[38;5;241;43m.\u001B[39;49m\u001B[43mdraw\u001B[49m\u001B[43m(\u001B[49m\u001B[43mrenderer\u001B[49m\u001B[43m)\u001B[49m\n\u001B[0;32m    133\u001B[0m \u001B[38;5;28;01melse\u001B[39;00m:\n\u001B[0;32m    134\u001B[0m     \u001B[38;5;66;03m# Composite any adjacent images together\u001B[39;00m\n\u001B[0;32m    135\u001B[0m     image_group \u001B[38;5;241m=\u001B[39m []\n",
      "File \u001B[1;32mE:\\ipynb\\venv\\lib\\site-packages\\matplotlib\\artist.py:72\u001B[0m, in \u001B[0;36mallow_rasterization.<locals>.draw_wrapper\u001B[1;34m(artist, renderer)\u001B[0m\n\u001B[0;32m     69\u001B[0m     \u001B[38;5;28;01mif\u001B[39;00m artist\u001B[38;5;241m.\u001B[39mget_agg_filter() \u001B[38;5;129;01mis\u001B[39;00m \u001B[38;5;129;01mnot\u001B[39;00m \u001B[38;5;28;01mNone\u001B[39;00m:\n\u001B[0;32m     70\u001B[0m         renderer\u001B[38;5;241m.\u001B[39mstart_filter()\n\u001B[1;32m---> 72\u001B[0m     \u001B[38;5;28;01mreturn\u001B[39;00m \u001B[43mdraw\u001B[49m\u001B[43m(\u001B[49m\u001B[43martist\u001B[49m\u001B[43m,\u001B[49m\u001B[43m \u001B[49m\u001B[43mrenderer\u001B[49m\u001B[43m)\u001B[49m\n\u001B[0;32m     73\u001B[0m \u001B[38;5;28;01mfinally\u001B[39;00m:\n\u001B[0;32m     74\u001B[0m     \u001B[38;5;28;01mif\u001B[39;00m artist\u001B[38;5;241m.\u001B[39mget_agg_filter() \u001B[38;5;129;01mis\u001B[39;00m \u001B[38;5;129;01mnot\u001B[39;00m \u001B[38;5;28;01mNone\u001B[39;00m:\n",
      "File \u001B[1;32mE:\\ipynb\\venv\\lib\\site-packages\\matplotlib\\text.py:748\u001B[0m, in \u001B[0;36mText.draw\u001B[1;34m(self, renderer)\u001B[0m\n\u001B[0;32m    745\u001B[0m renderer\u001B[38;5;241m.\u001B[39mopen_group(\u001B[38;5;124m'\u001B[39m\u001B[38;5;124mtext\u001B[39m\u001B[38;5;124m'\u001B[39m, \u001B[38;5;28mself\u001B[39m\u001B[38;5;241m.\u001B[39mget_gid())\n\u001B[0;32m    747\u001B[0m \u001B[38;5;28;01mwith\u001B[39;00m \u001B[38;5;28mself\u001B[39m\u001B[38;5;241m.\u001B[39m_cm_set(text\u001B[38;5;241m=\u001B[39m\u001B[38;5;28mself\u001B[39m\u001B[38;5;241m.\u001B[39m_get_wrapped_text()):\n\u001B[1;32m--> 748\u001B[0m     bbox, info, descent \u001B[38;5;241m=\u001B[39m \u001B[38;5;28;43mself\u001B[39;49m\u001B[38;5;241;43m.\u001B[39;49m\u001B[43m_get_layout\u001B[49m\u001B[43m(\u001B[49m\u001B[43mrenderer\u001B[49m\u001B[43m)\u001B[49m\n\u001B[0;32m    749\u001B[0m     trans \u001B[38;5;241m=\u001B[39m \u001B[38;5;28mself\u001B[39m\u001B[38;5;241m.\u001B[39mget_transform()\n\u001B[0;32m    751\u001B[0m     \u001B[38;5;66;03m# don't use self.get_position here, which refers to text\u001B[39;00m\n\u001B[0;32m    752\u001B[0m     \u001B[38;5;66;03m# position in Text:\u001B[39;00m\n",
      "File \u001B[1;32mE:\\ipynb\\venv\\lib\\site-packages\\matplotlib\\text.py:381\u001B[0m, in \u001B[0;36mText._get_layout\u001B[1;34m(self, renderer)\u001B[0m\n\u001B[0;32m    379\u001B[0m clean_line, ismath \u001B[38;5;241m=\u001B[39m \u001B[38;5;28mself\u001B[39m\u001B[38;5;241m.\u001B[39m_preprocess_math(line)\n\u001B[0;32m    380\u001B[0m \u001B[38;5;28;01mif\u001B[39;00m clean_line:\n\u001B[1;32m--> 381\u001B[0m     w, h, d \u001B[38;5;241m=\u001B[39m \u001B[43m_get_text_metrics_with_cache\u001B[49m\u001B[43m(\u001B[49m\n\u001B[0;32m    382\u001B[0m \u001B[43m        \u001B[49m\u001B[43mrenderer\u001B[49m\u001B[43m,\u001B[49m\u001B[43m \u001B[49m\u001B[43mclean_line\u001B[49m\u001B[43m,\u001B[49m\u001B[43m \u001B[49m\u001B[38;5;28;43mself\u001B[39;49m\u001B[38;5;241;43m.\u001B[39;49m\u001B[43m_fontproperties\u001B[49m\u001B[43m,\u001B[49m\n\u001B[0;32m    383\u001B[0m \u001B[43m        \u001B[49m\u001B[43mismath\u001B[49m\u001B[38;5;241;43m=\u001B[39;49m\u001B[43mismath\u001B[49m\u001B[43m,\u001B[49m\u001B[43m \u001B[49m\u001B[43mdpi\u001B[49m\u001B[38;5;241;43m=\u001B[39;49m\u001B[38;5;28;43mself\u001B[39;49m\u001B[38;5;241;43m.\u001B[39;49m\u001B[43mfigure\u001B[49m\u001B[38;5;241;43m.\u001B[39;49m\u001B[43mdpi\u001B[49m\u001B[43m)\u001B[49m\n\u001B[0;32m    384\u001B[0m \u001B[38;5;28;01melse\u001B[39;00m:\n\u001B[0;32m    385\u001B[0m     w \u001B[38;5;241m=\u001B[39m h \u001B[38;5;241m=\u001B[39m d \u001B[38;5;241m=\u001B[39m \u001B[38;5;241m0\u001B[39m\n",
      "File \u001B[1;32mE:\\ipynb\\venv\\lib\\site-packages\\matplotlib\\text.py:69\u001B[0m, in \u001B[0;36m_get_text_metrics_with_cache\u001B[1;34m(renderer, text, fontprop, ismath, dpi)\u001B[0m\n\u001B[0;32m     66\u001B[0m \u001B[38;5;250m\u001B[39m\u001B[38;5;124;03m\"\"\"Call ``renderer.get_text_width_height_descent``, caching the results.\"\"\"\u001B[39;00m\n\u001B[0;32m     67\u001B[0m \u001B[38;5;66;03m# Cached based on a copy of fontprop so that later in-place mutations of\u001B[39;00m\n\u001B[0;32m     68\u001B[0m \u001B[38;5;66;03m# the passed-in argument do not mess up the cache.\u001B[39;00m\n\u001B[1;32m---> 69\u001B[0m \u001B[38;5;28;01mreturn\u001B[39;00m \u001B[43m_get_text_metrics_with_cache_impl\u001B[49m\u001B[43m(\u001B[49m\n\u001B[0;32m     70\u001B[0m \u001B[43m    \u001B[49m\u001B[43mweakref\u001B[49m\u001B[38;5;241;43m.\u001B[39;49m\u001B[43mref\u001B[49m\u001B[43m(\u001B[49m\u001B[43mrenderer\u001B[49m\u001B[43m)\u001B[49m\u001B[43m,\u001B[49m\u001B[43m \u001B[49m\u001B[43mtext\u001B[49m\u001B[43m,\u001B[49m\u001B[43m \u001B[49m\u001B[43mfontprop\u001B[49m\u001B[38;5;241;43m.\u001B[39;49m\u001B[43mcopy\u001B[49m\u001B[43m(\u001B[49m\u001B[43m)\u001B[49m\u001B[43m,\u001B[49m\u001B[43m \u001B[49m\u001B[43mismath\u001B[49m\u001B[43m,\u001B[49m\u001B[43m \u001B[49m\u001B[43mdpi\u001B[49m\u001B[43m)\u001B[49m\n",
      "File \u001B[1;32mE:\\ipynb\\venv\\lib\\site-packages\\matplotlib\\text.py:77\u001B[0m, in \u001B[0;36m_get_text_metrics_with_cache_impl\u001B[1;34m(renderer_ref, text, fontprop, ismath, dpi)\u001B[0m\n\u001B[0;32m     73\u001B[0m \u001B[38;5;129m@functools\u001B[39m\u001B[38;5;241m.\u001B[39mlru_cache(\u001B[38;5;241m4096\u001B[39m)\n\u001B[0;32m     74\u001B[0m \u001B[38;5;28;01mdef\u001B[39;00m \u001B[38;5;21m_get_text_metrics_with_cache_impl\u001B[39m(\n\u001B[0;32m     75\u001B[0m         renderer_ref, text, fontprop, ismath, dpi):\n\u001B[0;32m     76\u001B[0m     \u001B[38;5;66;03m# dpi is unused, but participates in cache invalidation (via the renderer).\u001B[39;00m\n\u001B[1;32m---> 77\u001B[0m     \u001B[38;5;28;01mreturn\u001B[39;00m \u001B[43mrenderer_ref\u001B[49m\u001B[43m(\u001B[49m\u001B[43m)\u001B[49m\u001B[38;5;241;43m.\u001B[39;49m\u001B[43mget_text_width_height_descent\u001B[49m\u001B[43m(\u001B[49m\u001B[43mtext\u001B[49m\u001B[43m,\u001B[49m\u001B[43m \u001B[49m\u001B[43mfontprop\u001B[49m\u001B[43m,\u001B[49m\u001B[43m \u001B[49m\u001B[43mismath\u001B[49m\u001B[43m)\u001B[49m\n",
      "File \u001B[1;32mE:\\ipynb\\venv\\lib\\site-packages\\matplotlib\\backends\\backend_agg.py:213\u001B[0m, in \u001B[0;36mRendererAgg.get_text_width_height_descent\u001B[1;34m(self, s, prop, ismath)\u001B[0m\n\u001B[0;32m    211\u001B[0m _api\u001B[38;5;241m.\u001B[39mcheck_in_list([\u001B[38;5;124m\"\u001B[39m\u001B[38;5;124mTeX\u001B[39m\u001B[38;5;124m\"\u001B[39m, \u001B[38;5;28;01mTrue\u001B[39;00m, \u001B[38;5;28;01mFalse\u001B[39;00m], ismath\u001B[38;5;241m=\u001B[39mismath)\n\u001B[0;32m    212\u001B[0m \u001B[38;5;28;01mif\u001B[39;00m ismath \u001B[38;5;241m==\u001B[39m \u001B[38;5;124m\"\u001B[39m\u001B[38;5;124mTeX\u001B[39m\u001B[38;5;124m\"\u001B[39m:\n\u001B[1;32m--> 213\u001B[0m     \u001B[38;5;28;01mreturn\u001B[39;00m \u001B[38;5;28;43msuper\u001B[39;49m\u001B[43m(\u001B[49m\u001B[43m)\u001B[49m\u001B[38;5;241;43m.\u001B[39;49m\u001B[43mget_text_width_height_descent\u001B[49m\u001B[43m(\u001B[49m\u001B[43ms\u001B[49m\u001B[43m,\u001B[49m\u001B[43m \u001B[49m\u001B[43mprop\u001B[49m\u001B[43m,\u001B[49m\u001B[43m \u001B[49m\u001B[43mismath\u001B[49m\u001B[43m)\u001B[49m\n\u001B[0;32m    215\u001B[0m \u001B[38;5;28;01mif\u001B[39;00m ismath:\n\u001B[0;32m    216\u001B[0m     ox, oy, width, height, descent, font_image \u001B[38;5;241m=\u001B[39m \\\n\u001B[0;32m    217\u001B[0m         \u001B[38;5;28mself\u001B[39m\u001B[38;5;241m.\u001B[39mmathtext_parser\u001B[38;5;241m.\u001B[39mparse(s, \u001B[38;5;28mself\u001B[39m\u001B[38;5;241m.\u001B[39mdpi, prop)\n",
      "File \u001B[1;32mE:\\ipynb\\venv\\lib\\site-packages\\matplotlib\\backend_bases.py:652\u001B[0m, in \u001B[0;36mRendererBase.get_text_width_height_descent\u001B[1;34m(self, s, prop, ismath)\u001B[0m\n\u001B[0;32m    648\u001B[0m fontsize \u001B[38;5;241m=\u001B[39m prop\u001B[38;5;241m.\u001B[39mget_size_in_points()\n\u001B[0;32m    650\u001B[0m \u001B[38;5;28;01mif\u001B[39;00m ismath \u001B[38;5;241m==\u001B[39m \u001B[38;5;124m'\u001B[39m\u001B[38;5;124mTeX\u001B[39m\u001B[38;5;124m'\u001B[39m:\n\u001B[0;32m    651\u001B[0m     \u001B[38;5;66;03m# todo: handle properties\u001B[39;00m\n\u001B[1;32m--> 652\u001B[0m     \u001B[38;5;28;01mreturn\u001B[39;00m \u001B[38;5;28;43mself\u001B[39;49m\u001B[38;5;241;43m.\u001B[39;49m\u001B[43mget_texmanager\u001B[49m\u001B[43m(\u001B[49m\u001B[43m)\u001B[49m\u001B[38;5;241;43m.\u001B[39;49m\u001B[43mget_text_width_height_descent\u001B[49m\u001B[43m(\u001B[49m\n\u001B[0;32m    653\u001B[0m \u001B[43m        \u001B[49m\u001B[43ms\u001B[49m\u001B[43m,\u001B[49m\u001B[43m \u001B[49m\u001B[43mfontsize\u001B[49m\u001B[43m,\u001B[49m\u001B[43m \u001B[49m\u001B[43mrenderer\u001B[49m\u001B[38;5;241;43m=\u001B[39;49m\u001B[38;5;28;43mself\u001B[39;49m\u001B[43m)\u001B[49m\n\u001B[0;32m    655\u001B[0m dpi \u001B[38;5;241m=\u001B[39m \u001B[38;5;28mself\u001B[39m\u001B[38;5;241m.\u001B[39mpoints_to_pixels(\u001B[38;5;241m72\u001B[39m)\n\u001B[0;32m    656\u001B[0m \u001B[38;5;28;01mif\u001B[39;00m ismath:\n",
      "File \u001B[1;32mE:\\ipynb\\venv\\lib\\site-packages\\matplotlib\\texmanager.py:363\u001B[0m, in \u001B[0;36mTexManager.get_text_width_height_descent\u001B[1;34m(cls, tex, fontsize, renderer)\u001B[0m\n\u001B[0;32m    361\u001B[0m \u001B[38;5;28;01mif\u001B[39;00m tex\u001B[38;5;241m.\u001B[39mstrip() \u001B[38;5;241m==\u001B[39m \u001B[38;5;124m'\u001B[39m\u001B[38;5;124m'\u001B[39m:\n\u001B[0;32m    362\u001B[0m     \u001B[38;5;28;01mreturn\u001B[39;00m \u001B[38;5;241m0\u001B[39m, \u001B[38;5;241m0\u001B[39m, \u001B[38;5;241m0\u001B[39m\n\u001B[1;32m--> 363\u001B[0m dvifile \u001B[38;5;241m=\u001B[39m \u001B[38;5;28;43mcls\u001B[39;49m\u001B[38;5;241;43m.\u001B[39;49m\u001B[43mmake_dvi\u001B[49m\u001B[43m(\u001B[49m\u001B[43mtex\u001B[49m\u001B[43m,\u001B[49m\u001B[43m \u001B[49m\u001B[43mfontsize\u001B[49m\u001B[43m)\u001B[49m\n\u001B[0;32m    364\u001B[0m dpi_fraction \u001B[38;5;241m=\u001B[39m renderer\u001B[38;5;241m.\u001B[39mpoints_to_pixels(\u001B[38;5;241m1.\u001B[39m) \u001B[38;5;28;01mif\u001B[39;00m renderer \u001B[38;5;28;01melse\u001B[39;00m \u001B[38;5;241m1\u001B[39m\n\u001B[0;32m    365\u001B[0m \u001B[38;5;28;01mwith\u001B[39;00m dviread\u001B[38;5;241m.\u001B[39mDvi(dvifile, \u001B[38;5;241m72\u001B[39m \u001B[38;5;241m*\u001B[39m dpi_fraction) \u001B[38;5;28;01mas\u001B[39;00m dvi:\n",
      "File \u001B[1;32mE:\\ipynb\\venv\\lib\\site-packages\\matplotlib\\texmanager.py:295\u001B[0m, in \u001B[0;36mTexManager.make_dvi\u001B[1;34m(cls, tex, fontsize)\u001B[0m\n\u001B[0;32m    293\u001B[0m     \u001B[38;5;28;01mwith\u001B[39;00m TemporaryDirectory(\u001B[38;5;28mdir\u001B[39m\u001B[38;5;241m=\u001B[39mcwd) \u001B[38;5;28;01mas\u001B[39;00m tmpdir:\n\u001B[0;32m    294\u001B[0m         tmppath \u001B[38;5;241m=\u001B[39m Path(tmpdir)\n\u001B[1;32m--> 295\u001B[0m         \u001B[38;5;28;43mcls\u001B[39;49m\u001B[38;5;241;43m.\u001B[39;49m\u001B[43m_run_checked_subprocess\u001B[49m\u001B[43m(\u001B[49m\n\u001B[0;32m    296\u001B[0m \u001B[43m            \u001B[49m\u001B[43m[\u001B[49m\u001B[38;5;124;43m\"\u001B[39;49m\u001B[38;5;124;43mlatex\u001B[39;49m\u001B[38;5;124;43m\"\u001B[39;49m\u001B[43m,\u001B[49m\u001B[43m \u001B[49m\u001B[38;5;124;43m\"\u001B[39;49m\u001B[38;5;124;43m-interaction=nonstopmode\u001B[39;49m\u001B[38;5;124;43m\"\u001B[39;49m\u001B[43m,\u001B[49m\u001B[43m \u001B[49m\u001B[38;5;124;43m\"\u001B[39;49m\u001B[38;5;124;43m--halt-on-error\u001B[39;49m\u001B[38;5;124;43m\"\u001B[39;49m\u001B[43m,\u001B[49m\n\u001B[0;32m    297\u001B[0m \u001B[43m             \u001B[49m\u001B[38;5;124;43mf\u001B[39;49m\u001B[38;5;124;43m\"\u001B[39;49m\u001B[38;5;124;43m--output-directory=\u001B[39;49m\u001B[38;5;132;43;01m{\u001B[39;49;00m\u001B[43mtmppath\u001B[49m\u001B[38;5;241;43m.\u001B[39;49m\u001B[43mname\u001B[49m\u001B[38;5;132;43;01m}\u001B[39;49;00m\u001B[38;5;124;43m\"\u001B[39;49m\u001B[43m,\u001B[49m\n\u001B[0;32m    298\u001B[0m \u001B[43m             \u001B[49m\u001B[38;5;124;43mf\u001B[39;49m\u001B[38;5;124;43m\"\u001B[39;49m\u001B[38;5;132;43;01m{\u001B[39;49;00m\u001B[43mtexfile\u001B[49m\u001B[38;5;241;43m.\u001B[39;49m\u001B[43mname\u001B[49m\u001B[38;5;132;43;01m}\u001B[39;49;00m\u001B[38;5;124;43m\"\u001B[39;49m\u001B[43m]\u001B[49m\u001B[43m,\u001B[49m\u001B[43m \u001B[49m\u001B[43mtex\u001B[49m\u001B[43m,\u001B[49m\u001B[43m \u001B[49m\u001B[43mcwd\u001B[49m\u001B[38;5;241;43m=\u001B[39;49m\u001B[43mcwd\u001B[49m\u001B[43m)\u001B[49m\n\u001B[0;32m    299\u001B[0m         (tmppath \u001B[38;5;241m/\u001B[39m Path(dvifile)\u001B[38;5;241m.\u001B[39mname)\u001B[38;5;241m.\u001B[39mreplace(dvifile)\n\u001B[0;32m    300\u001B[0m \u001B[38;5;28;01mreturn\u001B[39;00m dvifile\n",
      "File \u001B[1;32mE:\\ipynb\\venv\\lib\\site-packages\\matplotlib\\texmanager.py:258\u001B[0m, in \u001B[0;36mTexManager._run_checked_subprocess\u001B[1;34m(cls, command, tex, cwd)\u001B[0m\n\u001B[0;32m    254\u001B[0m     \u001B[38;5;28;01mraise\u001B[39;00m \u001B[38;5;167;01mRuntimeError\u001B[39;00m(\n\u001B[0;32m    255\u001B[0m         \u001B[38;5;124mf\u001B[39m\u001B[38;5;124m'\u001B[39m\u001B[38;5;124mFailed to process string with tex because \u001B[39m\u001B[38;5;132;01m{\u001B[39;00mcommand[\u001B[38;5;241m0\u001B[39m]\u001B[38;5;132;01m}\u001B[39;00m\u001B[38;5;124m \u001B[39m\u001B[38;5;124m'\u001B[39m\n\u001B[0;32m    256\u001B[0m         \u001B[38;5;124m'\u001B[39m\u001B[38;5;124mcould not be found\u001B[39m\u001B[38;5;124m'\u001B[39m) \u001B[38;5;28;01mfrom\u001B[39;00m \u001B[38;5;21;01mexc\u001B[39;00m\n\u001B[0;32m    257\u001B[0m \u001B[38;5;28;01mexcept\u001B[39;00m subprocess\u001B[38;5;241m.\u001B[39mCalledProcessError \u001B[38;5;28;01mas\u001B[39;00m exc:\n\u001B[1;32m--> 258\u001B[0m     \u001B[38;5;28;01mraise\u001B[39;00m \u001B[38;5;167;01mRuntimeError\u001B[39;00m(\n\u001B[0;32m    259\u001B[0m         \u001B[38;5;124m'\u001B[39m\u001B[38;5;132;01m{prog}\u001B[39;00m\u001B[38;5;124m was not able to process the following string:\u001B[39m\u001B[38;5;130;01m\\n\u001B[39;00m\u001B[38;5;124m'\u001B[39m\n\u001B[0;32m    260\u001B[0m         \u001B[38;5;124m'\u001B[39m\u001B[38;5;132;01m{tex!r}\u001B[39;00m\u001B[38;5;130;01m\\n\u001B[39;00m\u001B[38;5;130;01m\\n\u001B[39;00m\u001B[38;5;124m'\u001B[39m\n\u001B[0;32m    261\u001B[0m         \u001B[38;5;124m'\u001B[39m\u001B[38;5;124mHere is the full command invocation and its output:\u001B[39m\u001B[38;5;130;01m\\n\u001B[39;00m\u001B[38;5;130;01m\\n\u001B[39;00m\u001B[38;5;124m'\u001B[39m\n\u001B[0;32m    262\u001B[0m         \u001B[38;5;124m'\u001B[39m\u001B[38;5;132;01m{format_command}\u001B[39;00m\u001B[38;5;130;01m\\n\u001B[39;00m\u001B[38;5;130;01m\\n\u001B[39;00m\u001B[38;5;124m'\u001B[39m\n\u001B[0;32m    263\u001B[0m         \u001B[38;5;124m'\u001B[39m\u001B[38;5;132;01m{exc}\u001B[39;00m\u001B[38;5;130;01m\\n\u001B[39;00m\u001B[38;5;130;01m\\n\u001B[39;00m\u001B[38;5;124m'\u001B[39m\u001B[38;5;241m.\u001B[39mformat(\n\u001B[0;32m    264\u001B[0m             prog\u001B[38;5;241m=\u001B[39mcommand[\u001B[38;5;241m0\u001B[39m],\n\u001B[0;32m    265\u001B[0m             format_command\u001B[38;5;241m=\u001B[39mcbook\u001B[38;5;241m.\u001B[39m_pformat_subprocess(command),\n\u001B[0;32m    266\u001B[0m             tex\u001B[38;5;241m=\u001B[39mtex\u001B[38;5;241m.\u001B[39mencode(\u001B[38;5;124m'\u001B[39m\u001B[38;5;124municode_escape\u001B[39m\u001B[38;5;124m'\u001B[39m),\n\u001B[0;32m    267\u001B[0m             exc\u001B[38;5;241m=\u001B[39mexc\u001B[38;5;241m.\u001B[39moutput\u001B[38;5;241m.\u001B[39mdecode(\u001B[38;5;124m'\u001B[39m\u001B[38;5;124mutf-8\u001B[39m\u001B[38;5;124m'\u001B[39m, \u001B[38;5;124m'\u001B[39m\u001B[38;5;124mbackslashreplace\u001B[39m\u001B[38;5;124m'\u001B[39m))\n\u001B[0;32m    268\u001B[0m         ) \u001B[38;5;28;01mfrom\u001B[39;00m \u001B[38;5;28;01mNone\u001B[39;00m\n\u001B[0;32m    269\u001B[0m _log\u001B[38;5;241m.\u001B[39mdebug(report)\n\u001B[0;32m    270\u001B[0m \u001B[38;5;28;01mreturn\u001B[39;00m report\n",
      "\u001B[1;31mRuntimeError\u001B[0m: latex was not able to process the following string:\nb'$\\\\\\\\begin{bmatrix}8 & 4 & 8 \\\\\\\\\\\\\\\\ 9 & 1 & 3 \\\\\\\\\\\\\\\\ 4 & 1 & 2\\\\\\\\end{bmatrix} + \\\\\\\\begin{bmatrix}6 & 8 & 7 \\\\\\\\\\\\\\\\ 1 & 1 & 7 \\\\\\\\\\\\\\\\ 9 & 4 & 4\\\\\\\\end{bmatrix} = \\\\\\\\begin{bmatrix}14 & 12 & 15 \\\\\\\\\\\\\\\\ 10 & 2 & 10 \\\\\\\\\\\\\\\\ 13 & 5 & 6\\\\\\\\end{bmatrix}$'\n\nHere is the full command invocation and its output:\n\nlatex -interaction=nonstopmode --halt-on-error --output-directory=tmponk2yr6h 07c9b191fe746fb2ec23e2df520508d2.tex\n\nThis is pdfTeX, Version 3.141592653-2.6-1.40.24 (MiKTeX 22.10) (preloaded format=latex.fmt)\r\n restricted \\write18 enabled.\r\nentering extended mode\r\n(07c9b191fe746fb2ec23e2df520508d2.tex\r\nLaTeX2e <2022-06-01> patch level 5\r\nL3 programming layer <2022-09-28> (E:\\miktex\\tex/latex/base\\article.cls\r\nDocument Class: article 2021/10/04 v1.4n Standard LaTeX document class\r\n(E:\\miktex\\tex/latex/base\\size10.clo)) (E:\\miktex\\tex/latex/type1cm\\type1cm.sty\r\n) (E:\\miktex\\tex/latex/cm-super\\type1ec.sty (E:\\miktex\\tex/latex/base\\t1cmr.fd)\r\n) (E:\\miktex\\tex/latex/base\\inputenc.sty)\r\n(E:\\miktex\\tex/latex/geometry\\geometry.sty\r\n(E:\\miktex\\tex/latex/graphics\\keyval.sty)\r\n(E:\\miktex\\tex/generic/iftex\\ifvtex.sty (E:\\miktex\\tex/generic/iftex\\iftex.sty)\r\n) (E:\\miktex\\tex/latex/geometry\\geometry.cfg))\r\n(E:\\miktex\\tex/latex/underscore\\underscore.sty)\r\n(E:\\miktex\\tex/latex/base\\textcomp.sty)\r\n(E:\\miktex\\tex/latex/l3backend\\l3backend-dvips.def)\r\nNo file 07c9b191fe746fb2ec23e2df520508d2.aux.\r\n*geometry* driver: auto-detecting\r\n*geometry* detected driver: dvips\r\n\r\n! LaTeX Error: Environment bmatrix undefined.\r\n\r\nSee the LaTeX manual or LaTeX Companion for explanation.\r\nType  H <return>  for immediate help.\r\n ...                                              \r\n                                                  \r\nl.29 {\\rmfamily $\\begin{bmatrix}\r\n                                8 & 4 & 8 \\\\ 9 & 1 & 3 \\\\ 4 & 1 & 2\\end{bmat...\r\nNo pages of output.\r\nTranscript written on C:\\Users\\rainbow_yu\\.matplotlib\\tex.cache\\07\\c9\\tmponk2yr\r\n6h\\07c9b191fe746fb2ec23e2df520508d2.log.\r\n\n\n"
     ]
    },
    {
     "ename": "RuntimeError",
     "evalue": "latex was not able to process the following string:\nb'$\\\\\\\\begin{bmatrix}8 & 4 & 8 \\\\\\\\\\\\\\\\ 9 & 1 & 3 \\\\\\\\\\\\\\\\ 4 & 1 & 2\\\\\\\\end{bmatrix} + \\\\\\\\begin{bmatrix}6 & 8 & 7 \\\\\\\\\\\\\\\\ 1 & 1 & 7 \\\\\\\\\\\\\\\\ 9 & 4 & 4\\\\\\\\end{bmatrix} = \\\\\\\\begin{bmatrix}14 & 12 & 15 \\\\\\\\\\\\\\\\ 10 & 2 & 10 \\\\\\\\\\\\\\\\ 13 & 5 & 6\\\\\\\\end{bmatrix}$'\n\nHere is the full command invocation and its output:\n\nlatex -interaction=nonstopmode --halt-on-error --output-directory=tmpfb1a0hnm 07c9b191fe746fb2ec23e2df520508d2.tex\n\nThis is pdfTeX, Version 3.141592653-2.6-1.40.24 (MiKTeX 22.10) (preloaded format=latex.fmt)\r\n restricted \\write18 enabled.\r\nentering extended mode\r\n(07c9b191fe746fb2ec23e2df520508d2.tex\r\nLaTeX2e <2022-06-01> patch level 5\r\nL3 programming layer <2022-09-28> (E:\\miktex\\tex/latex/base\\article.cls\r\nDocument Class: article 2021/10/04 v1.4n Standard LaTeX document class\r\n(E:\\miktex\\tex/latex/base\\size10.clo)) (E:\\miktex\\tex/latex/type1cm\\type1cm.sty\r\n) (E:\\miktex\\tex/latex/cm-super\\type1ec.sty (E:\\miktex\\tex/latex/base\\t1cmr.fd)\r\n) (E:\\miktex\\tex/latex/base\\inputenc.sty)\r\n(E:\\miktex\\tex/latex/geometry\\geometry.sty\r\n(E:\\miktex\\tex/latex/graphics\\keyval.sty)\r\n(E:\\miktex\\tex/generic/iftex\\ifvtex.sty (E:\\miktex\\tex/generic/iftex\\iftex.sty)\r\n) (E:\\miktex\\tex/latex/geometry\\geometry.cfg))\r\n(E:\\miktex\\tex/latex/underscore\\underscore.sty)\r\n(E:\\miktex\\tex/latex/base\\textcomp.sty)\r\n(E:\\miktex\\tex/latex/l3backend\\l3backend-dvips.def)\r\nNo file 07c9b191fe746fb2ec23e2df520508d2.aux.\r\n*geometry* driver: auto-detecting\r\n*geometry* detected driver: dvips\r\n\r\n! LaTeX Error: Environment bmatrix undefined.\r\n\r\nSee the LaTeX manual or LaTeX Companion for explanation.\r\nType  H <return>  for immediate help.\r\n ...                                              \r\n                                                  \r\nl.29 {\\rmfamily $\\begin{bmatrix}\r\n                                8 & 4 & 8 \\\\ 9 & 1 & 3 \\\\ 4 & 1 & 2\\end{bmat...\r\nNo pages of output.\r\nTranscript written on C:\\Users\\rainbow_yu\\.matplotlib\\tex.cache\\07\\c9\\tmpfb1a0h\r\nnm\\07c9b191fe746fb2ec23e2df520508d2.log.\r\n\n\n",
     "output_type": "error",
     "traceback": [
      "\u001B[1;31m---------------------------------------------------------------------------\u001B[0m",
      "\u001B[1;31mRuntimeError\u001B[0m                              Traceback (most recent call last)",
      "File \u001B[1;32mE:\\ipynb\\venv\\lib\\site-packages\\IPython\\core\\formatters.py:343\u001B[0m, in \u001B[0;36mBaseFormatter.__call__\u001B[1;34m(self, obj)\u001B[0m\n\u001B[0;32m    341\u001B[0m     \u001B[38;5;28;01mpass\u001B[39;00m\n\u001B[0;32m    342\u001B[0m \u001B[38;5;28;01melse\u001B[39;00m:\n\u001B[1;32m--> 343\u001B[0m     \u001B[38;5;28;01mreturn\u001B[39;00m \u001B[43mprinter\u001B[49m\u001B[43m(\u001B[49m\u001B[43mobj\u001B[49m\u001B[43m)\u001B[49m\n\u001B[0;32m    344\u001B[0m \u001B[38;5;66;03m# Finally look for special method names\u001B[39;00m\n\u001B[0;32m    345\u001B[0m method \u001B[38;5;241m=\u001B[39m get_real_method(obj, \u001B[38;5;28mself\u001B[39m\u001B[38;5;241m.\u001B[39mprint_method)\n",
      "File \u001B[1;32mE:\\ipynb\\venv\\lib\\site-packages\\IPython\\core\\pylabtools.py:170\u001B[0m, in \u001B[0;36mprint_figure\u001B[1;34m(fig, fmt, bbox_inches, base64, **kwargs)\u001B[0m\n\u001B[0;32m    167\u001B[0m     \u001B[38;5;28;01mfrom\u001B[39;00m \u001B[38;5;21;01mmatplotlib\u001B[39;00m\u001B[38;5;21;01m.\u001B[39;00m\u001B[38;5;21;01mbackend_bases\u001B[39;00m \u001B[38;5;28;01mimport\u001B[39;00m FigureCanvasBase\n\u001B[0;32m    168\u001B[0m     FigureCanvasBase(fig)\n\u001B[1;32m--> 170\u001B[0m fig\u001B[38;5;241m.\u001B[39mcanvas\u001B[38;5;241m.\u001B[39mprint_figure(bytes_io, \u001B[38;5;241m*\u001B[39m\u001B[38;5;241m*\u001B[39mkw)\n\u001B[0;32m    171\u001B[0m data \u001B[38;5;241m=\u001B[39m bytes_io\u001B[38;5;241m.\u001B[39mgetvalue()\n\u001B[0;32m    172\u001B[0m \u001B[38;5;28;01mif\u001B[39;00m fmt \u001B[38;5;241m==\u001B[39m \u001B[38;5;124m'\u001B[39m\u001B[38;5;124msvg\u001B[39m\u001B[38;5;124m'\u001B[39m:\n",
      "File \u001B[1;32mE:\\ipynb\\venv\\lib\\site-packages\\matplotlib\\backend_bases.py:2158\u001B[0m, in \u001B[0;36mFigureCanvasBase.print_figure\u001B[1;34m(self, filename, dpi, facecolor, edgecolor, orientation, format, bbox_inches, pad_inches, bbox_extra_artists, backend, **kwargs)\u001B[0m\n\u001B[0;32m   2155\u001B[0m     \u001B[38;5;66;03m# we do this instead of `self.figure.draw_without_rendering`\u001B[39;00m\n\u001B[0;32m   2156\u001B[0m     \u001B[38;5;66;03m# so that we can inject the orientation\u001B[39;00m\n\u001B[0;32m   2157\u001B[0m     \u001B[38;5;28;01mwith\u001B[39;00m \u001B[38;5;28mgetattr\u001B[39m(renderer, \u001B[38;5;124m\"\u001B[39m\u001B[38;5;124m_draw_disabled\u001B[39m\u001B[38;5;124m\"\u001B[39m, nullcontext)():\n\u001B[1;32m-> 2158\u001B[0m         \u001B[38;5;28;43mself\u001B[39;49m\u001B[38;5;241;43m.\u001B[39;49m\u001B[43mfigure\u001B[49m\u001B[38;5;241;43m.\u001B[39;49m\u001B[43mdraw\u001B[49m\u001B[43m(\u001B[49m\u001B[43mrenderer\u001B[49m\u001B[43m)\u001B[49m\n\u001B[0;32m   2159\u001B[0m \u001B[38;5;28;01mif\u001B[39;00m bbox_inches:\n\u001B[0;32m   2160\u001B[0m     \u001B[38;5;28;01mif\u001B[39;00m bbox_inches \u001B[38;5;241m==\u001B[39m \u001B[38;5;124m\"\u001B[39m\u001B[38;5;124mtight\u001B[39m\u001B[38;5;124m\"\u001B[39m:\n",
      "File \u001B[1;32mE:\\ipynb\\venv\\lib\\site-packages\\matplotlib\\artist.py:95\u001B[0m, in \u001B[0;36m_finalize_rasterization.<locals>.draw_wrapper\u001B[1;34m(artist, renderer, *args, **kwargs)\u001B[0m\n\u001B[0;32m     93\u001B[0m \u001B[38;5;129m@wraps\u001B[39m(draw)\n\u001B[0;32m     94\u001B[0m \u001B[38;5;28;01mdef\u001B[39;00m \u001B[38;5;21mdraw_wrapper\u001B[39m(artist, renderer, \u001B[38;5;241m*\u001B[39margs, \u001B[38;5;241m*\u001B[39m\u001B[38;5;241m*\u001B[39mkwargs):\n\u001B[1;32m---> 95\u001B[0m     result \u001B[38;5;241m=\u001B[39m draw(artist, renderer, \u001B[38;5;241m*\u001B[39margs, \u001B[38;5;241m*\u001B[39m\u001B[38;5;241m*\u001B[39mkwargs)\n\u001B[0;32m     96\u001B[0m     \u001B[38;5;28;01mif\u001B[39;00m renderer\u001B[38;5;241m.\u001B[39m_rasterizing:\n\u001B[0;32m     97\u001B[0m         renderer\u001B[38;5;241m.\u001B[39mstop_rasterizing()\n",
      "File \u001B[1;32mE:\\ipynb\\venv\\lib\\site-packages\\matplotlib\\artist.py:72\u001B[0m, in \u001B[0;36mallow_rasterization.<locals>.draw_wrapper\u001B[1;34m(artist, renderer)\u001B[0m\n\u001B[0;32m     69\u001B[0m     \u001B[38;5;28;01mif\u001B[39;00m artist\u001B[38;5;241m.\u001B[39mget_agg_filter() \u001B[38;5;129;01mis\u001B[39;00m \u001B[38;5;129;01mnot\u001B[39;00m \u001B[38;5;28;01mNone\u001B[39;00m:\n\u001B[0;32m     70\u001B[0m         renderer\u001B[38;5;241m.\u001B[39mstart_filter()\n\u001B[1;32m---> 72\u001B[0m     \u001B[38;5;28;01mreturn\u001B[39;00m \u001B[43mdraw\u001B[49m\u001B[43m(\u001B[49m\u001B[43martist\u001B[49m\u001B[43m,\u001B[49m\u001B[43m \u001B[49m\u001B[43mrenderer\u001B[49m\u001B[43m)\u001B[49m\n\u001B[0;32m     73\u001B[0m \u001B[38;5;28;01mfinally\u001B[39;00m:\n\u001B[0;32m     74\u001B[0m     \u001B[38;5;28;01mif\u001B[39;00m artist\u001B[38;5;241m.\u001B[39mget_agg_filter() \u001B[38;5;129;01mis\u001B[39;00m \u001B[38;5;129;01mnot\u001B[39;00m \u001B[38;5;28;01mNone\u001B[39;00m:\n",
      "File \u001B[1;32mE:\\ipynb\\venv\\lib\\site-packages\\matplotlib\\figure.py:3154\u001B[0m, in \u001B[0;36mFigure.draw\u001B[1;34m(self, renderer)\u001B[0m\n\u001B[0;32m   3151\u001B[0m         \u001B[38;5;66;03m# ValueError can occur when resizing a window.\u001B[39;00m\n\u001B[0;32m   3153\u001B[0m \u001B[38;5;28mself\u001B[39m\u001B[38;5;241m.\u001B[39mpatch\u001B[38;5;241m.\u001B[39mdraw(renderer)\n\u001B[1;32m-> 3154\u001B[0m \u001B[43mmimage\u001B[49m\u001B[38;5;241;43m.\u001B[39;49m\u001B[43m_draw_list_compositing_images\u001B[49m\u001B[43m(\u001B[49m\n\u001B[0;32m   3155\u001B[0m \u001B[43m    \u001B[49m\u001B[43mrenderer\u001B[49m\u001B[43m,\u001B[49m\u001B[43m \u001B[49m\u001B[38;5;28;43mself\u001B[39;49m\u001B[43m,\u001B[49m\u001B[43m \u001B[49m\u001B[43martists\u001B[49m\u001B[43m,\u001B[49m\u001B[43m \u001B[49m\u001B[38;5;28;43mself\u001B[39;49m\u001B[38;5;241;43m.\u001B[39;49m\u001B[43msuppressComposite\u001B[49m\u001B[43m)\u001B[49m\n\u001B[0;32m   3157\u001B[0m \u001B[38;5;28;01mfor\u001B[39;00m sfig \u001B[38;5;129;01min\u001B[39;00m \u001B[38;5;28mself\u001B[39m\u001B[38;5;241m.\u001B[39msubfigs:\n\u001B[0;32m   3158\u001B[0m     sfig\u001B[38;5;241m.\u001B[39mdraw(renderer)\n",
      "File \u001B[1;32mE:\\ipynb\\venv\\lib\\site-packages\\matplotlib\\image.py:132\u001B[0m, in \u001B[0;36m_draw_list_compositing_images\u001B[1;34m(renderer, parent, artists, suppress_composite)\u001B[0m\n\u001B[0;32m    130\u001B[0m \u001B[38;5;28;01mif\u001B[39;00m not_composite \u001B[38;5;129;01mor\u001B[39;00m \u001B[38;5;129;01mnot\u001B[39;00m has_images:\n\u001B[0;32m    131\u001B[0m     \u001B[38;5;28;01mfor\u001B[39;00m a \u001B[38;5;129;01min\u001B[39;00m artists:\n\u001B[1;32m--> 132\u001B[0m         \u001B[43ma\u001B[49m\u001B[38;5;241;43m.\u001B[39;49m\u001B[43mdraw\u001B[49m\u001B[43m(\u001B[49m\u001B[43mrenderer\u001B[49m\u001B[43m)\u001B[49m\n\u001B[0;32m    133\u001B[0m \u001B[38;5;28;01melse\u001B[39;00m:\n\u001B[0;32m    134\u001B[0m     \u001B[38;5;66;03m# Composite any adjacent images together\u001B[39;00m\n\u001B[0;32m    135\u001B[0m     image_group \u001B[38;5;241m=\u001B[39m []\n",
      "File \u001B[1;32mE:\\ipynb\\venv\\lib\\site-packages\\matplotlib\\artist.py:72\u001B[0m, in \u001B[0;36mallow_rasterization.<locals>.draw_wrapper\u001B[1;34m(artist, renderer)\u001B[0m\n\u001B[0;32m     69\u001B[0m     \u001B[38;5;28;01mif\u001B[39;00m artist\u001B[38;5;241m.\u001B[39mget_agg_filter() \u001B[38;5;129;01mis\u001B[39;00m \u001B[38;5;129;01mnot\u001B[39;00m \u001B[38;5;28;01mNone\u001B[39;00m:\n\u001B[0;32m     70\u001B[0m         renderer\u001B[38;5;241m.\u001B[39mstart_filter()\n\u001B[1;32m---> 72\u001B[0m     \u001B[38;5;28;01mreturn\u001B[39;00m \u001B[43mdraw\u001B[49m\u001B[43m(\u001B[49m\u001B[43martist\u001B[49m\u001B[43m,\u001B[49m\u001B[43m \u001B[49m\u001B[43mrenderer\u001B[49m\u001B[43m)\u001B[49m\n\u001B[0;32m     73\u001B[0m \u001B[38;5;28;01mfinally\u001B[39;00m:\n\u001B[0;32m     74\u001B[0m     \u001B[38;5;28;01mif\u001B[39;00m artist\u001B[38;5;241m.\u001B[39mget_agg_filter() \u001B[38;5;129;01mis\u001B[39;00m \u001B[38;5;129;01mnot\u001B[39;00m \u001B[38;5;28;01mNone\u001B[39;00m:\n",
      "File \u001B[1;32mE:\\ipynb\\venv\\lib\\site-packages\\matplotlib\\axes\\_base.py:3070\u001B[0m, in \u001B[0;36m_AxesBase.draw\u001B[1;34m(self, renderer)\u001B[0m\n\u001B[0;32m   3067\u001B[0m \u001B[38;5;28;01mif\u001B[39;00m artists_rasterized:\n\u001B[0;32m   3068\u001B[0m     _draw_rasterized(\u001B[38;5;28mself\u001B[39m\u001B[38;5;241m.\u001B[39mfigure, artists_rasterized, renderer)\n\u001B[1;32m-> 3070\u001B[0m \u001B[43mmimage\u001B[49m\u001B[38;5;241;43m.\u001B[39;49m\u001B[43m_draw_list_compositing_images\u001B[49m\u001B[43m(\u001B[49m\n\u001B[0;32m   3071\u001B[0m \u001B[43m    \u001B[49m\u001B[43mrenderer\u001B[49m\u001B[43m,\u001B[49m\u001B[43m \u001B[49m\u001B[38;5;28;43mself\u001B[39;49m\u001B[43m,\u001B[49m\u001B[43m \u001B[49m\u001B[43martists\u001B[49m\u001B[43m,\u001B[49m\u001B[43m \u001B[49m\u001B[38;5;28;43mself\u001B[39;49m\u001B[38;5;241;43m.\u001B[39;49m\u001B[43mfigure\u001B[49m\u001B[38;5;241;43m.\u001B[39;49m\u001B[43msuppressComposite\u001B[49m\u001B[43m)\u001B[49m\n\u001B[0;32m   3073\u001B[0m renderer\u001B[38;5;241m.\u001B[39mclose_group(\u001B[38;5;124m'\u001B[39m\u001B[38;5;124maxes\u001B[39m\u001B[38;5;124m'\u001B[39m)\n\u001B[0;32m   3074\u001B[0m \u001B[38;5;28mself\u001B[39m\u001B[38;5;241m.\u001B[39mstale \u001B[38;5;241m=\u001B[39m \u001B[38;5;28;01mFalse\u001B[39;00m\n",
      "File \u001B[1;32mE:\\ipynb\\venv\\lib\\site-packages\\matplotlib\\image.py:132\u001B[0m, in \u001B[0;36m_draw_list_compositing_images\u001B[1;34m(renderer, parent, artists, suppress_composite)\u001B[0m\n\u001B[0;32m    130\u001B[0m \u001B[38;5;28;01mif\u001B[39;00m not_composite \u001B[38;5;129;01mor\u001B[39;00m \u001B[38;5;129;01mnot\u001B[39;00m has_images:\n\u001B[0;32m    131\u001B[0m     \u001B[38;5;28;01mfor\u001B[39;00m a \u001B[38;5;129;01min\u001B[39;00m artists:\n\u001B[1;32m--> 132\u001B[0m         \u001B[43ma\u001B[49m\u001B[38;5;241;43m.\u001B[39;49m\u001B[43mdraw\u001B[49m\u001B[43m(\u001B[49m\u001B[43mrenderer\u001B[49m\u001B[43m)\u001B[49m\n\u001B[0;32m    133\u001B[0m \u001B[38;5;28;01melse\u001B[39;00m:\n\u001B[0;32m    134\u001B[0m     \u001B[38;5;66;03m# Composite any adjacent images together\u001B[39;00m\n\u001B[0;32m    135\u001B[0m     image_group \u001B[38;5;241m=\u001B[39m []\n",
      "File \u001B[1;32mE:\\ipynb\\venv\\lib\\site-packages\\matplotlib\\artist.py:72\u001B[0m, in \u001B[0;36mallow_rasterization.<locals>.draw_wrapper\u001B[1;34m(artist, renderer)\u001B[0m\n\u001B[0;32m     69\u001B[0m     \u001B[38;5;28;01mif\u001B[39;00m artist\u001B[38;5;241m.\u001B[39mget_agg_filter() \u001B[38;5;129;01mis\u001B[39;00m \u001B[38;5;129;01mnot\u001B[39;00m \u001B[38;5;28;01mNone\u001B[39;00m:\n\u001B[0;32m     70\u001B[0m         renderer\u001B[38;5;241m.\u001B[39mstart_filter()\n\u001B[1;32m---> 72\u001B[0m     \u001B[38;5;28;01mreturn\u001B[39;00m \u001B[43mdraw\u001B[49m\u001B[43m(\u001B[49m\u001B[43martist\u001B[49m\u001B[43m,\u001B[49m\u001B[43m \u001B[49m\u001B[43mrenderer\u001B[49m\u001B[43m)\u001B[49m\n\u001B[0;32m     73\u001B[0m \u001B[38;5;28;01mfinally\u001B[39;00m:\n\u001B[0;32m     74\u001B[0m     \u001B[38;5;28;01mif\u001B[39;00m artist\u001B[38;5;241m.\u001B[39mget_agg_filter() \u001B[38;5;129;01mis\u001B[39;00m \u001B[38;5;129;01mnot\u001B[39;00m \u001B[38;5;28;01mNone\u001B[39;00m:\n",
      "File \u001B[1;32mE:\\ipynb\\venv\\lib\\site-packages\\matplotlib\\text.py:748\u001B[0m, in \u001B[0;36mText.draw\u001B[1;34m(self, renderer)\u001B[0m\n\u001B[0;32m    745\u001B[0m renderer\u001B[38;5;241m.\u001B[39mopen_group(\u001B[38;5;124m'\u001B[39m\u001B[38;5;124mtext\u001B[39m\u001B[38;5;124m'\u001B[39m, \u001B[38;5;28mself\u001B[39m\u001B[38;5;241m.\u001B[39mget_gid())\n\u001B[0;32m    747\u001B[0m \u001B[38;5;28;01mwith\u001B[39;00m \u001B[38;5;28mself\u001B[39m\u001B[38;5;241m.\u001B[39m_cm_set(text\u001B[38;5;241m=\u001B[39m\u001B[38;5;28mself\u001B[39m\u001B[38;5;241m.\u001B[39m_get_wrapped_text()):\n\u001B[1;32m--> 748\u001B[0m     bbox, info, descent \u001B[38;5;241m=\u001B[39m \u001B[38;5;28;43mself\u001B[39;49m\u001B[38;5;241;43m.\u001B[39;49m\u001B[43m_get_layout\u001B[49m\u001B[43m(\u001B[49m\u001B[43mrenderer\u001B[49m\u001B[43m)\u001B[49m\n\u001B[0;32m    749\u001B[0m     trans \u001B[38;5;241m=\u001B[39m \u001B[38;5;28mself\u001B[39m\u001B[38;5;241m.\u001B[39mget_transform()\n\u001B[0;32m    751\u001B[0m     \u001B[38;5;66;03m# don't use self.get_position here, which refers to text\u001B[39;00m\n\u001B[0;32m    752\u001B[0m     \u001B[38;5;66;03m# position in Text:\u001B[39;00m\n",
      "File \u001B[1;32mE:\\ipynb\\venv\\lib\\site-packages\\matplotlib\\text.py:381\u001B[0m, in \u001B[0;36mText._get_layout\u001B[1;34m(self, renderer)\u001B[0m\n\u001B[0;32m    379\u001B[0m clean_line, ismath \u001B[38;5;241m=\u001B[39m \u001B[38;5;28mself\u001B[39m\u001B[38;5;241m.\u001B[39m_preprocess_math(line)\n\u001B[0;32m    380\u001B[0m \u001B[38;5;28;01mif\u001B[39;00m clean_line:\n\u001B[1;32m--> 381\u001B[0m     w, h, d \u001B[38;5;241m=\u001B[39m \u001B[43m_get_text_metrics_with_cache\u001B[49m\u001B[43m(\u001B[49m\n\u001B[0;32m    382\u001B[0m \u001B[43m        \u001B[49m\u001B[43mrenderer\u001B[49m\u001B[43m,\u001B[49m\u001B[43m \u001B[49m\u001B[43mclean_line\u001B[49m\u001B[43m,\u001B[49m\u001B[43m \u001B[49m\u001B[38;5;28;43mself\u001B[39;49m\u001B[38;5;241;43m.\u001B[39;49m\u001B[43m_fontproperties\u001B[49m\u001B[43m,\u001B[49m\n\u001B[0;32m    383\u001B[0m \u001B[43m        \u001B[49m\u001B[43mismath\u001B[49m\u001B[38;5;241;43m=\u001B[39;49m\u001B[43mismath\u001B[49m\u001B[43m,\u001B[49m\u001B[43m \u001B[49m\u001B[43mdpi\u001B[49m\u001B[38;5;241;43m=\u001B[39;49m\u001B[38;5;28;43mself\u001B[39;49m\u001B[38;5;241;43m.\u001B[39;49m\u001B[43mfigure\u001B[49m\u001B[38;5;241;43m.\u001B[39;49m\u001B[43mdpi\u001B[49m\u001B[43m)\u001B[49m\n\u001B[0;32m    384\u001B[0m \u001B[38;5;28;01melse\u001B[39;00m:\n\u001B[0;32m    385\u001B[0m     w \u001B[38;5;241m=\u001B[39m h \u001B[38;5;241m=\u001B[39m d \u001B[38;5;241m=\u001B[39m \u001B[38;5;241m0\u001B[39m\n",
      "File \u001B[1;32mE:\\ipynb\\venv\\lib\\site-packages\\matplotlib\\text.py:69\u001B[0m, in \u001B[0;36m_get_text_metrics_with_cache\u001B[1;34m(renderer, text, fontprop, ismath, dpi)\u001B[0m\n\u001B[0;32m     66\u001B[0m \u001B[38;5;250m\u001B[39m\u001B[38;5;124;03m\"\"\"Call ``renderer.get_text_width_height_descent``, caching the results.\"\"\"\u001B[39;00m\n\u001B[0;32m     67\u001B[0m \u001B[38;5;66;03m# Cached based on a copy of fontprop so that later in-place mutations of\u001B[39;00m\n\u001B[0;32m     68\u001B[0m \u001B[38;5;66;03m# the passed-in argument do not mess up the cache.\u001B[39;00m\n\u001B[1;32m---> 69\u001B[0m \u001B[38;5;28;01mreturn\u001B[39;00m \u001B[43m_get_text_metrics_with_cache_impl\u001B[49m\u001B[43m(\u001B[49m\n\u001B[0;32m     70\u001B[0m \u001B[43m    \u001B[49m\u001B[43mweakref\u001B[49m\u001B[38;5;241;43m.\u001B[39;49m\u001B[43mref\u001B[49m\u001B[43m(\u001B[49m\u001B[43mrenderer\u001B[49m\u001B[43m)\u001B[49m\u001B[43m,\u001B[49m\u001B[43m \u001B[49m\u001B[43mtext\u001B[49m\u001B[43m,\u001B[49m\u001B[43m \u001B[49m\u001B[43mfontprop\u001B[49m\u001B[38;5;241;43m.\u001B[39;49m\u001B[43mcopy\u001B[49m\u001B[43m(\u001B[49m\u001B[43m)\u001B[49m\u001B[43m,\u001B[49m\u001B[43m \u001B[49m\u001B[43mismath\u001B[49m\u001B[43m,\u001B[49m\u001B[43m \u001B[49m\u001B[43mdpi\u001B[49m\u001B[43m)\u001B[49m\n",
      "File \u001B[1;32mE:\\ipynb\\venv\\lib\\site-packages\\matplotlib\\text.py:77\u001B[0m, in \u001B[0;36m_get_text_metrics_with_cache_impl\u001B[1;34m(renderer_ref, text, fontprop, ismath, dpi)\u001B[0m\n\u001B[0;32m     73\u001B[0m \u001B[38;5;129m@functools\u001B[39m\u001B[38;5;241m.\u001B[39mlru_cache(\u001B[38;5;241m4096\u001B[39m)\n\u001B[0;32m     74\u001B[0m \u001B[38;5;28;01mdef\u001B[39;00m \u001B[38;5;21m_get_text_metrics_with_cache_impl\u001B[39m(\n\u001B[0;32m     75\u001B[0m         renderer_ref, text, fontprop, ismath, dpi):\n\u001B[0;32m     76\u001B[0m     \u001B[38;5;66;03m# dpi is unused, but participates in cache invalidation (via the renderer).\u001B[39;00m\n\u001B[1;32m---> 77\u001B[0m     \u001B[38;5;28;01mreturn\u001B[39;00m \u001B[43mrenderer_ref\u001B[49m\u001B[43m(\u001B[49m\u001B[43m)\u001B[49m\u001B[38;5;241;43m.\u001B[39;49m\u001B[43mget_text_width_height_descent\u001B[49m\u001B[43m(\u001B[49m\u001B[43mtext\u001B[49m\u001B[43m,\u001B[49m\u001B[43m \u001B[49m\u001B[43mfontprop\u001B[49m\u001B[43m,\u001B[49m\u001B[43m \u001B[49m\u001B[43mismath\u001B[49m\u001B[43m)\u001B[49m\n",
      "File \u001B[1;32mE:\\ipynb\\venv\\lib\\site-packages\\matplotlib\\backends\\backend_agg.py:213\u001B[0m, in \u001B[0;36mRendererAgg.get_text_width_height_descent\u001B[1;34m(self, s, prop, ismath)\u001B[0m\n\u001B[0;32m    211\u001B[0m _api\u001B[38;5;241m.\u001B[39mcheck_in_list([\u001B[38;5;124m\"\u001B[39m\u001B[38;5;124mTeX\u001B[39m\u001B[38;5;124m\"\u001B[39m, \u001B[38;5;28;01mTrue\u001B[39;00m, \u001B[38;5;28;01mFalse\u001B[39;00m], ismath\u001B[38;5;241m=\u001B[39mismath)\n\u001B[0;32m    212\u001B[0m \u001B[38;5;28;01mif\u001B[39;00m ismath \u001B[38;5;241m==\u001B[39m \u001B[38;5;124m\"\u001B[39m\u001B[38;5;124mTeX\u001B[39m\u001B[38;5;124m\"\u001B[39m:\n\u001B[1;32m--> 213\u001B[0m     \u001B[38;5;28;01mreturn\u001B[39;00m \u001B[38;5;28;43msuper\u001B[39;49m\u001B[43m(\u001B[49m\u001B[43m)\u001B[49m\u001B[38;5;241;43m.\u001B[39;49m\u001B[43mget_text_width_height_descent\u001B[49m\u001B[43m(\u001B[49m\u001B[43ms\u001B[49m\u001B[43m,\u001B[49m\u001B[43m \u001B[49m\u001B[43mprop\u001B[49m\u001B[43m,\u001B[49m\u001B[43m \u001B[49m\u001B[43mismath\u001B[49m\u001B[43m)\u001B[49m\n\u001B[0;32m    215\u001B[0m \u001B[38;5;28;01mif\u001B[39;00m ismath:\n\u001B[0;32m    216\u001B[0m     ox, oy, width, height, descent, font_image \u001B[38;5;241m=\u001B[39m \\\n\u001B[0;32m    217\u001B[0m         \u001B[38;5;28mself\u001B[39m\u001B[38;5;241m.\u001B[39mmathtext_parser\u001B[38;5;241m.\u001B[39mparse(s, \u001B[38;5;28mself\u001B[39m\u001B[38;5;241m.\u001B[39mdpi, prop)\n",
      "File \u001B[1;32mE:\\ipynb\\venv\\lib\\site-packages\\matplotlib\\backend_bases.py:652\u001B[0m, in \u001B[0;36mRendererBase.get_text_width_height_descent\u001B[1;34m(self, s, prop, ismath)\u001B[0m\n\u001B[0;32m    648\u001B[0m fontsize \u001B[38;5;241m=\u001B[39m prop\u001B[38;5;241m.\u001B[39mget_size_in_points()\n\u001B[0;32m    650\u001B[0m \u001B[38;5;28;01mif\u001B[39;00m ismath \u001B[38;5;241m==\u001B[39m \u001B[38;5;124m'\u001B[39m\u001B[38;5;124mTeX\u001B[39m\u001B[38;5;124m'\u001B[39m:\n\u001B[0;32m    651\u001B[0m     \u001B[38;5;66;03m# todo: handle properties\u001B[39;00m\n\u001B[1;32m--> 652\u001B[0m     \u001B[38;5;28;01mreturn\u001B[39;00m \u001B[38;5;28;43mself\u001B[39;49m\u001B[38;5;241;43m.\u001B[39;49m\u001B[43mget_texmanager\u001B[49m\u001B[43m(\u001B[49m\u001B[43m)\u001B[49m\u001B[38;5;241;43m.\u001B[39;49m\u001B[43mget_text_width_height_descent\u001B[49m\u001B[43m(\u001B[49m\n\u001B[0;32m    653\u001B[0m \u001B[43m        \u001B[49m\u001B[43ms\u001B[49m\u001B[43m,\u001B[49m\u001B[43m \u001B[49m\u001B[43mfontsize\u001B[49m\u001B[43m,\u001B[49m\u001B[43m \u001B[49m\u001B[43mrenderer\u001B[49m\u001B[38;5;241;43m=\u001B[39;49m\u001B[38;5;28;43mself\u001B[39;49m\u001B[43m)\u001B[49m\n\u001B[0;32m    655\u001B[0m dpi \u001B[38;5;241m=\u001B[39m \u001B[38;5;28mself\u001B[39m\u001B[38;5;241m.\u001B[39mpoints_to_pixels(\u001B[38;5;241m72\u001B[39m)\n\u001B[0;32m    656\u001B[0m \u001B[38;5;28;01mif\u001B[39;00m ismath:\n",
      "File \u001B[1;32mE:\\ipynb\\venv\\lib\\site-packages\\matplotlib\\texmanager.py:363\u001B[0m, in \u001B[0;36mTexManager.get_text_width_height_descent\u001B[1;34m(cls, tex, fontsize, renderer)\u001B[0m\n\u001B[0;32m    361\u001B[0m \u001B[38;5;28;01mif\u001B[39;00m tex\u001B[38;5;241m.\u001B[39mstrip() \u001B[38;5;241m==\u001B[39m \u001B[38;5;124m'\u001B[39m\u001B[38;5;124m'\u001B[39m:\n\u001B[0;32m    362\u001B[0m     \u001B[38;5;28;01mreturn\u001B[39;00m \u001B[38;5;241m0\u001B[39m, \u001B[38;5;241m0\u001B[39m, \u001B[38;5;241m0\u001B[39m\n\u001B[1;32m--> 363\u001B[0m dvifile \u001B[38;5;241m=\u001B[39m \u001B[38;5;28;43mcls\u001B[39;49m\u001B[38;5;241;43m.\u001B[39;49m\u001B[43mmake_dvi\u001B[49m\u001B[43m(\u001B[49m\u001B[43mtex\u001B[49m\u001B[43m,\u001B[49m\u001B[43m \u001B[49m\u001B[43mfontsize\u001B[49m\u001B[43m)\u001B[49m\n\u001B[0;32m    364\u001B[0m dpi_fraction \u001B[38;5;241m=\u001B[39m renderer\u001B[38;5;241m.\u001B[39mpoints_to_pixels(\u001B[38;5;241m1.\u001B[39m) \u001B[38;5;28;01mif\u001B[39;00m renderer \u001B[38;5;28;01melse\u001B[39;00m \u001B[38;5;241m1\u001B[39m\n\u001B[0;32m    365\u001B[0m \u001B[38;5;28;01mwith\u001B[39;00m dviread\u001B[38;5;241m.\u001B[39mDvi(dvifile, \u001B[38;5;241m72\u001B[39m \u001B[38;5;241m*\u001B[39m dpi_fraction) \u001B[38;5;28;01mas\u001B[39;00m dvi:\n",
      "File \u001B[1;32mE:\\ipynb\\venv\\lib\\site-packages\\matplotlib\\texmanager.py:295\u001B[0m, in \u001B[0;36mTexManager.make_dvi\u001B[1;34m(cls, tex, fontsize)\u001B[0m\n\u001B[0;32m    293\u001B[0m     \u001B[38;5;28;01mwith\u001B[39;00m TemporaryDirectory(\u001B[38;5;28mdir\u001B[39m\u001B[38;5;241m=\u001B[39mcwd) \u001B[38;5;28;01mas\u001B[39;00m tmpdir:\n\u001B[0;32m    294\u001B[0m         tmppath \u001B[38;5;241m=\u001B[39m Path(tmpdir)\n\u001B[1;32m--> 295\u001B[0m         \u001B[38;5;28;43mcls\u001B[39;49m\u001B[38;5;241;43m.\u001B[39;49m\u001B[43m_run_checked_subprocess\u001B[49m\u001B[43m(\u001B[49m\n\u001B[0;32m    296\u001B[0m \u001B[43m            \u001B[49m\u001B[43m[\u001B[49m\u001B[38;5;124;43m\"\u001B[39;49m\u001B[38;5;124;43mlatex\u001B[39;49m\u001B[38;5;124;43m\"\u001B[39;49m\u001B[43m,\u001B[49m\u001B[43m \u001B[49m\u001B[38;5;124;43m\"\u001B[39;49m\u001B[38;5;124;43m-interaction=nonstopmode\u001B[39;49m\u001B[38;5;124;43m\"\u001B[39;49m\u001B[43m,\u001B[49m\u001B[43m \u001B[49m\u001B[38;5;124;43m\"\u001B[39;49m\u001B[38;5;124;43m--halt-on-error\u001B[39;49m\u001B[38;5;124;43m\"\u001B[39;49m\u001B[43m,\u001B[49m\n\u001B[0;32m    297\u001B[0m \u001B[43m             \u001B[49m\u001B[38;5;124;43mf\u001B[39;49m\u001B[38;5;124;43m\"\u001B[39;49m\u001B[38;5;124;43m--output-directory=\u001B[39;49m\u001B[38;5;132;43;01m{\u001B[39;49;00m\u001B[43mtmppath\u001B[49m\u001B[38;5;241;43m.\u001B[39;49m\u001B[43mname\u001B[49m\u001B[38;5;132;43;01m}\u001B[39;49;00m\u001B[38;5;124;43m\"\u001B[39;49m\u001B[43m,\u001B[49m\n\u001B[0;32m    298\u001B[0m \u001B[43m             \u001B[49m\u001B[38;5;124;43mf\u001B[39;49m\u001B[38;5;124;43m\"\u001B[39;49m\u001B[38;5;132;43;01m{\u001B[39;49;00m\u001B[43mtexfile\u001B[49m\u001B[38;5;241;43m.\u001B[39;49m\u001B[43mname\u001B[49m\u001B[38;5;132;43;01m}\u001B[39;49;00m\u001B[38;5;124;43m\"\u001B[39;49m\u001B[43m]\u001B[49m\u001B[43m,\u001B[49m\u001B[43m \u001B[49m\u001B[43mtex\u001B[49m\u001B[43m,\u001B[49m\u001B[43m \u001B[49m\u001B[43mcwd\u001B[49m\u001B[38;5;241;43m=\u001B[39;49m\u001B[43mcwd\u001B[49m\u001B[43m)\u001B[49m\n\u001B[0;32m    299\u001B[0m         (tmppath \u001B[38;5;241m/\u001B[39m Path(dvifile)\u001B[38;5;241m.\u001B[39mname)\u001B[38;5;241m.\u001B[39mreplace(dvifile)\n\u001B[0;32m    300\u001B[0m \u001B[38;5;28;01mreturn\u001B[39;00m dvifile\n",
      "File \u001B[1;32mE:\\ipynb\\venv\\lib\\site-packages\\matplotlib\\texmanager.py:258\u001B[0m, in \u001B[0;36mTexManager._run_checked_subprocess\u001B[1;34m(cls, command, tex, cwd)\u001B[0m\n\u001B[0;32m    254\u001B[0m     \u001B[38;5;28;01mraise\u001B[39;00m \u001B[38;5;167;01mRuntimeError\u001B[39;00m(\n\u001B[0;32m    255\u001B[0m         \u001B[38;5;124mf\u001B[39m\u001B[38;5;124m'\u001B[39m\u001B[38;5;124mFailed to process string with tex because \u001B[39m\u001B[38;5;132;01m{\u001B[39;00mcommand[\u001B[38;5;241m0\u001B[39m]\u001B[38;5;132;01m}\u001B[39;00m\u001B[38;5;124m \u001B[39m\u001B[38;5;124m'\u001B[39m\n\u001B[0;32m    256\u001B[0m         \u001B[38;5;124m'\u001B[39m\u001B[38;5;124mcould not be found\u001B[39m\u001B[38;5;124m'\u001B[39m) \u001B[38;5;28;01mfrom\u001B[39;00m \u001B[38;5;21;01mexc\u001B[39;00m\n\u001B[0;32m    257\u001B[0m \u001B[38;5;28;01mexcept\u001B[39;00m subprocess\u001B[38;5;241m.\u001B[39mCalledProcessError \u001B[38;5;28;01mas\u001B[39;00m exc:\n\u001B[1;32m--> 258\u001B[0m     \u001B[38;5;28;01mraise\u001B[39;00m \u001B[38;5;167;01mRuntimeError\u001B[39;00m(\n\u001B[0;32m    259\u001B[0m         \u001B[38;5;124m'\u001B[39m\u001B[38;5;132;01m{prog}\u001B[39;00m\u001B[38;5;124m was not able to process the following string:\u001B[39m\u001B[38;5;130;01m\\n\u001B[39;00m\u001B[38;5;124m'\u001B[39m\n\u001B[0;32m    260\u001B[0m         \u001B[38;5;124m'\u001B[39m\u001B[38;5;132;01m{tex!r}\u001B[39;00m\u001B[38;5;130;01m\\n\u001B[39;00m\u001B[38;5;130;01m\\n\u001B[39;00m\u001B[38;5;124m'\u001B[39m\n\u001B[0;32m    261\u001B[0m         \u001B[38;5;124m'\u001B[39m\u001B[38;5;124mHere is the full command invocation and its output:\u001B[39m\u001B[38;5;130;01m\\n\u001B[39;00m\u001B[38;5;130;01m\\n\u001B[39;00m\u001B[38;5;124m'\u001B[39m\n\u001B[0;32m    262\u001B[0m         \u001B[38;5;124m'\u001B[39m\u001B[38;5;132;01m{format_command}\u001B[39;00m\u001B[38;5;130;01m\\n\u001B[39;00m\u001B[38;5;130;01m\\n\u001B[39;00m\u001B[38;5;124m'\u001B[39m\n\u001B[0;32m    263\u001B[0m         \u001B[38;5;124m'\u001B[39m\u001B[38;5;132;01m{exc}\u001B[39;00m\u001B[38;5;130;01m\\n\u001B[39;00m\u001B[38;5;130;01m\\n\u001B[39;00m\u001B[38;5;124m'\u001B[39m\u001B[38;5;241m.\u001B[39mformat(\n\u001B[0;32m    264\u001B[0m             prog\u001B[38;5;241m=\u001B[39mcommand[\u001B[38;5;241m0\u001B[39m],\n\u001B[0;32m    265\u001B[0m             format_command\u001B[38;5;241m=\u001B[39mcbook\u001B[38;5;241m.\u001B[39m_pformat_subprocess(command),\n\u001B[0;32m    266\u001B[0m             tex\u001B[38;5;241m=\u001B[39mtex\u001B[38;5;241m.\u001B[39mencode(\u001B[38;5;124m'\u001B[39m\u001B[38;5;124municode_escape\u001B[39m\u001B[38;5;124m'\u001B[39m),\n\u001B[0;32m    267\u001B[0m             exc\u001B[38;5;241m=\u001B[39mexc\u001B[38;5;241m.\u001B[39moutput\u001B[38;5;241m.\u001B[39mdecode(\u001B[38;5;124m'\u001B[39m\u001B[38;5;124mutf-8\u001B[39m\u001B[38;5;124m'\u001B[39m, \u001B[38;5;124m'\u001B[39m\u001B[38;5;124mbackslashreplace\u001B[39m\u001B[38;5;124m'\u001B[39m))\n\u001B[0;32m    268\u001B[0m         ) \u001B[38;5;28;01mfrom\u001B[39;00m \u001B[38;5;28;01mNone\u001B[39;00m\n\u001B[0;32m    269\u001B[0m _log\u001B[38;5;241m.\u001B[39mdebug(report)\n\u001B[0;32m    270\u001B[0m \u001B[38;5;28;01mreturn\u001B[39;00m report\n",
      "\u001B[1;31mRuntimeError\u001B[0m: latex was not able to process the following string:\nb'$\\\\\\\\begin{bmatrix}8 & 4 & 8 \\\\\\\\\\\\\\\\ 9 & 1 & 3 \\\\\\\\\\\\\\\\ 4 & 1 & 2\\\\\\\\end{bmatrix} + \\\\\\\\begin{bmatrix}6 & 8 & 7 \\\\\\\\\\\\\\\\ 1 & 1 & 7 \\\\\\\\\\\\\\\\ 9 & 4 & 4\\\\\\\\end{bmatrix} = \\\\\\\\begin{bmatrix}14 & 12 & 15 \\\\\\\\\\\\\\\\ 10 & 2 & 10 \\\\\\\\\\\\\\\\ 13 & 5 & 6\\\\\\\\end{bmatrix}$'\n\nHere is the full command invocation and its output:\n\nlatex -interaction=nonstopmode --halt-on-error --output-directory=tmpfb1a0hnm 07c9b191fe746fb2ec23e2df520508d2.tex\n\nThis is pdfTeX, Version 3.141592653-2.6-1.40.24 (MiKTeX 22.10) (preloaded format=latex.fmt)\r\n restricted \\write18 enabled.\r\nentering extended mode\r\n(07c9b191fe746fb2ec23e2df520508d2.tex\r\nLaTeX2e <2022-06-01> patch level 5\r\nL3 programming layer <2022-09-28> (E:\\miktex\\tex/latex/base\\article.cls\r\nDocument Class: article 2021/10/04 v1.4n Standard LaTeX document class\r\n(E:\\miktex\\tex/latex/base\\size10.clo)) (E:\\miktex\\tex/latex/type1cm\\type1cm.sty\r\n) (E:\\miktex\\tex/latex/cm-super\\type1ec.sty (E:\\miktex\\tex/latex/base\\t1cmr.fd)\r\n) (E:\\miktex\\tex/latex/base\\inputenc.sty)\r\n(E:\\miktex\\tex/latex/geometry\\geometry.sty\r\n(E:\\miktex\\tex/latex/graphics\\keyval.sty)\r\n(E:\\miktex\\tex/generic/iftex\\ifvtex.sty (E:\\miktex\\tex/generic/iftex\\iftex.sty)\r\n) (E:\\miktex\\tex/latex/geometry\\geometry.cfg))\r\n(E:\\miktex\\tex/latex/underscore\\underscore.sty)\r\n(E:\\miktex\\tex/latex/base\\textcomp.sty)\r\n(E:\\miktex\\tex/latex/l3backend\\l3backend-dvips.def)\r\nNo file 07c9b191fe746fb2ec23e2df520508d2.aux.\r\n*geometry* driver: auto-detecting\r\n*geometry* detected driver: dvips\r\n\r\n! LaTeX Error: Environment bmatrix undefined.\r\n\r\nSee the LaTeX manual or LaTeX Companion for explanation.\r\nType  H <return>  for immediate help.\r\n ...                                              \r\n                                                  \r\nl.29 {\\rmfamily $\\begin{bmatrix}\r\n                                8 & 4 & 8 \\\\ 9 & 1 & 3 \\\\ 4 & 1 & 2\\end{bmat...\r\nNo pages of output.\r\nTranscript written on C:\\Users\\rainbow_yu\\.matplotlib\\tex.cache\\07\\c9\\tmpfb1a0h\r\nnm\\07c9b191fe746fb2ec23e2df520508d2.log.\r\n\n\n"
     ]
    },
    {
     "data": {
      "text/plain": [
       "<Figure size 800x300 with 1 Axes>"
      ]
     },
     "metadata": {},
     "output_type": "display_data"
    }
   ],
   "execution_count": 12
  },
  {
   "metadata": {
    "ExecuteTime": {
     "end_time": "2024-12-01T05:43:05.085552Z",
     "start_time": "2024-12-01T05:42:46.382256Z"
    }
   },
   "cell_type": "code",
   "source": "!gswin64c",
   "id": "6e541fed60c45246",
   "outputs": [
    {
     "name": "stdout",
     "output_type": "stream",
     "text": [
      "^C\n"
     ]
    }
   ],
   "execution_count": 2
  },
  {
   "metadata": {
    "ExecuteTime": {
     "end_time": "2024-12-01T05:43:18.721265Z",
     "start_time": "2024-12-01T05:43:06.799405Z"
    }
   },
   "cell_type": "code",
   "source": [
    "from file_operation import *\n",
    "from PIL import Image\n",
    "img = Image.open(r\"E:\\ipynb\\python_design\\yty_math\\math_cache\\canvas_cache.ps\")\n",
    "# 将 .ps 文件转换为 .png\n",
    "img.save(r\"E:\\ipynb\\python_design\\yty_math\\math_cache\\canvas_cache.png\", \"PNG\")\n",
    "img.show()"
   ],
   "id": "fc86825ec8d41271",
   "outputs": [],
   "execution_count": 3
  },
  {
   "metadata": {
    "ExecuteTime": {
     "end_time": "2024-12-01T12:23:18.043182Z",
     "start_time": "2024-12-01T12:19:01.532198Z"
    }
   },
   "cell_type": "code",
   "source": "",
   "id": "b0d6127a52203651",
   "outputs": [
    {
     "name": "stderr",
     "output_type": "stream",
     "text": [
      "                                                                                                 \r"
     ]
    },
    {
     "data": {
      "text/plain": [
       "\u001B[2;36m[2024/12/1 20:19:24]\u001B[0m\u001B[2;36m \u001B[0m\u001B[32mINFO    \u001B[0m Animation \u001B[32m0\u001B[0m : Partial movie file written in                  \u001B]8;id=870318;file://E:\\ipynb\\venv\\lib\\site-packages\\manim\\scene\\scene_file_writer.py\u001B\\\u001B[2mscene_file_writer.py\u001B[0m\u001B]8;;\u001B\\\u001B[2m:\u001B[0m\u001B]8;id=604869;file://E:\\ipynb\\venv\\lib\\site-packages\\manim\\scene\\scene_file_writer.py#527\u001B\\\u001B[2m527\u001B[0m\u001B]8;;\u001B\\\n",
       "\u001B[2;36m                     \u001B[0m         \u001B[32m'E:\\ipynb\\python_design\\yty_math\\media\\videos\\1080p60\\partia\u001B[0m \u001B[2m                        \u001B[0m\n",
       "\u001B[2;36m                     \u001B[0m         \u001B[32ml_movie_files\\MatrixDetShow\\3957370990_2201646672_223132457.\u001B[0m \u001B[2m                        \u001B[0m\n",
       "\u001B[2;36m                     \u001B[0m         \u001B[32mmp4'\u001B[0m                                                         \u001B[2m                        \u001B[0m\n"
      ],
      "text/html": [
       "<pre style=\"white-space:pre;overflow-x:auto;line-height:normal;font-family:Menlo,'DejaVu Sans Mono',consolas,'Courier New',monospace\"><span style=\"color: #7fbfbf; text-decoration-color: #7fbfbf\">[2024/12/1 20:19:24] </span><span style=\"color: #008000; text-decoration-color: #008000\">INFO    </span> Animation <span style=\"color: #008000; text-decoration-color: #008000\">0</span> : Partial movie file written in                  <a href=\"file://E:\\ipynb\\venv\\lib\\site-packages\\manim\\scene\\scene_file_writer.py\" target=\"_blank\"><span style=\"color: #7f7f7f; text-decoration-color: #7f7f7f\">scene_file_writer.py</span></a><span style=\"color: #7f7f7f; text-decoration-color: #7f7f7f\">:</span><a href=\"file://E:\\ipynb\\venv\\lib\\site-packages\\manim\\scene\\scene_file_writer.py#527\" target=\"_blank\"><span style=\"color: #7f7f7f; text-decoration-color: #7f7f7f\">527</span></a>\n",
       "<span style=\"color: #7fbfbf; text-decoration-color: #7fbfbf\">                     </span>         <span style=\"color: #008000; text-decoration-color: #008000\">'E:\\ipynb\\python_design\\yty_math\\media\\videos\\1080p60\\partia</span> <span style=\"color: #7f7f7f; text-decoration-color: #7f7f7f\">                        </span>\n",
       "<span style=\"color: #7fbfbf; text-decoration-color: #7fbfbf\">                     </span>         <span style=\"color: #008000; text-decoration-color: #008000\">l_movie_files\\MatrixDetShow\\3957370990_2201646672_223132457.</span> <span style=\"color: #7f7f7f; text-decoration-color: #7f7f7f\">                        </span>\n",
       "<span style=\"color: #7fbfbf; text-decoration-color: #7fbfbf\">                     </span>         <span style=\"color: #008000; text-decoration-color: #008000\">mp4'</span>                                                         <span style=\"color: #7f7f7f; text-decoration-color: #7f7f7f\">                        </span>\n",
       "</pre>\n"
      ]
     },
     "metadata": {},
     "output_type": "display_data"
    },
    {
     "data": {
      "text/plain": [
       "\u001B[2;36m[2024/12/1 20:19:26]\u001B[0m\u001B[2;36m \u001B[0m\u001B[32mINFO    \u001B[0m Animation \u001B[32m1\u001B[0m : Partial movie file written in                  \u001B]8;id=641962;file://E:\\ipynb\\venv\\lib\\site-packages\\manim\\scene\\scene_file_writer.py\u001B\\\u001B[2mscene_file_writer.py\u001B[0m\u001B]8;;\u001B\\\u001B[2m:\u001B[0m\u001B]8;id=903685;file://E:\\ipynb\\venv\\lib\\site-packages\\manim\\scene\\scene_file_writer.py#527\u001B\\\u001B[2m527\u001B[0m\u001B]8;;\u001B\\\n",
       "\u001B[2;36m                     \u001B[0m         \u001B[32m'E:\\ipynb\\python_design\\yty_math\\media\\videos\\1080p60\\partia\u001B[0m \u001B[2m                        \u001B[0m\n",
       "\u001B[2;36m                     \u001B[0m         \u001B[32ml_movie_files\\MatrixDetShow\\3280146143_682216684_644234373.m\u001B[0m \u001B[2m                        \u001B[0m\n",
       "\u001B[2;36m                     \u001B[0m         \u001B[32mp4'\u001B[0m                                                          \u001B[2m                        \u001B[0m\n"
      ],
      "text/html": [
       "<pre style=\"white-space:pre;overflow-x:auto;line-height:normal;font-family:Menlo,'DejaVu Sans Mono',consolas,'Courier New',monospace\"><span style=\"color: #7fbfbf; text-decoration-color: #7fbfbf\">[2024/12/1 20:19:26] </span><span style=\"color: #008000; text-decoration-color: #008000\">INFO    </span> Animation <span style=\"color: #008000; text-decoration-color: #008000\">1</span> : Partial movie file written in                  <a href=\"file://E:\\ipynb\\venv\\lib\\site-packages\\manim\\scene\\scene_file_writer.py\" target=\"_blank\"><span style=\"color: #7f7f7f; text-decoration-color: #7f7f7f\">scene_file_writer.py</span></a><span style=\"color: #7f7f7f; text-decoration-color: #7f7f7f\">:</span><a href=\"file://E:\\ipynb\\venv\\lib\\site-packages\\manim\\scene\\scene_file_writer.py#527\" target=\"_blank\"><span style=\"color: #7f7f7f; text-decoration-color: #7f7f7f\">527</span></a>\n",
       "<span style=\"color: #7fbfbf; text-decoration-color: #7fbfbf\">                     </span>         <span style=\"color: #008000; text-decoration-color: #008000\">'E:\\ipynb\\python_design\\yty_math\\media\\videos\\1080p60\\partia</span> <span style=\"color: #7f7f7f; text-decoration-color: #7f7f7f\">                        </span>\n",
       "<span style=\"color: #7fbfbf; text-decoration-color: #7fbfbf\">                     </span>         <span style=\"color: #008000; text-decoration-color: #008000\">l_movie_files\\MatrixDetShow\\3280146143_682216684_644234373.m</span> <span style=\"color: #7f7f7f; text-decoration-color: #7f7f7f\">                        </span>\n",
       "<span style=\"color: #7fbfbf; text-decoration-color: #7fbfbf\">                     </span>         <span style=\"color: #008000; text-decoration-color: #008000\">p4'</span>                                                          <span style=\"color: #7f7f7f; text-decoration-color: #7f7f7f\">                        </span>\n",
       "</pre>\n"
      ]
     },
     "metadata": {},
     "output_type": "display_data"
    },
    {
     "name": "stderr",
     "output_type": "stream",
     "text": [
      "                                                                                                   \r"
     ]
    },
    {
     "data": {
      "text/plain": [
       "\u001B[2;36m[2024/12/1 20:19:33]\u001B[0m\u001B[2;36m \u001B[0m\u001B[32mINFO    \u001B[0m Animation \u001B[32m2\u001B[0m : Partial movie file written in                  \u001B]8;id=870776;file://E:\\ipynb\\venv\\lib\\site-packages\\manim\\scene\\scene_file_writer.py\u001B\\\u001B[2mscene_file_writer.py\u001B[0m\u001B]8;;\u001B\\\u001B[2m:\u001B[0m\u001B]8;id=816972;file://E:\\ipynb\\venv\\lib\\site-packages\\manim\\scene\\scene_file_writer.py#527\u001B\\\u001B[2m527\u001B[0m\u001B]8;;\u001B\\\n",
       "\u001B[2;36m                     \u001B[0m         \u001B[32m'E:\\ipynb\\python_design\\yty_math\\media\\videos\\1080p60\\partia\u001B[0m \u001B[2m                        \u001B[0m\n",
       "\u001B[2;36m                     \u001B[0m         \u001B[32ml_movie_files\\MatrixDetShow\\3280146143_1661091654_3708432352\u001B[0m \u001B[2m                        \u001B[0m\n",
       "\u001B[2;36m                     \u001B[0m         \u001B[32m.mp4'\u001B[0m                                                        \u001B[2m                        \u001B[0m\n"
      ],
      "text/html": [
       "<pre style=\"white-space:pre;overflow-x:auto;line-height:normal;font-family:Menlo,'DejaVu Sans Mono',consolas,'Courier New',monospace\"><span style=\"color: #7fbfbf; text-decoration-color: #7fbfbf\">[2024/12/1 20:19:33] </span><span style=\"color: #008000; text-decoration-color: #008000\">INFO    </span> Animation <span style=\"color: #008000; text-decoration-color: #008000\">2</span> : Partial movie file written in                  <a href=\"file://E:\\ipynb\\venv\\lib\\site-packages\\manim\\scene\\scene_file_writer.py\" target=\"_blank\"><span style=\"color: #7f7f7f; text-decoration-color: #7f7f7f\">scene_file_writer.py</span></a><span style=\"color: #7f7f7f; text-decoration-color: #7f7f7f\">:</span><a href=\"file://E:\\ipynb\\venv\\lib\\site-packages\\manim\\scene\\scene_file_writer.py#527\" target=\"_blank\"><span style=\"color: #7f7f7f; text-decoration-color: #7f7f7f\">527</span></a>\n",
       "<span style=\"color: #7fbfbf; text-decoration-color: #7fbfbf\">                     </span>         <span style=\"color: #008000; text-decoration-color: #008000\">'E:\\ipynb\\python_design\\yty_math\\media\\videos\\1080p60\\partia</span> <span style=\"color: #7f7f7f; text-decoration-color: #7f7f7f\">                        </span>\n",
       "<span style=\"color: #7fbfbf; text-decoration-color: #7fbfbf\">                     </span>         <span style=\"color: #008000; text-decoration-color: #008000\">l_movie_files\\MatrixDetShow\\3280146143_1661091654_3708432352</span> <span style=\"color: #7f7f7f; text-decoration-color: #7f7f7f\">                        </span>\n",
       "<span style=\"color: #7fbfbf; text-decoration-color: #7fbfbf\">                     </span>         <span style=\"color: #008000; text-decoration-color: #008000\">.mp4'</span>                                                        <span style=\"color: #7f7f7f; text-decoration-color: #7f7f7f\">                        </span>\n",
       "</pre>\n"
      ]
     },
     "metadata": {},
     "output_type": "display_data"
    },
    {
     "data": {
      "text/plain": [
       "\u001B[2;36m[2024/12/1 20:19:35]\u001B[0m\u001B[2;36m \u001B[0m\u001B[32mINFO    \u001B[0m Animation \u001B[32m3\u001B[0m : Partial movie file written in                  \u001B]8;id=856068;file://E:\\ipynb\\venv\\lib\\site-packages\\manim\\scene\\scene_file_writer.py\u001B\\\u001B[2mscene_file_writer.py\u001B[0m\u001B]8;;\u001B\\\u001B[2m:\u001B[0m\u001B]8;id=723641;file://E:\\ipynb\\venv\\lib\\site-packages\\manim\\scene\\scene_file_writer.py#527\u001B\\\u001B[2m527\u001B[0m\u001B]8;;\u001B\\\n",
       "\u001B[2;36m                     \u001B[0m         \u001B[32m'E:\\ipynb\\python_design\\yty_math\\media\\videos\\1080p60\\partia\u001B[0m \u001B[2m                        \u001B[0m\n",
       "\u001B[2;36m                     \u001B[0m         \u001B[32ml_movie_files\\MatrixDetShow\\3280146143_682216684_1359375623.\u001B[0m \u001B[2m                        \u001B[0m\n",
       "\u001B[2;36m                     \u001B[0m         \u001B[32mmp4'\u001B[0m                                                         \u001B[2m                        \u001B[0m\n"
      ],
      "text/html": [
       "<pre style=\"white-space:pre;overflow-x:auto;line-height:normal;font-family:Menlo,'DejaVu Sans Mono',consolas,'Courier New',monospace\"><span style=\"color: #7fbfbf; text-decoration-color: #7fbfbf\">[2024/12/1 20:19:35] </span><span style=\"color: #008000; text-decoration-color: #008000\">INFO    </span> Animation <span style=\"color: #008000; text-decoration-color: #008000\">3</span> : Partial movie file written in                  <a href=\"file://E:\\ipynb\\venv\\lib\\site-packages\\manim\\scene\\scene_file_writer.py\" target=\"_blank\"><span style=\"color: #7f7f7f; text-decoration-color: #7f7f7f\">scene_file_writer.py</span></a><span style=\"color: #7f7f7f; text-decoration-color: #7f7f7f\">:</span><a href=\"file://E:\\ipynb\\venv\\lib\\site-packages\\manim\\scene\\scene_file_writer.py#527\" target=\"_blank\"><span style=\"color: #7f7f7f; text-decoration-color: #7f7f7f\">527</span></a>\n",
       "<span style=\"color: #7fbfbf; text-decoration-color: #7fbfbf\">                     </span>         <span style=\"color: #008000; text-decoration-color: #008000\">'E:\\ipynb\\python_design\\yty_math\\media\\videos\\1080p60\\partia</span> <span style=\"color: #7f7f7f; text-decoration-color: #7f7f7f\">                        </span>\n",
       "<span style=\"color: #7fbfbf; text-decoration-color: #7fbfbf\">                     </span>         <span style=\"color: #008000; text-decoration-color: #008000\">l_movie_files\\MatrixDetShow\\3280146143_682216684_1359375623.</span> <span style=\"color: #7f7f7f; text-decoration-color: #7f7f7f\">                        </span>\n",
       "<span style=\"color: #7fbfbf; text-decoration-color: #7fbfbf\">                     </span>         <span style=\"color: #008000; text-decoration-color: #008000\">mp4'</span>                                                         <span style=\"color: #7f7f7f; text-decoration-color: #7f7f7f\">                        </span>\n",
       "</pre>\n"
      ]
     },
     "metadata": {},
     "output_type": "display_data"
    },
    {
     "name": "stderr",
     "output_type": "stream",
     "text": [
      "                                                                                                          \r"
     ]
    },
    {
     "data": {
      "text/plain": [
       "\u001B[2;36m[2024/12/1 20:19:44]\u001B[0m\u001B[2;36m \u001B[0m\u001B[32mINFO    \u001B[0m Animation \u001B[32m4\u001B[0m : Partial movie file written in                  \u001B]8;id=827765;file://E:\\ipynb\\venv\\lib\\site-packages\\manim\\scene\\scene_file_writer.py\u001B\\\u001B[2mscene_file_writer.py\u001B[0m\u001B]8;;\u001B\\\u001B[2m:\u001B[0m\u001B]8;id=341254;file://E:\\ipynb\\venv\\lib\\site-packages\\manim\\scene\\scene_file_writer.py#527\u001B\\\u001B[2m527\u001B[0m\u001B]8;;\u001B\\\n",
       "\u001B[2;36m                     \u001B[0m         \u001B[32m'E:\\ipynb\\python_design\\yty_math\\media\\videos\\1080p60\\partia\u001B[0m \u001B[2m                        \u001B[0m\n",
       "\u001B[2;36m                     \u001B[0m         \u001B[32ml_movie_files\\MatrixDetShow\\3280146143_3168472507_2959025571\u001B[0m \u001B[2m                        \u001B[0m\n",
       "\u001B[2;36m                     \u001B[0m         \u001B[32m.mp4'\u001B[0m                                                        \u001B[2m                        \u001B[0m\n"
      ],
      "text/html": [
       "<pre style=\"white-space:pre;overflow-x:auto;line-height:normal;font-family:Menlo,'DejaVu Sans Mono',consolas,'Courier New',monospace\"><span style=\"color: #7fbfbf; text-decoration-color: #7fbfbf\">[2024/12/1 20:19:44] </span><span style=\"color: #008000; text-decoration-color: #008000\">INFO    </span> Animation <span style=\"color: #008000; text-decoration-color: #008000\">4</span> : Partial movie file written in                  <a href=\"file://E:\\ipynb\\venv\\lib\\site-packages\\manim\\scene\\scene_file_writer.py\" target=\"_blank\"><span style=\"color: #7f7f7f; text-decoration-color: #7f7f7f\">scene_file_writer.py</span></a><span style=\"color: #7f7f7f; text-decoration-color: #7f7f7f\">:</span><a href=\"file://E:\\ipynb\\venv\\lib\\site-packages\\manim\\scene\\scene_file_writer.py#527\" target=\"_blank\"><span style=\"color: #7f7f7f; text-decoration-color: #7f7f7f\">527</span></a>\n",
       "<span style=\"color: #7fbfbf; text-decoration-color: #7fbfbf\">                     </span>         <span style=\"color: #008000; text-decoration-color: #008000\">'E:\\ipynb\\python_design\\yty_math\\media\\videos\\1080p60\\partia</span> <span style=\"color: #7f7f7f; text-decoration-color: #7f7f7f\">                        </span>\n",
       "<span style=\"color: #7fbfbf; text-decoration-color: #7fbfbf\">                     </span>         <span style=\"color: #008000; text-decoration-color: #008000\">l_movie_files\\MatrixDetShow\\3280146143_3168472507_2959025571</span> <span style=\"color: #7f7f7f; text-decoration-color: #7f7f7f\">                        </span>\n",
       "<span style=\"color: #7fbfbf; text-decoration-color: #7fbfbf\">                     </span>         <span style=\"color: #008000; text-decoration-color: #008000\">.mp4'</span>                                                        <span style=\"color: #7f7f7f; text-decoration-color: #7f7f7f\">                        </span>\n",
       "</pre>\n"
      ]
     },
     "metadata": {},
     "output_type": "display_data"
    },
    {
     "data": {
      "text/plain": [
       "\u001B[2;36m[2024/12/1 20:19:47]\u001B[0m\u001B[2;36m \u001B[0m\u001B[32mINFO    \u001B[0m Animation \u001B[32m5\u001B[0m : Partial movie file written in                  \u001B]8;id=55363;file://E:\\ipynb\\venv\\lib\\site-packages\\manim\\scene\\scene_file_writer.py\u001B\\\u001B[2mscene_file_writer.py\u001B[0m\u001B]8;;\u001B\\\u001B[2m:\u001B[0m\u001B]8;id=107463;file://E:\\ipynb\\venv\\lib\\site-packages\\manim\\scene\\scene_file_writer.py#527\u001B\\\u001B[2m527\u001B[0m\u001B]8;;\u001B\\\n",
       "\u001B[2;36m                     \u001B[0m         \u001B[32m'E:\\ipynb\\python_design\\yty_math\\media\\videos\\1080p60\\partia\u001B[0m \u001B[2m                        \u001B[0m\n",
       "\u001B[2;36m                     \u001B[0m         \u001B[32ml_movie_files\\MatrixDetShow\\3280146143_753699665_2799685958.\u001B[0m \u001B[2m                        \u001B[0m\n",
       "\u001B[2;36m                     \u001B[0m         \u001B[32mmp4'\u001B[0m                                                         \u001B[2m                        \u001B[0m\n"
      ],
      "text/html": [
       "<pre style=\"white-space:pre;overflow-x:auto;line-height:normal;font-family:Menlo,'DejaVu Sans Mono',consolas,'Courier New',monospace\"><span style=\"color: #7fbfbf; text-decoration-color: #7fbfbf\">[2024/12/1 20:19:47] </span><span style=\"color: #008000; text-decoration-color: #008000\">INFO    </span> Animation <span style=\"color: #008000; text-decoration-color: #008000\">5</span> : Partial movie file written in                  <a href=\"file://E:\\ipynb\\venv\\lib\\site-packages\\manim\\scene\\scene_file_writer.py\" target=\"_blank\"><span style=\"color: #7f7f7f; text-decoration-color: #7f7f7f\">scene_file_writer.py</span></a><span style=\"color: #7f7f7f; text-decoration-color: #7f7f7f\">:</span><a href=\"file://E:\\ipynb\\venv\\lib\\site-packages\\manim\\scene\\scene_file_writer.py#527\" target=\"_blank\"><span style=\"color: #7f7f7f; text-decoration-color: #7f7f7f\">527</span></a>\n",
       "<span style=\"color: #7fbfbf; text-decoration-color: #7fbfbf\">                     </span>         <span style=\"color: #008000; text-decoration-color: #008000\">'E:\\ipynb\\python_design\\yty_math\\media\\videos\\1080p60\\partia</span> <span style=\"color: #7f7f7f; text-decoration-color: #7f7f7f\">                        </span>\n",
       "<span style=\"color: #7fbfbf; text-decoration-color: #7fbfbf\">                     </span>         <span style=\"color: #008000; text-decoration-color: #008000\">l_movie_files\\MatrixDetShow\\3280146143_753699665_2799685958.</span> <span style=\"color: #7f7f7f; text-decoration-color: #7f7f7f\">                        </span>\n",
       "<span style=\"color: #7fbfbf; text-decoration-color: #7fbfbf\">                     </span>         <span style=\"color: #008000; text-decoration-color: #008000\">mp4'</span>                                                         <span style=\"color: #7f7f7f; text-decoration-color: #7f7f7f\">                        </span>\n",
       "</pre>\n"
      ]
     },
     "metadata": {},
     "output_type": "display_data"
    },
    {
     "name": "stderr",
     "output_type": "stream",
     "text": [
      "                                                                                                       \r"
     ]
    },
    {
     "data": {
      "text/plain": [
       "\u001B[2;36m[2024/12/1 20:19:52]\u001B[0m\u001B[2;36m \u001B[0m\u001B[32mINFO    \u001B[0m Animation \u001B[32m6\u001B[0m : Partial movie file written in                  \u001B]8;id=152458;file://E:\\ipynb\\venv\\lib\\site-packages\\manim\\scene\\scene_file_writer.py\u001B\\\u001B[2mscene_file_writer.py\u001B[0m\u001B]8;;\u001B\\\u001B[2m:\u001B[0m\u001B]8;id=953477;file://E:\\ipynb\\venv\\lib\\site-packages\\manim\\scene\\scene_file_writer.py#527\u001B\\\u001B[2m527\u001B[0m\u001B]8;;\u001B\\\n",
       "\u001B[2;36m                     \u001B[0m         \u001B[32m'E:\\ipynb\\python_design\\yty_math\\media\\videos\\1080p60\\partia\u001B[0m \u001B[2m                        \u001B[0m\n",
       "\u001B[2;36m                     \u001B[0m         \u001B[32ml_movie_files\\MatrixDetShow\\3280146143_3617180238_96206413.m\u001B[0m \u001B[2m                        \u001B[0m\n",
       "\u001B[2;36m                     \u001B[0m         \u001B[32mp4'\u001B[0m                                                          \u001B[2m                        \u001B[0m\n"
      ],
      "text/html": [
       "<pre style=\"white-space:pre;overflow-x:auto;line-height:normal;font-family:Menlo,'DejaVu Sans Mono',consolas,'Courier New',monospace\"><span style=\"color: #7fbfbf; text-decoration-color: #7fbfbf\">[2024/12/1 20:19:52] </span><span style=\"color: #008000; text-decoration-color: #008000\">INFO    </span> Animation <span style=\"color: #008000; text-decoration-color: #008000\">6</span> : Partial movie file written in                  <a href=\"file://E:\\ipynb\\venv\\lib\\site-packages\\manim\\scene\\scene_file_writer.py\" target=\"_blank\"><span style=\"color: #7f7f7f; text-decoration-color: #7f7f7f\">scene_file_writer.py</span></a><span style=\"color: #7f7f7f; text-decoration-color: #7f7f7f\">:</span><a href=\"file://E:\\ipynb\\venv\\lib\\site-packages\\manim\\scene\\scene_file_writer.py#527\" target=\"_blank\"><span style=\"color: #7f7f7f; text-decoration-color: #7f7f7f\">527</span></a>\n",
       "<span style=\"color: #7fbfbf; text-decoration-color: #7fbfbf\">                     </span>         <span style=\"color: #008000; text-decoration-color: #008000\">'E:\\ipynb\\python_design\\yty_math\\media\\videos\\1080p60\\partia</span> <span style=\"color: #7f7f7f; text-decoration-color: #7f7f7f\">                        </span>\n",
       "<span style=\"color: #7fbfbf; text-decoration-color: #7fbfbf\">                     </span>         <span style=\"color: #008000; text-decoration-color: #008000\">l_movie_files\\MatrixDetShow\\3280146143_3617180238_96206413.m</span> <span style=\"color: #7f7f7f; text-decoration-color: #7f7f7f\">                        </span>\n",
       "<span style=\"color: #7fbfbf; text-decoration-color: #7fbfbf\">                     </span>         <span style=\"color: #008000; text-decoration-color: #008000\">p4'</span>                                                          <span style=\"color: #7f7f7f; text-decoration-color: #7f7f7f\">                        </span>\n",
       "</pre>\n"
      ]
     },
     "metadata": {},
     "output_type": "display_data"
    },
    {
     "name": "stderr",
     "output_type": "stream",
     "text": [
      "                                                                                                        \r"
     ]
    },
    {
     "data": {
      "text/plain": [
       "\u001B[2;36m[2024/12/1 20:19:54]\u001B[0m\u001B[2;36m \u001B[0m\u001B[32mINFO    \u001B[0m Animation \u001B[32m7\u001B[0m : Partial movie file written in                  \u001B]8;id=751966;file://E:\\ipynb\\venv\\lib\\site-packages\\manim\\scene\\scene_file_writer.py\u001B\\\u001B[2mscene_file_writer.py\u001B[0m\u001B]8;;\u001B\\\u001B[2m:\u001B[0m\u001B]8;id=330452;file://E:\\ipynb\\venv\\lib\\site-packages\\manim\\scene\\scene_file_writer.py#527\u001B\\\u001B[2m527\u001B[0m\u001B]8;;\u001B\\\n",
       "\u001B[2;36m                     \u001B[0m         \u001B[32m'E:\\ipynb\\python_design\\yty_math\\media\\videos\\1080p60\\partia\u001B[0m \u001B[2m                        \u001B[0m\n",
       "\u001B[2;36m                     \u001B[0m         \u001B[32ml_movie_files\\MatrixDetShow\\3280146143_371136625_1457574322.\u001B[0m \u001B[2m                        \u001B[0m\n",
       "\u001B[2;36m                     \u001B[0m         \u001B[32mmp4'\u001B[0m                                                         \u001B[2m                        \u001B[0m\n"
      ],
      "text/html": [
       "<pre style=\"white-space:pre;overflow-x:auto;line-height:normal;font-family:Menlo,'DejaVu Sans Mono',consolas,'Courier New',monospace\"><span style=\"color: #7fbfbf; text-decoration-color: #7fbfbf\">[2024/12/1 20:19:54] </span><span style=\"color: #008000; text-decoration-color: #008000\">INFO    </span> Animation <span style=\"color: #008000; text-decoration-color: #008000\">7</span> : Partial movie file written in                  <a href=\"file://E:\\ipynb\\venv\\lib\\site-packages\\manim\\scene\\scene_file_writer.py\" target=\"_blank\"><span style=\"color: #7f7f7f; text-decoration-color: #7f7f7f\">scene_file_writer.py</span></a><span style=\"color: #7f7f7f; text-decoration-color: #7f7f7f\">:</span><a href=\"file://E:\\ipynb\\venv\\lib\\site-packages\\manim\\scene\\scene_file_writer.py#527\" target=\"_blank\"><span style=\"color: #7f7f7f; text-decoration-color: #7f7f7f\">527</span></a>\n",
       "<span style=\"color: #7fbfbf; text-decoration-color: #7fbfbf\">                     </span>         <span style=\"color: #008000; text-decoration-color: #008000\">'E:\\ipynb\\python_design\\yty_math\\media\\videos\\1080p60\\partia</span> <span style=\"color: #7f7f7f; text-decoration-color: #7f7f7f\">                        </span>\n",
       "<span style=\"color: #7fbfbf; text-decoration-color: #7fbfbf\">                     </span>         <span style=\"color: #008000; text-decoration-color: #008000\">l_movie_files\\MatrixDetShow\\3280146143_371136625_1457574322.</span> <span style=\"color: #7f7f7f; text-decoration-color: #7f7f7f\">                        </span>\n",
       "<span style=\"color: #7fbfbf; text-decoration-color: #7fbfbf\">                     </span>         <span style=\"color: #008000; text-decoration-color: #008000\">mp4'</span>                                                         <span style=\"color: #7f7f7f; text-decoration-color: #7f7f7f\">                        </span>\n",
       "</pre>\n"
      ]
     },
     "metadata": {},
     "output_type": "display_data"
    },
    {
     "name": "stderr",
     "output_type": "stream",
     "text": [
      "                                                                                \r"
     ]
    },
    {
     "data": {
      "text/plain": [
       "\u001B[2;36m[2024/12/1 20:19:56]\u001B[0m\u001B[2;36m \u001B[0m\u001B[32mINFO    \u001B[0m Animation \u001B[32m8\u001B[0m : Partial movie file written in                  \u001B]8;id=831967;file://E:\\ipynb\\venv\\lib\\site-packages\\manim\\scene\\scene_file_writer.py\u001B\\\u001B[2mscene_file_writer.py\u001B[0m\u001B]8;;\u001B\\\u001B[2m:\u001B[0m\u001B]8;id=477031;file://E:\\ipynb\\venv\\lib\\site-packages\\manim\\scene\\scene_file_writer.py#527\u001B\\\u001B[2m527\u001B[0m\u001B]8;;\u001B\\\n",
       "\u001B[2;36m                     \u001B[0m         \u001B[32m'E:\\ipynb\\python_design\\yty_math\\media\\videos\\1080p60\\partia\u001B[0m \u001B[2m                        \u001B[0m\n",
       "\u001B[2;36m                     \u001B[0m         \u001B[32ml_movie_files\\MatrixDetShow\\3280146143_3688912312_2203917490\u001B[0m \u001B[2m                        \u001B[0m\n",
       "\u001B[2;36m                     \u001B[0m         \u001B[32m.mp4'\u001B[0m                                                        \u001B[2m                        \u001B[0m\n"
      ],
      "text/html": [
       "<pre style=\"white-space:pre;overflow-x:auto;line-height:normal;font-family:Menlo,'DejaVu Sans Mono',consolas,'Courier New',monospace\"><span style=\"color: #7fbfbf; text-decoration-color: #7fbfbf\">[2024/12/1 20:19:56] </span><span style=\"color: #008000; text-decoration-color: #008000\">INFO    </span> Animation <span style=\"color: #008000; text-decoration-color: #008000\">8</span> : Partial movie file written in                  <a href=\"file://E:\\ipynb\\venv\\lib\\site-packages\\manim\\scene\\scene_file_writer.py\" target=\"_blank\"><span style=\"color: #7f7f7f; text-decoration-color: #7f7f7f\">scene_file_writer.py</span></a><span style=\"color: #7f7f7f; text-decoration-color: #7f7f7f\">:</span><a href=\"file://E:\\ipynb\\venv\\lib\\site-packages\\manim\\scene\\scene_file_writer.py#527\" target=\"_blank\"><span style=\"color: #7f7f7f; text-decoration-color: #7f7f7f\">527</span></a>\n",
       "<span style=\"color: #7fbfbf; text-decoration-color: #7fbfbf\">                     </span>         <span style=\"color: #008000; text-decoration-color: #008000\">'E:\\ipynb\\python_design\\yty_math\\media\\videos\\1080p60\\partia</span> <span style=\"color: #7f7f7f; text-decoration-color: #7f7f7f\">                        </span>\n",
       "<span style=\"color: #7fbfbf; text-decoration-color: #7fbfbf\">                     </span>         <span style=\"color: #008000; text-decoration-color: #008000\">l_movie_files\\MatrixDetShow\\3280146143_3688912312_2203917490</span> <span style=\"color: #7f7f7f; text-decoration-color: #7f7f7f\">                        </span>\n",
       "<span style=\"color: #7fbfbf; text-decoration-color: #7fbfbf\">                     </span>         <span style=\"color: #008000; text-decoration-color: #008000\">.mp4'</span>                                                        <span style=\"color: #7f7f7f; text-decoration-color: #7f7f7f\">                        </span>\n",
       "</pre>\n"
      ]
     },
     "metadata": {},
     "output_type": "display_data"
    },
    {
     "name": "stderr",
     "output_type": "stream",
     "text": [
      "                                                                                                       \r"
     ]
    },
    {
     "data": {
      "text/plain": [
       "\u001B[2;36m[2024/12/1 20:19:58]\u001B[0m\u001B[2;36m \u001B[0m\u001B[32mINFO    \u001B[0m Animation \u001B[32m9\u001B[0m : Partial movie file written in                  \u001B]8;id=152028;file://E:\\ipynb\\venv\\lib\\site-packages\\manim\\scene\\scene_file_writer.py\u001B\\\u001B[2mscene_file_writer.py\u001B[0m\u001B]8;;\u001B\\\u001B[2m:\u001B[0m\u001B]8;id=790685;file://E:\\ipynb\\venv\\lib\\site-packages\\manim\\scene\\scene_file_writer.py#527\u001B\\\u001B[2m527\u001B[0m\u001B]8;;\u001B\\\n",
       "\u001B[2;36m                     \u001B[0m         \u001B[32m'E:\\ipynb\\python_design\\yty_math\\media\\videos\\1080p60\\partia\u001B[0m \u001B[2m                        \u001B[0m\n",
       "\u001B[2;36m                     \u001B[0m         \u001B[32ml_movie_files\\MatrixDetShow\\3280146143_3078132599_2748581173\u001B[0m \u001B[2m                        \u001B[0m\n",
       "\u001B[2;36m                     \u001B[0m         \u001B[32m.mp4'\u001B[0m                                                        \u001B[2m                        \u001B[0m\n"
      ],
      "text/html": [
       "<pre style=\"white-space:pre;overflow-x:auto;line-height:normal;font-family:Menlo,'DejaVu Sans Mono',consolas,'Courier New',monospace\"><span style=\"color: #7fbfbf; text-decoration-color: #7fbfbf\">[2024/12/1 20:19:58] </span><span style=\"color: #008000; text-decoration-color: #008000\">INFO    </span> Animation <span style=\"color: #008000; text-decoration-color: #008000\">9</span> : Partial movie file written in                  <a href=\"file://E:\\ipynb\\venv\\lib\\site-packages\\manim\\scene\\scene_file_writer.py\" target=\"_blank\"><span style=\"color: #7f7f7f; text-decoration-color: #7f7f7f\">scene_file_writer.py</span></a><span style=\"color: #7f7f7f; text-decoration-color: #7f7f7f\">:</span><a href=\"file://E:\\ipynb\\venv\\lib\\site-packages\\manim\\scene\\scene_file_writer.py#527\" target=\"_blank\"><span style=\"color: #7f7f7f; text-decoration-color: #7f7f7f\">527</span></a>\n",
       "<span style=\"color: #7fbfbf; text-decoration-color: #7fbfbf\">                     </span>         <span style=\"color: #008000; text-decoration-color: #008000\">'E:\\ipynb\\python_design\\yty_math\\media\\videos\\1080p60\\partia</span> <span style=\"color: #7f7f7f; text-decoration-color: #7f7f7f\">                        </span>\n",
       "<span style=\"color: #7fbfbf; text-decoration-color: #7fbfbf\">                     </span>         <span style=\"color: #008000; text-decoration-color: #008000\">l_movie_files\\MatrixDetShow\\3280146143_3078132599_2748581173</span> <span style=\"color: #7f7f7f; text-decoration-color: #7f7f7f\">                        </span>\n",
       "<span style=\"color: #7fbfbf; text-decoration-color: #7fbfbf\">                     </span>         <span style=\"color: #008000; text-decoration-color: #008000\">.mp4'</span>                                                        <span style=\"color: #7f7f7f; text-decoration-color: #7f7f7f\">                        </span>\n",
       "</pre>\n"
      ]
     },
     "metadata": {},
     "output_type": "display_data"
    },
    {
     "name": "stderr",
     "output_type": "stream",
     "text": [
      "                                                                                \r"
     ]
    },
    {
     "data": {
      "text/plain": [
       "\u001B[2;36m[2024/12/1 20:20:00]\u001B[0m\u001B[2;36m \u001B[0m\u001B[32mINFO    \u001B[0m Animation \u001B[32m10\u001B[0m : Partial movie file written in                 \u001B]8;id=973846;file://E:\\ipynb\\venv\\lib\\site-packages\\manim\\scene\\scene_file_writer.py\u001B\\\u001B[2mscene_file_writer.py\u001B[0m\u001B]8;;\u001B\\\u001B[2m:\u001B[0m\u001B]8;id=324065;file://E:\\ipynb\\venv\\lib\\site-packages\\manim\\scene\\scene_file_writer.py#527\u001B\\\u001B[2m527\u001B[0m\u001B]8;;\u001B\\\n",
       "\u001B[2;36m                     \u001B[0m         \u001B[32m'E:\\ipynb\\python_design\\yty_math\\media\\videos\\1080p60\\partia\u001B[0m \u001B[2m                        \u001B[0m\n",
       "\u001B[2;36m                     \u001B[0m         \u001B[32ml_movie_files\\MatrixDetShow\\3280146143_829064128_2403701817.\u001B[0m \u001B[2m                        \u001B[0m\n",
       "\u001B[2;36m                     \u001B[0m         \u001B[32mmp4'\u001B[0m                                                         \u001B[2m                        \u001B[0m\n"
      ],
      "text/html": [
       "<pre style=\"white-space:pre;overflow-x:auto;line-height:normal;font-family:Menlo,'DejaVu Sans Mono',consolas,'Courier New',monospace\"><span style=\"color: #7fbfbf; text-decoration-color: #7fbfbf\">[2024/12/1 20:20:00] </span><span style=\"color: #008000; text-decoration-color: #008000\">INFO    </span> Animation <span style=\"color: #008000; text-decoration-color: #008000\">10</span> : Partial movie file written in                 <a href=\"file://E:\\ipynb\\venv\\lib\\site-packages\\manim\\scene\\scene_file_writer.py\" target=\"_blank\"><span style=\"color: #7f7f7f; text-decoration-color: #7f7f7f\">scene_file_writer.py</span></a><span style=\"color: #7f7f7f; text-decoration-color: #7f7f7f\">:</span><a href=\"file://E:\\ipynb\\venv\\lib\\site-packages\\manim\\scene\\scene_file_writer.py#527\" target=\"_blank\"><span style=\"color: #7f7f7f; text-decoration-color: #7f7f7f\">527</span></a>\n",
       "<span style=\"color: #7fbfbf; text-decoration-color: #7fbfbf\">                     </span>         <span style=\"color: #008000; text-decoration-color: #008000\">'E:\\ipynb\\python_design\\yty_math\\media\\videos\\1080p60\\partia</span> <span style=\"color: #7f7f7f; text-decoration-color: #7f7f7f\">                        </span>\n",
       "<span style=\"color: #7fbfbf; text-decoration-color: #7fbfbf\">                     </span>         <span style=\"color: #008000; text-decoration-color: #008000\">l_movie_files\\MatrixDetShow\\3280146143_829064128_2403701817.</span> <span style=\"color: #7f7f7f; text-decoration-color: #7f7f7f\">                        </span>\n",
       "<span style=\"color: #7fbfbf; text-decoration-color: #7fbfbf\">                     </span>         <span style=\"color: #008000; text-decoration-color: #008000\">mp4'</span>                                                         <span style=\"color: #7f7f7f; text-decoration-color: #7f7f7f\">                        </span>\n",
       "</pre>\n"
      ]
     },
     "metadata": {},
     "output_type": "display_data"
    },
    {
     "name": "stderr",
     "output_type": "stream",
     "text": [
      "                                                                                                         \r"
     ]
    },
    {
     "data": {
      "text/plain": [
       "\u001B[2;36m[2024/12/1 20:20:02]\u001B[0m\u001B[2;36m \u001B[0m\u001B[32mINFO    \u001B[0m Animation \u001B[32m11\u001B[0m : Partial movie file written in                 \u001B]8;id=742962;file://E:\\ipynb\\venv\\lib\\site-packages\\manim\\scene\\scene_file_writer.py\u001B\\\u001B[2mscene_file_writer.py\u001B[0m\u001B]8;;\u001B\\\u001B[2m:\u001B[0m\u001B]8;id=507559;file://E:\\ipynb\\venv\\lib\\site-packages\\manim\\scene\\scene_file_writer.py#527\u001B\\\u001B[2m527\u001B[0m\u001B]8;;\u001B\\\n",
       "\u001B[2;36m                     \u001B[0m         \u001B[32m'E:\\ipynb\\python_design\\yty_math\\media\\videos\\1080p60\\partia\u001B[0m \u001B[2m                        \u001B[0m\n",
       "\u001B[2;36m                     \u001B[0m         \u001B[32ml_movie_files\\MatrixDetShow\\3280146143_2717221012_853165005.\u001B[0m \u001B[2m                        \u001B[0m\n",
       "\u001B[2;36m                     \u001B[0m         \u001B[32mmp4'\u001B[0m                                                         \u001B[2m                        \u001B[0m\n"
      ],
      "text/html": [
       "<pre style=\"white-space:pre;overflow-x:auto;line-height:normal;font-family:Menlo,'DejaVu Sans Mono',consolas,'Courier New',monospace\"><span style=\"color: #7fbfbf; text-decoration-color: #7fbfbf\">[2024/12/1 20:20:02] </span><span style=\"color: #008000; text-decoration-color: #008000\">INFO    </span> Animation <span style=\"color: #008000; text-decoration-color: #008000\">11</span> : Partial movie file written in                 <a href=\"file://E:\\ipynb\\venv\\lib\\site-packages\\manim\\scene\\scene_file_writer.py\" target=\"_blank\"><span style=\"color: #7f7f7f; text-decoration-color: #7f7f7f\">scene_file_writer.py</span></a><span style=\"color: #7f7f7f; text-decoration-color: #7f7f7f\">:</span><a href=\"file://E:\\ipynb\\venv\\lib\\site-packages\\manim\\scene\\scene_file_writer.py#527\" target=\"_blank\"><span style=\"color: #7f7f7f; text-decoration-color: #7f7f7f\">527</span></a>\n",
       "<span style=\"color: #7fbfbf; text-decoration-color: #7fbfbf\">                     </span>         <span style=\"color: #008000; text-decoration-color: #008000\">'E:\\ipynb\\python_design\\yty_math\\media\\videos\\1080p60\\partia</span> <span style=\"color: #7f7f7f; text-decoration-color: #7f7f7f\">                        </span>\n",
       "<span style=\"color: #7fbfbf; text-decoration-color: #7fbfbf\">                     </span>         <span style=\"color: #008000; text-decoration-color: #008000\">l_movie_files\\MatrixDetShow\\3280146143_2717221012_853165005.</span> <span style=\"color: #7f7f7f; text-decoration-color: #7f7f7f\">                        </span>\n",
       "<span style=\"color: #7fbfbf; text-decoration-color: #7fbfbf\">                     </span>         <span style=\"color: #008000; text-decoration-color: #008000\">mp4'</span>                                                         <span style=\"color: #7f7f7f; text-decoration-color: #7f7f7f\">                        </span>\n",
       "</pre>\n"
      ]
     },
     "metadata": {},
     "output_type": "display_data"
    },
    {
     "name": "stderr",
     "output_type": "stream",
     "text": [
      "                                                                                \r"
     ]
    },
    {
     "data": {
      "text/plain": [
       "\u001B[2;36m[2024/12/1 20:20:04]\u001B[0m\u001B[2;36m \u001B[0m\u001B[32mINFO    \u001B[0m Animation \u001B[32m12\u001B[0m : Partial movie file written in                 \u001B]8;id=582615;file://E:\\ipynb\\venv\\lib\\site-packages\\manim\\scene\\scene_file_writer.py\u001B\\\u001B[2mscene_file_writer.py\u001B[0m\u001B]8;;\u001B\\\u001B[2m:\u001B[0m\u001B]8;id=833517;file://E:\\ipynb\\venv\\lib\\site-packages\\manim\\scene\\scene_file_writer.py#527\u001B\\\u001B[2m527\u001B[0m\u001B]8;;\u001B\\\n",
       "\u001B[2;36m                     \u001B[0m         \u001B[32m'E:\\ipynb\\python_design\\yty_math\\media\\videos\\1080p60\\partia\u001B[0m \u001B[2m                        \u001B[0m\n",
       "\u001B[2;36m                     \u001B[0m         \u001B[32ml_movie_files\\MatrixDetShow\\3280146143_4198103551_413563123.\u001B[0m \u001B[2m                        \u001B[0m\n",
       "\u001B[2;36m                     \u001B[0m         \u001B[32mmp4'\u001B[0m                                                         \u001B[2m                        \u001B[0m\n"
      ],
      "text/html": [
       "<pre style=\"white-space:pre;overflow-x:auto;line-height:normal;font-family:Menlo,'DejaVu Sans Mono',consolas,'Courier New',monospace\"><span style=\"color: #7fbfbf; text-decoration-color: #7fbfbf\">[2024/12/1 20:20:04] </span><span style=\"color: #008000; text-decoration-color: #008000\">INFO    </span> Animation <span style=\"color: #008000; text-decoration-color: #008000\">12</span> : Partial movie file written in                 <a href=\"file://E:\\ipynb\\venv\\lib\\site-packages\\manim\\scene\\scene_file_writer.py\" target=\"_blank\"><span style=\"color: #7f7f7f; text-decoration-color: #7f7f7f\">scene_file_writer.py</span></a><span style=\"color: #7f7f7f; text-decoration-color: #7f7f7f\">:</span><a href=\"file://E:\\ipynb\\venv\\lib\\site-packages\\manim\\scene\\scene_file_writer.py#527\" target=\"_blank\"><span style=\"color: #7f7f7f; text-decoration-color: #7f7f7f\">527</span></a>\n",
       "<span style=\"color: #7fbfbf; text-decoration-color: #7fbfbf\">                     </span>         <span style=\"color: #008000; text-decoration-color: #008000\">'E:\\ipynb\\python_design\\yty_math\\media\\videos\\1080p60\\partia</span> <span style=\"color: #7f7f7f; text-decoration-color: #7f7f7f\">                        </span>\n",
       "<span style=\"color: #7fbfbf; text-decoration-color: #7fbfbf\">                     </span>         <span style=\"color: #008000; text-decoration-color: #008000\">l_movie_files\\MatrixDetShow\\3280146143_4198103551_413563123.</span> <span style=\"color: #7f7f7f; text-decoration-color: #7f7f7f\">                        </span>\n",
       "<span style=\"color: #7fbfbf; text-decoration-color: #7fbfbf\">                     </span>         <span style=\"color: #008000; text-decoration-color: #008000\">mp4'</span>                                                         <span style=\"color: #7f7f7f; text-decoration-color: #7f7f7f\">                        </span>\n",
       "</pre>\n"
      ]
     },
     "metadata": {},
     "output_type": "display_data"
    },
    {
     "name": "stderr",
     "output_type": "stream",
     "text": [
      "                                                                                   \r"
     ]
    },
    {
     "data": {
      "text/plain": [
       "\u001B[2;36m[2024/12/1 20:20:07]\u001B[0m\u001B[2;36m \u001B[0m\u001B[32mINFO    \u001B[0m Animation \u001B[32m13\u001B[0m : Partial movie file written in                 \u001B]8;id=98528;file://E:\\ipynb\\venv\\lib\\site-packages\\manim\\scene\\scene_file_writer.py\u001B\\\u001B[2mscene_file_writer.py\u001B[0m\u001B]8;;\u001B\\\u001B[2m:\u001B[0m\u001B]8;id=211570;file://E:\\ipynb\\venv\\lib\\site-packages\\manim\\scene\\scene_file_writer.py#527\u001B\\\u001B[2m527\u001B[0m\u001B]8;;\u001B\\\n",
       "\u001B[2;36m                     \u001B[0m         \u001B[32m'E:\\ipynb\\python_design\\yty_math\\media\\videos\\1080p60\\partia\u001B[0m \u001B[2m                        \u001B[0m\n",
       "\u001B[2;36m                     \u001B[0m         \u001B[32ml_movie_files\\MatrixDetShow\\3280146143_387657075_2419181116.\u001B[0m \u001B[2m                        \u001B[0m\n",
       "\u001B[2;36m                     \u001B[0m         \u001B[32mmp4'\u001B[0m                                                         \u001B[2m                        \u001B[0m\n"
      ],
      "text/html": [
       "<pre style=\"white-space:pre;overflow-x:auto;line-height:normal;font-family:Menlo,'DejaVu Sans Mono',consolas,'Courier New',monospace\"><span style=\"color: #7fbfbf; text-decoration-color: #7fbfbf\">[2024/12/1 20:20:07] </span><span style=\"color: #008000; text-decoration-color: #008000\">INFO    </span> Animation <span style=\"color: #008000; text-decoration-color: #008000\">13</span> : Partial movie file written in                 <a href=\"file://E:\\ipynb\\venv\\lib\\site-packages\\manim\\scene\\scene_file_writer.py\" target=\"_blank\"><span style=\"color: #7f7f7f; text-decoration-color: #7f7f7f\">scene_file_writer.py</span></a><span style=\"color: #7f7f7f; text-decoration-color: #7f7f7f\">:</span><a href=\"file://E:\\ipynb\\venv\\lib\\site-packages\\manim\\scene\\scene_file_writer.py#527\" target=\"_blank\"><span style=\"color: #7f7f7f; text-decoration-color: #7f7f7f\">527</span></a>\n",
       "<span style=\"color: #7fbfbf; text-decoration-color: #7fbfbf\">                     </span>         <span style=\"color: #008000; text-decoration-color: #008000\">'E:\\ipynb\\python_design\\yty_math\\media\\videos\\1080p60\\partia</span> <span style=\"color: #7f7f7f; text-decoration-color: #7f7f7f\">                        </span>\n",
       "<span style=\"color: #7fbfbf; text-decoration-color: #7fbfbf\">                     </span>         <span style=\"color: #008000; text-decoration-color: #008000\">l_movie_files\\MatrixDetShow\\3280146143_387657075_2419181116.</span> <span style=\"color: #7f7f7f; text-decoration-color: #7f7f7f\">                        </span>\n",
       "<span style=\"color: #7fbfbf; text-decoration-color: #7fbfbf\">                     </span>         <span style=\"color: #008000; text-decoration-color: #008000\">mp4'</span>                                                         <span style=\"color: #7f7f7f; text-decoration-color: #7f7f7f\">                        </span>\n",
       "</pre>\n"
      ]
     },
     "metadata": {},
     "output_type": "display_data"
    },
    {
     "name": "stderr",
     "output_type": "stream",
     "text": [
      "                                                                                               \r"
     ]
    },
    {
     "data": {
      "text/plain": [
       "\u001B[2;36m[2024/12/1 20:20:09]\u001B[0m\u001B[2;36m \u001B[0m\u001B[32mINFO    \u001B[0m Animation \u001B[32m14\u001B[0m : Partial movie file written in                 \u001B]8;id=36395;file://E:\\ipynb\\venv\\lib\\site-packages\\manim\\scene\\scene_file_writer.py\u001B\\\u001B[2mscene_file_writer.py\u001B[0m\u001B]8;;\u001B\\\u001B[2m:\u001B[0m\u001B]8;id=179462;file://E:\\ipynb\\venv\\lib\\site-packages\\manim\\scene\\scene_file_writer.py#527\u001B\\\u001B[2m527\u001B[0m\u001B]8;;\u001B\\\n",
       "\u001B[2;36m                     \u001B[0m         \u001B[32m'E:\\ipynb\\python_design\\yty_math\\media\\videos\\1080p60\\partia\u001B[0m \u001B[2m                        \u001B[0m\n",
       "\u001B[2;36m                     \u001B[0m         \u001B[32ml_movie_files\\MatrixDetShow\\3280146143_3625972528_1894115472\u001B[0m \u001B[2m                        \u001B[0m\n",
       "\u001B[2;36m                     \u001B[0m         \u001B[32m.mp4'\u001B[0m                                                        \u001B[2m                        \u001B[0m\n"
      ],
      "text/html": [
       "<pre style=\"white-space:pre;overflow-x:auto;line-height:normal;font-family:Menlo,'DejaVu Sans Mono',consolas,'Courier New',monospace\"><span style=\"color: #7fbfbf; text-decoration-color: #7fbfbf\">[2024/12/1 20:20:09] </span><span style=\"color: #008000; text-decoration-color: #008000\">INFO    </span> Animation <span style=\"color: #008000; text-decoration-color: #008000\">14</span> : Partial movie file written in                 <a href=\"file://E:\\ipynb\\venv\\lib\\site-packages\\manim\\scene\\scene_file_writer.py\" target=\"_blank\"><span style=\"color: #7f7f7f; text-decoration-color: #7f7f7f\">scene_file_writer.py</span></a><span style=\"color: #7f7f7f; text-decoration-color: #7f7f7f\">:</span><a href=\"file://E:\\ipynb\\venv\\lib\\site-packages\\manim\\scene\\scene_file_writer.py#527\" target=\"_blank\"><span style=\"color: #7f7f7f; text-decoration-color: #7f7f7f\">527</span></a>\n",
       "<span style=\"color: #7fbfbf; text-decoration-color: #7fbfbf\">                     </span>         <span style=\"color: #008000; text-decoration-color: #008000\">'E:\\ipynb\\python_design\\yty_math\\media\\videos\\1080p60\\partia</span> <span style=\"color: #7f7f7f; text-decoration-color: #7f7f7f\">                        </span>\n",
       "<span style=\"color: #7fbfbf; text-decoration-color: #7fbfbf\">                     </span>         <span style=\"color: #008000; text-decoration-color: #008000\">l_movie_files\\MatrixDetShow\\3280146143_3625972528_1894115472</span> <span style=\"color: #7f7f7f; text-decoration-color: #7f7f7f\">                        </span>\n",
       "<span style=\"color: #7fbfbf; text-decoration-color: #7fbfbf\">                     </span>         <span style=\"color: #008000; text-decoration-color: #008000\">.mp4'</span>                                                        <span style=\"color: #7f7f7f; text-decoration-color: #7f7f7f\">                        </span>\n",
       "</pre>\n"
      ]
     },
     "metadata": {},
     "output_type": "display_data"
    },
    {
     "name": "stderr",
     "output_type": "stream",
     "text": [
      "                                                                                \r"
     ]
    },
    {
     "data": {
      "text/plain": [
       "\u001B[2;36m[2024/12/1 20:20:12]\u001B[0m\u001B[2;36m \u001B[0m\u001B[32mINFO    \u001B[0m Animation \u001B[32m15\u001B[0m : Partial movie file written in                 \u001B]8;id=296647;file://E:\\ipynb\\venv\\lib\\site-packages\\manim\\scene\\scene_file_writer.py\u001B\\\u001B[2mscene_file_writer.py\u001B[0m\u001B]8;;\u001B\\\u001B[2m:\u001B[0m\u001B]8;id=563565;file://E:\\ipynb\\venv\\lib\\site-packages\\manim\\scene\\scene_file_writer.py#527\u001B\\\u001B[2m527\u001B[0m\u001B]8;;\u001B\\\n",
       "\u001B[2;36m                     \u001B[0m         \u001B[32m'E:\\ipynb\\python_design\\yty_math\\media\\videos\\1080p60\\partia\u001B[0m \u001B[2m                        \u001B[0m\n",
       "\u001B[2;36m                     \u001B[0m         \u001B[32ml_movie_files\\MatrixDetShow\\3280146143_3092291514_3157936496\u001B[0m \u001B[2m                        \u001B[0m\n",
       "\u001B[2;36m                     \u001B[0m         \u001B[32m.mp4'\u001B[0m                                                        \u001B[2m                        \u001B[0m\n"
      ],
      "text/html": [
       "<pre style=\"white-space:pre;overflow-x:auto;line-height:normal;font-family:Menlo,'DejaVu Sans Mono',consolas,'Courier New',monospace\"><span style=\"color: #7fbfbf; text-decoration-color: #7fbfbf\">[2024/12/1 20:20:12] </span><span style=\"color: #008000; text-decoration-color: #008000\">INFO    </span> Animation <span style=\"color: #008000; text-decoration-color: #008000\">15</span> : Partial movie file written in                 <a href=\"file://E:\\ipynb\\venv\\lib\\site-packages\\manim\\scene\\scene_file_writer.py\" target=\"_blank\"><span style=\"color: #7f7f7f; text-decoration-color: #7f7f7f\">scene_file_writer.py</span></a><span style=\"color: #7f7f7f; text-decoration-color: #7f7f7f\">:</span><a href=\"file://E:\\ipynb\\venv\\lib\\site-packages\\manim\\scene\\scene_file_writer.py#527\" target=\"_blank\"><span style=\"color: #7f7f7f; text-decoration-color: #7f7f7f\">527</span></a>\n",
       "<span style=\"color: #7fbfbf; text-decoration-color: #7fbfbf\">                     </span>         <span style=\"color: #008000; text-decoration-color: #008000\">'E:\\ipynb\\python_design\\yty_math\\media\\videos\\1080p60\\partia</span> <span style=\"color: #7f7f7f; text-decoration-color: #7f7f7f\">                        </span>\n",
       "<span style=\"color: #7fbfbf; text-decoration-color: #7fbfbf\">                     </span>         <span style=\"color: #008000; text-decoration-color: #008000\">l_movie_files\\MatrixDetShow\\3280146143_3092291514_3157936496</span> <span style=\"color: #7f7f7f; text-decoration-color: #7f7f7f\">                        </span>\n",
       "<span style=\"color: #7fbfbf; text-decoration-color: #7fbfbf\">                     </span>         <span style=\"color: #008000; text-decoration-color: #008000\">.mp4'</span>                                                        <span style=\"color: #7f7f7f; text-decoration-color: #7f7f7f\">                        </span>\n",
       "</pre>\n"
      ]
     },
     "metadata": {},
     "output_type": "display_data"
    },
    {
     "name": "stderr",
     "output_type": "stream",
     "text": [
      "                                                                                               \r"
     ]
    },
    {
     "data": {
      "text/plain": [
       "\u001B[2;36m[2024/12/1 20:20:16]\u001B[0m\u001B[2;36m \u001B[0m\u001B[32mINFO    \u001B[0m Animation \u001B[32m16\u001B[0m : Partial movie file written in                 \u001B]8;id=820044;file://E:\\ipynb\\venv\\lib\\site-packages\\manim\\scene\\scene_file_writer.py\u001B\\\u001B[2mscene_file_writer.py\u001B[0m\u001B]8;;\u001B\\\u001B[2m:\u001B[0m\u001B]8;id=346518;file://E:\\ipynb\\venv\\lib\\site-packages\\manim\\scene\\scene_file_writer.py#527\u001B\\\u001B[2m527\u001B[0m\u001B]8;;\u001B\\\n",
       "\u001B[2;36m                     \u001B[0m         \u001B[32m'E:\\ipynb\\python_design\\yty_math\\media\\videos\\1080p60\\partia\u001B[0m \u001B[2m                        \u001B[0m\n",
       "\u001B[2;36m                     \u001B[0m         \u001B[32ml_movie_files\\MatrixDetShow\\3280146143_319308773_3422664369.\u001B[0m \u001B[2m                        \u001B[0m\n",
       "\u001B[2;36m                     \u001B[0m         \u001B[32mmp4'\u001B[0m                                                         \u001B[2m                        \u001B[0m\n"
      ],
      "text/html": [
       "<pre style=\"white-space:pre;overflow-x:auto;line-height:normal;font-family:Menlo,'DejaVu Sans Mono',consolas,'Courier New',monospace\"><span style=\"color: #7fbfbf; text-decoration-color: #7fbfbf\">[2024/12/1 20:20:16] </span><span style=\"color: #008000; text-decoration-color: #008000\">INFO    </span> Animation <span style=\"color: #008000; text-decoration-color: #008000\">16</span> : Partial movie file written in                 <a href=\"file://E:\\ipynb\\venv\\lib\\site-packages\\manim\\scene\\scene_file_writer.py\" target=\"_blank\"><span style=\"color: #7f7f7f; text-decoration-color: #7f7f7f\">scene_file_writer.py</span></a><span style=\"color: #7f7f7f; text-decoration-color: #7f7f7f\">:</span><a href=\"file://E:\\ipynb\\venv\\lib\\site-packages\\manim\\scene\\scene_file_writer.py#527\" target=\"_blank\"><span style=\"color: #7f7f7f; text-decoration-color: #7f7f7f\">527</span></a>\n",
       "<span style=\"color: #7fbfbf; text-decoration-color: #7fbfbf\">                     </span>         <span style=\"color: #008000; text-decoration-color: #008000\">'E:\\ipynb\\python_design\\yty_math\\media\\videos\\1080p60\\partia</span> <span style=\"color: #7f7f7f; text-decoration-color: #7f7f7f\">                        </span>\n",
       "<span style=\"color: #7fbfbf; text-decoration-color: #7fbfbf\">                     </span>         <span style=\"color: #008000; text-decoration-color: #008000\">l_movie_files\\MatrixDetShow\\3280146143_319308773_3422664369.</span> <span style=\"color: #7f7f7f; text-decoration-color: #7f7f7f\">                        </span>\n",
       "<span style=\"color: #7fbfbf; text-decoration-color: #7fbfbf\">                     </span>         <span style=\"color: #008000; text-decoration-color: #008000\">mp4'</span>                                                         <span style=\"color: #7f7f7f; text-decoration-color: #7f7f7f\">                        </span>\n",
       "</pre>\n"
      ]
     },
     "metadata": {},
     "output_type": "display_data"
    },
    {
     "name": "stderr",
     "output_type": "stream",
     "text": [
      "                                                                                                        \r"
     ]
    },
    {
     "data": {
      "text/plain": [
       "\u001B[2;36m[2024/12/1 20:20:19]\u001B[0m\u001B[2;36m \u001B[0m\u001B[32mINFO    \u001B[0m Animation \u001B[32m17\u001B[0m : Partial movie file written in                 \u001B]8;id=290749;file://E:\\ipynb\\venv\\lib\\site-packages\\manim\\scene\\scene_file_writer.py\u001B\\\u001B[2mscene_file_writer.py\u001B[0m\u001B]8;;\u001B\\\u001B[2m:\u001B[0m\u001B]8;id=165783;file://E:\\ipynb\\venv\\lib\\site-packages\\manim\\scene\\scene_file_writer.py#527\u001B\\\u001B[2m527\u001B[0m\u001B]8;;\u001B\\\n",
       "\u001B[2;36m                     \u001B[0m         \u001B[32m'E:\\ipynb\\python_design\\yty_math\\media\\videos\\1080p60\\partia\u001B[0m \u001B[2m                        \u001B[0m\n",
       "\u001B[2;36m                     \u001B[0m         \u001B[32ml_movie_files\\MatrixDetShow\\3280146143_3101083264_192320961.\u001B[0m \u001B[2m                        \u001B[0m\n",
       "\u001B[2;36m                     \u001B[0m         \u001B[32mmp4'\u001B[0m                                                         \u001B[2m                        \u001B[0m\n"
      ],
      "text/html": [
       "<pre style=\"white-space:pre;overflow-x:auto;line-height:normal;font-family:Menlo,'DejaVu Sans Mono',consolas,'Courier New',monospace\"><span style=\"color: #7fbfbf; text-decoration-color: #7fbfbf\">[2024/12/1 20:20:19] </span><span style=\"color: #008000; text-decoration-color: #008000\">INFO    </span> Animation <span style=\"color: #008000; text-decoration-color: #008000\">17</span> : Partial movie file written in                 <a href=\"file://E:\\ipynb\\venv\\lib\\site-packages\\manim\\scene\\scene_file_writer.py\" target=\"_blank\"><span style=\"color: #7f7f7f; text-decoration-color: #7f7f7f\">scene_file_writer.py</span></a><span style=\"color: #7f7f7f; text-decoration-color: #7f7f7f\">:</span><a href=\"file://E:\\ipynb\\venv\\lib\\site-packages\\manim\\scene\\scene_file_writer.py#527\" target=\"_blank\"><span style=\"color: #7f7f7f; text-decoration-color: #7f7f7f\">527</span></a>\n",
       "<span style=\"color: #7fbfbf; text-decoration-color: #7fbfbf\">                     </span>         <span style=\"color: #008000; text-decoration-color: #008000\">'E:\\ipynb\\python_design\\yty_math\\media\\videos\\1080p60\\partia</span> <span style=\"color: #7f7f7f; text-decoration-color: #7f7f7f\">                        </span>\n",
       "<span style=\"color: #7fbfbf; text-decoration-color: #7fbfbf\">                     </span>         <span style=\"color: #008000; text-decoration-color: #008000\">l_movie_files\\MatrixDetShow\\3280146143_3101083264_192320961.</span> <span style=\"color: #7f7f7f; text-decoration-color: #7f7f7f\">                        </span>\n",
       "<span style=\"color: #7fbfbf; text-decoration-color: #7fbfbf\">                     </span>         <span style=\"color: #008000; text-decoration-color: #008000\">mp4'</span>                                                         <span style=\"color: #7f7f7f; text-decoration-color: #7f7f7f\">                        </span>\n",
       "</pre>\n"
      ]
     },
     "metadata": {},
     "output_type": "display_data"
    },
    {
     "name": "stderr",
     "output_type": "stream",
     "text": [
      "                                                                                                         \r"
     ]
    },
    {
     "data": {
      "text/plain": [
       "\u001B[2;36m[2024/12/1 20:20:21]\u001B[0m\u001B[2;36m \u001B[0m\u001B[32mINFO    \u001B[0m Animation \u001B[32m18\u001B[0m : Partial movie file written in                 \u001B]8;id=23077;file://E:\\ipynb\\venv\\lib\\site-packages\\manim\\scene\\scene_file_writer.py\u001B\\\u001B[2mscene_file_writer.py\u001B[0m\u001B]8;;\u001B\\\u001B[2m:\u001B[0m\u001B]8;id=612647;file://E:\\ipynb\\venv\\lib\\site-packages\\manim\\scene\\scene_file_writer.py#527\u001B\\\u001B[2m527\u001B[0m\u001B]8;;\u001B\\\n",
       "\u001B[2;36m                     \u001B[0m         \u001B[32m'E:\\ipynb\\python_design\\yty_math\\media\\videos\\1080p60\\partia\u001B[0m \u001B[2m                        \u001B[0m\n",
       "\u001B[2;36m                     \u001B[0m         \u001B[32ml_movie_files\\MatrixDetShow\\3280146143_2765276954_221444892.\u001B[0m \u001B[2m                        \u001B[0m\n",
       "\u001B[2;36m                     \u001B[0m         \u001B[32mmp4'\u001B[0m                                                         \u001B[2m                        \u001B[0m\n"
      ],
      "text/html": [
       "<pre style=\"white-space:pre;overflow-x:auto;line-height:normal;font-family:Menlo,'DejaVu Sans Mono',consolas,'Courier New',monospace\"><span style=\"color: #7fbfbf; text-decoration-color: #7fbfbf\">[2024/12/1 20:20:21] </span><span style=\"color: #008000; text-decoration-color: #008000\">INFO    </span> Animation <span style=\"color: #008000; text-decoration-color: #008000\">18</span> : Partial movie file written in                 <a href=\"file://E:\\ipynb\\venv\\lib\\site-packages\\manim\\scene\\scene_file_writer.py\" target=\"_blank\"><span style=\"color: #7f7f7f; text-decoration-color: #7f7f7f\">scene_file_writer.py</span></a><span style=\"color: #7f7f7f; text-decoration-color: #7f7f7f\">:</span><a href=\"file://E:\\ipynb\\venv\\lib\\site-packages\\manim\\scene\\scene_file_writer.py#527\" target=\"_blank\"><span style=\"color: #7f7f7f; text-decoration-color: #7f7f7f\">527</span></a>\n",
       "<span style=\"color: #7fbfbf; text-decoration-color: #7fbfbf\">                     </span>         <span style=\"color: #008000; text-decoration-color: #008000\">'E:\\ipynb\\python_design\\yty_math\\media\\videos\\1080p60\\partia</span> <span style=\"color: #7f7f7f; text-decoration-color: #7f7f7f\">                        </span>\n",
       "<span style=\"color: #7fbfbf; text-decoration-color: #7fbfbf\">                     </span>         <span style=\"color: #008000; text-decoration-color: #008000\">l_movie_files\\MatrixDetShow\\3280146143_2765276954_221444892.</span> <span style=\"color: #7f7f7f; text-decoration-color: #7f7f7f\">                        </span>\n",
       "<span style=\"color: #7fbfbf; text-decoration-color: #7fbfbf\">                     </span>         <span style=\"color: #008000; text-decoration-color: #008000\">mp4'</span>                                                         <span style=\"color: #7f7f7f; text-decoration-color: #7f7f7f\">                        </span>\n",
       "</pre>\n"
      ]
     },
     "metadata": {},
     "output_type": "display_data"
    },
    {
     "name": "stderr",
     "output_type": "stream",
     "text": [
      "                                                                                 \r"
     ]
    },
    {
     "data": {
      "text/plain": [
       "\u001B[2;36m[2024/12/1 20:20:23]\u001B[0m\u001B[2;36m \u001B[0m\u001B[32mINFO    \u001B[0m Animation \u001B[32m19\u001B[0m : Partial movie file written in                 \u001B]8;id=117210;file://E:\\ipynb\\venv\\lib\\site-packages\\manim\\scene\\scene_file_writer.py\u001B\\\u001B[2mscene_file_writer.py\u001B[0m\u001B]8;;\u001B\\\u001B[2m:\u001B[0m\u001B]8;id=36642;file://E:\\ipynb\\venv\\lib\\site-packages\\manim\\scene\\scene_file_writer.py#527\u001B\\\u001B[2m527\u001B[0m\u001B]8;;\u001B\\\n",
       "\u001B[2;36m                     \u001B[0m         \u001B[32m'E:\\ipynb\\python_design\\yty_math\\media\\videos\\1080p60\\partia\u001B[0m \u001B[2m                        \u001B[0m\n",
       "\u001B[2;36m                     \u001B[0m         \u001B[32ml_movie_files\\MatrixDetShow\\3280146143_3619960244_3620995041\u001B[0m \u001B[2m                        \u001B[0m\n",
       "\u001B[2;36m                     \u001B[0m         \u001B[32m.mp4'\u001B[0m                                                        \u001B[2m                        \u001B[0m\n"
      ],
      "text/html": [
       "<pre style=\"white-space:pre;overflow-x:auto;line-height:normal;font-family:Menlo,'DejaVu Sans Mono',consolas,'Courier New',monospace\"><span style=\"color: #7fbfbf; text-decoration-color: #7fbfbf\">[2024/12/1 20:20:23] </span><span style=\"color: #008000; text-decoration-color: #008000\">INFO    </span> Animation <span style=\"color: #008000; text-decoration-color: #008000\">19</span> : Partial movie file written in                 <a href=\"file://E:\\ipynb\\venv\\lib\\site-packages\\manim\\scene\\scene_file_writer.py\" target=\"_blank\"><span style=\"color: #7f7f7f; text-decoration-color: #7f7f7f\">scene_file_writer.py</span></a><span style=\"color: #7f7f7f; text-decoration-color: #7f7f7f\">:</span><a href=\"file://E:\\ipynb\\venv\\lib\\site-packages\\manim\\scene\\scene_file_writer.py#527\" target=\"_blank\"><span style=\"color: #7f7f7f; text-decoration-color: #7f7f7f\">527</span></a>\n",
       "<span style=\"color: #7fbfbf; text-decoration-color: #7fbfbf\">                     </span>         <span style=\"color: #008000; text-decoration-color: #008000\">'E:\\ipynb\\python_design\\yty_math\\media\\videos\\1080p60\\partia</span> <span style=\"color: #7f7f7f; text-decoration-color: #7f7f7f\">                        </span>\n",
       "<span style=\"color: #7fbfbf; text-decoration-color: #7fbfbf\">                     </span>         <span style=\"color: #008000; text-decoration-color: #008000\">l_movie_files\\MatrixDetShow\\3280146143_3619960244_3620995041</span> <span style=\"color: #7f7f7f; text-decoration-color: #7f7f7f\">                        </span>\n",
       "<span style=\"color: #7fbfbf; text-decoration-color: #7fbfbf\">                     </span>         <span style=\"color: #008000; text-decoration-color: #008000\">.mp4'</span>                                                        <span style=\"color: #7f7f7f; text-decoration-color: #7f7f7f\">                        </span>\n",
       "</pre>\n"
      ]
     },
     "metadata": {},
     "output_type": "display_data"
    },
    {
     "name": "stderr",
     "output_type": "stream",
     "text": [
      "                                                                                                        \r"
     ]
    },
    {
     "data": {
      "text/plain": [
       "\u001B[2;36m[2024/12/1 20:20:26]\u001B[0m\u001B[2;36m \u001B[0m\u001B[32mINFO    \u001B[0m Animation \u001B[32m20\u001B[0m : Partial movie file written in                 \u001B]8;id=59078;file://E:\\ipynb\\venv\\lib\\site-packages\\manim\\scene\\scene_file_writer.py\u001B\\\u001B[2mscene_file_writer.py\u001B[0m\u001B]8;;\u001B\\\u001B[2m:\u001B[0m\u001B]8;id=397831;file://E:\\ipynb\\venv\\lib\\site-packages\\manim\\scene\\scene_file_writer.py#527\u001B\\\u001B[2m527\u001B[0m\u001B]8;;\u001B\\\n",
       "\u001B[2;36m                     \u001B[0m         \u001B[32m'E:\\ipynb\\python_design\\yty_math\\media\\videos\\1080p60\\partia\u001B[0m \u001B[2m                        \u001B[0m\n",
       "\u001B[2;36m                     \u001B[0m         \u001B[32ml_movie_files\\MatrixDetShow\\3280146143_2393935343_2153101472\u001B[0m \u001B[2m                        \u001B[0m\n",
       "\u001B[2;36m                     \u001B[0m         \u001B[32m.mp4'\u001B[0m                                                        \u001B[2m                        \u001B[0m\n"
      ],
      "text/html": [
       "<pre style=\"white-space:pre;overflow-x:auto;line-height:normal;font-family:Menlo,'DejaVu Sans Mono',consolas,'Courier New',monospace\"><span style=\"color: #7fbfbf; text-decoration-color: #7fbfbf\">[2024/12/1 20:20:26] </span><span style=\"color: #008000; text-decoration-color: #008000\">INFO    </span> Animation <span style=\"color: #008000; text-decoration-color: #008000\">20</span> : Partial movie file written in                 <a href=\"file://E:\\ipynb\\venv\\lib\\site-packages\\manim\\scene\\scene_file_writer.py\" target=\"_blank\"><span style=\"color: #7f7f7f; text-decoration-color: #7f7f7f\">scene_file_writer.py</span></a><span style=\"color: #7f7f7f; text-decoration-color: #7f7f7f\">:</span><a href=\"file://E:\\ipynb\\venv\\lib\\site-packages\\manim\\scene\\scene_file_writer.py#527\" target=\"_blank\"><span style=\"color: #7f7f7f; text-decoration-color: #7f7f7f\">527</span></a>\n",
       "<span style=\"color: #7fbfbf; text-decoration-color: #7fbfbf\">                     </span>         <span style=\"color: #008000; text-decoration-color: #008000\">'E:\\ipynb\\python_design\\yty_math\\media\\videos\\1080p60\\partia</span> <span style=\"color: #7f7f7f; text-decoration-color: #7f7f7f\">                        </span>\n",
       "<span style=\"color: #7fbfbf; text-decoration-color: #7fbfbf\">                     </span>         <span style=\"color: #008000; text-decoration-color: #008000\">l_movie_files\\MatrixDetShow\\3280146143_2393935343_2153101472</span> <span style=\"color: #7f7f7f; text-decoration-color: #7f7f7f\">                        </span>\n",
       "<span style=\"color: #7fbfbf; text-decoration-color: #7fbfbf\">                     </span>         <span style=\"color: #008000; text-decoration-color: #008000\">.mp4'</span>                                                        <span style=\"color: #7f7f7f; text-decoration-color: #7f7f7f\">                        </span>\n",
       "</pre>\n"
      ]
     },
     "metadata": {},
     "output_type": "display_data"
    },
    {
     "name": "stderr",
     "output_type": "stream",
     "text": [
      "                                                                                \r"
     ]
    },
    {
     "data": {
      "text/plain": [
       "\u001B[2;36m[2024/12/1 20:20:29]\u001B[0m\u001B[2;36m \u001B[0m\u001B[32mINFO    \u001B[0m Animation \u001B[32m21\u001B[0m : Partial movie file written in                 \u001B]8;id=211335;file://E:\\ipynb\\venv\\lib\\site-packages\\manim\\scene\\scene_file_writer.py\u001B\\\u001B[2mscene_file_writer.py\u001B[0m\u001B]8;;\u001B\\\u001B[2m:\u001B[0m\u001B]8;id=186516;file://E:\\ipynb\\venv\\lib\\site-packages\\manim\\scene\\scene_file_writer.py#527\u001B\\\u001B[2m527\u001B[0m\u001B]8;;\u001B\\\n",
       "\u001B[2;36m                     \u001B[0m         \u001B[32m'E:\\ipynb\\python_design\\yty_math\\media\\videos\\1080p60\\partia\u001B[0m \u001B[2m                        \u001B[0m\n",
       "\u001B[2;36m                     \u001B[0m         \u001B[32ml_movie_files\\MatrixDetShow\\3280146143_1850725918_3676890475\u001B[0m \u001B[2m                        \u001B[0m\n",
       "\u001B[2;36m                     \u001B[0m         \u001B[32m.mp4'\u001B[0m                                                        \u001B[2m                        \u001B[0m\n"
      ],
      "text/html": [
       "<pre style=\"white-space:pre;overflow-x:auto;line-height:normal;font-family:Menlo,'DejaVu Sans Mono',consolas,'Courier New',monospace\"><span style=\"color: #7fbfbf; text-decoration-color: #7fbfbf\">[2024/12/1 20:20:29] </span><span style=\"color: #008000; text-decoration-color: #008000\">INFO    </span> Animation <span style=\"color: #008000; text-decoration-color: #008000\">21</span> : Partial movie file written in                 <a href=\"file://E:\\ipynb\\venv\\lib\\site-packages\\manim\\scene\\scene_file_writer.py\" target=\"_blank\"><span style=\"color: #7f7f7f; text-decoration-color: #7f7f7f\">scene_file_writer.py</span></a><span style=\"color: #7f7f7f; text-decoration-color: #7f7f7f\">:</span><a href=\"file://E:\\ipynb\\venv\\lib\\site-packages\\manim\\scene\\scene_file_writer.py#527\" target=\"_blank\"><span style=\"color: #7f7f7f; text-decoration-color: #7f7f7f\">527</span></a>\n",
       "<span style=\"color: #7fbfbf; text-decoration-color: #7fbfbf\">                     </span>         <span style=\"color: #008000; text-decoration-color: #008000\">'E:\\ipynb\\python_design\\yty_math\\media\\videos\\1080p60\\partia</span> <span style=\"color: #7f7f7f; text-decoration-color: #7f7f7f\">                        </span>\n",
       "<span style=\"color: #7fbfbf; text-decoration-color: #7fbfbf\">                     </span>         <span style=\"color: #008000; text-decoration-color: #008000\">l_movie_files\\MatrixDetShow\\3280146143_1850725918_3676890475</span> <span style=\"color: #7f7f7f; text-decoration-color: #7f7f7f\">                        </span>\n",
       "<span style=\"color: #7fbfbf; text-decoration-color: #7fbfbf\">                     </span>         <span style=\"color: #008000; text-decoration-color: #008000\">.mp4'</span>                                                        <span style=\"color: #7f7f7f; text-decoration-color: #7f7f7f\">                        </span>\n",
       "</pre>\n"
      ]
     },
     "metadata": {},
     "output_type": "display_data"
    },
    {
     "name": "stderr",
     "output_type": "stream",
     "text": [
      "                                                                                                         \r"
     ]
    },
    {
     "data": {
      "text/plain": [
       "\u001B[2;36m[2024/12/1 20:20:31]\u001B[0m\u001B[2;36m \u001B[0m\u001B[32mINFO    \u001B[0m Animation \u001B[32m22\u001B[0m : Partial movie file written in                 \u001B]8;id=73556;file://E:\\ipynb\\venv\\lib\\site-packages\\manim\\scene\\scene_file_writer.py\u001B\\\u001B[2mscene_file_writer.py\u001B[0m\u001B]8;;\u001B\\\u001B[2m:\u001B[0m\u001B]8;id=346121;file://E:\\ipynb\\venv\\lib\\site-packages\\manim\\scene\\scene_file_writer.py#527\u001B\\\u001B[2m527\u001B[0m\u001B]8;;\u001B\\\n",
       "\u001B[2;36m                     \u001B[0m         \u001B[32m'E:\\ipynb\\python_design\\yty_math\\media\\videos\\1080p60\\partia\u001B[0m \u001B[2m                        \u001B[0m\n",
       "\u001B[2;36m                     \u001B[0m         \u001B[32ml_movie_files\\MatrixDetShow\\3280146143_2473178332_1100461858\u001B[0m \u001B[2m                        \u001B[0m\n",
       "\u001B[2;36m                     \u001B[0m         \u001B[32m.mp4'\u001B[0m                                                        \u001B[2m                        \u001B[0m\n"
      ],
      "text/html": [
       "<pre style=\"white-space:pre;overflow-x:auto;line-height:normal;font-family:Menlo,'DejaVu Sans Mono',consolas,'Courier New',monospace\"><span style=\"color: #7fbfbf; text-decoration-color: #7fbfbf\">[2024/12/1 20:20:31] </span><span style=\"color: #008000; text-decoration-color: #008000\">INFO    </span> Animation <span style=\"color: #008000; text-decoration-color: #008000\">22</span> : Partial movie file written in                 <a href=\"file://E:\\ipynb\\venv\\lib\\site-packages\\manim\\scene\\scene_file_writer.py\" target=\"_blank\"><span style=\"color: #7f7f7f; text-decoration-color: #7f7f7f\">scene_file_writer.py</span></a><span style=\"color: #7f7f7f; text-decoration-color: #7f7f7f\">:</span><a href=\"file://E:\\ipynb\\venv\\lib\\site-packages\\manim\\scene\\scene_file_writer.py#527\" target=\"_blank\"><span style=\"color: #7f7f7f; text-decoration-color: #7f7f7f\">527</span></a>\n",
       "<span style=\"color: #7fbfbf; text-decoration-color: #7fbfbf\">                     </span>         <span style=\"color: #008000; text-decoration-color: #008000\">'E:\\ipynb\\python_design\\yty_math\\media\\videos\\1080p60\\partia</span> <span style=\"color: #7f7f7f; text-decoration-color: #7f7f7f\">                        </span>\n",
       "<span style=\"color: #7fbfbf; text-decoration-color: #7fbfbf\">                     </span>         <span style=\"color: #008000; text-decoration-color: #008000\">l_movie_files\\MatrixDetShow\\3280146143_2473178332_1100461858</span> <span style=\"color: #7f7f7f; text-decoration-color: #7f7f7f\">                        </span>\n",
       "<span style=\"color: #7fbfbf; text-decoration-color: #7fbfbf\">                     </span>         <span style=\"color: #008000; text-decoration-color: #008000\">.mp4'</span>                                                        <span style=\"color: #7f7f7f; text-decoration-color: #7f7f7f\">                        </span>\n",
       "</pre>\n"
      ]
     },
     "metadata": {},
     "output_type": "display_data"
    },
    {
     "name": "stderr",
     "output_type": "stream",
     "text": [
      "                                                                                \r"
     ]
    },
    {
     "data": {
      "text/plain": [
       "\u001B[2;36m[2024/12/1 20:20:33]\u001B[0m\u001B[2;36m \u001B[0m\u001B[32mINFO    \u001B[0m Animation \u001B[32m23\u001B[0m : Partial movie file written in                 \u001B]8;id=551968;file://E:\\ipynb\\venv\\lib\\site-packages\\manim\\scene\\scene_file_writer.py\u001B\\\u001B[2mscene_file_writer.py\u001B[0m\u001B]8;;\u001B\\\u001B[2m:\u001B[0m\u001B]8;id=629406;file://E:\\ipynb\\venv\\lib\\site-packages\\manim\\scene\\scene_file_writer.py#527\u001B\\\u001B[2m527\u001B[0m\u001B]8;;\u001B\\\n",
       "\u001B[2;36m                     \u001B[0m         \u001B[32m'E:\\ipynb\\python_design\\yty_math\\media\\videos\\1080p60\\partia\u001B[0m \u001B[2m                        \u001B[0m\n",
       "\u001B[2;36m                     \u001B[0m         \u001B[32ml_movie_files\\MatrixDetShow\\3280146143_2048095127_2667213587\u001B[0m \u001B[2m                        \u001B[0m\n",
       "\u001B[2;36m                     \u001B[0m         \u001B[32m.mp4'\u001B[0m                                                        \u001B[2m                        \u001B[0m\n"
      ],
      "text/html": [
       "<pre style=\"white-space:pre;overflow-x:auto;line-height:normal;font-family:Menlo,'DejaVu Sans Mono',consolas,'Courier New',monospace\"><span style=\"color: #7fbfbf; text-decoration-color: #7fbfbf\">[2024/12/1 20:20:33] </span><span style=\"color: #008000; text-decoration-color: #008000\">INFO    </span> Animation <span style=\"color: #008000; text-decoration-color: #008000\">23</span> : Partial movie file written in                 <a href=\"file://E:\\ipynb\\venv\\lib\\site-packages\\manim\\scene\\scene_file_writer.py\" target=\"_blank\"><span style=\"color: #7f7f7f; text-decoration-color: #7f7f7f\">scene_file_writer.py</span></a><span style=\"color: #7f7f7f; text-decoration-color: #7f7f7f\">:</span><a href=\"file://E:\\ipynb\\venv\\lib\\site-packages\\manim\\scene\\scene_file_writer.py#527\" target=\"_blank\"><span style=\"color: #7f7f7f; text-decoration-color: #7f7f7f\">527</span></a>\n",
       "<span style=\"color: #7fbfbf; text-decoration-color: #7fbfbf\">                     </span>         <span style=\"color: #008000; text-decoration-color: #008000\">'E:\\ipynb\\python_design\\yty_math\\media\\videos\\1080p60\\partia</span> <span style=\"color: #7f7f7f; text-decoration-color: #7f7f7f\">                        </span>\n",
       "<span style=\"color: #7fbfbf; text-decoration-color: #7fbfbf\">                     </span>         <span style=\"color: #008000; text-decoration-color: #008000\">l_movie_files\\MatrixDetShow\\3280146143_2048095127_2667213587</span> <span style=\"color: #7f7f7f; text-decoration-color: #7f7f7f\">                        </span>\n",
       "<span style=\"color: #7fbfbf; text-decoration-color: #7fbfbf\">                     </span>         <span style=\"color: #008000; text-decoration-color: #008000\">.mp4'</span>                                                        <span style=\"color: #7f7f7f; text-decoration-color: #7f7f7f\">                        </span>\n",
       "</pre>\n"
      ]
     },
     "metadata": {},
     "output_type": "display_data"
    },
    {
     "name": "stderr",
     "output_type": "stream",
     "text": [
      "                                                                                   \r"
     ]
    },
    {
     "data": {
      "text/plain": [
       "\u001B[2;36m[2024/12/1 20:20:36]\u001B[0m\u001B[2;36m \u001B[0m\u001B[32mINFO    \u001B[0m Animation \u001B[32m24\u001B[0m : Partial movie file written in                 \u001B]8;id=789835;file://E:\\ipynb\\venv\\lib\\site-packages\\manim\\scene\\scene_file_writer.py\u001B\\\u001B[2mscene_file_writer.py\u001B[0m\u001B]8;;\u001B\\\u001B[2m:\u001B[0m\u001B]8;id=827175;file://E:\\ipynb\\venv\\lib\\site-packages\\manim\\scene\\scene_file_writer.py#527\u001B\\\u001B[2m527\u001B[0m\u001B]8;;\u001B\\\n",
       "\u001B[2;36m                     \u001B[0m         \u001B[32m'E:\\ipynb\\python_design\\yty_math\\media\\videos\\1080p60\\partia\u001B[0m \u001B[2m                        \u001B[0m\n",
       "\u001B[2;36m                     \u001B[0m         \u001B[32ml_movie_files\\MatrixDetShow\\3280146143_4083084149_1501456605\u001B[0m \u001B[2m                        \u001B[0m\n",
       "\u001B[2;36m                     \u001B[0m         \u001B[32m.mp4'\u001B[0m                                                        \u001B[2m                        \u001B[0m\n"
      ],
      "text/html": [
       "<pre style=\"white-space:pre;overflow-x:auto;line-height:normal;font-family:Menlo,'DejaVu Sans Mono',consolas,'Courier New',monospace\"><span style=\"color: #7fbfbf; text-decoration-color: #7fbfbf\">[2024/12/1 20:20:36] </span><span style=\"color: #008000; text-decoration-color: #008000\">INFO    </span> Animation <span style=\"color: #008000; text-decoration-color: #008000\">24</span> : Partial movie file written in                 <a href=\"file://E:\\ipynb\\venv\\lib\\site-packages\\manim\\scene\\scene_file_writer.py\" target=\"_blank\"><span style=\"color: #7f7f7f; text-decoration-color: #7f7f7f\">scene_file_writer.py</span></a><span style=\"color: #7f7f7f; text-decoration-color: #7f7f7f\">:</span><a href=\"file://E:\\ipynb\\venv\\lib\\site-packages\\manim\\scene\\scene_file_writer.py#527\" target=\"_blank\"><span style=\"color: #7f7f7f; text-decoration-color: #7f7f7f\">527</span></a>\n",
       "<span style=\"color: #7fbfbf; text-decoration-color: #7fbfbf\">                     </span>         <span style=\"color: #008000; text-decoration-color: #008000\">'E:\\ipynb\\python_design\\yty_math\\media\\videos\\1080p60\\partia</span> <span style=\"color: #7f7f7f; text-decoration-color: #7f7f7f\">                        </span>\n",
       "<span style=\"color: #7fbfbf; text-decoration-color: #7fbfbf\">                     </span>         <span style=\"color: #008000; text-decoration-color: #008000\">l_movie_files\\MatrixDetShow\\3280146143_4083084149_1501456605</span> <span style=\"color: #7f7f7f; text-decoration-color: #7f7f7f\">                        </span>\n",
       "<span style=\"color: #7fbfbf; text-decoration-color: #7fbfbf\">                     </span>         <span style=\"color: #008000; text-decoration-color: #008000\">.mp4'</span>                                                        <span style=\"color: #7f7f7f; text-decoration-color: #7f7f7f\">                        </span>\n",
       "</pre>\n"
      ]
     },
     "metadata": {},
     "output_type": "display_data"
    },
    {
     "name": "stderr",
     "output_type": "stream",
     "text": [
      "                                                                                               \r"
     ]
    },
    {
     "data": {
      "text/plain": [
       "\u001B[2;36m[2024/12/1 20:20:39]\u001B[0m\u001B[2;36m \u001B[0m\u001B[32mINFO    \u001B[0m Animation \u001B[32m25\u001B[0m : Partial movie file written in                 \u001B]8;id=560890;file://E:\\ipynb\\venv\\lib\\site-packages\\manim\\scene\\scene_file_writer.py\u001B\\\u001B[2mscene_file_writer.py\u001B[0m\u001B]8;;\u001B\\\u001B[2m:\u001B[0m\u001B]8;id=403117;file://E:\\ipynb\\venv\\lib\\site-packages\\manim\\scene\\scene_file_writer.py#527\u001B\\\u001B[2m527\u001B[0m\u001B]8;;\u001B\\\n",
       "\u001B[2;36m                     \u001B[0m         \u001B[32m'E:\\ipynb\\python_design\\yty_math\\media\\videos\\1080p60\\partia\u001B[0m \u001B[2m                        \u001B[0m\n",
       "\u001B[2;36m                     \u001B[0m         \u001B[32ml_movie_files\\MatrixDetShow\\3280146143_84633038_2394580957.m\u001B[0m \u001B[2m                        \u001B[0m\n",
       "\u001B[2;36m                     \u001B[0m         \u001B[32mp4'\u001B[0m                                                          \u001B[2m                        \u001B[0m\n"
      ],
      "text/html": [
       "<pre style=\"white-space:pre;overflow-x:auto;line-height:normal;font-family:Menlo,'DejaVu Sans Mono',consolas,'Courier New',monospace\"><span style=\"color: #7fbfbf; text-decoration-color: #7fbfbf\">[2024/12/1 20:20:39] </span><span style=\"color: #008000; text-decoration-color: #008000\">INFO    </span> Animation <span style=\"color: #008000; text-decoration-color: #008000\">25</span> : Partial movie file written in                 <a href=\"file://E:\\ipynb\\venv\\lib\\site-packages\\manim\\scene\\scene_file_writer.py\" target=\"_blank\"><span style=\"color: #7f7f7f; text-decoration-color: #7f7f7f\">scene_file_writer.py</span></a><span style=\"color: #7f7f7f; text-decoration-color: #7f7f7f\">:</span><a href=\"file://E:\\ipynb\\venv\\lib\\site-packages\\manim\\scene\\scene_file_writer.py#527\" target=\"_blank\"><span style=\"color: #7f7f7f; text-decoration-color: #7f7f7f\">527</span></a>\n",
       "<span style=\"color: #7fbfbf; text-decoration-color: #7fbfbf\">                     </span>         <span style=\"color: #008000; text-decoration-color: #008000\">'E:\\ipynb\\python_design\\yty_math\\media\\videos\\1080p60\\partia</span> <span style=\"color: #7f7f7f; text-decoration-color: #7f7f7f\">                        </span>\n",
       "<span style=\"color: #7fbfbf; text-decoration-color: #7fbfbf\">                     </span>         <span style=\"color: #008000; text-decoration-color: #008000\">l_movie_files\\MatrixDetShow\\3280146143_84633038_2394580957.m</span> <span style=\"color: #7f7f7f; text-decoration-color: #7f7f7f\">                        </span>\n",
       "<span style=\"color: #7fbfbf; text-decoration-color: #7fbfbf\">                     </span>         <span style=\"color: #008000; text-decoration-color: #008000\">p4'</span>                                                          <span style=\"color: #7f7f7f; text-decoration-color: #7f7f7f\">                        </span>\n",
       "</pre>\n"
      ]
     },
     "metadata": {},
     "output_type": "display_data"
    },
    {
     "name": "stderr",
     "output_type": "stream",
     "text": [
      "                                                                                \r"
     ]
    },
    {
     "data": {
      "text/plain": [
       "\u001B[2;36m[2024/12/1 20:20:42]\u001B[0m\u001B[2;36m \u001B[0m\u001B[32mINFO    \u001B[0m Animation \u001B[32m26\u001B[0m : Partial movie file written in                 \u001B]8;id=792392;file://E:\\ipynb\\venv\\lib\\site-packages\\manim\\scene\\scene_file_writer.py\u001B\\\u001B[2mscene_file_writer.py\u001B[0m\u001B]8;;\u001B\\\u001B[2m:\u001B[0m\u001B]8;id=106295;file://E:\\ipynb\\venv\\lib\\site-packages\\manim\\scene\\scene_file_writer.py#527\u001B\\\u001B[2m527\u001B[0m\u001B]8;;\u001B\\\n",
       "\u001B[2;36m                     \u001B[0m         \u001B[32m'E:\\ipynb\\python_design\\yty_math\\media\\videos\\1080p60\\partia\u001B[0m \u001B[2m                        \u001B[0m\n",
       "\u001B[2;36m                     \u001B[0m         \u001B[32ml_movie_files\\MatrixDetShow\\3280146143_2042651175_1988190733\u001B[0m \u001B[2m                        \u001B[0m\n",
       "\u001B[2;36m                     \u001B[0m         \u001B[32m.mp4'\u001B[0m                                                        \u001B[2m                        \u001B[0m\n"
      ],
      "text/html": [
       "<pre style=\"white-space:pre;overflow-x:auto;line-height:normal;font-family:Menlo,'DejaVu Sans Mono',consolas,'Courier New',monospace\"><span style=\"color: #7fbfbf; text-decoration-color: #7fbfbf\">[2024/12/1 20:20:42] </span><span style=\"color: #008000; text-decoration-color: #008000\">INFO    </span> Animation <span style=\"color: #008000; text-decoration-color: #008000\">26</span> : Partial movie file written in                 <a href=\"file://E:\\ipynb\\venv\\lib\\site-packages\\manim\\scene\\scene_file_writer.py\" target=\"_blank\"><span style=\"color: #7f7f7f; text-decoration-color: #7f7f7f\">scene_file_writer.py</span></a><span style=\"color: #7f7f7f; text-decoration-color: #7f7f7f\">:</span><a href=\"file://E:\\ipynb\\venv\\lib\\site-packages\\manim\\scene\\scene_file_writer.py#527\" target=\"_blank\"><span style=\"color: #7f7f7f; text-decoration-color: #7f7f7f\">527</span></a>\n",
       "<span style=\"color: #7fbfbf; text-decoration-color: #7fbfbf\">                     </span>         <span style=\"color: #008000; text-decoration-color: #008000\">'E:\\ipynb\\python_design\\yty_math\\media\\videos\\1080p60\\partia</span> <span style=\"color: #7f7f7f; text-decoration-color: #7f7f7f\">                        </span>\n",
       "<span style=\"color: #7fbfbf; text-decoration-color: #7fbfbf\">                     </span>         <span style=\"color: #008000; text-decoration-color: #008000\">l_movie_files\\MatrixDetShow\\3280146143_2042651175_1988190733</span> <span style=\"color: #7f7f7f; text-decoration-color: #7f7f7f\">                        </span>\n",
       "<span style=\"color: #7fbfbf; text-decoration-color: #7fbfbf\">                     </span>         <span style=\"color: #008000; text-decoration-color: #008000\">.mp4'</span>                                                        <span style=\"color: #7f7f7f; text-decoration-color: #7f7f7f\">                        </span>\n",
       "</pre>\n"
      ]
     },
     "metadata": {},
     "output_type": "display_data"
    },
    {
     "name": "stderr",
     "output_type": "stream",
     "text": [
      "                                                                                               \r"
     ]
    },
    {
     "data": {
      "text/plain": [
       "\u001B[2;36m[2024/12/1 20:20:46]\u001B[0m\u001B[2;36m \u001B[0m\u001B[32mINFO    \u001B[0m Animation \u001B[32m27\u001B[0m : Partial movie file written in                 \u001B]8;id=635950;file://E:\\ipynb\\venv\\lib\\site-packages\\manim\\scene\\scene_file_writer.py\u001B\\\u001B[2mscene_file_writer.py\u001B[0m\u001B]8;;\u001B\\\u001B[2m:\u001B[0m\u001B]8;id=799332;file://E:\\ipynb\\venv\\lib\\site-packages\\manim\\scene\\scene_file_writer.py#527\u001B\\\u001B[2m527\u001B[0m\u001B]8;;\u001B\\\n",
       "\u001B[2;36m                     \u001B[0m         \u001B[32m'E:\\ipynb\\python_design\\yty_math\\media\\videos\\1080p60\\partia\u001B[0m \u001B[2m                        \u001B[0m\n",
       "\u001B[2;36m                     \u001B[0m         \u001B[32ml_movie_files\\MatrixDetShow\\3280146143_1536803529_2422822577\u001B[0m \u001B[2m                        \u001B[0m\n",
       "\u001B[2;36m                     \u001B[0m         \u001B[32m.mp4'\u001B[0m                                                        \u001B[2m                        \u001B[0m\n"
      ],
      "text/html": [
       "<pre style=\"white-space:pre;overflow-x:auto;line-height:normal;font-family:Menlo,'DejaVu Sans Mono',consolas,'Courier New',monospace\"><span style=\"color: #7fbfbf; text-decoration-color: #7fbfbf\">[2024/12/1 20:20:46] </span><span style=\"color: #008000; text-decoration-color: #008000\">INFO    </span> Animation <span style=\"color: #008000; text-decoration-color: #008000\">27</span> : Partial movie file written in                 <a href=\"file://E:\\ipynb\\venv\\lib\\site-packages\\manim\\scene\\scene_file_writer.py\" target=\"_blank\"><span style=\"color: #7f7f7f; text-decoration-color: #7f7f7f\">scene_file_writer.py</span></a><span style=\"color: #7f7f7f; text-decoration-color: #7f7f7f\">:</span><a href=\"file://E:\\ipynb\\venv\\lib\\site-packages\\manim\\scene\\scene_file_writer.py#527\" target=\"_blank\"><span style=\"color: #7f7f7f; text-decoration-color: #7f7f7f\">527</span></a>\n",
       "<span style=\"color: #7fbfbf; text-decoration-color: #7fbfbf\">                     </span>         <span style=\"color: #008000; text-decoration-color: #008000\">'E:\\ipynb\\python_design\\yty_math\\media\\videos\\1080p60\\partia</span> <span style=\"color: #7f7f7f; text-decoration-color: #7f7f7f\">                        </span>\n",
       "<span style=\"color: #7fbfbf; text-decoration-color: #7fbfbf\">                     </span>         <span style=\"color: #008000; text-decoration-color: #008000\">l_movie_files\\MatrixDetShow\\3280146143_1536803529_2422822577</span> <span style=\"color: #7f7f7f; text-decoration-color: #7f7f7f\">                        </span>\n",
       "<span style=\"color: #7fbfbf; text-decoration-color: #7fbfbf\">                     </span>         <span style=\"color: #008000; text-decoration-color: #008000\">.mp4'</span>                                                        <span style=\"color: #7f7f7f; text-decoration-color: #7f7f7f\">                        </span>\n",
       "</pre>\n"
      ]
     },
     "metadata": {},
     "output_type": "display_data"
    },
    {
     "name": "stderr",
     "output_type": "stream",
     "text": [
      "                                                                                                        \r"
     ]
    },
    {
     "data": {
      "text/plain": [
       "\u001B[2;36m[2024/12/1 20:20:49]\u001B[0m\u001B[2;36m \u001B[0m\u001B[32mINFO    \u001B[0m Animation \u001B[32m28\u001B[0m : Partial movie file written in                 \u001B]8;id=965791;file://E:\\ipynb\\venv\\lib\\site-packages\\manim\\scene\\scene_file_writer.py\u001B\\\u001B[2mscene_file_writer.py\u001B[0m\u001B]8;;\u001B\\\u001B[2m:\u001B[0m\u001B]8;id=283109;file://E:\\ipynb\\venv\\lib\\site-packages\\manim\\scene\\scene_file_writer.py#527\u001B\\\u001B[2m527\u001B[0m\u001B]8;;\u001B\\\n",
       "\u001B[2;36m                     \u001B[0m         \u001B[32m'E:\\ipynb\\python_design\\yty_math\\media\\videos\\1080p60\\partia\u001B[0m \u001B[2m                        \u001B[0m\n",
       "\u001B[2;36m                     \u001B[0m         \u001B[32ml_movie_files\\MatrixDetShow\\3280146143_430996912_2272647701.\u001B[0m \u001B[2m                        \u001B[0m\n",
       "\u001B[2;36m                     \u001B[0m         \u001B[32mmp4'\u001B[0m                                                         \u001B[2m                        \u001B[0m\n"
      ],
      "text/html": [
       "<pre style=\"white-space:pre;overflow-x:auto;line-height:normal;font-family:Menlo,'DejaVu Sans Mono',consolas,'Courier New',monospace\"><span style=\"color: #7fbfbf; text-decoration-color: #7fbfbf\">[2024/12/1 20:20:49] </span><span style=\"color: #008000; text-decoration-color: #008000\">INFO    </span> Animation <span style=\"color: #008000; text-decoration-color: #008000\">28</span> : Partial movie file written in                 <a href=\"file://E:\\ipynb\\venv\\lib\\site-packages\\manim\\scene\\scene_file_writer.py\" target=\"_blank\"><span style=\"color: #7f7f7f; text-decoration-color: #7f7f7f\">scene_file_writer.py</span></a><span style=\"color: #7f7f7f; text-decoration-color: #7f7f7f\">:</span><a href=\"file://E:\\ipynb\\venv\\lib\\site-packages\\manim\\scene\\scene_file_writer.py#527\" target=\"_blank\"><span style=\"color: #7f7f7f; text-decoration-color: #7f7f7f\">527</span></a>\n",
       "<span style=\"color: #7fbfbf; text-decoration-color: #7fbfbf\">                     </span>         <span style=\"color: #008000; text-decoration-color: #008000\">'E:\\ipynb\\python_design\\yty_math\\media\\videos\\1080p60\\partia</span> <span style=\"color: #7f7f7f; text-decoration-color: #7f7f7f\">                        </span>\n",
       "<span style=\"color: #7fbfbf; text-decoration-color: #7fbfbf\">                     </span>         <span style=\"color: #008000; text-decoration-color: #008000\">l_movie_files\\MatrixDetShow\\3280146143_430996912_2272647701.</span> <span style=\"color: #7f7f7f; text-decoration-color: #7f7f7f\">                        </span>\n",
       "<span style=\"color: #7fbfbf; text-decoration-color: #7fbfbf\">                     </span>         <span style=\"color: #008000; text-decoration-color: #008000\">mp4'</span>                                                         <span style=\"color: #7f7f7f; text-decoration-color: #7f7f7f\">                        </span>\n",
       "</pre>\n"
      ]
     },
     "metadata": {},
     "output_type": "display_data"
    },
    {
     "name": "stderr",
     "output_type": "stream",
     "text": [
      "                                                                                                        \r"
     ]
    },
    {
     "data": {
      "text/plain": [
       "\u001B[2;36m[2024/12/1 20:20:52]\u001B[0m\u001B[2;36m \u001B[0m\u001B[32mINFO    \u001B[0m Animation \u001B[32m29\u001B[0m : Partial movie file written in                 \u001B]8;id=289621;file://E:\\ipynb\\venv\\lib\\site-packages\\manim\\scene\\scene_file_writer.py\u001B\\\u001B[2mscene_file_writer.py\u001B[0m\u001B]8;;\u001B\\\u001B[2m:\u001B[0m\u001B]8;id=499543;file://E:\\ipynb\\venv\\lib\\site-packages\\manim\\scene\\scene_file_writer.py#527\u001B\\\u001B[2m527\u001B[0m\u001B]8;;\u001B\\\n",
       "\u001B[2;36m                     \u001B[0m         \u001B[32m'E:\\ipynb\\python_design\\yty_math\\media\\videos\\1080p60\\partia\u001B[0m \u001B[2m                        \u001B[0m\n",
       "\u001B[2;36m                     \u001B[0m         \u001B[32ml_movie_files\\MatrixDetShow\\3280146143_2748653003_2110695968\u001B[0m \u001B[2m                        \u001B[0m\n",
       "\u001B[2;36m                     \u001B[0m         \u001B[32m.mp4'\u001B[0m                                                        \u001B[2m                        \u001B[0m\n"
      ],
      "text/html": [
       "<pre style=\"white-space:pre;overflow-x:auto;line-height:normal;font-family:Menlo,'DejaVu Sans Mono',consolas,'Courier New',monospace\"><span style=\"color: #7fbfbf; text-decoration-color: #7fbfbf\">[2024/12/1 20:20:52] </span><span style=\"color: #008000; text-decoration-color: #008000\">INFO    </span> Animation <span style=\"color: #008000; text-decoration-color: #008000\">29</span> : Partial movie file written in                 <a href=\"file://E:\\ipynb\\venv\\lib\\site-packages\\manim\\scene\\scene_file_writer.py\" target=\"_blank\"><span style=\"color: #7f7f7f; text-decoration-color: #7f7f7f\">scene_file_writer.py</span></a><span style=\"color: #7f7f7f; text-decoration-color: #7f7f7f\">:</span><a href=\"file://E:\\ipynb\\venv\\lib\\site-packages\\manim\\scene\\scene_file_writer.py#527\" target=\"_blank\"><span style=\"color: #7f7f7f; text-decoration-color: #7f7f7f\">527</span></a>\n",
       "<span style=\"color: #7fbfbf; text-decoration-color: #7fbfbf\">                     </span>         <span style=\"color: #008000; text-decoration-color: #008000\">'E:\\ipynb\\python_design\\yty_math\\media\\videos\\1080p60\\partia</span> <span style=\"color: #7f7f7f; text-decoration-color: #7f7f7f\">                        </span>\n",
       "<span style=\"color: #7fbfbf; text-decoration-color: #7fbfbf\">                     </span>         <span style=\"color: #008000; text-decoration-color: #008000\">l_movie_files\\MatrixDetShow\\3280146143_2748653003_2110695968</span> <span style=\"color: #7f7f7f; text-decoration-color: #7f7f7f\">                        </span>\n",
       "<span style=\"color: #7fbfbf; text-decoration-color: #7fbfbf\">                     </span>         <span style=\"color: #008000; text-decoration-color: #008000\">.mp4'</span>                                                        <span style=\"color: #7f7f7f; text-decoration-color: #7f7f7f\">                        </span>\n",
       "</pre>\n"
      ]
     },
     "metadata": {},
     "output_type": "display_data"
    },
    {
     "name": "stderr",
     "output_type": "stream",
     "text": [
      "                                                                                \r"
     ]
    },
    {
     "data": {
      "text/plain": [
       "\u001B[2;36m[2024/12/1 20:20:55]\u001B[0m\u001B[2;36m \u001B[0m\u001B[32mINFO    \u001B[0m Animation \u001B[32m30\u001B[0m : Partial movie file written in                 \u001B]8;id=321441;file://E:\\ipynb\\venv\\lib\\site-packages\\manim\\scene\\scene_file_writer.py\u001B\\\u001B[2mscene_file_writer.py\u001B[0m\u001B]8;;\u001B\\\u001B[2m:\u001B[0m\u001B]8;id=863047;file://E:\\ipynb\\venv\\lib\\site-packages\\manim\\scene\\scene_file_writer.py#527\u001B\\\u001B[2m527\u001B[0m\u001B]8;;\u001B\\\n",
       "\u001B[2;36m                     \u001B[0m         \u001B[32m'E:\\ipynb\\python_design\\yty_math\\media\\videos\\1080p60\\partia\u001B[0m \u001B[2m                        \u001B[0m\n",
       "\u001B[2;36m                     \u001B[0m         \u001B[32ml_movie_files\\MatrixDetShow\\3280146143_4098470012_3550371599\u001B[0m \u001B[2m                        \u001B[0m\n",
       "\u001B[2;36m                     \u001B[0m         \u001B[32m.mp4'\u001B[0m                                                        \u001B[2m                        \u001B[0m\n"
      ],
      "text/html": [
       "<pre style=\"white-space:pre;overflow-x:auto;line-height:normal;font-family:Menlo,'DejaVu Sans Mono',consolas,'Courier New',monospace\"><span style=\"color: #7fbfbf; text-decoration-color: #7fbfbf\">[2024/12/1 20:20:55] </span><span style=\"color: #008000; text-decoration-color: #008000\">INFO    </span> Animation <span style=\"color: #008000; text-decoration-color: #008000\">30</span> : Partial movie file written in                 <a href=\"file://E:\\ipynb\\venv\\lib\\site-packages\\manim\\scene\\scene_file_writer.py\" target=\"_blank\"><span style=\"color: #7f7f7f; text-decoration-color: #7f7f7f\">scene_file_writer.py</span></a><span style=\"color: #7f7f7f; text-decoration-color: #7f7f7f\">:</span><a href=\"file://E:\\ipynb\\venv\\lib\\site-packages\\manim\\scene\\scene_file_writer.py#527\" target=\"_blank\"><span style=\"color: #7f7f7f; text-decoration-color: #7f7f7f\">527</span></a>\n",
       "<span style=\"color: #7fbfbf; text-decoration-color: #7fbfbf\">                     </span>         <span style=\"color: #008000; text-decoration-color: #008000\">'E:\\ipynb\\python_design\\yty_math\\media\\videos\\1080p60\\partia</span> <span style=\"color: #7f7f7f; text-decoration-color: #7f7f7f\">                        </span>\n",
       "<span style=\"color: #7fbfbf; text-decoration-color: #7fbfbf\">                     </span>         <span style=\"color: #008000; text-decoration-color: #008000\">l_movie_files\\MatrixDetShow\\3280146143_4098470012_3550371599</span> <span style=\"color: #7f7f7f; text-decoration-color: #7f7f7f\">                        </span>\n",
       "<span style=\"color: #7fbfbf; text-decoration-color: #7fbfbf\">                     </span>         <span style=\"color: #008000; text-decoration-color: #008000\">.mp4'</span>                                                        <span style=\"color: #7f7f7f; text-decoration-color: #7f7f7f\">                        </span>\n",
       "</pre>\n"
      ]
     },
     "metadata": {},
     "output_type": "display_data"
    },
    {
     "name": "stderr",
     "output_type": "stream",
     "text": [
      "                                                                                                         \r"
     ]
    },
    {
     "data": {
      "text/plain": [
       "\u001B[2;36m[2024/12/1 20:20:58]\u001B[0m\u001B[2;36m \u001B[0m\u001B[32mINFO    \u001B[0m Animation \u001B[32m31\u001B[0m : Partial movie file written in                 \u001B]8;id=7276;file://E:\\ipynb\\venv\\lib\\site-packages\\manim\\scene\\scene_file_writer.py\u001B\\\u001B[2mscene_file_writer.py\u001B[0m\u001B]8;;\u001B\\\u001B[2m:\u001B[0m\u001B]8;id=478476;file://E:\\ipynb\\venv\\lib\\site-packages\\manim\\scene\\scene_file_writer.py#527\u001B\\\u001B[2m527\u001B[0m\u001B]8;;\u001B\\\n",
       "\u001B[2;36m                     \u001B[0m         \u001B[32m'E:\\ipynb\\python_design\\yty_math\\media\\videos\\1080p60\\partia\u001B[0m \u001B[2m                        \u001B[0m\n",
       "\u001B[2;36m                     \u001B[0m         \u001B[32ml_movie_files\\MatrixDetShow\\3280146143_3642977942_911614786.\u001B[0m \u001B[2m                        \u001B[0m\n",
       "\u001B[2;36m                     \u001B[0m         \u001B[32mmp4'\u001B[0m                                                         \u001B[2m                        \u001B[0m\n"
      ],
      "text/html": [
       "<pre style=\"white-space:pre;overflow-x:auto;line-height:normal;font-family:Menlo,'DejaVu Sans Mono',consolas,'Courier New',monospace\"><span style=\"color: #7fbfbf; text-decoration-color: #7fbfbf\">[2024/12/1 20:20:58] </span><span style=\"color: #008000; text-decoration-color: #008000\">INFO    </span> Animation <span style=\"color: #008000; text-decoration-color: #008000\">31</span> : Partial movie file written in                 <a href=\"file://E:\\ipynb\\venv\\lib\\site-packages\\manim\\scene\\scene_file_writer.py\" target=\"_blank\"><span style=\"color: #7f7f7f; text-decoration-color: #7f7f7f\">scene_file_writer.py</span></a><span style=\"color: #7f7f7f; text-decoration-color: #7f7f7f\">:</span><a href=\"file://E:\\ipynb\\venv\\lib\\site-packages\\manim\\scene\\scene_file_writer.py#527\" target=\"_blank\"><span style=\"color: #7f7f7f; text-decoration-color: #7f7f7f\">527</span></a>\n",
       "<span style=\"color: #7fbfbf; text-decoration-color: #7fbfbf\">                     </span>         <span style=\"color: #008000; text-decoration-color: #008000\">'E:\\ipynb\\python_design\\yty_math\\media\\videos\\1080p60\\partia</span> <span style=\"color: #7f7f7f; text-decoration-color: #7f7f7f\">                        </span>\n",
       "<span style=\"color: #7fbfbf; text-decoration-color: #7fbfbf\">                     </span>         <span style=\"color: #008000; text-decoration-color: #008000\">l_movie_files\\MatrixDetShow\\3280146143_3642977942_911614786.</span> <span style=\"color: #7f7f7f; text-decoration-color: #7f7f7f\">                        </span>\n",
       "<span style=\"color: #7fbfbf; text-decoration-color: #7fbfbf\">                     </span>         <span style=\"color: #008000; text-decoration-color: #008000\">mp4'</span>                                                         <span style=\"color: #7f7f7f; text-decoration-color: #7f7f7f\">                        </span>\n",
       "</pre>\n"
      ]
     },
     "metadata": {},
     "output_type": "display_data"
    },
    {
     "name": "stderr",
     "output_type": "stream",
     "text": [
      "                                                                                \r"
     ]
    },
    {
     "data": {
      "text/plain": [
       "\u001B[2;36m[2024/12/1 20:21:00]\u001B[0m\u001B[2;36m \u001B[0m\u001B[32mINFO    \u001B[0m Animation \u001B[32m32\u001B[0m : Partial movie file written in                 \u001B]8;id=413359;file://E:\\ipynb\\venv\\lib\\site-packages\\manim\\scene\\scene_file_writer.py\u001B\\\u001B[2mscene_file_writer.py\u001B[0m\u001B]8;;\u001B\\\u001B[2m:\u001B[0m\u001B]8;id=373214;file://E:\\ipynb\\venv\\lib\\site-packages\\manim\\scene\\scene_file_writer.py#527\u001B\\\u001B[2m527\u001B[0m\u001B]8;;\u001B\\\n",
       "\u001B[2;36m                     \u001B[0m         \u001B[32m'E:\\ipynb\\python_design\\yty_math\\media\\videos\\1080p60\\partia\u001B[0m \u001B[2m                        \u001B[0m\n",
       "\u001B[2;36m                     \u001B[0m         \u001B[32ml_movie_files\\MatrixDetShow\\3280146143_4209433066_2200057979\u001B[0m \u001B[2m                        \u001B[0m\n",
       "\u001B[2;36m                     \u001B[0m         \u001B[32m.mp4'\u001B[0m                                                        \u001B[2m                        \u001B[0m\n"
      ],
      "text/html": [
       "<pre style=\"white-space:pre;overflow-x:auto;line-height:normal;font-family:Menlo,'DejaVu Sans Mono',consolas,'Courier New',monospace\"><span style=\"color: #7fbfbf; text-decoration-color: #7fbfbf\">[2024/12/1 20:21:00] </span><span style=\"color: #008000; text-decoration-color: #008000\">INFO    </span> Animation <span style=\"color: #008000; text-decoration-color: #008000\">32</span> : Partial movie file written in                 <a href=\"file://E:\\ipynb\\venv\\lib\\site-packages\\manim\\scene\\scene_file_writer.py\" target=\"_blank\"><span style=\"color: #7f7f7f; text-decoration-color: #7f7f7f\">scene_file_writer.py</span></a><span style=\"color: #7f7f7f; text-decoration-color: #7f7f7f\">:</span><a href=\"file://E:\\ipynb\\venv\\lib\\site-packages\\manim\\scene\\scene_file_writer.py#527\" target=\"_blank\"><span style=\"color: #7f7f7f; text-decoration-color: #7f7f7f\">527</span></a>\n",
       "<span style=\"color: #7fbfbf; text-decoration-color: #7fbfbf\">                     </span>         <span style=\"color: #008000; text-decoration-color: #008000\">'E:\\ipynb\\python_design\\yty_math\\media\\videos\\1080p60\\partia</span> <span style=\"color: #7f7f7f; text-decoration-color: #7f7f7f\">                        </span>\n",
       "<span style=\"color: #7fbfbf; text-decoration-color: #7fbfbf\">                     </span>         <span style=\"color: #008000; text-decoration-color: #008000\">l_movie_files\\MatrixDetShow\\3280146143_4209433066_2200057979</span> <span style=\"color: #7f7f7f; text-decoration-color: #7f7f7f\">                        </span>\n",
       "<span style=\"color: #7fbfbf; text-decoration-color: #7fbfbf\">                     </span>         <span style=\"color: #008000; text-decoration-color: #008000\">.mp4'</span>                                                        <span style=\"color: #7f7f7f; text-decoration-color: #7f7f7f\">                        </span>\n",
       "</pre>\n"
      ]
     },
     "metadata": {},
     "output_type": "display_data"
    },
    {
     "name": "stderr",
     "output_type": "stream",
     "text": [
      "                                                                                                         \r"
     ]
    },
    {
     "data": {
      "text/plain": [
       "\u001B[2;36m[2024/12/1 20:21:03]\u001B[0m\u001B[2;36m \u001B[0m\u001B[32mINFO    \u001B[0m Animation \u001B[32m33\u001B[0m : Partial movie file written in                 \u001B]8;id=277245;file://E:\\ipynb\\venv\\lib\\site-packages\\manim\\scene\\scene_file_writer.py\u001B\\\u001B[2mscene_file_writer.py\u001B[0m\u001B]8;;\u001B\\\u001B[2m:\u001B[0m\u001B]8;id=634678;file://E:\\ipynb\\venv\\lib\\site-packages\\manim\\scene\\scene_file_writer.py#527\u001B\\\u001B[2m527\u001B[0m\u001B]8;;\u001B\\\n",
       "\u001B[2;36m                     \u001B[0m         \u001B[32m'E:\\ipynb\\python_design\\yty_math\\media\\videos\\1080p60\\partia\u001B[0m \u001B[2m                        \u001B[0m\n",
       "\u001B[2;36m                     \u001B[0m         \u001B[32ml_movie_files\\MatrixDetShow\\3280146143_4089983775_3866528782\u001B[0m \u001B[2m                        \u001B[0m\n",
       "\u001B[2;36m                     \u001B[0m         \u001B[32m.mp4'\u001B[0m                                                        \u001B[2m                        \u001B[0m\n"
      ],
      "text/html": [
       "<pre style=\"white-space:pre;overflow-x:auto;line-height:normal;font-family:Menlo,'DejaVu Sans Mono',consolas,'Courier New',monospace\"><span style=\"color: #7fbfbf; text-decoration-color: #7fbfbf\">[2024/12/1 20:21:03] </span><span style=\"color: #008000; text-decoration-color: #008000\">INFO    </span> Animation <span style=\"color: #008000; text-decoration-color: #008000\">33</span> : Partial movie file written in                 <a href=\"file://E:\\ipynb\\venv\\lib\\site-packages\\manim\\scene\\scene_file_writer.py\" target=\"_blank\"><span style=\"color: #7f7f7f; text-decoration-color: #7f7f7f\">scene_file_writer.py</span></a><span style=\"color: #7f7f7f; text-decoration-color: #7f7f7f\">:</span><a href=\"file://E:\\ipynb\\venv\\lib\\site-packages\\manim\\scene\\scene_file_writer.py#527\" target=\"_blank\"><span style=\"color: #7f7f7f; text-decoration-color: #7f7f7f\">527</span></a>\n",
       "<span style=\"color: #7fbfbf; text-decoration-color: #7fbfbf\">                     </span>         <span style=\"color: #008000; text-decoration-color: #008000\">'E:\\ipynb\\python_design\\yty_math\\media\\videos\\1080p60\\partia</span> <span style=\"color: #7f7f7f; text-decoration-color: #7f7f7f\">                        </span>\n",
       "<span style=\"color: #7fbfbf; text-decoration-color: #7fbfbf\">                     </span>         <span style=\"color: #008000; text-decoration-color: #008000\">l_movie_files\\MatrixDetShow\\3280146143_4089983775_3866528782</span> <span style=\"color: #7f7f7f; text-decoration-color: #7f7f7f\">                        </span>\n",
       "<span style=\"color: #7fbfbf; text-decoration-color: #7fbfbf\">                     </span>         <span style=\"color: #008000; text-decoration-color: #008000\">.mp4'</span>                                                        <span style=\"color: #7f7f7f; text-decoration-color: #7f7f7f\">                        </span>\n",
       "</pre>\n"
      ]
     },
     "metadata": {},
     "output_type": "display_data"
    },
    {
     "name": "stderr",
     "output_type": "stream",
     "text": [
      "                                                                                \r"
     ]
    },
    {
     "data": {
      "text/plain": [
       "\u001B[2;36m[2024/12/1 20:21:06]\u001B[0m\u001B[2;36m \u001B[0m\u001B[32mINFO    \u001B[0m Animation \u001B[32m34\u001B[0m : Partial movie file written in                 \u001B]8;id=998851;file://E:\\ipynb\\venv\\lib\\site-packages\\manim\\scene\\scene_file_writer.py\u001B\\\u001B[2mscene_file_writer.py\u001B[0m\u001B]8;;\u001B\\\u001B[2m:\u001B[0m\u001B]8;id=593033;file://E:\\ipynb\\venv\\lib\\site-packages\\manim\\scene\\scene_file_writer.py#527\u001B\\\u001B[2m527\u001B[0m\u001B]8;;\u001B\\\n",
       "\u001B[2;36m                     \u001B[0m         \u001B[32m'E:\\ipynb\\python_design\\yty_math\\media\\videos\\1080p60\\partia\u001B[0m \u001B[2m                        \u001B[0m\n",
       "\u001B[2;36m                     \u001B[0m         \u001B[32ml_movie_files\\MatrixDetShow\\3280146143_4234891812_4229883205\u001B[0m \u001B[2m                        \u001B[0m\n",
       "\u001B[2;36m                     \u001B[0m         \u001B[32m.mp4'\u001B[0m                                                        \u001B[2m                        \u001B[0m\n"
      ],
      "text/html": [
       "<pre style=\"white-space:pre;overflow-x:auto;line-height:normal;font-family:Menlo,'DejaVu Sans Mono',consolas,'Courier New',monospace\"><span style=\"color: #7fbfbf; text-decoration-color: #7fbfbf\">[2024/12/1 20:21:06] </span><span style=\"color: #008000; text-decoration-color: #008000\">INFO    </span> Animation <span style=\"color: #008000; text-decoration-color: #008000\">34</span> : Partial movie file written in                 <a href=\"file://E:\\ipynb\\venv\\lib\\site-packages\\manim\\scene\\scene_file_writer.py\" target=\"_blank\"><span style=\"color: #7f7f7f; text-decoration-color: #7f7f7f\">scene_file_writer.py</span></a><span style=\"color: #7f7f7f; text-decoration-color: #7f7f7f\">:</span><a href=\"file://E:\\ipynb\\venv\\lib\\site-packages\\manim\\scene\\scene_file_writer.py#527\" target=\"_blank\"><span style=\"color: #7f7f7f; text-decoration-color: #7f7f7f\">527</span></a>\n",
       "<span style=\"color: #7fbfbf; text-decoration-color: #7fbfbf\">                     </span>         <span style=\"color: #008000; text-decoration-color: #008000\">'E:\\ipynb\\python_design\\yty_math\\media\\videos\\1080p60\\partia</span> <span style=\"color: #7f7f7f; text-decoration-color: #7f7f7f\">                        </span>\n",
       "<span style=\"color: #7fbfbf; text-decoration-color: #7fbfbf\">                     </span>         <span style=\"color: #008000; text-decoration-color: #008000\">l_movie_files\\MatrixDetShow\\3280146143_4234891812_4229883205</span> <span style=\"color: #7f7f7f; text-decoration-color: #7f7f7f\">                        </span>\n",
       "<span style=\"color: #7fbfbf; text-decoration-color: #7fbfbf\">                     </span>         <span style=\"color: #008000; text-decoration-color: #008000\">.mp4'</span>                                                        <span style=\"color: #7f7f7f; text-decoration-color: #7f7f7f\">                        </span>\n",
       "</pre>\n"
      ]
     },
     "metadata": {},
     "output_type": "display_data"
    },
    {
     "name": "stderr",
     "output_type": "stream",
     "text": [
      "                                                                                   \r"
     ]
    },
    {
     "data": {
      "text/plain": [
       "\u001B[2;36m[2024/12/1 20:21:09]\u001B[0m\u001B[2;36m \u001B[0m\u001B[32mINFO    \u001B[0m Animation \u001B[32m35\u001B[0m : Partial movie file written in                 \u001B]8;id=457204;file://E:\\ipynb\\venv\\lib\\site-packages\\manim\\scene\\scene_file_writer.py\u001B\\\u001B[2mscene_file_writer.py\u001B[0m\u001B]8;;\u001B\\\u001B[2m:\u001B[0m\u001B]8;id=209420;file://E:\\ipynb\\venv\\lib\\site-packages\\manim\\scene\\scene_file_writer.py#527\u001B\\\u001B[2m527\u001B[0m\u001B]8;;\u001B\\\n",
       "\u001B[2;36m                     \u001B[0m         \u001B[32m'E:\\ipynb\\python_design\\yty_math\\media\\videos\\1080p60\\partia\u001B[0m \u001B[2m                        \u001B[0m\n",
       "\u001B[2;36m                     \u001B[0m         \u001B[32ml_movie_files\\MatrixDetShow\\3280146143_3324060278_2716401973\u001B[0m \u001B[2m                        \u001B[0m\n",
       "\u001B[2;36m                     \u001B[0m         \u001B[32m.mp4'\u001B[0m                                                        \u001B[2m                        \u001B[0m\n"
      ],
      "text/html": [
       "<pre style=\"white-space:pre;overflow-x:auto;line-height:normal;font-family:Menlo,'DejaVu Sans Mono',consolas,'Courier New',monospace\"><span style=\"color: #7fbfbf; text-decoration-color: #7fbfbf\">[2024/12/1 20:21:09] </span><span style=\"color: #008000; text-decoration-color: #008000\">INFO    </span> Animation <span style=\"color: #008000; text-decoration-color: #008000\">35</span> : Partial movie file written in                 <a href=\"file://E:\\ipynb\\venv\\lib\\site-packages\\manim\\scene\\scene_file_writer.py\" target=\"_blank\"><span style=\"color: #7f7f7f; text-decoration-color: #7f7f7f\">scene_file_writer.py</span></a><span style=\"color: #7f7f7f; text-decoration-color: #7f7f7f\">:</span><a href=\"file://E:\\ipynb\\venv\\lib\\site-packages\\manim\\scene\\scene_file_writer.py#527\" target=\"_blank\"><span style=\"color: #7f7f7f; text-decoration-color: #7f7f7f\">527</span></a>\n",
       "<span style=\"color: #7fbfbf; text-decoration-color: #7fbfbf\">                     </span>         <span style=\"color: #008000; text-decoration-color: #008000\">'E:\\ipynb\\python_design\\yty_math\\media\\videos\\1080p60\\partia</span> <span style=\"color: #7f7f7f; text-decoration-color: #7f7f7f\">                        </span>\n",
       "<span style=\"color: #7fbfbf; text-decoration-color: #7fbfbf\">                     </span>         <span style=\"color: #008000; text-decoration-color: #008000\">l_movie_files\\MatrixDetShow\\3280146143_3324060278_2716401973</span> <span style=\"color: #7f7f7f; text-decoration-color: #7f7f7f\">                        </span>\n",
       "<span style=\"color: #7fbfbf; text-decoration-color: #7fbfbf\">                     </span>         <span style=\"color: #008000; text-decoration-color: #008000\">.mp4'</span>                                                        <span style=\"color: #7f7f7f; text-decoration-color: #7f7f7f\">                        </span>\n",
       "</pre>\n"
      ]
     },
     "metadata": {},
     "output_type": "display_data"
    },
    {
     "name": "stderr",
     "output_type": "stream",
     "text": [
      "                                                                                              \r"
     ]
    },
    {
     "data": {
      "text/plain": [
       "\u001B[2;36m[2024/12/1 20:21:13]\u001B[0m\u001B[2;36m \u001B[0m\u001B[32mINFO    \u001B[0m Animation \u001B[32m36\u001B[0m : Partial movie file written in                 \u001B]8;id=987544;file://E:\\ipynb\\venv\\lib\\site-packages\\manim\\scene\\scene_file_writer.py\u001B\\\u001B[2mscene_file_writer.py\u001B[0m\u001B]8;;\u001B\\\u001B[2m:\u001B[0m\u001B]8;id=774314;file://E:\\ipynb\\venv\\lib\\site-packages\\manim\\scene\\scene_file_writer.py#527\u001B\\\u001B[2m527\u001B[0m\u001B]8;;\u001B\\\n",
       "\u001B[2;36m                     \u001B[0m         \u001B[32m'E:\\ipynb\\python_design\\yty_math\\media\\videos\\1080p60\\partia\u001B[0m \u001B[2m                        \u001B[0m\n",
       "\u001B[2;36m                     \u001B[0m         \u001B[32ml_movie_files\\MatrixDetShow\\3280146143_4935317_1736815956.mp\u001B[0m \u001B[2m                        \u001B[0m\n",
       "\u001B[2;36m                     \u001B[0m         \u001B[32m4'\u001B[0m                                                           \u001B[2m                        \u001B[0m\n"
      ],
      "text/html": [
       "<pre style=\"white-space:pre;overflow-x:auto;line-height:normal;font-family:Menlo,'DejaVu Sans Mono',consolas,'Courier New',monospace\"><span style=\"color: #7fbfbf; text-decoration-color: #7fbfbf\">[2024/12/1 20:21:13] </span><span style=\"color: #008000; text-decoration-color: #008000\">INFO    </span> Animation <span style=\"color: #008000; text-decoration-color: #008000\">36</span> : Partial movie file written in                 <a href=\"file://E:\\ipynb\\venv\\lib\\site-packages\\manim\\scene\\scene_file_writer.py\" target=\"_blank\"><span style=\"color: #7f7f7f; text-decoration-color: #7f7f7f\">scene_file_writer.py</span></a><span style=\"color: #7f7f7f; text-decoration-color: #7f7f7f\">:</span><a href=\"file://E:\\ipynb\\venv\\lib\\site-packages\\manim\\scene\\scene_file_writer.py#527\" target=\"_blank\"><span style=\"color: #7f7f7f; text-decoration-color: #7f7f7f\">527</span></a>\n",
       "<span style=\"color: #7fbfbf; text-decoration-color: #7fbfbf\">                     </span>         <span style=\"color: #008000; text-decoration-color: #008000\">'E:\\ipynb\\python_design\\yty_math\\media\\videos\\1080p60\\partia</span> <span style=\"color: #7f7f7f; text-decoration-color: #7f7f7f\">                        </span>\n",
       "<span style=\"color: #7fbfbf; text-decoration-color: #7fbfbf\">                     </span>         <span style=\"color: #008000; text-decoration-color: #008000\">l_movie_files\\MatrixDetShow\\3280146143_4935317_1736815956.mp</span> <span style=\"color: #7f7f7f; text-decoration-color: #7f7f7f\">                        </span>\n",
       "<span style=\"color: #7fbfbf; text-decoration-color: #7fbfbf\">                     </span>         <span style=\"color: #008000; text-decoration-color: #008000\">4'</span>                                                           <span style=\"color: #7f7f7f; text-decoration-color: #7f7f7f\">                        </span>\n",
       "</pre>\n"
      ]
     },
     "metadata": {},
     "output_type": "display_data"
    },
    {
     "name": "stderr",
     "output_type": "stream",
     "text": [
      "                                                                                \r"
     ]
    },
    {
     "data": {
      "text/plain": [
       "\u001B[2;36m[2024/12/1 20:21:16]\u001B[0m\u001B[2;36m \u001B[0m\u001B[32mINFO    \u001B[0m Animation \u001B[32m37\u001B[0m : Partial movie file written in                 \u001B]8;id=992363;file://E:\\ipynb\\venv\\lib\\site-packages\\manim\\scene\\scene_file_writer.py\u001B\\\u001B[2mscene_file_writer.py\u001B[0m\u001B]8;;\u001B\\\u001B[2m:\u001B[0m\u001B]8;id=794911;file://E:\\ipynb\\venv\\lib\\site-packages\\manim\\scene\\scene_file_writer.py#527\u001B\\\u001B[2m527\u001B[0m\u001B]8;;\u001B\\\n",
       "\u001B[2;36m                     \u001B[0m         \u001B[32m'E:\\ipynb\\python_design\\yty_math\\media\\videos\\1080p60\\partia\u001B[0m \u001B[2m                        \u001B[0m\n",
       "\u001B[2;36m                     \u001B[0m         \u001B[32ml_movie_files\\MatrixDetShow\\3280146143_947218590_1539088375.\u001B[0m \u001B[2m                        \u001B[0m\n",
       "\u001B[2;36m                     \u001B[0m         \u001B[32mmp4'\u001B[0m                                                         \u001B[2m                        \u001B[0m\n"
      ],
      "text/html": [
       "<pre style=\"white-space:pre;overflow-x:auto;line-height:normal;font-family:Menlo,'DejaVu Sans Mono',consolas,'Courier New',monospace\"><span style=\"color: #7fbfbf; text-decoration-color: #7fbfbf\">[2024/12/1 20:21:16] </span><span style=\"color: #008000; text-decoration-color: #008000\">INFO    </span> Animation <span style=\"color: #008000; text-decoration-color: #008000\">37</span> : Partial movie file written in                 <a href=\"file://E:\\ipynb\\venv\\lib\\site-packages\\manim\\scene\\scene_file_writer.py\" target=\"_blank\"><span style=\"color: #7f7f7f; text-decoration-color: #7f7f7f\">scene_file_writer.py</span></a><span style=\"color: #7f7f7f; text-decoration-color: #7f7f7f\">:</span><a href=\"file://E:\\ipynb\\venv\\lib\\site-packages\\manim\\scene\\scene_file_writer.py#527\" target=\"_blank\"><span style=\"color: #7f7f7f; text-decoration-color: #7f7f7f\">527</span></a>\n",
       "<span style=\"color: #7fbfbf; text-decoration-color: #7fbfbf\">                     </span>         <span style=\"color: #008000; text-decoration-color: #008000\">'E:\\ipynb\\python_design\\yty_math\\media\\videos\\1080p60\\partia</span> <span style=\"color: #7f7f7f; text-decoration-color: #7f7f7f\">                        </span>\n",
       "<span style=\"color: #7fbfbf; text-decoration-color: #7fbfbf\">                     </span>         <span style=\"color: #008000; text-decoration-color: #008000\">l_movie_files\\MatrixDetShow\\3280146143_947218590_1539088375.</span> <span style=\"color: #7f7f7f; text-decoration-color: #7f7f7f\">                        </span>\n",
       "<span style=\"color: #7fbfbf; text-decoration-color: #7fbfbf\">                     </span>         <span style=\"color: #008000; text-decoration-color: #008000\">mp4'</span>                                                         <span style=\"color: #7f7f7f; text-decoration-color: #7f7f7f\">                        </span>\n",
       "</pre>\n"
      ]
     },
     "metadata": {},
     "output_type": "display_data"
    },
    {
     "name": "stderr",
     "output_type": "stream",
     "text": [
      "                                                                                               \r"
     ]
    },
    {
     "data": {
      "text/plain": [
       "\u001B[2;36m[2024/12/1 20:21:21]\u001B[0m\u001B[2;36m \u001B[0m\u001B[32mINFO    \u001B[0m Animation \u001B[32m38\u001B[0m : Partial movie file written in                 \u001B]8;id=955784;file://E:\\ipynb\\venv\\lib\\site-packages\\manim\\scene\\scene_file_writer.py\u001B\\\u001B[2mscene_file_writer.py\u001B[0m\u001B]8;;\u001B\\\u001B[2m:\u001B[0m\u001B]8;id=556228;file://E:\\ipynb\\venv\\lib\\site-packages\\manim\\scene\\scene_file_writer.py#527\u001B\\\u001B[2m527\u001B[0m\u001B]8;;\u001B\\\n",
       "\u001B[2;36m                     \u001B[0m         \u001B[32m'E:\\ipynb\\python_design\\yty_math\\media\\videos\\1080p60\\partia\u001B[0m \u001B[2m                        \u001B[0m\n",
       "\u001B[2;36m                     \u001B[0m         \u001B[32ml_movie_files\\MatrixDetShow\\3280146143_2890766506_766036169.\u001B[0m \u001B[2m                        \u001B[0m\n",
       "\u001B[2;36m                     \u001B[0m         \u001B[32mmp4'\u001B[0m                                                         \u001B[2m                        \u001B[0m\n"
      ],
      "text/html": [
       "<pre style=\"white-space:pre;overflow-x:auto;line-height:normal;font-family:Menlo,'DejaVu Sans Mono',consolas,'Courier New',monospace\"><span style=\"color: #7fbfbf; text-decoration-color: #7fbfbf\">[2024/12/1 20:21:21] </span><span style=\"color: #008000; text-decoration-color: #008000\">INFO    </span> Animation <span style=\"color: #008000; text-decoration-color: #008000\">38</span> : Partial movie file written in                 <a href=\"file://E:\\ipynb\\venv\\lib\\site-packages\\manim\\scene\\scene_file_writer.py\" target=\"_blank\"><span style=\"color: #7f7f7f; text-decoration-color: #7f7f7f\">scene_file_writer.py</span></a><span style=\"color: #7f7f7f; text-decoration-color: #7f7f7f\">:</span><a href=\"file://E:\\ipynb\\venv\\lib\\site-packages\\manim\\scene\\scene_file_writer.py#527\" target=\"_blank\"><span style=\"color: #7f7f7f; text-decoration-color: #7f7f7f\">527</span></a>\n",
       "<span style=\"color: #7fbfbf; text-decoration-color: #7fbfbf\">                     </span>         <span style=\"color: #008000; text-decoration-color: #008000\">'E:\\ipynb\\python_design\\yty_math\\media\\videos\\1080p60\\partia</span> <span style=\"color: #7f7f7f; text-decoration-color: #7f7f7f\">                        </span>\n",
       "<span style=\"color: #7fbfbf; text-decoration-color: #7fbfbf\">                     </span>         <span style=\"color: #008000; text-decoration-color: #008000\">l_movie_files\\MatrixDetShow\\3280146143_2890766506_766036169.</span> <span style=\"color: #7f7f7f; text-decoration-color: #7f7f7f\">                        </span>\n",
       "<span style=\"color: #7fbfbf; text-decoration-color: #7fbfbf\">                     </span>         <span style=\"color: #008000; text-decoration-color: #008000\">mp4'</span>                                                         <span style=\"color: #7f7f7f; text-decoration-color: #7f7f7f\">                        </span>\n",
       "</pre>\n"
      ]
     },
     "metadata": {},
     "output_type": "display_data"
    },
    {
     "name": "stderr",
     "output_type": "stream",
     "text": [
      "                                                                                                           \r"
     ]
    },
    {
     "data": {
      "text/plain": [
       "\u001B[2;36m[2024/12/1 20:21:29]\u001B[0m\u001B[2;36m \u001B[0m\u001B[32mINFO    \u001B[0m Animation \u001B[32m39\u001B[0m : Partial movie file written in                 \u001B]8;id=195913;file://E:\\ipynb\\venv\\lib\\site-packages\\manim\\scene\\scene_file_writer.py\u001B\\\u001B[2mscene_file_writer.py\u001B[0m\u001B]8;;\u001B\\\u001B[2m:\u001B[0m\u001B]8;id=195870;file://E:\\ipynb\\venv\\lib\\site-packages\\manim\\scene\\scene_file_writer.py#527\u001B\\\u001B[2m527\u001B[0m\u001B]8;;\u001B\\\n",
       "\u001B[2;36m                     \u001B[0m         \u001B[32m'E:\\ipynb\\python_design\\yty_math\\media\\videos\\1080p60\\partia\u001B[0m \u001B[2m                        \u001B[0m\n",
       "\u001B[2;36m                     \u001B[0m         \u001B[32ml_movie_files\\MatrixDetShow\\3280146143_120083031_294526410.m\u001B[0m \u001B[2m                        \u001B[0m\n",
       "\u001B[2;36m                     \u001B[0m         \u001B[32mp4'\u001B[0m                                                          \u001B[2m                        \u001B[0m\n"
      ],
      "text/html": [
       "<pre style=\"white-space:pre;overflow-x:auto;line-height:normal;font-family:Menlo,'DejaVu Sans Mono',consolas,'Courier New',monospace\"><span style=\"color: #7fbfbf; text-decoration-color: #7fbfbf\">[2024/12/1 20:21:29] </span><span style=\"color: #008000; text-decoration-color: #008000\">INFO    </span> Animation <span style=\"color: #008000; text-decoration-color: #008000\">39</span> : Partial movie file written in                 <a href=\"file://E:\\ipynb\\venv\\lib\\site-packages\\manim\\scene\\scene_file_writer.py\" target=\"_blank\"><span style=\"color: #7f7f7f; text-decoration-color: #7f7f7f\">scene_file_writer.py</span></a><span style=\"color: #7f7f7f; text-decoration-color: #7f7f7f\">:</span><a href=\"file://E:\\ipynb\\venv\\lib\\site-packages\\manim\\scene\\scene_file_writer.py#527\" target=\"_blank\"><span style=\"color: #7f7f7f; text-decoration-color: #7f7f7f\">527</span></a>\n",
       "<span style=\"color: #7fbfbf; text-decoration-color: #7fbfbf\">                     </span>         <span style=\"color: #008000; text-decoration-color: #008000\">'E:\\ipynb\\python_design\\yty_math\\media\\videos\\1080p60\\partia</span> <span style=\"color: #7f7f7f; text-decoration-color: #7f7f7f\">                        </span>\n",
       "<span style=\"color: #7fbfbf; text-decoration-color: #7fbfbf\">                     </span>         <span style=\"color: #008000; text-decoration-color: #008000\">l_movie_files\\MatrixDetShow\\3280146143_120083031_294526410.m</span> <span style=\"color: #7f7f7f; text-decoration-color: #7f7f7f\">                        </span>\n",
       "<span style=\"color: #7fbfbf; text-decoration-color: #7fbfbf\">                     </span>         <span style=\"color: #008000; text-decoration-color: #008000\">p4'</span>                                                          <span style=\"color: #7f7f7f; text-decoration-color: #7f7f7f\">                        </span>\n",
       "</pre>\n"
      ]
     },
     "metadata": {},
     "output_type": "display_data"
    },
    {
     "name": "stderr",
     "output_type": "stream",
     "text": [
      "                                                                                                        \r"
     ]
    },
    {
     "data": {
      "text/plain": [
       "\u001B[2;36m[2024/12/1 20:21:33]\u001B[0m\u001B[2;36m \u001B[0m\u001B[32mINFO    \u001B[0m Animation \u001B[32m40\u001B[0m : Partial movie file written in                 \u001B]8;id=256622;file://E:\\ipynb\\venv\\lib\\site-packages\\manim\\scene\\scene_file_writer.py\u001B\\\u001B[2mscene_file_writer.py\u001B[0m\u001B]8;;\u001B\\\u001B[2m:\u001B[0m\u001B]8;id=116632;file://E:\\ipynb\\venv\\lib\\site-packages\\manim\\scene\\scene_file_writer.py#527\u001B\\\u001B[2m527\u001B[0m\u001B]8;;\u001B\\\n",
       "\u001B[2;36m                     \u001B[0m         \u001B[32m'E:\\ipynb\\python_design\\yty_math\\media\\videos\\1080p60\\partia\u001B[0m \u001B[2m                        \u001B[0m\n",
       "\u001B[2;36m                     \u001B[0m         \u001B[32ml_movie_files\\MatrixDetShow\\3280146143_295888697_3915830668.\u001B[0m \u001B[2m                        \u001B[0m\n",
       "\u001B[2;36m                     \u001B[0m         \u001B[32mmp4'\u001B[0m                                                         \u001B[2m                        \u001B[0m\n"
      ],
      "text/html": [
       "<pre style=\"white-space:pre;overflow-x:auto;line-height:normal;font-family:Menlo,'DejaVu Sans Mono',consolas,'Courier New',monospace\"><span style=\"color: #7fbfbf; text-decoration-color: #7fbfbf\">[2024/12/1 20:21:33] </span><span style=\"color: #008000; text-decoration-color: #008000\">INFO    </span> Animation <span style=\"color: #008000; text-decoration-color: #008000\">40</span> : Partial movie file written in                 <a href=\"file://E:\\ipynb\\venv\\lib\\site-packages\\manim\\scene\\scene_file_writer.py\" target=\"_blank\"><span style=\"color: #7f7f7f; text-decoration-color: #7f7f7f\">scene_file_writer.py</span></a><span style=\"color: #7f7f7f; text-decoration-color: #7f7f7f\">:</span><a href=\"file://E:\\ipynb\\venv\\lib\\site-packages\\manim\\scene\\scene_file_writer.py#527\" target=\"_blank\"><span style=\"color: #7f7f7f; text-decoration-color: #7f7f7f\">527</span></a>\n",
       "<span style=\"color: #7fbfbf; text-decoration-color: #7fbfbf\">                     </span>         <span style=\"color: #008000; text-decoration-color: #008000\">'E:\\ipynb\\python_design\\yty_math\\media\\videos\\1080p60\\partia</span> <span style=\"color: #7f7f7f; text-decoration-color: #7f7f7f\">                        </span>\n",
       "<span style=\"color: #7fbfbf; text-decoration-color: #7fbfbf\">                     </span>         <span style=\"color: #008000; text-decoration-color: #008000\">l_movie_files\\MatrixDetShow\\3280146143_295888697_3915830668.</span> <span style=\"color: #7f7f7f; text-decoration-color: #7f7f7f\">                        </span>\n",
       "<span style=\"color: #7fbfbf; text-decoration-color: #7fbfbf\">                     </span>         <span style=\"color: #008000; text-decoration-color: #008000\">mp4'</span>                                                         <span style=\"color: #7f7f7f; text-decoration-color: #7f7f7f\">                        </span>\n",
       "</pre>\n"
      ]
     },
     "metadata": {},
     "output_type": "display_data"
    },
    {
     "name": "stderr",
     "output_type": "stream",
     "text": [
      "                                                                                                        \r"
     ]
    },
    {
     "data": {
      "text/plain": [
       "\u001B[2;36m[2024/12/1 20:21:36]\u001B[0m\u001B[2;36m \u001B[0m\u001B[32mINFO    \u001B[0m Animation \u001B[32m41\u001B[0m : Partial movie file written in                 \u001B]8;id=397668;file://E:\\ipynb\\venv\\lib\\site-packages\\manim\\scene\\scene_file_writer.py\u001B\\\u001B[2mscene_file_writer.py\u001B[0m\u001B]8;;\u001B\\\u001B[2m:\u001B[0m\u001B]8;id=638876;file://E:\\ipynb\\venv\\lib\\site-packages\\manim\\scene\\scene_file_writer.py#527\u001B\\\u001B[2m527\u001B[0m\u001B]8;;\u001B\\\n",
       "\u001B[2;36m                     \u001B[0m         \u001B[32m'E:\\ipynb\\python_design\\yty_math\\media\\videos\\1080p60\\partia\u001B[0m \u001B[2m                        \u001B[0m\n",
       "\u001B[2;36m                     \u001B[0m         \u001B[32ml_movie_files\\MatrixDetShow\\3280146143_2074093795_2681227724\u001B[0m \u001B[2m                        \u001B[0m\n",
       "\u001B[2;36m                     \u001B[0m         \u001B[32m.mp4'\u001B[0m                                                        \u001B[2m                        \u001B[0m\n"
      ],
      "text/html": [
       "<pre style=\"white-space:pre;overflow-x:auto;line-height:normal;font-family:Menlo,'DejaVu Sans Mono',consolas,'Courier New',monospace\"><span style=\"color: #7fbfbf; text-decoration-color: #7fbfbf\">[2024/12/1 20:21:36] </span><span style=\"color: #008000; text-decoration-color: #008000\">INFO    </span> Animation <span style=\"color: #008000; text-decoration-color: #008000\">41</span> : Partial movie file written in                 <a href=\"file://E:\\ipynb\\venv\\lib\\site-packages\\manim\\scene\\scene_file_writer.py\" target=\"_blank\"><span style=\"color: #7f7f7f; text-decoration-color: #7f7f7f\">scene_file_writer.py</span></a><span style=\"color: #7f7f7f; text-decoration-color: #7f7f7f\">:</span><a href=\"file://E:\\ipynb\\venv\\lib\\site-packages\\manim\\scene\\scene_file_writer.py#527\" target=\"_blank\"><span style=\"color: #7f7f7f; text-decoration-color: #7f7f7f\">527</span></a>\n",
       "<span style=\"color: #7fbfbf; text-decoration-color: #7fbfbf\">                     </span>         <span style=\"color: #008000; text-decoration-color: #008000\">'E:\\ipynb\\python_design\\yty_math\\media\\videos\\1080p60\\partia</span> <span style=\"color: #7f7f7f; text-decoration-color: #7f7f7f\">                        </span>\n",
       "<span style=\"color: #7fbfbf; text-decoration-color: #7fbfbf\">                     </span>         <span style=\"color: #008000; text-decoration-color: #008000\">l_movie_files\\MatrixDetShow\\3280146143_2074093795_2681227724</span> <span style=\"color: #7f7f7f; text-decoration-color: #7f7f7f\">                        </span>\n",
       "<span style=\"color: #7fbfbf; text-decoration-color: #7fbfbf\">                     </span>         <span style=\"color: #008000; text-decoration-color: #008000\">.mp4'</span>                                                        <span style=\"color: #7f7f7f; text-decoration-color: #7f7f7f\">                        </span>\n",
       "</pre>\n"
      ]
     },
     "metadata": {},
     "output_type": "display_data"
    },
    {
     "name": "stderr",
     "output_type": "stream",
     "text": [
      "                                                                                \r"
     ]
    },
    {
     "data": {
      "text/plain": [
       "\u001B[2;36m[2024/12/1 20:21:39]\u001B[0m\u001B[2;36m \u001B[0m\u001B[32mINFO    \u001B[0m Animation \u001B[32m42\u001B[0m : Partial movie file written in                 \u001B]8;id=446205;file://E:\\ipynb\\venv\\lib\\site-packages\\manim\\scene\\scene_file_writer.py\u001B\\\u001B[2mscene_file_writer.py\u001B[0m\u001B]8;;\u001B\\\u001B[2m:\u001B[0m\u001B]8;id=947505;file://E:\\ipynb\\venv\\lib\\site-packages\\manim\\scene\\scene_file_writer.py#527\u001B\\\u001B[2m527\u001B[0m\u001B]8;;\u001B\\\n",
       "\u001B[2;36m                     \u001B[0m         \u001B[32m'E:\\ipynb\\python_design\\yty_math\\media\\videos\\1080p60\\partia\u001B[0m \u001B[2m                        \u001B[0m\n",
       "\u001B[2;36m                     \u001B[0m         \u001B[32ml_movie_files\\MatrixDetShow\\3280146143_1894918491_1743772213\u001B[0m \u001B[2m                        \u001B[0m\n",
       "\u001B[2;36m                     \u001B[0m         \u001B[32m.mp4'\u001B[0m                                                        \u001B[2m                        \u001B[0m\n"
      ],
      "text/html": [
       "<pre style=\"white-space:pre;overflow-x:auto;line-height:normal;font-family:Menlo,'DejaVu Sans Mono',consolas,'Courier New',monospace\"><span style=\"color: #7fbfbf; text-decoration-color: #7fbfbf\">[2024/12/1 20:21:39] </span><span style=\"color: #008000; text-decoration-color: #008000\">INFO    </span> Animation <span style=\"color: #008000; text-decoration-color: #008000\">42</span> : Partial movie file written in                 <a href=\"file://E:\\ipynb\\venv\\lib\\site-packages\\manim\\scene\\scene_file_writer.py\" target=\"_blank\"><span style=\"color: #7f7f7f; text-decoration-color: #7f7f7f\">scene_file_writer.py</span></a><span style=\"color: #7f7f7f; text-decoration-color: #7f7f7f\">:</span><a href=\"file://E:\\ipynb\\venv\\lib\\site-packages\\manim\\scene\\scene_file_writer.py#527\" target=\"_blank\"><span style=\"color: #7f7f7f; text-decoration-color: #7f7f7f\">527</span></a>\n",
       "<span style=\"color: #7fbfbf; text-decoration-color: #7fbfbf\">                     </span>         <span style=\"color: #008000; text-decoration-color: #008000\">'E:\\ipynb\\python_design\\yty_math\\media\\videos\\1080p60\\partia</span> <span style=\"color: #7f7f7f; text-decoration-color: #7f7f7f\">                        </span>\n",
       "<span style=\"color: #7fbfbf; text-decoration-color: #7fbfbf\">                     </span>         <span style=\"color: #008000; text-decoration-color: #008000\">l_movie_files\\MatrixDetShow\\3280146143_1894918491_1743772213</span> <span style=\"color: #7f7f7f; text-decoration-color: #7f7f7f\">                        </span>\n",
       "<span style=\"color: #7fbfbf; text-decoration-color: #7fbfbf\">                     </span>         <span style=\"color: #008000; text-decoration-color: #008000\">.mp4'</span>                                                        <span style=\"color: #7f7f7f; text-decoration-color: #7f7f7f\">                        </span>\n",
       "</pre>\n"
      ]
     },
     "metadata": {},
     "output_type": "display_data"
    },
    {
     "name": "stderr",
     "output_type": "stream",
     "text": [
      "                                                                                                         \r"
     ]
    },
    {
     "data": {
      "text/plain": [
       "\u001B[2;36m[2024/12/1 20:21:42]\u001B[0m\u001B[2;36m \u001B[0m\u001B[32mINFO    \u001B[0m Animation \u001B[32m43\u001B[0m : Partial movie file written in                 \u001B]8;id=762100;file://E:\\ipynb\\venv\\lib\\site-packages\\manim\\scene\\scene_file_writer.py\u001B\\\u001B[2mscene_file_writer.py\u001B[0m\u001B]8;;\u001B\\\u001B[2m:\u001B[0m\u001B]8;id=118344;file://E:\\ipynb\\venv\\lib\\site-packages\\manim\\scene\\scene_file_writer.py#527\u001B\\\u001B[2m527\u001B[0m\u001B]8;;\u001B\\\n",
       "\u001B[2;36m                     \u001B[0m         \u001B[32m'E:\\ipynb\\python_design\\yty_math\\media\\videos\\1080p60\\partia\u001B[0m \u001B[2m                        \u001B[0m\n",
       "\u001B[2;36m                     \u001B[0m         \u001B[32ml_movie_files\\MatrixDetShow\\3280146143_1659408044_2670342728\u001B[0m \u001B[2m                        \u001B[0m\n",
       "\u001B[2;36m                     \u001B[0m         \u001B[32m.mp4'\u001B[0m                                                        \u001B[2m                        \u001B[0m\n"
      ],
      "text/html": [
       "<pre style=\"white-space:pre;overflow-x:auto;line-height:normal;font-family:Menlo,'DejaVu Sans Mono',consolas,'Courier New',monospace\"><span style=\"color: #7fbfbf; text-decoration-color: #7fbfbf\">[2024/12/1 20:21:42] </span><span style=\"color: #008000; text-decoration-color: #008000\">INFO    </span> Animation <span style=\"color: #008000; text-decoration-color: #008000\">43</span> : Partial movie file written in                 <a href=\"file://E:\\ipynb\\venv\\lib\\site-packages\\manim\\scene\\scene_file_writer.py\" target=\"_blank\"><span style=\"color: #7f7f7f; text-decoration-color: #7f7f7f\">scene_file_writer.py</span></a><span style=\"color: #7f7f7f; text-decoration-color: #7f7f7f\">:</span><a href=\"file://E:\\ipynb\\venv\\lib\\site-packages\\manim\\scene\\scene_file_writer.py#527\" target=\"_blank\"><span style=\"color: #7f7f7f; text-decoration-color: #7f7f7f\">527</span></a>\n",
       "<span style=\"color: #7fbfbf; text-decoration-color: #7fbfbf\">                     </span>         <span style=\"color: #008000; text-decoration-color: #008000\">'E:\\ipynb\\python_design\\yty_math\\media\\videos\\1080p60\\partia</span> <span style=\"color: #7f7f7f; text-decoration-color: #7f7f7f\">                        </span>\n",
       "<span style=\"color: #7fbfbf; text-decoration-color: #7fbfbf\">                     </span>         <span style=\"color: #008000; text-decoration-color: #008000\">l_movie_files\\MatrixDetShow\\3280146143_1659408044_2670342728</span> <span style=\"color: #7f7f7f; text-decoration-color: #7f7f7f\">                        </span>\n",
       "<span style=\"color: #7fbfbf; text-decoration-color: #7fbfbf\">                     </span>         <span style=\"color: #008000; text-decoration-color: #008000\">.mp4'</span>                                                        <span style=\"color: #7f7f7f; text-decoration-color: #7f7f7f\">                        </span>\n",
       "</pre>\n"
      ]
     },
     "metadata": {},
     "output_type": "display_data"
    },
    {
     "name": "stderr",
     "output_type": "stream",
     "text": [
      "                                                                                 \r"
     ]
    },
    {
     "data": {
      "text/plain": [
       "\u001B[2;36m[2024/12/1 20:21:44]\u001B[0m\u001B[2;36m \u001B[0m\u001B[32mINFO    \u001B[0m Animation \u001B[32m44\u001B[0m : Partial movie file written in                 \u001B]8;id=759239;file://E:\\ipynb\\venv\\lib\\site-packages\\manim\\scene\\scene_file_writer.py\u001B\\\u001B[2mscene_file_writer.py\u001B[0m\u001B]8;;\u001B\\\u001B[2m:\u001B[0m\u001B]8;id=177717;file://E:\\ipynb\\venv\\lib\\site-packages\\manim\\scene\\scene_file_writer.py#527\u001B\\\u001B[2m527\u001B[0m\u001B]8;;\u001B\\\n",
       "\u001B[2;36m                     \u001B[0m         \u001B[32m'E:\\ipynb\\python_design\\yty_math\\media\\videos\\1080p60\\partia\u001B[0m \u001B[2m                        \u001B[0m\n",
       "\u001B[2;36m                     \u001B[0m         \u001B[32ml_movie_files\\MatrixDetShow\\3280146143_2621712864_292609970.\u001B[0m \u001B[2m                        \u001B[0m\n",
       "\u001B[2;36m                     \u001B[0m         \u001B[32mmp4'\u001B[0m                                                         \u001B[2m                        \u001B[0m\n"
      ],
      "text/html": [
       "<pre style=\"white-space:pre;overflow-x:auto;line-height:normal;font-family:Menlo,'DejaVu Sans Mono',consolas,'Courier New',monospace\"><span style=\"color: #7fbfbf; text-decoration-color: #7fbfbf\">[2024/12/1 20:21:44] </span><span style=\"color: #008000; text-decoration-color: #008000\">INFO    </span> Animation <span style=\"color: #008000; text-decoration-color: #008000\">44</span> : Partial movie file written in                 <a href=\"file://E:\\ipynb\\venv\\lib\\site-packages\\manim\\scene\\scene_file_writer.py\" target=\"_blank\"><span style=\"color: #7f7f7f; text-decoration-color: #7f7f7f\">scene_file_writer.py</span></a><span style=\"color: #7f7f7f; text-decoration-color: #7f7f7f\">:</span><a href=\"file://E:\\ipynb\\venv\\lib\\site-packages\\manim\\scene\\scene_file_writer.py#527\" target=\"_blank\"><span style=\"color: #7f7f7f; text-decoration-color: #7f7f7f\">527</span></a>\n",
       "<span style=\"color: #7fbfbf; text-decoration-color: #7fbfbf\">                     </span>         <span style=\"color: #008000; text-decoration-color: #008000\">'E:\\ipynb\\python_design\\yty_math\\media\\videos\\1080p60\\partia</span> <span style=\"color: #7f7f7f; text-decoration-color: #7f7f7f\">                        </span>\n",
       "<span style=\"color: #7fbfbf; text-decoration-color: #7fbfbf\">                     </span>         <span style=\"color: #008000; text-decoration-color: #008000\">l_movie_files\\MatrixDetShow\\3280146143_2621712864_292609970.</span> <span style=\"color: #7f7f7f; text-decoration-color: #7f7f7f\">                        </span>\n",
       "<span style=\"color: #7fbfbf; text-decoration-color: #7fbfbf\">                     </span>         <span style=\"color: #008000; text-decoration-color: #008000\">mp4'</span>                                                         <span style=\"color: #7f7f7f; text-decoration-color: #7f7f7f\">                        </span>\n",
       "</pre>\n"
      ]
     },
     "metadata": {},
     "output_type": "display_data"
    },
    {
     "name": "stderr",
     "output_type": "stream",
     "text": [
      "                                                                                                         \r"
     ]
    },
    {
     "data": {
      "text/plain": [
       "\u001B[2;36m[2024/12/1 20:21:47]\u001B[0m\u001B[2;36m \u001B[0m\u001B[32mINFO    \u001B[0m Animation \u001B[32m45\u001B[0m : Partial movie file written in                 \u001B]8;id=219656;file://E:\\ipynb\\venv\\lib\\site-packages\\manim\\scene\\scene_file_writer.py\u001B\\\u001B[2mscene_file_writer.py\u001B[0m\u001B]8;;\u001B\\\u001B[2m:\u001B[0m\u001B]8;id=335583;file://E:\\ipynb\\venv\\lib\\site-packages\\manim\\scene\\scene_file_writer.py#527\u001B\\\u001B[2m527\u001B[0m\u001B]8;;\u001B\\\n",
       "\u001B[2;36m                     \u001B[0m         \u001B[32m'E:\\ipynb\\python_design\\yty_math\\media\\videos\\1080p60\\partia\u001B[0m \u001B[2m                        \u001B[0m\n",
       "\u001B[2;36m                     \u001B[0m         \u001B[32ml_movie_files\\MatrixDetShow\\3280146143_484013631_121281806.m\u001B[0m \u001B[2m                        \u001B[0m\n",
       "\u001B[2;36m                     \u001B[0m         \u001B[32mp4'\u001B[0m                                                          \u001B[2m                        \u001B[0m\n"
      ],
      "text/html": [
       "<pre style=\"white-space:pre;overflow-x:auto;line-height:normal;font-family:Menlo,'DejaVu Sans Mono',consolas,'Courier New',monospace\"><span style=\"color: #7fbfbf; text-decoration-color: #7fbfbf\">[2024/12/1 20:21:47] </span><span style=\"color: #008000; text-decoration-color: #008000\">INFO    </span> Animation <span style=\"color: #008000; text-decoration-color: #008000\">45</span> : Partial movie file written in                 <a href=\"file://E:\\ipynb\\venv\\lib\\site-packages\\manim\\scene\\scene_file_writer.py\" target=\"_blank\"><span style=\"color: #7f7f7f; text-decoration-color: #7f7f7f\">scene_file_writer.py</span></a><span style=\"color: #7f7f7f; text-decoration-color: #7f7f7f\">:</span><a href=\"file://E:\\ipynb\\venv\\lib\\site-packages\\manim\\scene\\scene_file_writer.py#527\" target=\"_blank\"><span style=\"color: #7f7f7f; text-decoration-color: #7f7f7f\">527</span></a>\n",
       "<span style=\"color: #7fbfbf; text-decoration-color: #7fbfbf\">                     </span>         <span style=\"color: #008000; text-decoration-color: #008000\">'E:\\ipynb\\python_design\\yty_math\\media\\videos\\1080p60\\partia</span> <span style=\"color: #7f7f7f; text-decoration-color: #7f7f7f\">                        </span>\n",
       "<span style=\"color: #7fbfbf; text-decoration-color: #7fbfbf\">                     </span>         <span style=\"color: #008000; text-decoration-color: #008000\">l_movie_files\\MatrixDetShow\\3280146143_484013631_121281806.m</span> <span style=\"color: #7f7f7f; text-decoration-color: #7f7f7f\">                        </span>\n",
       "<span style=\"color: #7fbfbf; text-decoration-color: #7fbfbf\">                     </span>         <span style=\"color: #008000; text-decoration-color: #008000\">p4'</span>                                                          <span style=\"color: #7f7f7f; text-decoration-color: #7f7f7f\">                        </span>\n",
       "</pre>\n"
      ]
     },
     "metadata": {},
     "output_type": "display_data"
    },
    {
     "name": "stderr",
     "output_type": "stream",
     "text": [
      "                                                                                 \r"
     ]
    },
    {
     "data": {
      "text/plain": [
       "\u001B[2;36m[2024/12/1 20:21:49]\u001B[0m\u001B[2;36m \u001B[0m\u001B[32mINFO    \u001B[0m Animation \u001B[32m46\u001B[0m : Partial movie file written in                 \u001B]8;id=38914;file://E:\\ipynb\\venv\\lib\\site-packages\\manim\\scene\\scene_file_writer.py\u001B\\\u001B[2mscene_file_writer.py\u001B[0m\u001B]8;;\u001B\\\u001B[2m:\u001B[0m\u001B]8;id=739987;file://E:\\ipynb\\venv\\lib\\site-packages\\manim\\scene\\scene_file_writer.py#527\u001B\\\u001B[2m527\u001B[0m\u001B]8;;\u001B\\\n",
       "\u001B[2;36m                     \u001B[0m         \u001B[32m'E:\\ipynb\\python_design\\yty_math\\media\\videos\\1080p60\\partia\u001B[0m \u001B[2m                        \u001B[0m\n",
       "\u001B[2;36m                     \u001B[0m         \u001B[32ml_movie_files\\MatrixDetShow\\3280146143_932961558_3610523175.\u001B[0m \u001B[2m                        \u001B[0m\n",
       "\u001B[2;36m                     \u001B[0m         \u001B[32mmp4'\u001B[0m                                                         \u001B[2m                        \u001B[0m\n"
      ],
      "text/html": [
       "<pre style=\"white-space:pre;overflow-x:auto;line-height:normal;font-family:Menlo,'DejaVu Sans Mono',consolas,'Courier New',monospace\"><span style=\"color: #7fbfbf; text-decoration-color: #7fbfbf\">[2024/12/1 20:21:49] </span><span style=\"color: #008000; text-decoration-color: #008000\">INFO    </span> Animation <span style=\"color: #008000; text-decoration-color: #008000\">46</span> : Partial movie file written in                 <a href=\"file://E:\\ipynb\\venv\\lib\\site-packages\\manim\\scene\\scene_file_writer.py\" target=\"_blank\"><span style=\"color: #7f7f7f; text-decoration-color: #7f7f7f\">scene_file_writer.py</span></a><span style=\"color: #7f7f7f; text-decoration-color: #7f7f7f\">:</span><a href=\"file://E:\\ipynb\\venv\\lib\\site-packages\\manim\\scene\\scene_file_writer.py#527\" target=\"_blank\"><span style=\"color: #7f7f7f; text-decoration-color: #7f7f7f\">527</span></a>\n",
       "<span style=\"color: #7fbfbf; text-decoration-color: #7fbfbf\">                     </span>         <span style=\"color: #008000; text-decoration-color: #008000\">'E:\\ipynb\\python_design\\yty_math\\media\\videos\\1080p60\\partia</span> <span style=\"color: #7f7f7f; text-decoration-color: #7f7f7f\">                        </span>\n",
       "<span style=\"color: #7fbfbf; text-decoration-color: #7fbfbf\">                     </span>         <span style=\"color: #008000; text-decoration-color: #008000\">l_movie_files\\MatrixDetShow\\3280146143_932961558_3610523175.</span> <span style=\"color: #7f7f7f; text-decoration-color: #7f7f7f\">                        </span>\n",
       "<span style=\"color: #7fbfbf; text-decoration-color: #7fbfbf\">                     </span>         <span style=\"color: #008000; text-decoration-color: #008000\">mp4'</span>                                                         <span style=\"color: #7f7f7f; text-decoration-color: #7f7f7f\">                        </span>\n",
       "</pre>\n"
      ]
     },
     "metadata": {},
     "output_type": "display_data"
    },
    {
     "name": "stderr",
     "output_type": "stream",
     "text": [
      "                                                                                   \r"
     ]
    },
    {
     "data": {
      "text/plain": [
       "\u001B[2;36m[2024/12/1 20:21:51]\u001B[0m\u001B[2;36m \u001B[0m\u001B[32mINFO    \u001B[0m Animation \u001B[32m47\u001B[0m : Partial movie file written in                 \u001B]8;id=212262;file://E:\\ipynb\\venv\\lib\\site-packages\\manim\\scene\\scene_file_writer.py\u001B\\\u001B[2mscene_file_writer.py\u001B[0m\u001B]8;;\u001B\\\u001B[2m:\u001B[0m\u001B]8;id=742943;file://E:\\ipynb\\venv\\lib\\site-packages\\manim\\scene\\scene_file_writer.py#527\u001B\\\u001B[2m527\u001B[0m\u001B]8;;\u001B\\\n",
       "\u001B[2;36m                     \u001B[0m         \u001B[32m'E:\\ipynb\\python_design\\yty_math\\media\\videos\\1080p60\\partia\u001B[0m \u001B[2m                        \u001B[0m\n",
       "\u001B[2;36m                     \u001B[0m         \u001B[32ml_movie_files\\MatrixDetShow\\3280146143_479282298_636172691.m\u001B[0m \u001B[2m                        \u001B[0m\n",
       "\u001B[2;36m                     \u001B[0m         \u001B[32mp4'\u001B[0m                                                          \u001B[2m                        \u001B[0m\n"
      ],
      "text/html": [
       "<pre style=\"white-space:pre;overflow-x:auto;line-height:normal;font-family:Menlo,'DejaVu Sans Mono',consolas,'Courier New',monospace\"><span style=\"color: #7fbfbf; text-decoration-color: #7fbfbf\">[2024/12/1 20:21:51] </span><span style=\"color: #008000; text-decoration-color: #008000\">INFO    </span> Animation <span style=\"color: #008000; text-decoration-color: #008000\">47</span> : Partial movie file written in                 <a href=\"file://E:\\ipynb\\venv\\lib\\site-packages\\manim\\scene\\scene_file_writer.py\" target=\"_blank\"><span style=\"color: #7f7f7f; text-decoration-color: #7f7f7f\">scene_file_writer.py</span></a><span style=\"color: #7f7f7f; text-decoration-color: #7f7f7f\">:</span><a href=\"file://E:\\ipynb\\venv\\lib\\site-packages\\manim\\scene\\scene_file_writer.py#527\" target=\"_blank\"><span style=\"color: #7f7f7f; text-decoration-color: #7f7f7f\">527</span></a>\n",
       "<span style=\"color: #7fbfbf; text-decoration-color: #7fbfbf\">                     </span>         <span style=\"color: #008000; text-decoration-color: #008000\">'E:\\ipynb\\python_design\\yty_math\\media\\videos\\1080p60\\partia</span> <span style=\"color: #7f7f7f; text-decoration-color: #7f7f7f\">                        </span>\n",
       "<span style=\"color: #7fbfbf; text-decoration-color: #7fbfbf\">                     </span>         <span style=\"color: #008000; text-decoration-color: #008000\">l_movie_files\\MatrixDetShow\\3280146143_479282298_636172691.m</span> <span style=\"color: #7f7f7f; text-decoration-color: #7f7f7f\">                        </span>\n",
       "<span style=\"color: #7fbfbf; text-decoration-color: #7fbfbf\">                     </span>         <span style=\"color: #008000; text-decoration-color: #008000\">p4'</span>                                                          <span style=\"color: #7f7f7f; text-decoration-color: #7f7f7f\">                        </span>\n",
       "</pre>\n"
      ]
     },
     "metadata": {},
     "output_type": "display_data"
    },
    {
     "name": "stderr",
     "output_type": "stream",
     "text": [
      "                                                                                              \r"
     ]
    },
    {
     "data": {
      "text/plain": [
       "\u001B[2;36m[2024/12/1 20:21:55]\u001B[0m\u001B[2;36m \u001B[0m\u001B[32mINFO    \u001B[0m Animation \u001B[32m48\u001B[0m : Partial movie file written in                 \u001B]8;id=98281;file://E:\\ipynb\\venv\\lib\\site-packages\\manim\\scene\\scene_file_writer.py\u001B\\\u001B[2mscene_file_writer.py\u001B[0m\u001B]8;;\u001B\\\u001B[2m:\u001B[0m\u001B]8;id=215800;file://E:\\ipynb\\venv\\lib\\site-packages\\manim\\scene\\scene_file_writer.py#527\u001B\\\u001B[2m527\u001B[0m\u001B]8;;\u001B\\\n",
       "\u001B[2;36m                     \u001B[0m         \u001B[32m'E:\\ipynb\\python_design\\yty_math\\media\\videos\\1080p60\\partia\u001B[0m \u001B[2m                        \u001B[0m\n",
       "\u001B[2;36m                     \u001B[0m         \u001B[32ml_movie_files\\MatrixDetShow\\3280146143_1118948223_735503814.\u001B[0m \u001B[2m                        \u001B[0m\n",
       "\u001B[2;36m                     \u001B[0m         \u001B[32mmp4'\u001B[0m                                                         \u001B[2m                        \u001B[0m\n"
      ],
      "text/html": [
       "<pre style=\"white-space:pre;overflow-x:auto;line-height:normal;font-family:Menlo,'DejaVu Sans Mono',consolas,'Courier New',monospace\"><span style=\"color: #7fbfbf; text-decoration-color: #7fbfbf\">[2024/12/1 20:21:55] </span><span style=\"color: #008000; text-decoration-color: #008000\">INFO    </span> Animation <span style=\"color: #008000; text-decoration-color: #008000\">48</span> : Partial movie file written in                 <a href=\"file://E:\\ipynb\\venv\\lib\\site-packages\\manim\\scene\\scene_file_writer.py\" target=\"_blank\"><span style=\"color: #7f7f7f; text-decoration-color: #7f7f7f\">scene_file_writer.py</span></a><span style=\"color: #7f7f7f; text-decoration-color: #7f7f7f\">:</span><a href=\"file://E:\\ipynb\\venv\\lib\\site-packages\\manim\\scene\\scene_file_writer.py#527\" target=\"_blank\"><span style=\"color: #7f7f7f; text-decoration-color: #7f7f7f\">527</span></a>\n",
       "<span style=\"color: #7fbfbf; text-decoration-color: #7fbfbf\">                     </span>         <span style=\"color: #008000; text-decoration-color: #008000\">'E:\\ipynb\\python_design\\yty_math\\media\\videos\\1080p60\\partia</span> <span style=\"color: #7f7f7f; text-decoration-color: #7f7f7f\">                        </span>\n",
       "<span style=\"color: #7fbfbf; text-decoration-color: #7fbfbf\">                     </span>         <span style=\"color: #008000; text-decoration-color: #008000\">l_movie_files\\MatrixDetShow\\3280146143_1118948223_735503814.</span> <span style=\"color: #7f7f7f; text-decoration-color: #7f7f7f\">                        </span>\n",
       "<span style=\"color: #7fbfbf; text-decoration-color: #7fbfbf\">                     </span>         <span style=\"color: #008000; text-decoration-color: #008000\">mp4'</span>                                                         <span style=\"color: #7f7f7f; text-decoration-color: #7f7f7f\">                        </span>\n",
       "</pre>\n"
      ]
     },
     "metadata": {},
     "output_type": "display_data"
    },
    {
     "name": "stderr",
     "output_type": "stream",
     "text": [
      "                                                                                 \r"
     ]
    },
    {
     "data": {
      "text/plain": [
       "\u001B[2;36m[2024/12/1 20:21:58]\u001B[0m\u001B[2;36m \u001B[0m\u001B[32mINFO    \u001B[0m Animation \u001B[32m49\u001B[0m : Partial movie file written in                 \u001B]8;id=318905;file://E:\\ipynb\\venv\\lib\\site-packages\\manim\\scene\\scene_file_writer.py\u001B\\\u001B[2mscene_file_writer.py\u001B[0m\u001B]8;;\u001B\\\u001B[2m:\u001B[0m\u001B]8;id=671712;file://E:\\ipynb\\venv\\lib\\site-packages\\manim\\scene\\scene_file_writer.py#527\u001B\\\u001B[2m527\u001B[0m\u001B]8;;\u001B\\\n",
       "\u001B[2;36m                     \u001B[0m         \u001B[32m'E:\\ipynb\\python_design\\yty_math\\media\\videos\\1080p60\\partia\u001B[0m \u001B[2m                        \u001B[0m\n",
       "\u001B[2;36m                     \u001B[0m         \u001B[32ml_movie_files\\MatrixDetShow\\3280146143_2911311160_3118015287\u001B[0m \u001B[2m                        \u001B[0m\n",
       "\u001B[2;36m                     \u001B[0m         \u001B[32m.mp4'\u001B[0m                                                        \u001B[2m                        \u001B[0m\n"
      ],
      "text/html": [
       "<pre style=\"white-space:pre;overflow-x:auto;line-height:normal;font-family:Menlo,'DejaVu Sans Mono',consolas,'Courier New',monospace\"><span style=\"color: #7fbfbf; text-decoration-color: #7fbfbf\">[2024/12/1 20:21:58] </span><span style=\"color: #008000; text-decoration-color: #008000\">INFO    </span> Animation <span style=\"color: #008000; text-decoration-color: #008000\">49</span> : Partial movie file written in                 <a href=\"file://E:\\ipynb\\venv\\lib\\site-packages\\manim\\scene\\scene_file_writer.py\" target=\"_blank\"><span style=\"color: #7f7f7f; text-decoration-color: #7f7f7f\">scene_file_writer.py</span></a><span style=\"color: #7f7f7f; text-decoration-color: #7f7f7f\">:</span><a href=\"file://E:\\ipynb\\venv\\lib\\site-packages\\manim\\scene\\scene_file_writer.py#527\" target=\"_blank\"><span style=\"color: #7f7f7f; text-decoration-color: #7f7f7f\">527</span></a>\n",
       "<span style=\"color: #7fbfbf; text-decoration-color: #7fbfbf\">                     </span>         <span style=\"color: #008000; text-decoration-color: #008000\">'E:\\ipynb\\python_design\\yty_math\\media\\videos\\1080p60\\partia</span> <span style=\"color: #7f7f7f; text-decoration-color: #7f7f7f\">                        </span>\n",
       "<span style=\"color: #7fbfbf; text-decoration-color: #7fbfbf\">                     </span>         <span style=\"color: #008000; text-decoration-color: #008000\">l_movie_files\\MatrixDetShow\\3280146143_2911311160_3118015287</span> <span style=\"color: #7f7f7f; text-decoration-color: #7f7f7f\">                        </span>\n",
       "<span style=\"color: #7fbfbf; text-decoration-color: #7fbfbf\">                     </span>         <span style=\"color: #008000; text-decoration-color: #008000\">.mp4'</span>                                                        <span style=\"color: #7f7f7f; text-decoration-color: #7f7f7f\">                        </span>\n",
       "</pre>\n"
      ]
     },
     "metadata": {},
     "output_type": "display_data"
    },
    {
     "name": "stderr",
     "output_type": "stream",
     "text": [
      "                                                                                               \r"
     ]
    },
    {
     "data": {
      "text/plain": [
       "\u001B[2;36m[2024/12/1 20:22:02]\u001B[0m\u001B[2;36m \u001B[0m\u001B[32mINFO    \u001B[0m Animation \u001B[32m50\u001B[0m : Partial movie file written in                 \u001B]8;id=219306;file://E:\\ipynb\\venv\\lib\\site-packages\\manim\\scene\\scene_file_writer.py\u001B\\\u001B[2mscene_file_writer.py\u001B[0m\u001B]8;;\u001B\\\u001B[2m:\u001B[0m\u001B]8;id=279525;file://E:\\ipynb\\venv\\lib\\site-packages\\manim\\scene\\scene_file_writer.py#527\u001B\\\u001B[2m527\u001B[0m\u001B]8;;\u001B\\\n",
       "\u001B[2;36m                     \u001B[0m         \u001B[32m'E:\\ipynb\\python_design\\yty_math\\media\\videos\\1080p60\\partia\u001B[0m \u001B[2m                        \u001B[0m\n",
       "\u001B[2;36m                     \u001B[0m         \u001B[32ml_movie_files\\MatrixDetShow\\3280146143_1205696473_3012791716\u001B[0m \u001B[2m                        \u001B[0m\n",
       "\u001B[2;36m                     \u001B[0m         \u001B[32m.mp4'\u001B[0m                                                        \u001B[2m                        \u001B[0m\n"
      ],
      "text/html": [
       "<pre style=\"white-space:pre;overflow-x:auto;line-height:normal;font-family:Menlo,'DejaVu Sans Mono',consolas,'Courier New',monospace\"><span style=\"color: #7fbfbf; text-decoration-color: #7fbfbf\">[2024/12/1 20:22:02] </span><span style=\"color: #008000; text-decoration-color: #008000\">INFO    </span> Animation <span style=\"color: #008000; text-decoration-color: #008000\">50</span> : Partial movie file written in                 <a href=\"file://E:\\ipynb\\venv\\lib\\site-packages\\manim\\scene\\scene_file_writer.py\" target=\"_blank\"><span style=\"color: #7f7f7f; text-decoration-color: #7f7f7f\">scene_file_writer.py</span></a><span style=\"color: #7f7f7f; text-decoration-color: #7f7f7f\">:</span><a href=\"file://E:\\ipynb\\venv\\lib\\site-packages\\manim\\scene\\scene_file_writer.py#527\" target=\"_blank\"><span style=\"color: #7f7f7f; text-decoration-color: #7f7f7f\">527</span></a>\n",
       "<span style=\"color: #7fbfbf; text-decoration-color: #7fbfbf\">                     </span>         <span style=\"color: #008000; text-decoration-color: #008000\">'E:\\ipynb\\python_design\\yty_math\\media\\videos\\1080p60\\partia</span> <span style=\"color: #7f7f7f; text-decoration-color: #7f7f7f\">                        </span>\n",
       "<span style=\"color: #7fbfbf; text-decoration-color: #7fbfbf\">                     </span>         <span style=\"color: #008000; text-decoration-color: #008000\">l_movie_files\\MatrixDetShow\\3280146143_1205696473_3012791716</span> <span style=\"color: #7f7f7f; text-decoration-color: #7f7f7f\">                        </span>\n",
       "<span style=\"color: #7fbfbf; text-decoration-color: #7fbfbf\">                     </span>         <span style=\"color: #008000; text-decoration-color: #008000\">.mp4'</span>                                                        <span style=\"color: #7f7f7f; text-decoration-color: #7f7f7f\">                        </span>\n",
       "</pre>\n"
      ]
     },
     "metadata": {},
     "output_type": "display_data"
    },
    {
     "name": "stderr",
     "output_type": "stream",
     "text": [
      "                                                                                                        \r"
     ]
    },
    {
     "data": {
      "text/plain": [
       "\u001B[2;36m[2024/12/1 20:22:05]\u001B[0m\u001B[2;36m \u001B[0m\u001B[32mINFO    \u001B[0m Animation \u001B[32m51\u001B[0m : Partial movie file written in                 \u001B]8;id=464918;file://E:\\ipynb\\venv\\lib\\site-packages\\manim\\scene\\scene_file_writer.py\u001B\\\u001B[2mscene_file_writer.py\u001B[0m\u001B]8;;\u001B\\\u001B[2m:\u001B[0m\u001B]8;id=760668;file://E:\\ipynb\\venv\\lib\\site-packages\\manim\\scene\\scene_file_writer.py#527\u001B\\\u001B[2m527\u001B[0m\u001B]8;;\u001B\\\n",
       "\u001B[2;36m                     \u001B[0m         \u001B[32m'E:\\ipynb\\python_design\\yty_math\\media\\videos\\1080p60\\partia\u001B[0m \u001B[2m                        \u001B[0m\n",
       "\u001B[2;36m                     \u001B[0m         \u001B[32ml_movie_files\\MatrixDetShow\\3280146143_2434198462_2209584454\u001B[0m \u001B[2m                        \u001B[0m\n",
       "\u001B[2;36m                     \u001B[0m         \u001B[32m.mp4'\u001B[0m                                                        \u001B[2m                        \u001B[0m\n"
      ],
      "text/html": [
       "<pre style=\"white-space:pre;overflow-x:auto;line-height:normal;font-family:Menlo,'DejaVu Sans Mono',consolas,'Courier New',monospace\"><span style=\"color: #7fbfbf; text-decoration-color: #7fbfbf\">[2024/12/1 20:22:05] </span><span style=\"color: #008000; text-decoration-color: #008000\">INFO    </span> Animation <span style=\"color: #008000; text-decoration-color: #008000\">51</span> : Partial movie file written in                 <a href=\"file://E:\\ipynb\\venv\\lib\\site-packages\\manim\\scene\\scene_file_writer.py\" target=\"_blank\"><span style=\"color: #7f7f7f; text-decoration-color: #7f7f7f\">scene_file_writer.py</span></a><span style=\"color: #7f7f7f; text-decoration-color: #7f7f7f\">:</span><a href=\"file://E:\\ipynb\\venv\\lib\\site-packages\\manim\\scene\\scene_file_writer.py#527\" target=\"_blank\"><span style=\"color: #7f7f7f; text-decoration-color: #7f7f7f\">527</span></a>\n",
       "<span style=\"color: #7fbfbf; text-decoration-color: #7fbfbf\">                     </span>         <span style=\"color: #008000; text-decoration-color: #008000\">'E:\\ipynb\\python_design\\yty_math\\media\\videos\\1080p60\\partia</span> <span style=\"color: #7f7f7f; text-decoration-color: #7f7f7f\">                        </span>\n",
       "<span style=\"color: #7fbfbf; text-decoration-color: #7fbfbf\">                     </span>         <span style=\"color: #008000; text-decoration-color: #008000\">l_movie_files\\MatrixDetShow\\3280146143_2434198462_2209584454</span> <span style=\"color: #7f7f7f; text-decoration-color: #7f7f7f\">                        </span>\n",
       "<span style=\"color: #7fbfbf; text-decoration-color: #7fbfbf\">                     </span>         <span style=\"color: #008000; text-decoration-color: #008000\">.mp4'</span>                                                        <span style=\"color: #7f7f7f; text-decoration-color: #7f7f7f\">                        </span>\n",
       "</pre>\n"
      ]
     },
     "metadata": {},
     "output_type": "display_data"
    },
    {
     "name": "stderr",
     "output_type": "stream",
     "text": [
      "                                                                                                        \r"
     ]
    },
    {
     "data": {
      "text/plain": [
       "\u001B[2;36m[2024/12/1 20:22:09]\u001B[0m\u001B[2;36m \u001B[0m\u001B[32mINFO    \u001B[0m Animation \u001B[32m52\u001B[0m : Partial movie file written in                 \u001B]8;id=496645;file://E:\\ipynb\\venv\\lib\\site-packages\\manim\\scene\\scene_file_writer.py\u001B\\\u001B[2mscene_file_writer.py\u001B[0m\u001B]8;;\u001B\\\u001B[2m:\u001B[0m\u001B]8;id=131983;file://E:\\ipynb\\venv\\lib\\site-packages\\manim\\scene\\scene_file_writer.py#527\u001B\\\u001B[2m527\u001B[0m\u001B]8;;\u001B\\\n",
       "\u001B[2;36m                     \u001B[0m         \u001B[32m'E:\\ipynb\\python_design\\yty_math\\media\\videos\\1080p60\\partia\u001B[0m \u001B[2m                        \u001B[0m\n",
       "\u001B[2;36m                     \u001B[0m         \u001B[32ml_movie_files\\MatrixDetShow\\3280146143_289388724_4187805330.\u001B[0m \u001B[2m                        \u001B[0m\n",
       "\u001B[2;36m                     \u001B[0m         \u001B[32mmp4'\u001B[0m                                                         \u001B[2m                        \u001B[0m\n"
      ],
      "text/html": [
       "<pre style=\"white-space:pre;overflow-x:auto;line-height:normal;font-family:Menlo,'DejaVu Sans Mono',consolas,'Courier New',monospace\"><span style=\"color: #7fbfbf; text-decoration-color: #7fbfbf\">[2024/12/1 20:22:09] </span><span style=\"color: #008000; text-decoration-color: #008000\">INFO    </span> Animation <span style=\"color: #008000; text-decoration-color: #008000\">52</span> : Partial movie file written in                 <a href=\"file://E:\\ipynb\\venv\\lib\\site-packages\\manim\\scene\\scene_file_writer.py\" target=\"_blank\"><span style=\"color: #7f7f7f; text-decoration-color: #7f7f7f\">scene_file_writer.py</span></a><span style=\"color: #7f7f7f; text-decoration-color: #7f7f7f\">:</span><a href=\"file://E:\\ipynb\\venv\\lib\\site-packages\\manim\\scene\\scene_file_writer.py#527\" target=\"_blank\"><span style=\"color: #7f7f7f; text-decoration-color: #7f7f7f\">527</span></a>\n",
       "<span style=\"color: #7fbfbf; text-decoration-color: #7fbfbf\">                     </span>         <span style=\"color: #008000; text-decoration-color: #008000\">'E:\\ipynb\\python_design\\yty_math\\media\\videos\\1080p60\\partia</span> <span style=\"color: #7f7f7f; text-decoration-color: #7f7f7f\">                        </span>\n",
       "<span style=\"color: #7fbfbf; text-decoration-color: #7fbfbf\">                     </span>         <span style=\"color: #008000; text-decoration-color: #008000\">l_movie_files\\MatrixDetShow\\3280146143_289388724_4187805330.</span> <span style=\"color: #7f7f7f; text-decoration-color: #7f7f7f\">                        </span>\n",
       "<span style=\"color: #7fbfbf; text-decoration-color: #7fbfbf\">                     </span>         <span style=\"color: #008000; text-decoration-color: #008000\">mp4'</span>                                                         <span style=\"color: #7f7f7f; text-decoration-color: #7f7f7f\">                        </span>\n",
       "</pre>\n"
      ]
     },
     "metadata": {},
     "output_type": "display_data"
    },
    {
     "name": "stderr",
     "output_type": "stream",
     "text": [
      "                                                                                 \r"
     ]
    },
    {
     "data": {
      "text/plain": [
       "\u001B[2;36m[2024/12/1 20:22:11]\u001B[0m\u001B[2;36m \u001B[0m\u001B[32mINFO    \u001B[0m Animation \u001B[32m53\u001B[0m : Partial movie file written in                 \u001B]8;id=849523;file://E:\\ipynb\\venv\\lib\\site-packages\\manim\\scene\\scene_file_writer.py\u001B\\\u001B[2mscene_file_writer.py\u001B[0m\u001B]8;;\u001B\\\u001B[2m:\u001B[0m\u001B]8;id=975391;file://E:\\ipynb\\venv\\lib\\site-packages\\manim\\scene\\scene_file_writer.py#527\u001B\\\u001B[2m527\u001B[0m\u001B]8;;\u001B\\\n",
       "\u001B[2;36m                     \u001B[0m         \u001B[32m'E:\\ipynb\\python_design\\yty_math\\media\\videos\\1080p60\\partia\u001B[0m \u001B[2m                        \u001B[0m\n",
       "\u001B[2;36m                     \u001B[0m         \u001B[32ml_movie_files\\MatrixDetShow\\3280146143_4132815422_2249097248\u001B[0m \u001B[2m                        \u001B[0m\n",
       "\u001B[2;36m                     \u001B[0m         \u001B[32m.mp4'\u001B[0m                                                        \u001B[2m                        \u001B[0m\n"
      ],
      "text/html": [
       "<pre style=\"white-space:pre;overflow-x:auto;line-height:normal;font-family:Menlo,'DejaVu Sans Mono',consolas,'Courier New',monospace\"><span style=\"color: #7fbfbf; text-decoration-color: #7fbfbf\">[2024/12/1 20:22:11] </span><span style=\"color: #008000; text-decoration-color: #008000\">INFO    </span> Animation <span style=\"color: #008000; text-decoration-color: #008000\">53</span> : Partial movie file written in                 <a href=\"file://E:\\ipynb\\venv\\lib\\site-packages\\manim\\scene\\scene_file_writer.py\" target=\"_blank\"><span style=\"color: #7f7f7f; text-decoration-color: #7f7f7f\">scene_file_writer.py</span></a><span style=\"color: #7f7f7f; text-decoration-color: #7f7f7f\">:</span><a href=\"file://E:\\ipynb\\venv\\lib\\site-packages\\manim\\scene\\scene_file_writer.py#527\" target=\"_blank\"><span style=\"color: #7f7f7f; text-decoration-color: #7f7f7f\">527</span></a>\n",
       "<span style=\"color: #7fbfbf; text-decoration-color: #7fbfbf\">                     </span>         <span style=\"color: #008000; text-decoration-color: #008000\">'E:\\ipynb\\python_design\\yty_math\\media\\videos\\1080p60\\partia</span> <span style=\"color: #7f7f7f; text-decoration-color: #7f7f7f\">                        </span>\n",
       "<span style=\"color: #7fbfbf; text-decoration-color: #7fbfbf\">                     </span>         <span style=\"color: #008000; text-decoration-color: #008000\">l_movie_files\\MatrixDetShow\\3280146143_4132815422_2249097248</span> <span style=\"color: #7f7f7f; text-decoration-color: #7f7f7f\">                        </span>\n",
       "<span style=\"color: #7fbfbf; text-decoration-color: #7fbfbf\">                     </span>         <span style=\"color: #008000; text-decoration-color: #008000\">.mp4'</span>                                                        <span style=\"color: #7f7f7f; text-decoration-color: #7f7f7f\">                        </span>\n",
       "</pre>\n"
      ]
     },
     "metadata": {},
     "output_type": "display_data"
    },
    {
     "name": "stderr",
     "output_type": "stream",
     "text": [
      "                                                                                                         \r"
     ]
    },
    {
     "data": {
      "text/plain": [
       "\u001B[2;36m[2024/12/1 20:22:14]\u001B[0m\u001B[2;36m \u001B[0m\u001B[32mINFO    \u001B[0m Animation \u001B[32m54\u001B[0m : Partial movie file written in                 \u001B]8;id=402025;file://E:\\ipynb\\venv\\lib\\site-packages\\manim\\scene\\scene_file_writer.py\u001B\\\u001B[2mscene_file_writer.py\u001B[0m\u001B]8;;\u001B\\\u001B[2m:\u001B[0m\u001B]8;id=71307;file://E:\\ipynb\\venv\\lib\\site-packages\\manim\\scene\\scene_file_writer.py#527\u001B\\\u001B[2m527\u001B[0m\u001B]8;;\u001B\\\n",
       "\u001B[2;36m                     \u001B[0m         \u001B[32m'E:\\ipynb\\python_design\\yty_math\\media\\videos\\1080p60\\partia\u001B[0m \u001B[2m                        \u001B[0m\n",
       "\u001B[2;36m                     \u001B[0m         \u001B[32ml_movie_files\\MatrixDetShow\\3280146143_748906826_3617157318.\u001B[0m \u001B[2m                        \u001B[0m\n",
       "\u001B[2;36m                     \u001B[0m         \u001B[32mmp4'\u001B[0m                                                         \u001B[2m                        \u001B[0m\n"
      ],
      "text/html": [
       "<pre style=\"white-space:pre;overflow-x:auto;line-height:normal;font-family:Menlo,'DejaVu Sans Mono',consolas,'Courier New',monospace\"><span style=\"color: #7fbfbf; text-decoration-color: #7fbfbf\">[2024/12/1 20:22:14] </span><span style=\"color: #008000; text-decoration-color: #008000\">INFO    </span> Animation <span style=\"color: #008000; text-decoration-color: #008000\">54</span> : Partial movie file written in                 <a href=\"file://E:\\ipynb\\venv\\lib\\site-packages\\manim\\scene\\scene_file_writer.py\" target=\"_blank\"><span style=\"color: #7f7f7f; text-decoration-color: #7f7f7f\">scene_file_writer.py</span></a><span style=\"color: #7f7f7f; text-decoration-color: #7f7f7f\">:</span><a href=\"file://E:\\ipynb\\venv\\lib\\site-packages\\manim\\scene\\scene_file_writer.py#527\" target=\"_blank\"><span style=\"color: #7f7f7f; text-decoration-color: #7f7f7f\">527</span></a>\n",
       "<span style=\"color: #7fbfbf; text-decoration-color: #7fbfbf\">                     </span>         <span style=\"color: #008000; text-decoration-color: #008000\">'E:\\ipynb\\python_design\\yty_math\\media\\videos\\1080p60\\partia</span> <span style=\"color: #7f7f7f; text-decoration-color: #7f7f7f\">                        </span>\n",
       "<span style=\"color: #7fbfbf; text-decoration-color: #7fbfbf\">                     </span>         <span style=\"color: #008000; text-decoration-color: #008000\">l_movie_files\\MatrixDetShow\\3280146143_748906826_3617157318.</span> <span style=\"color: #7f7f7f; text-decoration-color: #7f7f7f\">                        </span>\n",
       "<span style=\"color: #7fbfbf; text-decoration-color: #7fbfbf\">                     </span>         <span style=\"color: #008000; text-decoration-color: #008000\">mp4'</span>                                                         <span style=\"color: #7f7f7f; text-decoration-color: #7f7f7f\">                        </span>\n",
       "</pre>\n"
      ]
     },
     "metadata": {},
     "output_type": "display_data"
    },
    {
     "name": "stderr",
     "output_type": "stream",
     "text": [
      "                                                                                 \r"
     ]
    },
    {
     "data": {
      "text/plain": [
       "\u001B[2;36m[2024/12/1 20:22:16]\u001B[0m\u001B[2;36m \u001B[0m\u001B[32mINFO    \u001B[0m Animation \u001B[32m55\u001B[0m : Partial movie file written in                 \u001B]8;id=856364;file://E:\\ipynb\\venv\\lib\\site-packages\\manim\\scene\\scene_file_writer.py\u001B\\\u001B[2mscene_file_writer.py\u001B[0m\u001B]8;;\u001B\\\u001B[2m:\u001B[0m\u001B]8;id=911229;file://E:\\ipynb\\venv\\lib\\site-packages\\manim\\scene\\scene_file_writer.py#527\u001B\\\u001B[2m527\u001B[0m\u001B]8;;\u001B\\\n",
       "\u001B[2;36m                     \u001B[0m         \u001B[32m'E:\\ipynb\\python_design\\yty_math\\media\\videos\\1080p60\\partia\u001B[0m \u001B[2m                        \u001B[0m\n",
       "\u001B[2;36m                     \u001B[0m         \u001B[32ml_movie_files\\MatrixDetShow\\3280146143_434613141_967260610.m\u001B[0m \u001B[2m                        \u001B[0m\n",
       "\u001B[2;36m                     \u001B[0m         \u001B[32mp4'\u001B[0m                                                          \u001B[2m                        \u001B[0m\n"
      ],
      "text/html": [
       "<pre style=\"white-space:pre;overflow-x:auto;line-height:normal;font-family:Menlo,'DejaVu Sans Mono',consolas,'Courier New',monospace\"><span style=\"color: #7fbfbf; text-decoration-color: #7fbfbf\">[2024/12/1 20:22:16] </span><span style=\"color: #008000; text-decoration-color: #008000\">INFO    </span> Animation <span style=\"color: #008000; text-decoration-color: #008000\">55</span> : Partial movie file written in                 <a href=\"file://E:\\ipynb\\venv\\lib\\site-packages\\manim\\scene\\scene_file_writer.py\" target=\"_blank\"><span style=\"color: #7f7f7f; text-decoration-color: #7f7f7f\">scene_file_writer.py</span></a><span style=\"color: #7f7f7f; text-decoration-color: #7f7f7f\">:</span><a href=\"file://E:\\ipynb\\venv\\lib\\site-packages\\manim\\scene\\scene_file_writer.py#527\" target=\"_blank\"><span style=\"color: #7f7f7f; text-decoration-color: #7f7f7f\">527</span></a>\n",
       "<span style=\"color: #7fbfbf; text-decoration-color: #7fbfbf\">                     </span>         <span style=\"color: #008000; text-decoration-color: #008000\">'E:\\ipynb\\python_design\\yty_math\\media\\videos\\1080p60\\partia</span> <span style=\"color: #7f7f7f; text-decoration-color: #7f7f7f\">                        </span>\n",
       "<span style=\"color: #7fbfbf; text-decoration-color: #7fbfbf\">                     </span>         <span style=\"color: #008000; text-decoration-color: #008000\">l_movie_files\\MatrixDetShow\\3280146143_434613141_967260610.m</span> <span style=\"color: #7f7f7f; text-decoration-color: #7f7f7f\">                        </span>\n",
       "<span style=\"color: #7fbfbf; text-decoration-color: #7fbfbf\">                     </span>         <span style=\"color: #008000; text-decoration-color: #008000\">p4'</span>                                                          <span style=\"color: #7f7f7f; text-decoration-color: #7f7f7f\">                        </span>\n",
       "</pre>\n"
      ]
     },
     "metadata": {},
     "output_type": "display_data"
    },
    {
     "name": "stderr",
     "output_type": "stream",
     "text": [
      "                                                                                                         \r"
     ]
    },
    {
     "data": {
      "text/plain": [
       "\u001B[2;36m[2024/12/1 20:22:19]\u001B[0m\u001B[2;36m \u001B[0m\u001B[32mINFO    \u001B[0m Animation \u001B[32m56\u001B[0m : Partial movie file written in                 \u001B]8;id=410610;file://E:\\ipynb\\venv\\lib\\site-packages\\manim\\scene\\scene_file_writer.py\u001B\\\u001B[2mscene_file_writer.py\u001B[0m\u001B]8;;\u001B\\\u001B[2m:\u001B[0m\u001B]8;id=13706;file://E:\\ipynb\\venv\\lib\\site-packages\\manim\\scene\\scene_file_writer.py#527\u001B\\\u001B[2m527\u001B[0m\u001B]8;;\u001B\\\n",
       "\u001B[2;36m                     \u001B[0m         \u001B[32m'E:\\ipynb\\python_design\\yty_math\\media\\videos\\1080p60\\partia\u001B[0m \u001B[2m                        \u001B[0m\n",
       "\u001B[2;36m                     \u001B[0m         \u001B[32ml_movie_files\\MatrixDetShow\\3280146143_114701872_899384357.m\u001B[0m \u001B[2m                        \u001B[0m\n",
       "\u001B[2;36m                     \u001B[0m         \u001B[32mp4'\u001B[0m                                                          \u001B[2m                        \u001B[0m\n"
      ],
      "text/html": [
       "<pre style=\"white-space:pre;overflow-x:auto;line-height:normal;font-family:Menlo,'DejaVu Sans Mono',consolas,'Courier New',monospace\"><span style=\"color: #7fbfbf; text-decoration-color: #7fbfbf\">[2024/12/1 20:22:19] </span><span style=\"color: #008000; text-decoration-color: #008000\">INFO    </span> Animation <span style=\"color: #008000; text-decoration-color: #008000\">56</span> : Partial movie file written in                 <a href=\"file://E:\\ipynb\\venv\\lib\\site-packages\\manim\\scene\\scene_file_writer.py\" target=\"_blank\"><span style=\"color: #7f7f7f; text-decoration-color: #7f7f7f\">scene_file_writer.py</span></a><span style=\"color: #7f7f7f; text-decoration-color: #7f7f7f\">:</span><a href=\"file://E:\\ipynb\\venv\\lib\\site-packages\\manim\\scene\\scene_file_writer.py#527\" target=\"_blank\"><span style=\"color: #7f7f7f; text-decoration-color: #7f7f7f\">527</span></a>\n",
       "<span style=\"color: #7fbfbf; text-decoration-color: #7fbfbf\">                     </span>         <span style=\"color: #008000; text-decoration-color: #008000\">'E:\\ipynb\\python_design\\yty_math\\media\\videos\\1080p60\\partia</span> <span style=\"color: #7f7f7f; text-decoration-color: #7f7f7f\">                        </span>\n",
       "<span style=\"color: #7fbfbf; text-decoration-color: #7fbfbf\">                     </span>         <span style=\"color: #008000; text-decoration-color: #008000\">l_movie_files\\MatrixDetShow\\3280146143_114701872_899384357.m</span> <span style=\"color: #7f7f7f; text-decoration-color: #7f7f7f\">                        </span>\n",
       "<span style=\"color: #7fbfbf; text-decoration-color: #7fbfbf\">                     </span>         <span style=\"color: #008000; text-decoration-color: #008000\">p4'</span>                                                          <span style=\"color: #7f7f7f; text-decoration-color: #7f7f7f\">                        </span>\n",
       "</pre>\n"
      ]
     },
     "metadata": {},
     "output_type": "display_data"
    },
    {
     "name": "stderr",
     "output_type": "stream",
     "text": [
      "                                                                                 \r"
     ]
    },
    {
     "data": {
      "text/plain": [
       "\u001B[2;36m[2024/12/1 20:22:21]\u001B[0m\u001B[2;36m \u001B[0m\u001B[32mINFO    \u001B[0m Animation \u001B[32m57\u001B[0m : Partial movie file written in                 \u001B]8;id=453325;file://E:\\ipynb\\venv\\lib\\site-packages\\manim\\scene\\scene_file_writer.py\u001B\\\u001B[2mscene_file_writer.py\u001B[0m\u001B]8;;\u001B\\\u001B[2m:\u001B[0m\u001B]8;id=902361;file://E:\\ipynb\\venv\\lib\\site-packages\\manim\\scene\\scene_file_writer.py#527\u001B\\\u001B[2m527\u001B[0m\u001B]8;;\u001B\\\n",
       "\u001B[2;36m                     \u001B[0m         \u001B[32m'E:\\ipynb\\python_design\\yty_math\\media\\videos\\1080p60\\partia\u001B[0m \u001B[2m                        \u001B[0m\n",
       "\u001B[2;36m                     \u001B[0m         \u001B[32ml_movie_files\\MatrixDetShow\\3280146143_507916352_28679869.mp\u001B[0m \u001B[2m                        \u001B[0m\n",
       "\u001B[2;36m                     \u001B[0m         \u001B[32m4'\u001B[0m                                                           \u001B[2m                        \u001B[0m\n"
      ],
      "text/html": [
       "<pre style=\"white-space:pre;overflow-x:auto;line-height:normal;font-family:Menlo,'DejaVu Sans Mono',consolas,'Courier New',monospace\"><span style=\"color: #7fbfbf; text-decoration-color: #7fbfbf\">[2024/12/1 20:22:21] </span><span style=\"color: #008000; text-decoration-color: #008000\">INFO    </span> Animation <span style=\"color: #008000; text-decoration-color: #008000\">57</span> : Partial movie file written in                 <a href=\"file://E:\\ipynb\\venv\\lib\\site-packages\\manim\\scene\\scene_file_writer.py\" target=\"_blank\"><span style=\"color: #7f7f7f; text-decoration-color: #7f7f7f\">scene_file_writer.py</span></a><span style=\"color: #7f7f7f; text-decoration-color: #7f7f7f\">:</span><a href=\"file://E:\\ipynb\\venv\\lib\\site-packages\\manim\\scene\\scene_file_writer.py#527\" target=\"_blank\"><span style=\"color: #7f7f7f; text-decoration-color: #7f7f7f\">527</span></a>\n",
       "<span style=\"color: #7fbfbf; text-decoration-color: #7fbfbf\">                     </span>         <span style=\"color: #008000; text-decoration-color: #008000\">'E:\\ipynb\\python_design\\yty_math\\media\\videos\\1080p60\\partia</span> <span style=\"color: #7f7f7f; text-decoration-color: #7f7f7f\">                        </span>\n",
       "<span style=\"color: #7fbfbf; text-decoration-color: #7fbfbf\">                     </span>         <span style=\"color: #008000; text-decoration-color: #008000\">l_movie_files\\MatrixDetShow\\3280146143_507916352_28679869.mp</span> <span style=\"color: #7f7f7f; text-decoration-color: #7f7f7f\">                        </span>\n",
       "<span style=\"color: #7fbfbf; text-decoration-color: #7fbfbf\">                     </span>         <span style=\"color: #008000; text-decoration-color: #008000\">4'</span>                                                           <span style=\"color: #7f7f7f; text-decoration-color: #7f7f7f\">                        </span>\n",
       "</pre>\n"
      ]
     },
     "metadata": {},
     "output_type": "display_data"
    },
    {
     "name": "stderr",
     "output_type": "stream",
     "text": [
      "                                                                                   \r"
     ]
    },
    {
     "data": {
      "text/plain": [
       "\u001B[2;36m[2024/12/1 20:22:24]\u001B[0m\u001B[2;36m \u001B[0m\u001B[32mINFO    \u001B[0m Animation \u001B[32m58\u001B[0m : Partial movie file written in                 \u001B]8;id=320903;file://E:\\ipynb\\venv\\lib\\site-packages\\manim\\scene\\scene_file_writer.py\u001B\\\u001B[2mscene_file_writer.py\u001B[0m\u001B]8;;\u001B\\\u001B[2m:\u001B[0m\u001B]8;id=770852;file://E:\\ipynb\\venv\\lib\\site-packages\\manim\\scene\\scene_file_writer.py#527\u001B\\\u001B[2m527\u001B[0m\u001B]8;;\u001B\\\n",
       "\u001B[2;36m                     \u001B[0m         \u001B[32m'E:\\ipynb\\python_design\\yty_math\\media\\videos\\1080p60\\partia\u001B[0m \u001B[2m                        \u001B[0m\n",
       "\u001B[2;36m                     \u001B[0m         \u001B[32ml_movie_files\\MatrixDetShow\\3280146143_44103805_3729601016.m\u001B[0m \u001B[2m                        \u001B[0m\n",
       "\u001B[2;36m                     \u001B[0m         \u001B[32mp4'\u001B[0m                                                          \u001B[2m                        \u001B[0m\n"
      ],
      "text/html": [
       "<pre style=\"white-space:pre;overflow-x:auto;line-height:normal;font-family:Menlo,'DejaVu Sans Mono',consolas,'Courier New',monospace\"><span style=\"color: #7fbfbf; text-decoration-color: #7fbfbf\">[2024/12/1 20:22:24] </span><span style=\"color: #008000; text-decoration-color: #008000\">INFO    </span> Animation <span style=\"color: #008000; text-decoration-color: #008000\">58</span> : Partial movie file written in                 <a href=\"file://E:\\ipynb\\venv\\lib\\site-packages\\manim\\scene\\scene_file_writer.py\" target=\"_blank\"><span style=\"color: #7f7f7f; text-decoration-color: #7f7f7f\">scene_file_writer.py</span></a><span style=\"color: #7f7f7f; text-decoration-color: #7f7f7f\">:</span><a href=\"file://E:\\ipynb\\venv\\lib\\site-packages\\manim\\scene\\scene_file_writer.py#527\" target=\"_blank\"><span style=\"color: #7f7f7f; text-decoration-color: #7f7f7f\">527</span></a>\n",
       "<span style=\"color: #7fbfbf; text-decoration-color: #7fbfbf\">                     </span>         <span style=\"color: #008000; text-decoration-color: #008000\">'E:\\ipynb\\python_design\\yty_math\\media\\videos\\1080p60\\partia</span> <span style=\"color: #7f7f7f; text-decoration-color: #7f7f7f\">                        </span>\n",
       "<span style=\"color: #7fbfbf; text-decoration-color: #7fbfbf\">                     </span>         <span style=\"color: #008000; text-decoration-color: #008000\">l_movie_files\\MatrixDetShow\\3280146143_44103805_3729601016.m</span> <span style=\"color: #7f7f7f; text-decoration-color: #7f7f7f\">                        </span>\n",
       "<span style=\"color: #7fbfbf; text-decoration-color: #7fbfbf\">                     </span>         <span style=\"color: #008000; text-decoration-color: #008000\">p4'</span>                                                          <span style=\"color: #7f7f7f; text-decoration-color: #7f7f7f\">                        </span>\n",
       "</pre>\n"
      ]
     },
     "metadata": {},
     "output_type": "display_data"
    },
    {
     "name": "stderr",
     "output_type": "stream",
     "text": [
      "                                                                                               \r"
     ]
    },
    {
     "data": {
      "text/plain": [
       "\u001B[2;36m[2024/12/1 20:22:27]\u001B[0m\u001B[2;36m \u001B[0m\u001B[32mINFO    \u001B[0m Animation \u001B[32m59\u001B[0m : Partial movie file written in                 \u001B]8;id=897261;file://E:\\ipynb\\venv\\lib\\site-packages\\manim\\scene\\scene_file_writer.py\u001B\\\u001B[2mscene_file_writer.py\u001B[0m\u001B]8;;\u001B\\\u001B[2m:\u001B[0m\u001B]8;id=856740;file://E:\\ipynb\\venv\\lib\\site-packages\\manim\\scene\\scene_file_writer.py#527\u001B\\\u001B[2m527\u001B[0m\u001B]8;;\u001B\\\n",
       "\u001B[2;36m                     \u001B[0m         \u001B[32m'E:\\ipynb\\python_design\\yty_math\\media\\videos\\1080p60\\partia\u001B[0m \u001B[2m                        \u001B[0m\n",
       "\u001B[2;36m                     \u001B[0m         \u001B[32ml_movie_files\\MatrixDetShow\\3280146143_1968854990_3712230913\u001B[0m \u001B[2m                        \u001B[0m\n",
       "\u001B[2;36m                     \u001B[0m         \u001B[32m.mp4'\u001B[0m                                                        \u001B[2m                        \u001B[0m\n"
      ],
      "text/html": [
       "<pre style=\"white-space:pre;overflow-x:auto;line-height:normal;font-family:Menlo,'DejaVu Sans Mono',consolas,'Courier New',monospace\"><span style=\"color: #7fbfbf; text-decoration-color: #7fbfbf\">[2024/12/1 20:22:27] </span><span style=\"color: #008000; text-decoration-color: #008000\">INFO    </span> Animation <span style=\"color: #008000; text-decoration-color: #008000\">59</span> : Partial movie file written in                 <a href=\"file://E:\\ipynb\\venv\\lib\\site-packages\\manim\\scene\\scene_file_writer.py\" target=\"_blank\"><span style=\"color: #7f7f7f; text-decoration-color: #7f7f7f\">scene_file_writer.py</span></a><span style=\"color: #7f7f7f; text-decoration-color: #7f7f7f\">:</span><a href=\"file://E:\\ipynb\\venv\\lib\\site-packages\\manim\\scene\\scene_file_writer.py#527\" target=\"_blank\"><span style=\"color: #7f7f7f; text-decoration-color: #7f7f7f\">527</span></a>\n",
       "<span style=\"color: #7fbfbf; text-decoration-color: #7fbfbf\">                     </span>         <span style=\"color: #008000; text-decoration-color: #008000\">'E:\\ipynb\\python_design\\yty_math\\media\\videos\\1080p60\\partia</span> <span style=\"color: #7f7f7f; text-decoration-color: #7f7f7f\">                        </span>\n",
       "<span style=\"color: #7fbfbf; text-decoration-color: #7fbfbf\">                     </span>         <span style=\"color: #008000; text-decoration-color: #008000\">l_movie_files\\MatrixDetShow\\3280146143_1968854990_3712230913</span> <span style=\"color: #7f7f7f; text-decoration-color: #7f7f7f\">                        </span>\n",
       "<span style=\"color: #7fbfbf; text-decoration-color: #7fbfbf\">                     </span>         <span style=\"color: #008000; text-decoration-color: #008000\">.mp4'</span>                                                        <span style=\"color: #7f7f7f; text-decoration-color: #7f7f7f\">                        </span>\n",
       "</pre>\n"
      ]
     },
     "metadata": {},
     "output_type": "display_data"
    },
    {
     "name": "stderr",
     "output_type": "stream",
     "text": [
      "                                                                                 \r"
     ]
    },
    {
     "data": {
      "text/plain": [
       "\u001B[2;36m[2024/12/1 20:22:30]\u001B[0m\u001B[2;36m \u001B[0m\u001B[32mINFO    \u001B[0m Animation \u001B[32m60\u001B[0m : Partial movie file written in                 \u001B]8;id=881567;file://E:\\ipynb\\venv\\lib\\site-packages\\manim\\scene\\scene_file_writer.py\u001B\\\u001B[2mscene_file_writer.py\u001B[0m\u001B]8;;\u001B\\\u001B[2m:\u001B[0m\u001B]8;id=229774;file://E:\\ipynb\\venv\\lib\\site-packages\\manim\\scene\\scene_file_writer.py#527\u001B\\\u001B[2m527\u001B[0m\u001B]8;;\u001B\\\n",
       "\u001B[2;36m                     \u001B[0m         \u001B[32m'E:\\ipynb\\python_design\\yty_math\\media\\videos\\1080p60\\partia\u001B[0m \u001B[2m                        \u001B[0m\n",
       "\u001B[2;36m                     \u001B[0m         \u001B[32ml_movie_files\\MatrixDetShow\\3280146143_1976409452_2368944792\u001B[0m \u001B[2m                        \u001B[0m\n",
       "\u001B[2;36m                     \u001B[0m         \u001B[32m.mp4'\u001B[0m                                                        \u001B[2m                        \u001B[0m\n"
      ],
      "text/html": [
       "<pre style=\"white-space:pre;overflow-x:auto;line-height:normal;font-family:Menlo,'DejaVu Sans Mono',consolas,'Courier New',monospace\"><span style=\"color: #7fbfbf; text-decoration-color: #7fbfbf\">[2024/12/1 20:22:30] </span><span style=\"color: #008000; text-decoration-color: #008000\">INFO    </span> Animation <span style=\"color: #008000; text-decoration-color: #008000\">60</span> : Partial movie file written in                 <a href=\"file://E:\\ipynb\\venv\\lib\\site-packages\\manim\\scene\\scene_file_writer.py\" target=\"_blank\"><span style=\"color: #7f7f7f; text-decoration-color: #7f7f7f\">scene_file_writer.py</span></a><span style=\"color: #7f7f7f; text-decoration-color: #7f7f7f\">:</span><a href=\"file://E:\\ipynb\\venv\\lib\\site-packages\\manim\\scene\\scene_file_writer.py#527\" target=\"_blank\"><span style=\"color: #7f7f7f; text-decoration-color: #7f7f7f\">527</span></a>\n",
       "<span style=\"color: #7fbfbf; text-decoration-color: #7fbfbf\">                     </span>         <span style=\"color: #008000; text-decoration-color: #008000\">'E:\\ipynb\\python_design\\yty_math\\media\\videos\\1080p60\\partia</span> <span style=\"color: #7f7f7f; text-decoration-color: #7f7f7f\">                        </span>\n",
       "<span style=\"color: #7fbfbf; text-decoration-color: #7fbfbf\">                     </span>         <span style=\"color: #008000; text-decoration-color: #008000\">l_movie_files\\MatrixDetShow\\3280146143_1976409452_2368944792</span> <span style=\"color: #7f7f7f; text-decoration-color: #7f7f7f\">                        </span>\n",
       "<span style=\"color: #7fbfbf; text-decoration-color: #7fbfbf\">                     </span>         <span style=\"color: #008000; text-decoration-color: #008000\">.mp4'</span>                                                        <span style=\"color: #7f7f7f; text-decoration-color: #7f7f7f\">                        </span>\n",
       "</pre>\n"
      ]
     },
     "metadata": {},
     "output_type": "display_data"
    },
    {
     "name": "stderr",
     "output_type": "stream",
     "text": [
      "                                                                                               \r"
     ]
    },
    {
     "data": {
      "text/plain": [
       "\u001B[2;36m[2024/12/1 20:22:34]\u001B[0m\u001B[2;36m \u001B[0m\u001B[32mINFO    \u001B[0m Animation \u001B[32m61\u001B[0m : Partial movie file written in                 \u001B]8;id=276576;file://E:\\ipynb\\venv\\lib\\site-packages\\manim\\scene\\scene_file_writer.py\u001B\\\u001B[2mscene_file_writer.py\u001B[0m\u001B]8;;\u001B\\\u001B[2m:\u001B[0m\u001B]8;id=560900;file://E:\\ipynb\\venv\\lib\\site-packages\\manim\\scene\\scene_file_writer.py#527\u001B\\\u001B[2m527\u001B[0m\u001B]8;;\u001B\\\n",
       "\u001B[2;36m                     \u001B[0m         \u001B[32m'E:\\ipynb\\python_design\\yty_math\\media\\videos\\1080p60\\partia\u001B[0m \u001B[2m                        \u001B[0m\n",
       "\u001B[2;36m                     \u001B[0m         \u001B[32ml_movie_files\\MatrixDetShow\\3280146143_3504529301_1628605350\u001B[0m \u001B[2m                        \u001B[0m\n",
       "\u001B[2;36m                     \u001B[0m         \u001B[32m.mp4'\u001B[0m                                                        \u001B[2m                        \u001B[0m\n"
      ],
      "text/html": [
       "<pre style=\"white-space:pre;overflow-x:auto;line-height:normal;font-family:Menlo,'DejaVu Sans Mono',consolas,'Courier New',monospace\"><span style=\"color: #7fbfbf; text-decoration-color: #7fbfbf\">[2024/12/1 20:22:34] </span><span style=\"color: #008000; text-decoration-color: #008000\">INFO    </span> Animation <span style=\"color: #008000; text-decoration-color: #008000\">61</span> : Partial movie file written in                 <a href=\"file://E:\\ipynb\\venv\\lib\\site-packages\\manim\\scene\\scene_file_writer.py\" target=\"_blank\"><span style=\"color: #7f7f7f; text-decoration-color: #7f7f7f\">scene_file_writer.py</span></a><span style=\"color: #7f7f7f; text-decoration-color: #7f7f7f\">:</span><a href=\"file://E:\\ipynb\\venv\\lib\\site-packages\\manim\\scene\\scene_file_writer.py#527\" target=\"_blank\"><span style=\"color: #7f7f7f; text-decoration-color: #7f7f7f\">527</span></a>\n",
       "<span style=\"color: #7fbfbf; text-decoration-color: #7fbfbf\">                     </span>         <span style=\"color: #008000; text-decoration-color: #008000\">'E:\\ipynb\\python_design\\yty_math\\media\\videos\\1080p60\\partia</span> <span style=\"color: #7f7f7f; text-decoration-color: #7f7f7f\">                        </span>\n",
       "<span style=\"color: #7fbfbf; text-decoration-color: #7fbfbf\">                     </span>         <span style=\"color: #008000; text-decoration-color: #008000\">l_movie_files\\MatrixDetShow\\3280146143_3504529301_1628605350</span> <span style=\"color: #7f7f7f; text-decoration-color: #7f7f7f\">                        </span>\n",
       "<span style=\"color: #7fbfbf; text-decoration-color: #7fbfbf\">                     </span>         <span style=\"color: #008000; text-decoration-color: #008000\">.mp4'</span>                                                        <span style=\"color: #7f7f7f; text-decoration-color: #7f7f7f\">                        </span>\n",
       "</pre>\n"
      ]
     },
     "metadata": {},
     "output_type": "display_data"
    },
    {
     "name": "stderr",
     "output_type": "stream",
     "text": [
      "                                                                                                        \r"
     ]
    },
    {
     "data": {
      "text/plain": [
       "\u001B[2;36m[2024/12/1 20:22:37]\u001B[0m\u001B[2;36m \u001B[0m\u001B[32mINFO    \u001B[0m Animation \u001B[32m62\u001B[0m : Partial movie file written in                 \u001B]8;id=40185;file://E:\\ipynb\\venv\\lib\\site-packages\\manim\\scene\\scene_file_writer.py\u001B\\\u001B[2mscene_file_writer.py\u001B[0m\u001B]8;;\u001B\\\u001B[2m:\u001B[0m\u001B]8;id=466948;file://E:\\ipynb\\venv\\lib\\site-packages\\manim\\scene\\scene_file_writer.py#527\u001B\\\u001B[2m527\u001B[0m\u001B]8;;\u001B\\\n",
       "\u001B[2;36m                     \u001B[0m         \u001B[32m'E:\\ipynb\\python_design\\yty_math\\media\\videos\\1080p60\\partia\u001B[0m \u001B[2m                        \u001B[0m\n",
       "\u001B[2;36m                     \u001B[0m         \u001B[32ml_movie_files\\MatrixDetShow\\3280146143_4264345819_470865415.\u001B[0m \u001B[2m                        \u001B[0m\n",
       "\u001B[2;36m                     \u001B[0m         \u001B[32mmp4'\u001B[0m                                                         \u001B[2m                        \u001B[0m\n"
      ],
      "text/html": [
       "<pre style=\"white-space:pre;overflow-x:auto;line-height:normal;font-family:Menlo,'DejaVu Sans Mono',consolas,'Courier New',monospace\"><span style=\"color: #7fbfbf; text-decoration-color: #7fbfbf\">[2024/12/1 20:22:37] </span><span style=\"color: #008000; text-decoration-color: #008000\">INFO    </span> Animation <span style=\"color: #008000; text-decoration-color: #008000\">62</span> : Partial movie file written in                 <a href=\"file://E:\\ipynb\\venv\\lib\\site-packages\\manim\\scene\\scene_file_writer.py\" target=\"_blank\"><span style=\"color: #7f7f7f; text-decoration-color: #7f7f7f\">scene_file_writer.py</span></a><span style=\"color: #7f7f7f; text-decoration-color: #7f7f7f\">:</span><a href=\"file://E:\\ipynb\\venv\\lib\\site-packages\\manim\\scene\\scene_file_writer.py#527\" target=\"_blank\"><span style=\"color: #7f7f7f; text-decoration-color: #7f7f7f\">527</span></a>\n",
       "<span style=\"color: #7fbfbf; text-decoration-color: #7fbfbf\">                     </span>         <span style=\"color: #008000; text-decoration-color: #008000\">'E:\\ipynb\\python_design\\yty_math\\media\\videos\\1080p60\\partia</span> <span style=\"color: #7f7f7f; text-decoration-color: #7f7f7f\">                        </span>\n",
       "<span style=\"color: #7fbfbf; text-decoration-color: #7fbfbf\">                     </span>         <span style=\"color: #008000; text-decoration-color: #008000\">l_movie_files\\MatrixDetShow\\3280146143_4264345819_470865415.</span> <span style=\"color: #7f7f7f; text-decoration-color: #7f7f7f\">                        </span>\n",
       "<span style=\"color: #7fbfbf; text-decoration-color: #7fbfbf\">                     </span>         <span style=\"color: #008000; text-decoration-color: #008000\">mp4'</span>                                                         <span style=\"color: #7f7f7f; text-decoration-color: #7f7f7f\">                        </span>\n",
       "</pre>\n"
      ]
     },
     "metadata": {},
     "output_type": "display_data"
    },
    {
     "name": "stderr",
     "output_type": "stream",
     "text": [
      "                                                                                                         \r"
     ]
    },
    {
     "data": {
      "text/plain": [
       "\u001B[2;36m[2024/12/1 20:22:40]\u001B[0m\u001B[2;36m \u001B[0m\u001B[32mINFO    \u001B[0m Animation \u001B[32m63\u001B[0m : Partial movie file written in                 \u001B]8;id=878661;file://E:\\ipynb\\venv\\lib\\site-packages\\manim\\scene\\scene_file_writer.py\u001B\\\u001B[2mscene_file_writer.py\u001B[0m\u001B]8;;\u001B\\\u001B[2m:\u001B[0m\u001B]8;id=200071;file://E:\\ipynb\\venv\\lib\\site-packages\\manim\\scene\\scene_file_writer.py#527\u001B\\\u001B[2m527\u001B[0m\u001B]8;;\u001B\\\n",
       "\u001B[2;36m                     \u001B[0m         \u001B[32m'E:\\ipynb\\python_design\\yty_math\\media\\videos\\1080p60\\partia\u001B[0m \u001B[2m                        \u001B[0m\n",
       "\u001B[2;36m                     \u001B[0m         \u001B[32ml_movie_files\\MatrixDetShow\\3280146143_3280412364_837557376.\u001B[0m \u001B[2m                        \u001B[0m\n",
       "\u001B[2;36m                     \u001B[0m         \u001B[32mmp4'\u001B[0m                                                         \u001B[2m                        \u001B[0m\n"
      ],
      "text/html": [
       "<pre style=\"white-space:pre;overflow-x:auto;line-height:normal;font-family:Menlo,'DejaVu Sans Mono',consolas,'Courier New',monospace\"><span style=\"color: #7fbfbf; text-decoration-color: #7fbfbf\">[2024/12/1 20:22:40] </span><span style=\"color: #008000; text-decoration-color: #008000\">INFO    </span> Animation <span style=\"color: #008000; text-decoration-color: #008000\">63</span> : Partial movie file written in                 <a href=\"file://E:\\ipynb\\venv\\lib\\site-packages\\manim\\scene\\scene_file_writer.py\" target=\"_blank\"><span style=\"color: #7f7f7f; text-decoration-color: #7f7f7f\">scene_file_writer.py</span></a><span style=\"color: #7f7f7f; text-decoration-color: #7f7f7f\">:</span><a href=\"file://E:\\ipynb\\venv\\lib\\site-packages\\manim\\scene\\scene_file_writer.py#527\" target=\"_blank\"><span style=\"color: #7f7f7f; text-decoration-color: #7f7f7f\">527</span></a>\n",
       "<span style=\"color: #7fbfbf; text-decoration-color: #7fbfbf\">                     </span>         <span style=\"color: #008000; text-decoration-color: #008000\">'E:\\ipynb\\python_design\\yty_math\\media\\videos\\1080p60\\partia</span> <span style=\"color: #7f7f7f; text-decoration-color: #7f7f7f\">                        </span>\n",
       "<span style=\"color: #7fbfbf; text-decoration-color: #7fbfbf\">                     </span>         <span style=\"color: #008000; text-decoration-color: #008000\">l_movie_files\\MatrixDetShow\\3280146143_3280412364_837557376.</span> <span style=\"color: #7f7f7f; text-decoration-color: #7f7f7f\">                        </span>\n",
       "<span style=\"color: #7fbfbf; text-decoration-color: #7fbfbf\">                     </span>         <span style=\"color: #008000; text-decoration-color: #008000\">mp4'</span>                                                         <span style=\"color: #7f7f7f; text-decoration-color: #7f7f7f\">                        </span>\n",
       "</pre>\n"
      ]
     },
     "metadata": {},
     "output_type": "display_data"
    },
    {
     "name": "stderr",
     "output_type": "stream",
     "text": [
      "                                                                                 \r"
     ]
    },
    {
     "data": {
      "text/plain": [
       "\u001B[2;36m[2024/12/1 20:22:43]\u001B[0m\u001B[2;36m \u001B[0m\u001B[32mINFO    \u001B[0m Animation \u001B[32m64\u001B[0m : Partial movie file written in                 \u001B]8;id=333743;file://E:\\ipynb\\venv\\lib\\site-packages\\manim\\scene\\scene_file_writer.py\u001B\\\u001B[2mscene_file_writer.py\u001B[0m\u001B]8;;\u001B\\\u001B[2m:\u001B[0m\u001B]8;id=60281;file://E:\\ipynb\\venv\\lib\\site-packages\\manim\\scene\\scene_file_writer.py#527\u001B\\\u001B[2m527\u001B[0m\u001B]8;;\u001B\\\n",
       "\u001B[2;36m                     \u001B[0m         \u001B[32m'E:\\ipynb\\python_design\\yty_math\\media\\videos\\1080p60\\partia\u001B[0m \u001B[2m                        \u001B[0m\n",
       "\u001B[2;36m                     \u001B[0m         \u001B[32ml_movie_files\\MatrixDetShow\\3280146143_878680980_887907631.m\u001B[0m \u001B[2m                        \u001B[0m\n",
       "\u001B[2;36m                     \u001B[0m         \u001B[32mp4'\u001B[0m                                                          \u001B[2m                        \u001B[0m\n"
      ],
      "text/html": [
       "<pre style=\"white-space:pre;overflow-x:auto;line-height:normal;font-family:Menlo,'DejaVu Sans Mono',consolas,'Courier New',monospace\"><span style=\"color: #7fbfbf; text-decoration-color: #7fbfbf\">[2024/12/1 20:22:43] </span><span style=\"color: #008000; text-decoration-color: #008000\">INFO    </span> Animation <span style=\"color: #008000; text-decoration-color: #008000\">64</span> : Partial movie file written in                 <a href=\"file://E:\\ipynb\\venv\\lib\\site-packages\\manim\\scene\\scene_file_writer.py\" target=\"_blank\"><span style=\"color: #7f7f7f; text-decoration-color: #7f7f7f\">scene_file_writer.py</span></a><span style=\"color: #7f7f7f; text-decoration-color: #7f7f7f\">:</span><a href=\"file://E:\\ipynb\\venv\\lib\\site-packages\\manim\\scene\\scene_file_writer.py#527\" target=\"_blank\"><span style=\"color: #7f7f7f; text-decoration-color: #7f7f7f\">527</span></a>\n",
       "<span style=\"color: #7fbfbf; text-decoration-color: #7fbfbf\">                     </span>         <span style=\"color: #008000; text-decoration-color: #008000\">'E:\\ipynb\\python_design\\yty_math\\media\\videos\\1080p60\\partia</span> <span style=\"color: #7f7f7f; text-decoration-color: #7f7f7f\">                        </span>\n",
       "<span style=\"color: #7fbfbf; text-decoration-color: #7fbfbf\">                     </span>         <span style=\"color: #008000; text-decoration-color: #008000\">l_movie_files\\MatrixDetShow\\3280146143_878680980_887907631.m</span> <span style=\"color: #7f7f7f; text-decoration-color: #7f7f7f\">                        </span>\n",
       "<span style=\"color: #7fbfbf; text-decoration-color: #7fbfbf\">                     </span>         <span style=\"color: #008000; text-decoration-color: #008000\">p4'</span>                                                          <span style=\"color: #7f7f7f; text-decoration-color: #7f7f7f\">                        </span>\n",
       "</pre>\n"
      ]
     },
     "metadata": {},
     "output_type": "display_data"
    },
    {
     "name": "stderr",
     "output_type": "stream",
     "text": [
      "                                                                                                         \r"
     ]
    },
    {
     "data": {
      "text/plain": [
       "\u001B[2;36m[2024/12/1 20:22:46]\u001B[0m\u001B[2;36m \u001B[0m\u001B[32mINFO    \u001B[0m Animation \u001B[32m65\u001B[0m : Partial movie file written in                 \u001B]8;id=462011;file://E:\\ipynb\\venv\\lib\\site-packages\\manim\\scene\\scene_file_writer.py\u001B\\\u001B[2mscene_file_writer.py\u001B[0m\u001B]8;;\u001B\\\u001B[2m:\u001B[0m\u001B]8;id=407830;file://E:\\ipynb\\venv\\lib\\site-packages\\manim\\scene\\scene_file_writer.py#527\u001B\\\u001B[2m527\u001B[0m\u001B]8;;\u001B\\\n",
       "\u001B[2;36m                     \u001B[0m         \u001B[32m'E:\\ipynb\\python_design\\yty_math\\media\\videos\\1080p60\\partia\u001B[0m \u001B[2m                        \u001B[0m\n",
       "\u001B[2;36m                     \u001B[0m         \u001B[32ml_movie_files\\MatrixDetShow\\3280146143_357963717_1894524802.\u001B[0m \u001B[2m                        \u001B[0m\n",
       "\u001B[2;36m                     \u001B[0m         \u001B[32mmp4'\u001B[0m                                                         \u001B[2m                        \u001B[0m\n"
      ],
      "text/html": [
       "<pre style=\"white-space:pre;overflow-x:auto;line-height:normal;font-family:Menlo,'DejaVu Sans Mono',consolas,'Courier New',monospace\"><span style=\"color: #7fbfbf; text-decoration-color: #7fbfbf\">[2024/12/1 20:22:46] </span><span style=\"color: #008000; text-decoration-color: #008000\">INFO    </span> Animation <span style=\"color: #008000; text-decoration-color: #008000\">65</span> : Partial movie file written in                 <a href=\"file://E:\\ipynb\\venv\\lib\\site-packages\\manim\\scene\\scene_file_writer.py\" target=\"_blank\"><span style=\"color: #7f7f7f; text-decoration-color: #7f7f7f\">scene_file_writer.py</span></a><span style=\"color: #7f7f7f; text-decoration-color: #7f7f7f\">:</span><a href=\"file://E:\\ipynb\\venv\\lib\\site-packages\\manim\\scene\\scene_file_writer.py#527\" target=\"_blank\"><span style=\"color: #7f7f7f; text-decoration-color: #7f7f7f\">527</span></a>\n",
       "<span style=\"color: #7fbfbf; text-decoration-color: #7fbfbf\">                     </span>         <span style=\"color: #008000; text-decoration-color: #008000\">'E:\\ipynb\\python_design\\yty_math\\media\\videos\\1080p60\\partia</span> <span style=\"color: #7f7f7f; text-decoration-color: #7f7f7f\">                        </span>\n",
       "<span style=\"color: #7fbfbf; text-decoration-color: #7fbfbf\">                     </span>         <span style=\"color: #008000; text-decoration-color: #008000\">l_movie_files\\MatrixDetShow\\3280146143_357963717_1894524802.</span> <span style=\"color: #7f7f7f; text-decoration-color: #7f7f7f\">                        </span>\n",
       "<span style=\"color: #7fbfbf; text-decoration-color: #7fbfbf\">                     </span>         <span style=\"color: #008000; text-decoration-color: #008000\">mp4'</span>                                                         <span style=\"color: #7f7f7f; text-decoration-color: #7f7f7f\">                        </span>\n",
       "</pre>\n"
      ]
     },
     "metadata": {},
     "output_type": "display_data"
    },
    {
     "name": "stderr",
     "output_type": "stream",
     "text": [
      "                                                                                 \r"
     ]
    },
    {
     "data": {
      "text/plain": [
       "\u001B[2;36m[2024/12/1 20:22:49]\u001B[0m\u001B[2;36m \u001B[0m\u001B[32mINFO    \u001B[0m Animation \u001B[32m66\u001B[0m : Partial movie file written in                 \u001B]8;id=579840;file://E:\\ipynb\\venv\\lib\\site-packages\\manim\\scene\\scene_file_writer.py\u001B\\\u001B[2mscene_file_writer.py\u001B[0m\u001B]8;;\u001B\\\u001B[2m:\u001B[0m\u001B]8;id=812493;file://E:\\ipynb\\venv\\lib\\site-packages\\manim\\scene\\scene_file_writer.py#527\u001B\\\u001B[2m527\u001B[0m\u001B]8;;\u001B\\\n",
       "\u001B[2;36m                     \u001B[0m         \u001B[32m'E:\\ipynb\\python_design\\yty_math\\media\\videos\\1080p60\\partia\u001B[0m \u001B[2m                        \u001B[0m\n",
       "\u001B[2;36m                     \u001B[0m         \u001B[32ml_movie_files\\MatrixDetShow\\3280146143_2783693022_3960494481\u001B[0m \u001B[2m                        \u001B[0m\n",
       "\u001B[2;36m                     \u001B[0m         \u001B[32m.mp4'\u001B[0m                                                        \u001B[2m                        \u001B[0m\n"
      ],
      "text/html": [
       "<pre style=\"white-space:pre;overflow-x:auto;line-height:normal;font-family:Menlo,'DejaVu Sans Mono',consolas,'Courier New',monospace\"><span style=\"color: #7fbfbf; text-decoration-color: #7fbfbf\">[2024/12/1 20:22:49] </span><span style=\"color: #008000; text-decoration-color: #008000\">INFO    </span> Animation <span style=\"color: #008000; text-decoration-color: #008000\">66</span> : Partial movie file written in                 <a href=\"file://E:\\ipynb\\venv\\lib\\site-packages\\manim\\scene\\scene_file_writer.py\" target=\"_blank\"><span style=\"color: #7f7f7f; text-decoration-color: #7f7f7f\">scene_file_writer.py</span></a><span style=\"color: #7f7f7f; text-decoration-color: #7f7f7f\">:</span><a href=\"file://E:\\ipynb\\venv\\lib\\site-packages\\manim\\scene\\scene_file_writer.py#527\" target=\"_blank\"><span style=\"color: #7f7f7f; text-decoration-color: #7f7f7f\">527</span></a>\n",
       "<span style=\"color: #7fbfbf; text-decoration-color: #7fbfbf\">                     </span>         <span style=\"color: #008000; text-decoration-color: #008000\">'E:\\ipynb\\python_design\\yty_math\\media\\videos\\1080p60\\partia</span> <span style=\"color: #7f7f7f; text-decoration-color: #7f7f7f\">                        </span>\n",
       "<span style=\"color: #7fbfbf; text-decoration-color: #7fbfbf\">                     </span>         <span style=\"color: #008000; text-decoration-color: #008000\">l_movie_files\\MatrixDetShow\\3280146143_2783693022_3960494481</span> <span style=\"color: #7f7f7f; text-decoration-color: #7f7f7f\">                        </span>\n",
       "<span style=\"color: #7fbfbf; text-decoration-color: #7fbfbf\">                     </span>         <span style=\"color: #008000; text-decoration-color: #008000\">.mp4'</span>                                                        <span style=\"color: #7f7f7f; text-decoration-color: #7f7f7f\">                        </span>\n",
       "</pre>\n"
      ]
     },
     "metadata": {},
     "output_type": "display_data"
    },
    {
     "name": "stderr",
     "output_type": "stream",
     "text": [
      "                                                                                                         \r"
     ]
    },
    {
     "data": {
      "text/plain": [
       "\u001B[2;36m[2024/12/1 20:22:52]\u001B[0m\u001B[2;36m \u001B[0m\u001B[32mINFO    \u001B[0m Animation \u001B[32m67\u001B[0m : Partial movie file written in                 \u001B]8;id=569756;file://E:\\ipynb\\venv\\lib\\site-packages\\manim\\scene\\scene_file_writer.py\u001B\\\u001B[2mscene_file_writer.py\u001B[0m\u001B]8;;\u001B\\\u001B[2m:\u001B[0m\u001B]8;id=490802;file://E:\\ipynb\\venv\\lib\\site-packages\\manim\\scene\\scene_file_writer.py#527\u001B\\\u001B[2m527\u001B[0m\u001B]8;;\u001B\\\n",
       "\u001B[2;36m                     \u001B[0m         \u001B[32m'E:\\ipynb\\python_design\\yty_math\\media\\videos\\1080p60\\partia\u001B[0m \u001B[2m                        \u001B[0m\n",
       "\u001B[2;36m                     \u001B[0m         \u001B[32ml_movie_files\\MatrixDetShow\\3280146143_2125632745_1012898687\u001B[0m \u001B[2m                        \u001B[0m\n",
       "\u001B[2;36m                     \u001B[0m         \u001B[32m.mp4'\u001B[0m                                                        \u001B[2m                        \u001B[0m\n"
      ],
      "text/html": [
       "<pre style=\"white-space:pre;overflow-x:auto;line-height:normal;font-family:Menlo,'DejaVu Sans Mono',consolas,'Courier New',monospace\"><span style=\"color: #7fbfbf; text-decoration-color: #7fbfbf\">[2024/12/1 20:22:52] </span><span style=\"color: #008000; text-decoration-color: #008000\">INFO    </span> Animation <span style=\"color: #008000; text-decoration-color: #008000\">67</span> : Partial movie file written in                 <a href=\"file://E:\\ipynb\\venv\\lib\\site-packages\\manim\\scene\\scene_file_writer.py\" target=\"_blank\"><span style=\"color: #7f7f7f; text-decoration-color: #7f7f7f\">scene_file_writer.py</span></a><span style=\"color: #7f7f7f; text-decoration-color: #7f7f7f\">:</span><a href=\"file://E:\\ipynb\\venv\\lib\\site-packages\\manim\\scene\\scene_file_writer.py#527\" target=\"_blank\"><span style=\"color: #7f7f7f; text-decoration-color: #7f7f7f\">527</span></a>\n",
       "<span style=\"color: #7fbfbf; text-decoration-color: #7fbfbf\">                     </span>         <span style=\"color: #008000; text-decoration-color: #008000\">'E:\\ipynb\\python_design\\yty_math\\media\\videos\\1080p60\\partia</span> <span style=\"color: #7f7f7f; text-decoration-color: #7f7f7f\">                        </span>\n",
       "<span style=\"color: #7fbfbf; text-decoration-color: #7fbfbf\">                     </span>         <span style=\"color: #008000; text-decoration-color: #008000\">l_movie_files\\MatrixDetShow\\3280146143_2125632745_1012898687</span> <span style=\"color: #7f7f7f; text-decoration-color: #7f7f7f\">                        </span>\n",
       "<span style=\"color: #7fbfbf; text-decoration-color: #7fbfbf\">                     </span>         <span style=\"color: #008000; text-decoration-color: #008000\">.mp4'</span>                                                        <span style=\"color: #7f7f7f; text-decoration-color: #7f7f7f\">                        </span>\n",
       "</pre>\n"
      ]
     },
     "metadata": {},
     "output_type": "display_data"
    },
    {
     "name": "stderr",
     "output_type": "stream",
     "text": [
      "                                                                                 \r"
     ]
    },
    {
     "data": {
      "text/plain": [
       "\u001B[2;36m[2024/12/1 20:22:54]\u001B[0m\u001B[2;36m \u001B[0m\u001B[32mINFO    \u001B[0m Animation \u001B[32m68\u001B[0m : Partial movie file written in                 \u001B]8;id=505750;file://E:\\ipynb\\venv\\lib\\site-packages\\manim\\scene\\scene_file_writer.py\u001B\\\u001B[2mscene_file_writer.py\u001B[0m\u001B]8;;\u001B\\\u001B[2m:\u001B[0m\u001B]8;id=429205;file://E:\\ipynb\\venv\\lib\\site-packages\\manim\\scene\\scene_file_writer.py#527\u001B\\\u001B[2m527\u001B[0m\u001B]8;;\u001B\\\n",
       "\u001B[2;36m                     \u001B[0m         \u001B[32m'E:\\ipynb\\python_design\\yty_math\\media\\videos\\1080p60\\partia\u001B[0m \u001B[2m                        \u001B[0m\n",
       "\u001B[2;36m                     \u001B[0m         \u001B[32ml_movie_files\\MatrixDetShow\\3280146143_1812496376_2868159234\u001B[0m \u001B[2m                        \u001B[0m\n",
       "\u001B[2;36m                     \u001B[0m         \u001B[32m.mp4'\u001B[0m                                                        \u001B[2m                        \u001B[0m\n"
      ],
      "text/html": [
       "<pre style=\"white-space:pre;overflow-x:auto;line-height:normal;font-family:Menlo,'DejaVu Sans Mono',consolas,'Courier New',monospace\"><span style=\"color: #7fbfbf; text-decoration-color: #7fbfbf\">[2024/12/1 20:22:54] </span><span style=\"color: #008000; text-decoration-color: #008000\">INFO    </span> Animation <span style=\"color: #008000; text-decoration-color: #008000\">68</span> : Partial movie file written in                 <a href=\"file://E:\\ipynb\\venv\\lib\\site-packages\\manim\\scene\\scene_file_writer.py\" target=\"_blank\"><span style=\"color: #7f7f7f; text-decoration-color: #7f7f7f\">scene_file_writer.py</span></a><span style=\"color: #7f7f7f; text-decoration-color: #7f7f7f\">:</span><a href=\"file://E:\\ipynb\\venv\\lib\\site-packages\\manim\\scene\\scene_file_writer.py#527\" target=\"_blank\"><span style=\"color: #7f7f7f; text-decoration-color: #7f7f7f\">527</span></a>\n",
       "<span style=\"color: #7fbfbf; text-decoration-color: #7fbfbf\">                     </span>         <span style=\"color: #008000; text-decoration-color: #008000\">'E:\\ipynb\\python_design\\yty_math\\media\\videos\\1080p60\\partia</span> <span style=\"color: #7f7f7f; text-decoration-color: #7f7f7f\">                        </span>\n",
       "<span style=\"color: #7fbfbf; text-decoration-color: #7fbfbf\">                     </span>         <span style=\"color: #008000; text-decoration-color: #008000\">l_movie_files\\MatrixDetShow\\3280146143_1812496376_2868159234</span> <span style=\"color: #7f7f7f; text-decoration-color: #7f7f7f\">                        </span>\n",
       "<span style=\"color: #7fbfbf; text-decoration-color: #7fbfbf\">                     </span>         <span style=\"color: #008000; text-decoration-color: #008000\">.mp4'</span>                                                        <span style=\"color: #7f7f7f; text-decoration-color: #7f7f7f\">                        </span>\n",
       "</pre>\n"
      ]
     },
     "metadata": {},
     "output_type": "display_data"
    },
    {
     "name": "stderr",
     "output_type": "stream",
     "text": [
      "                                                                                    \r"
     ]
    },
    {
     "data": {
      "text/plain": [
       "\u001B[2;36m[2024/12/1 20:22:57]\u001B[0m\u001B[2;36m \u001B[0m\u001B[32mINFO    \u001B[0m Animation \u001B[32m69\u001B[0m : Partial movie file written in                 \u001B]8;id=298315;file://E:\\ipynb\\venv\\lib\\site-packages\\manim\\scene\\scene_file_writer.py\u001B\\\u001B[2mscene_file_writer.py\u001B[0m\u001B]8;;\u001B\\\u001B[2m:\u001B[0m\u001B]8;id=733621;file://E:\\ipynb\\venv\\lib\\site-packages\\manim\\scene\\scene_file_writer.py#527\u001B\\\u001B[2m527\u001B[0m\u001B]8;;\u001B\\\n",
       "\u001B[2;36m                     \u001B[0m         \u001B[32m'E:\\ipynb\\python_design\\yty_math\\media\\videos\\1080p60\\partia\u001B[0m \u001B[2m                        \u001B[0m\n",
       "\u001B[2;36m                     \u001B[0m         \u001B[32ml_movie_files\\MatrixDetShow\\3280146143_1857981432_896192565.\u001B[0m \u001B[2m                        \u001B[0m\n",
       "\u001B[2;36m                     \u001B[0m         \u001B[32mmp4'\u001B[0m                                                         \u001B[2m                        \u001B[0m\n"
      ],
      "text/html": [
       "<pre style=\"white-space:pre;overflow-x:auto;line-height:normal;font-family:Menlo,'DejaVu Sans Mono',consolas,'Courier New',monospace\"><span style=\"color: #7fbfbf; text-decoration-color: #7fbfbf\">[2024/12/1 20:22:57] </span><span style=\"color: #008000; text-decoration-color: #008000\">INFO    </span> Animation <span style=\"color: #008000; text-decoration-color: #008000\">69</span> : Partial movie file written in                 <a href=\"file://E:\\ipynb\\venv\\lib\\site-packages\\manim\\scene\\scene_file_writer.py\" target=\"_blank\"><span style=\"color: #7f7f7f; text-decoration-color: #7f7f7f\">scene_file_writer.py</span></a><span style=\"color: #7f7f7f; text-decoration-color: #7f7f7f\">:</span><a href=\"file://E:\\ipynb\\venv\\lib\\site-packages\\manim\\scene\\scene_file_writer.py#527\" target=\"_blank\"><span style=\"color: #7f7f7f; text-decoration-color: #7f7f7f\">527</span></a>\n",
       "<span style=\"color: #7fbfbf; text-decoration-color: #7fbfbf\">                     </span>         <span style=\"color: #008000; text-decoration-color: #008000\">'E:\\ipynb\\python_design\\yty_math\\media\\videos\\1080p60\\partia</span> <span style=\"color: #7f7f7f; text-decoration-color: #7f7f7f\">                        </span>\n",
       "<span style=\"color: #7fbfbf; text-decoration-color: #7fbfbf\">                     </span>         <span style=\"color: #008000; text-decoration-color: #008000\">l_movie_files\\MatrixDetShow\\3280146143_1857981432_896192565.</span> <span style=\"color: #7f7f7f; text-decoration-color: #7f7f7f\">                        </span>\n",
       "<span style=\"color: #7fbfbf; text-decoration-color: #7fbfbf\">                     </span>         <span style=\"color: #008000; text-decoration-color: #008000\">mp4'</span>                                                         <span style=\"color: #7f7f7f; text-decoration-color: #7f7f7f\">                        </span>\n",
       "</pre>\n"
      ]
     },
     "metadata": {},
     "output_type": "display_data"
    },
    {
     "name": "stderr",
     "output_type": "stream",
     "text": [
      "                                                                                               \r"
     ]
    },
    {
     "data": {
      "text/plain": [
       "\u001B[2;36m[2024/12/1 20:23:01]\u001B[0m\u001B[2;36m \u001B[0m\u001B[32mINFO    \u001B[0m Animation \u001B[32m70\u001B[0m : Partial movie file written in                 \u001B]8;id=950014;file://E:\\ipynb\\venv\\lib\\site-packages\\manim\\scene\\scene_file_writer.py\u001B\\\u001B[2mscene_file_writer.py\u001B[0m\u001B]8;;\u001B\\\u001B[2m:\u001B[0m\u001B]8;id=170965;file://E:\\ipynb\\venv\\lib\\site-packages\\manim\\scene\\scene_file_writer.py#527\u001B\\\u001B[2m527\u001B[0m\u001B]8;;\u001B\\\n",
       "\u001B[2;36m                     \u001B[0m         \u001B[32m'E:\\ipynb\\python_design\\yty_math\\media\\videos\\1080p60\\partia\u001B[0m \u001B[2m                        \u001B[0m\n",
       "\u001B[2;36m                     \u001B[0m         \u001B[32ml_movie_files\\MatrixDetShow\\3280146143_2414338516_3573205000\u001B[0m \u001B[2m                        \u001B[0m\n",
       "\u001B[2;36m                     \u001B[0m         \u001B[32m.mp4'\u001B[0m                                                        \u001B[2m                        \u001B[0m\n"
      ],
      "text/html": [
       "<pre style=\"white-space:pre;overflow-x:auto;line-height:normal;font-family:Menlo,'DejaVu Sans Mono',consolas,'Courier New',monospace\"><span style=\"color: #7fbfbf; text-decoration-color: #7fbfbf\">[2024/12/1 20:23:01] </span><span style=\"color: #008000; text-decoration-color: #008000\">INFO    </span> Animation <span style=\"color: #008000; text-decoration-color: #008000\">70</span> : Partial movie file written in                 <a href=\"file://E:\\ipynb\\venv\\lib\\site-packages\\manim\\scene\\scene_file_writer.py\" target=\"_blank\"><span style=\"color: #7f7f7f; text-decoration-color: #7f7f7f\">scene_file_writer.py</span></a><span style=\"color: #7f7f7f; text-decoration-color: #7f7f7f\">:</span><a href=\"file://E:\\ipynb\\venv\\lib\\site-packages\\manim\\scene\\scene_file_writer.py#527\" target=\"_blank\"><span style=\"color: #7f7f7f; text-decoration-color: #7f7f7f\">527</span></a>\n",
       "<span style=\"color: #7fbfbf; text-decoration-color: #7fbfbf\">                     </span>         <span style=\"color: #008000; text-decoration-color: #008000\">'E:\\ipynb\\python_design\\yty_math\\media\\videos\\1080p60\\partia</span> <span style=\"color: #7f7f7f; text-decoration-color: #7f7f7f\">                        </span>\n",
       "<span style=\"color: #7fbfbf; text-decoration-color: #7fbfbf\">                     </span>         <span style=\"color: #008000; text-decoration-color: #008000\">l_movie_files\\MatrixDetShow\\3280146143_2414338516_3573205000</span> <span style=\"color: #7f7f7f; text-decoration-color: #7f7f7f\">                        </span>\n",
       "<span style=\"color: #7fbfbf; text-decoration-color: #7fbfbf\">                     </span>         <span style=\"color: #008000; text-decoration-color: #008000\">.mp4'</span>                                                        <span style=\"color: #7f7f7f; text-decoration-color: #7f7f7f\">                        </span>\n",
       "</pre>\n"
      ]
     },
     "metadata": {},
     "output_type": "display_data"
    },
    {
     "name": "stderr",
     "output_type": "stream",
     "text": [
      "                                                                                \r"
     ]
    },
    {
     "data": {
      "text/plain": [
       "\u001B[2;36m[2024/12/1 20:23:05]\u001B[0m\u001B[2;36m \u001B[0m\u001B[32mINFO    \u001B[0m Animation \u001B[32m71\u001B[0m : Partial movie file written in                 \u001B]8;id=908739;file://E:\\ipynb\\venv\\lib\\site-packages\\manim\\scene\\scene_file_writer.py\u001B\\\u001B[2mscene_file_writer.py\u001B[0m\u001B]8;;\u001B\\\u001B[2m:\u001B[0m\u001B]8;id=669782;file://E:\\ipynb\\venv\\lib\\site-packages\\manim\\scene\\scene_file_writer.py#527\u001B\\\u001B[2m527\u001B[0m\u001B]8;;\u001B\\\n",
       "\u001B[2;36m                     \u001B[0m         \u001B[32m'E:\\ipynb\\python_design\\yty_math\\media\\videos\\1080p60\\partia\u001B[0m \u001B[2m                        \u001B[0m\n",
       "\u001B[2;36m                     \u001B[0m         \u001B[32ml_movie_files\\MatrixDetShow\\3280146143_408114884_3891305665.\u001B[0m \u001B[2m                        \u001B[0m\n",
       "\u001B[2;36m                     \u001B[0m         \u001B[32mmp4'\u001B[0m                                                         \u001B[2m                        \u001B[0m\n"
      ],
      "text/html": [
       "<pre style=\"white-space:pre;overflow-x:auto;line-height:normal;font-family:Menlo,'DejaVu Sans Mono',consolas,'Courier New',monospace\"><span style=\"color: #7fbfbf; text-decoration-color: #7fbfbf\">[2024/12/1 20:23:05] </span><span style=\"color: #008000; text-decoration-color: #008000\">INFO    </span> Animation <span style=\"color: #008000; text-decoration-color: #008000\">71</span> : Partial movie file written in                 <a href=\"file://E:\\ipynb\\venv\\lib\\site-packages\\manim\\scene\\scene_file_writer.py\" target=\"_blank\"><span style=\"color: #7f7f7f; text-decoration-color: #7f7f7f\">scene_file_writer.py</span></a><span style=\"color: #7f7f7f; text-decoration-color: #7f7f7f\">:</span><a href=\"file://E:\\ipynb\\venv\\lib\\site-packages\\manim\\scene\\scene_file_writer.py#527\" target=\"_blank\"><span style=\"color: #7f7f7f; text-decoration-color: #7f7f7f\">527</span></a>\n",
       "<span style=\"color: #7fbfbf; text-decoration-color: #7fbfbf\">                     </span>         <span style=\"color: #008000; text-decoration-color: #008000\">'E:\\ipynb\\python_design\\yty_math\\media\\videos\\1080p60\\partia</span> <span style=\"color: #7f7f7f; text-decoration-color: #7f7f7f\">                        </span>\n",
       "<span style=\"color: #7fbfbf; text-decoration-color: #7fbfbf\">                     </span>         <span style=\"color: #008000; text-decoration-color: #008000\">l_movie_files\\MatrixDetShow\\3280146143_408114884_3891305665.</span> <span style=\"color: #7f7f7f; text-decoration-color: #7f7f7f\">                        </span>\n",
       "<span style=\"color: #7fbfbf; text-decoration-color: #7fbfbf\">                     </span>         <span style=\"color: #008000; text-decoration-color: #008000\">mp4'</span>                                                         <span style=\"color: #7f7f7f; text-decoration-color: #7f7f7f\">                        </span>\n",
       "</pre>\n"
      ]
     },
     "metadata": {},
     "output_type": "display_data"
    },
    {
     "name": "stderr",
     "output_type": "stream",
     "text": [
      "                                                                                               \r"
     ]
    },
    {
     "data": {
      "text/plain": [
       "\u001B[2;36m[2024/12/1 20:23:10]\u001B[0m\u001B[2;36m \u001B[0m\u001B[32mINFO    \u001B[0m Animation \u001B[32m72\u001B[0m : Partial movie file written in                 \u001B]8;id=930973;file://E:\\ipynb\\venv\\lib\\site-packages\\manim\\scene\\scene_file_writer.py\u001B\\\u001B[2mscene_file_writer.py\u001B[0m\u001B]8;;\u001B\\\u001B[2m:\u001B[0m\u001B]8;id=691928;file://E:\\ipynb\\venv\\lib\\site-packages\\manim\\scene\\scene_file_writer.py#527\u001B\\\u001B[2m527\u001B[0m\u001B]8;;\u001B\\\n",
       "\u001B[2;36m                     \u001B[0m         \u001B[32m'E:\\ipynb\\python_design\\yty_math\\media\\videos\\1080p60\\partia\u001B[0m \u001B[2m                        \u001B[0m\n",
       "\u001B[2;36m                     \u001B[0m         \u001B[32ml_movie_files\\MatrixDetShow\\3280146143_792757844_3249395128.\u001B[0m \u001B[2m                        \u001B[0m\n",
       "\u001B[2;36m                     \u001B[0m         \u001B[32mmp4'\u001B[0m                                                         \u001B[2m                        \u001B[0m\n"
      ],
      "text/html": [
       "<pre style=\"white-space:pre;overflow-x:auto;line-height:normal;font-family:Menlo,'DejaVu Sans Mono',consolas,'Courier New',monospace\"><span style=\"color: #7fbfbf; text-decoration-color: #7fbfbf\">[2024/12/1 20:23:10] </span><span style=\"color: #008000; text-decoration-color: #008000\">INFO    </span> Animation <span style=\"color: #008000; text-decoration-color: #008000\">72</span> : Partial movie file written in                 <a href=\"file://E:\\ipynb\\venv\\lib\\site-packages\\manim\\scene\\scene_file_writer.py\" target=\"_blank\"><span style=\"color: #7f7f7f; text-decoration-color: #7f7f7f\">scene_file_writer.py</span></a><span style=\"color: #7f7f7f; text-decoration-color: #7f7f7f\">:</span><a href=\"file://E:\\ipynb\\venv\\lib\\site-packages\\manim\\scene\\scene_file_writer.py#527\" target=\"_blank\"><span style=\"color: #7f7f7f; text-decoration-color: #7f7f7f\">527</span></a>\n",
       "<span style=\"color: #7fbfbf; text-decoration-color: #7fbfbf\">                     </span>         <span style=\"color: #008000; text-decoration-color: #008000\">'E:\\ipynb\\python_design\\yty_math\\media\\videos\\1080p60\\partia</span> <span style=\"color: #7f7f7f; text-decoration-color: #7f7f7f\">                        </span>\n",
       "<span style=\"color: #7fbfbf; text-decoration-color: #7fbfbf\">                     </span>         <span style=\"color: #008000; text-decoration-color: #008000\">l_movie_files\\MatrixDetShow\\3280146143_792757844_3249395128.</span> <span style=\"color: #7f7f7f; text-decoration-color: #7f7f7f\">                        </span>\n",
       "<span style=\"color: #7fbfbf; text-decoration-color: #7fbfbf\">                     </span>         <span style=\"color: #008000; text-decoration-color: #008000\">mp4'</span>                                                         <span style=\"color: #7f7f7f; text-decoration-color: #7f7f7f\">                        </span>\n",
       "</pre>\n"
      ]
     },
     "metadata": {},
     "output_type": "display_data"
    },
    {
     "name": "stderr",
     "output_type": "stream",
     "text": [
      "                                                                                 \r"
     ]
    },
    {
     "data": {
      "text/plain": [
       "\u001B[2;36m[2024/12/1 20:23:13]\u001B[0m\u001B[2;36m \u001B[0m\u001B[32mINFO    \u001B[0m Animation \u001B[32m73\u001B[0m : Partial movie file written in                 \u001B]8;id=700432;file://E:\\ipynb\\venv\\lib\\site-packages\\manim\\scene\\scene_file_writer.py\u001B\\\u001B[2mscene_file_writer.py\u001B[0m\u001B]8;;\u001B\\\u001B[2m:\u001B[0m\u001B]8;id=326204;file://E:\\ipynb\\venv\\lib\\site-packages\\manim\\scene\\scene_file_writer.py#527\u001B\\\u001B[2m527\u001B[0m\u001B]8;;\u001B\\\n",
       "\u001B[2;36m                     \u001B[0m         \u001B[32m'E:\\ipynb\\python_design\\yty_math\\media\\videos\\1080p60\\partia\u001B[0m \u001B[2m                        \u001B[0m\n",
       "\u001B[2;36m                     \u001B[0m         \u001B[32ml_movie_files\\MatrixDetShow\\3280146143_2047443961_3189409345\u001B[0m \u001B[2m                        \u001B[0m\n",
       "\u001B[2;36m                     \u001B[0m         \u001B[32m.mp4'\u001B[0m                                                        \u001B[2m                        \u001B[0m\n"
      ],
      "text/html": [
       "<pre style=\"white-space:pre;overflow-x:auto;line-height:normal;font-family:Menlo,'DejaVu Sans Mono',consolas,'Courier New',monospace\"><span style=\"color: #7fbfbf; text-decoration-color: #7fbfbf\">[2024/12/1 20:23:13] </span><span style=\"color: #008000; text-decoration-color: #008000\">INFO    </span> Animation <span style=\"color: #008000; text-decoration-color: #008000\">73</span> : Partial movie file written in                 <a href=\"file://E:\\ipynb\\venv\\lib\\site-packages\\manim\\scene\\scene_file_writer.py\" target=\"_blank\"><span style=\"color: #7f7f7f; text-decoration-color: #7f7f7f\">scene_file_writer.py</span></a><span style=\"color: #7f7f7f; text-decoration-color: #7f7f7f\">:</span><a href=\"file://E:\\ipynb\\venv\\lib\\site-packages\\manim\\scene\\scene_file_writer.py#527\" target=\"_blank\"><span style=\"color: #7f7f7f; text-decoration-color: #7f7f7f\">527</span></a>\n",
       "<span style=\"color: #7fbfbf; text-decoration-color: #7fbfbf\">                     </span>         <span style=\"color: #008000; text-decoration-color: #008000\">'E:\\ipynb\\python_design\\yty_math\\media\\videos\\1080p60\\partia</span> <span style=\"color: #7f7f7f; text-decoration-color: #7f7f7f\">                        </span>\n",
       "<span style=\"color: #7fbfbf; text-decoration-color: #7fbfbf\">                     </span>         <span style=\"color: #008000; text-decoration-color: #008000\">l_movie_files\\MatrixDetShow\\3280146143_2047443961_3189409345</span> <span style=\"color: #7f7f7f; text-decoration-color: #7f7f7f\">                        </span>\n",
       "<span style=\"color: #7fbfbf; text-decoration-color: #7fbfbf\">                     </span>         <span style=\"color: #008000; text-decoration-color: #008000\">.mp4'</span>                                                        <span style=\"color: #7f7f7f; text-decoration-color: #7f7f7f\">                        </span>\n",
       "</pre>\n"
      ]
     },
     "metadata": {},
     "output_type": "display_data"
    },
    {
     "data": {
      "text/plain": [
       "\u001B[2;36m[2024/12/1 20:23:16]\u001B[0m\u001B[2;36m \u001B[0m\u001B[32mINFO    \u001B[0m Animation \u001B[32m74\u001B[0m : Partial movie file written in                 \u001B]8;id=479075;file://E:\\ipynb\\venv\\lib\\site-packages\\manim\\scene\\scene_file_writer.py\u001B\\\u001B[2mscene_file_writer.py\u001B[0m\u001B]8;;\u001B\\\u001B[2m:\u001B[0m\u001B]8;id=763946;file://E:\\ipynb\\venv\\lib\\site-packages\\manim\\scene\\scene_file_writer.py#527\u001B\\\u001B[2m527\u001B[0m\u001B]8;;\u001B\\\n",
       "\u001B[2;36m                     \u001B[0m         \u001B[32m'E:\\ipynb\\python_design\\yty_math\\media\\videos\\1080p60\\partia\u001B[0m \u001B[2m                        \u001B[0m\n",
       "\u001B[2;36m                     \u001B[0m         \u001B[32ml_movie_files\\MatrixDetShow\\3280146143_3406875789_2364834077\u001B[0m \u001B[2m                        \u001B[0m\n",
       "\u001B[2;36m                     \u001B[0m         \u001B[32m.mp4'\u001B[0m                                                        \u001B[2m                        \u001B[0m\n"
      ],
      "text/html": [
       "<pre style=\"white-space:pre;overflow-x:auto;line-height:normal;font-family:Menlo,'DejaVu Sans Mono',consolas,'Courier New',monospace\"><span style=\"color: #7fbfbf; text-decoration-color: #7fbfbf\">[2024/12/1 20:23:16] </span><span style=\"color: #008000; text-decoration-color: #008000\">INFO    </span> Animation <span style=\"color: #008000; text-decoration-color: #008000\">74</span> : Partial movie file written in                 <a href=\"file://E:\\ipynb\\venv\\lib\\site-packages\\manim\\scene\\scene_file_writer.py\" target=\"_blank\"><span style=\"color: #7f7f7f; text-decoration-color: #7f7f7f\">scene_file_writer.py</span></a><span style=\"color: #7f7f7f; text-decoration-color: #7f7f7f\">:</span><a href=\"file://E:\\ipynb\\venv\\lib\\site-packages\\manim\\scene\\scene_file_writer.py#527\" target=\"_blank\"><span style=\"color: #7f7f7f; text-decoration-color: #7f7f7f\">527</span></a>\n",
       "<span style=\"color: #7fbfbf; text-decoration-color: #7fbfbf\">                     </span>         <span style=\"color: #008000; text-decoration-color: #008000\">'E:\\ipynb\\python_design\\yty_math\\media\\videos\\1080p60\\partia</span> <span style=\"color: #7f7f7f; text-decoration-color: #7f7f7f\">                        </span>\n",
       "<span style=\"color: #7fbfbf; text-decoration-color: #7fbfbf\">                     </span>         <span style=\"color: #008000; text-decoration-color: #008000\">l_movie_files\\MatrixDetShow\\3280146143_3406875789_2364834077</span> <span style=\"color: #7f7f7f; text-decoration-color: #7f7f7f\">                        </span>\n",
       "<span style=\"color: #7fbfbf; text-decoration-color: #7fbfbf\">                     </span>         <span style=\"color: #008000; text-decoration-color: #008000\">.mp4'</span>                                                        <span style=\"color: #7f7f7f; text-decoration-color: #7f7f7f\">                        </span>\n",
       "</pre>\n"
      ]
     },
     "metadata": {},
     "output_type": "display_data"
    }
   ],
   "execution_count": 16
  },
  {
   "metadata": {
    "ExecuteTime": {
     "end_time": "2025-04-08T15:17:59.577956Z",
     "start_time": "2025-04-08T15:17:55.804742Z"
    }
   },
   "cell_type": "code",
   "source": "from manim import *",
   "id": "b0c80214fda76341",
   "outputs": [],
   "execution_count": 1
  },
  {
   "metadata": {},
   "cell_type": "code",
   "outputs": [],
   "execution_count": null,
   "source": "",
   "id": "e5bbbe151bf4bc1a"
  }
 ],
 "metadata": {
  "kernelspec": {
   "display_name": "Python 3",
   "language": "python",
   "name": "python3"
  },
  "language_info": {
   "codemirror_mode": {
    "name": "ipython",
    "version": 2
   },
   "file_extension": ".py",
   "mimetype": "text/x-python",
   "name": "python",
   "nbconvert_exporter": "python",
   "pygments_lexer": "ipython2",
   "version": "2.7.6"
  }
 },
 "nbformat": 4,
 "nbformat_minor": 5
}
