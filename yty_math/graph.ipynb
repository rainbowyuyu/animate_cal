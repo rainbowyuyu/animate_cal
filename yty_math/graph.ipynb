{
 "cells": [
  {
   "cell_type": "code",
   "id": "initial_id",
   "metadata": {
    "collapsed": true,
    "ExecuteTime": {
     "end_time": "2024-12-06T18:24:17.461253Z",
     "start_time": "2024-12-06T18:17:27.238935Z"
    }
   },
   "source": [
    "from pycallgraph2 import PyCallGraph\n",
    "from pycallgraph2 import Config\n",
    "from pycallgraph2 import GlobbingFilter\n",
    "from pycallgraph2.output import GraphvizOutput\n",
    "from python_design.cal_math import matrix_animation\n",
    "\n",
    "a = matrix_animation.MatrixMulShow()\n",
    "\n",
    "# config = Config()\n",
    "# config.trace_filter = GlobbingFilter(include=[\n",
    "#     'pycallgraph.*',\n",
    "#     '*.secret_function',\n",
    "# ])\n",
    "\n",
    "# Customize the Graphviz output\n",
    "graphviz_output = GraphvizOutput(font_size=22,group_font_size=35)\n",
    "graphviz_output.output_file = 'graph/mul.png'  # specify your output file path\n",
    "# Call the function you want to analyze\n",
    "with PyCallGraph(output=graphviz_output):\n",
    "    matrix_animation.MatrixMulShow.construct(a)"
   ],
   "outputs": [
    {
     "name": "stderr",
     "output_type": "stream",
     "text": [
      "                                                                                              \r"
     ]
    },
    {
     "data": {
      "text/plain": [
       "\u001B[2;36m[2024/12/7 2:18:09]\u001B[0m\u001B[2;36m \u001B[0m\u001B[32mINFO    \u001B[0m Animation \u001B[32m0\u001B[0m : Partial movie file written in                   \u001B]8;id=990219;file://E:\\ipynb\\venv\\lib\\site-packages\\manim\\scene\\scene_file_writer.py\u001B\\\u001B[2mscene_file_writer.py\u001B[0m\u001B]8;;\u001B\\\u001B[2m:\u001B[0m\u001B]8;id=778744;file://E:\\ipynb\\venv\\lib\\site-packages\\manim\\scene\\scene_file_writer.py#527\u001B\\\u001B[2m527\u001B[0m\u001B]8;;\u001B\\\n",
       "\u001B[2;36m                    \u001B[0m         \u001B[32m'E:\\ipynb\\python_design\\yty_math\\media\\videos\\1080p60\\partial\u001B[0m \u001B[2m                        \u001B[0m\n",
       "\u001B[2;36m                    \u001B[0m         \u001B[32m_movie_files\\MatrixMulShow\\3977891868_606191420_223132457.mp4\u001B[0m \u001B[2m                        \u001B[0m\n",
       "\u001B[2;36m                    \u001B[0m         \u001B[32m'\u001B[0m                                                             \u001B[2m                        \u001B[0m\n"
      ],
      "text/html": [
       "<pre style=\"white-space:pre;overflow-x:auto;line-height:normal;font-family:Menlo,'DejaVu Sans Mono',consolas,'Courier New',monospace\"><span style=\"color: #7fbfbf; text-decoration-color: #7fbfbf\">[2024/12/7 2:18:09] </span><span style=\"color: #008000; text-decoration-color: #008000\">INFO    </span> Animation <span style=\"color: #008000; text-decoration-color: #008000\">0</span> : Partial movie file written in                   <a href=\"file://E:\\ipynb\\venv\\lib\\site-packages\\manim\\scene\\scene_file_writer.py\" target=\"_blank\"><span style=\"color: #7f7f7f; text-decoration-color: #7f7f7f\">scene_file_writer.py</span></a><span style=\"color: #7f7f7f; text-decoration-color: #7f7f7f\">:</span><a href=\"file://E:\\ipynb\\venv\\lib\\site-packages\\manim\\scene\\scene_file_writer.py#527\" target=\"_blank\"><span style=\"color: #7f7f7f; text-decoration-color: #7f7f7f\">527</span></a>\n",
       "<span style=\"color: #7fbfbf; text-decoration-color: #7fbfbf\">                    </span>         <span style=\"color: #008000; text-decoration-color: #008000\">'E:\\ipynb\\python_design\\yty_math\\media\\videos\\1080p60\\partial</span> <span style=\"color: #7f7f7f; text-decoration-color: #7f7f7f\">                        </span>\n",
       "<span style=\"color: #7fbfbf; text-decoration-color: #7fbfbf\">                    </span>         <span style=\"color: #008000; text-decoration-color: #008000\">_movie_files\\MatrixMulShow\\3977891868_606191420_223132457.mp4</span> <span style=\"color: #7f7f7f; text-decoration-color: #7f7f7f\">                        </span>\n",
       "<span style=\"color: #7fbfbf; text-decoration-color: #7fbfbf\">                    </span>         <span style=\"color: #008000; text-decoration-color: #008000\">'</span>                                                             <span style=\"color: #7f7f7f; text-decoration-color: #7f7f7f\">                        </span>\n",
       "</pre>\n"
      ]
     },
     "metadata": {},
     "output_type": "display_data"
    },
    {
     "name": "stderr",
     "output_type": "stream",
     "text": [
      "                                                                                             \r"
     ]
    },
    {
     "data": {
      "text/plain": [
       "\u001B[2;36m[2024/12/7 2:18:14]\u001B[0m\u001B[2;36m \u001B[0m\u001B[32mINFO    \u001B[0m Animation \u001B[32m1\u001B[0m : Partial movie file written in                   \u001B]8;id=425817;file://E:\\ipynb\\venv\\lib\\site-packages\\manim\\scene\\scene_file_writer.py\u001B\\\u001B[2mscene_file_writer.py\u001B[0m\u001B]8;;\u001B\\\u001B[2m:\u001B[0m\u001B]8;id=40471;file://E:\\ipynb\\venv\\lib\\site-packages\\manim\\scene\\scene_file_writer.py#527\u001B\\\u001B[2m527\u001B[0m\u001B]8;;\u001B\\\n",
       "\u001B[2;36m                    \u001B[0m         \u001B[32m'E:\\ipynb\\python_design\\yty_math\\media\\videos\\1080p60\\partial\u001B[0m \u001B[2m                        \u001B[0m\n",
       "\u001B[2;36m                    \u001B[0m         \u001B[32m_movie_files\\MatrixMulShow\\2852726489_1138170572_855208087.mp\u001B[0m \u001B[2m                        \u001B[0m\n",
       "\u001B[2;36m                    \u001B[0m         \u001B[32m4'\u001B[0m                                                            \u001B[2m                        \u001B[0m\n"
      ],
      "text/html": [
       "<pre style=\"white-space:pre;overflow-x:auto;line-height:normal;font-family:Menlo,'DejaVu Sans Mono',consolas,'Courier New',monospace\"><span style=\"color: #7fbfbf; text-decoration-color: #7fbfbf\">[2024/12/7 2:18:14] </span><span style=\"color: #008000; text-decoration-color: #008000\">INFO    </span> Animation <span style=\"color: #008000; text-decoration-color: #008000\">1</span> : Partial movie file written in                   <a href=\"file://E:\\ipynb\\venv\\lib\\site-packages\\manim\\scene\\scene_file_writer.py\" target=\"_blank\"><span style=\"color: #7f7f7f; text-decoration-color: #7f7f7f\">scene_file_writer.py</span></a><span style=\"color: #7f7f7f; text-decoration-color: #7f7f7f\">:</span><a href=\"file://E:\\ipynb\\venv\\lib\\site-packages\\manim\\scene\\scene_file_writer.py#527\" target=\"_blank\"><span style=\"color: #7f7f7f; text-decoration-color: #7f7f7f\">527</span></a>\n",
       "<span style=\"color: #7fbfbf; text-decoration-color: #7fbfbf\">                    </span>         <span style=\"color: #008000; text-decoration-color: #008000\">'E:\\ipynb\\python_design\\yty_math\\media\\videos\\1080p60\\partial</span> <span style=\"color: #7f7f7f; text-decoration-color: #7f7f7f\">                        </span>\n",
       "<span style=\"color: #7fbfbf; text-decoration-color: #7fbfbf\">                    </span>         <span style=\"color: #008000; text-decoration-color: #008000\">_movie_files\\MatrixMulShow\\2852726489_1138170572_855208087.mp</span> <span style=\"color: #7f7f7f; text-decoration-color: #7f7f7f\">                        </span>\n",
       "<span style=\"color: #7fbfbf; text-decoration-color: #7fbfbf\">                    </span>         <span style=\"color: #008000; text-decoration-color: #008000\">4'</span>                                                            <span style=\"color: #7f7f7f; text-decoration-color: #7f7f7f\">                        </span>\n",
       "</pre>\n"
      ]
     },
     "metadata": {},
     "output_type": "display_data"
    },
    {
     "name": "stderr",
     "output_type": "stream",
     "text": [
      "                                                                                                   \r"
     ]
    },
    {
     "data": {
      "text/plain": [
       "\u001B[2;36m[2024/12/7 2:18:17]\u001B[0m\u001B[2;36m \u001B[0m\u001B[32mINFO    \u001B[0m Animation \u001B[32m2\u001B[0m : Partial movie file written in                   \u001B]8;id=456420;file://E:\\ipynb\\venv\\lib\\site-packages\\manim\\scene\\scene_file_writer.py\u001B\\\u001B[2mscene_file_writer.py\u001B[0m\u001B]8;;\u001B\\\u001B[2m:\u001B[0m\u001B]8;id=807809;file://E:\\ipynb\\venv\\lib\\site-packages\\manim\\scene\\scene_file_writer.py#527\u001B\\\u001B[2m527\u001B[0m\u001B]8;;\u001B\\\n",
       "\u001B[2;36m                    \u001B[0m         \u001B[32m'E:\\ipynb\\python_design\\yty_math\\media\\videos\\1080p60\\partial\u001B[0m \u001B[2m                        \u001B[0m\n",
       "\u001B[2;36m                    \u001B[0m         \u001B[32m_movie_files\\MatrixMulShow\\2852726489_3756418061_1280922846.m\u001B[0m \u001B[2m                        \u001B[0m\n",
       "\u001B[2;36m                    \u001B[0m         \u001B[32mp4'\u001B[0m                                                           \u001B[2m                        \u001B[0m\n"
      ],
      "text/html": [
       "<pre style=\"white-space:pre;overflow-x:auto;line-height:normal;font-family:Menlo,'DejaVu Sans Mono',consolas,'Courier New',monospace\"><span style=\"color: #7fbfbf; text-decoration-color: #7fbfbf\">[2024/12/7 2:18:17] </span><span style=\"color: #008000; text-decoration-color: #008000\">INFO    </span> Animation <span style=\"color: #008000; text-decoration-color: #008000\">2</span> : Partial movie file written in                   <a href=\"file://E:\\ipynb\\venv\\lib\\site-packages\\manim\\scene\\scene_file_writer.py\" target=\"_blank\"><span style=\"color: #7f7f7f; text-decoration-color: #7f7f7f\">scene_file_writer.py</span></a><span style=\"color: #7f7f7f; text-decoration-color: #7f7f7f\">:</span><a href=\"file://E:\\ipynb\\venv\\lib\\site-packages\\manim\\scene\\scene_file_writer.py#527\" target=\"_blank\"><span style=\"color: #7f7f7f; text-decoration-color: #7f7f7f\">527</span></a>\n",
       "<span style=\"color: #7fbfbf; text-decoration-color: #7fbfbf\">                    </span>         <span style=\"color: #008000; text-decoration-color: #008000\">'E:\\ipynb\\python_design\\yty_math\\media\\videos\\1080p60\\partial</span> <span style=\"color: #7f7f7f; text-decoration-color: #7f7f7f\">                        </span>\n",
       "<span style=\"color: #7fbfbf; text-decoration-color: #7fbfbf\">                    </span>         <span style=\"color: #008000; text-decoration-color: #008000\">_movie_files\\MatrixMulShow\\2852726489_3756418061_1280922846.m</span> <span style=\"color: #7f7f7f; text-decoration-color: #7f7f7f\">                        </span>\n",
       "<span style=\"color: #7fbfbf; text-decoration-color: #7fbfbf\">                    </span>         <span style=\"color: #008000; text-decoration-color: #008000\">p4'</span>                                                           <span style=\"color: #7f7f7f; text-decoration-color: #7f7f7f\">                        </span>\n",
       "</pre>\n"
      ]
     },
     "metadata": {},
     "output_type": "display_data"
    },
    {
     "name": "stderr",
     "output_type": "stream",
     "text": [
      "                                                                                                      \r"
     ]
    },
    {
     "data": {
      "text/plain": [
       "\u001B[2;36m[2024/12/7 2:18:21]\u001B[0m\u001B[2;36m \u001B[0m\u001B[32mINFO    \u001B[0m Animation \u001B[32m3\u001B[0m : Partial movie file written in                   \u001B]8;id=905845;file://E:\\ipynb\\venv\\lib\\site-packages\\manim\\scene\\scene_file_writer.py\u001B\\\u001B[2mscene_file_writer.py\u001B[0m\u001B]8;;\u001B\\\u001B[2m:\u001B[0m\u001B]8;id=628811;file://E:\\ipynb\\venv\\lib\\site-packages\\manim\\scene\\scene_file_writer.py#527\u001B\\\u001B[2m527\u001B[0m\u001B]8;;\u001B\\\n",
       "\u001B[2;36m                    \u001B[0m         \u001B[32m'E:\\ipynb\\python_design\\yty_math\\media\\videos\\1080p60\\partial\u001B[0m \u001B[2m                        \u001B[0m\n",
       "\u001B[2;36m                    \u001B[0m         \u001B[32m_movie_files\\MatrixMulShow\\2852726489_4220714466_3383190098.m\u001B[0m \u001B[2m                        \u001B[0m\n",
       "\u001B[2;36m                    \u001B[0m         \u001B[32mp4'\u001B[0m                                                           \u001B[2m                        \u001B[0m\n"
      ],
      "text/html": [
       "<pre style=\"white-space:pre;overflow-x:auto;line-height:normal;font-family:Menlo,'DejaVu Sans Mono',consolas,'Courier New',monospace\"><span style=\"color: #7fbfbf; text-decoration-color: #7fbfbf\">[2024/12/7 2:18:21] </span><span style=\"color: #008000; text-decoration-color: #008000\">INFO    </span> Animation <span style=\"color: #008000; text-decoration-color: #008000\">3</span> : Partial movie file written in                   <a href=\"file://E:\\ipynb\\venv\\lib\\site-packages\\manim\\scene\\scene_file_writer.py\" target=\"_blank\"><span style=\"color: #7f7f7f; text-decoration-color: #7f7f7f\">scene_file_writer.py</span></a><span style=\"color: #7f7f7f; text-decoration-color: #7f7f7f\">:</span><a href=\"file://E:\\ipynb\\venv\\lib\\site-packages\\manim\\scene\\scene_file_writer.py#527\" target=\"_blank\"><span style=\"color: #7f7f7f; text-decoration-color: #7f7f7f\">527</span></a>\n",
       "<span style=\"color: #7fbfbf; text-decoration-color: #7fbfbf\">                    </span>         <span style=\"color: #008000; text-decoration-color: #008000\">'E:\\ipynb\\python_design\\yty_math\\media\\videos\\1080p60\\partial</span> <span style=\"color: #7f7f7f; text-decoration-color: #7f7f7f\">                        </span>\n",
       "<span style=\"color: #7fbfbf; text-decoration-color: #7fbfbf\">                    </span>         <span style=\"color: #008000; text-decoration-color: #008000\">_movie_files\\MatrixMulShow\\2852726489_4220714466_3383190098.m</span> <span style=\"color: #7f7f7f; text-decoration-color: #7f7f7f\">                        </span>\n",
       "<span style=\"color: #7fbfbf; text-decoration-color: #7fbfbf\">                    </span>         <span style=\"color: #008000; text-decoration-color: #008000\">p4'</span>                                                           <span style=\"color: #7f7f7f; text-decoration-color: #7f7f7f\">                        </span>\n",
       "</pre>\n"
      ]
     },
     "metadata": {},
     "output_type": "display_data"
    },
    {
     "name": "stderr",
     "output_type": "stream",
     "text": [
      "                                                                                               \r"
     ]
    },
    {
     "data": {
      "text/plain": [
       "\u001B[2;36m[2024/12/7 2:18:25]\u001B[0m\u001B[2;36m \u001B[0m\u001B[32mINFO    \u001B[0m Animation \u001B[32m4\u001B[0m : Partial movie file written in                   \u001B]8;id=152262;file://E:\\ipynb\\venv\\lib\\site-packages\\manim\\scene\\scene_file_writer.py\u001B\\\u001B[2mscene_file_writer.py\u001B[0m\u001B]8;;\u001B\\\u001B[2m:\u001B[0m\u001B]8;id=428055;file://E:\\ipynb\\venv\\lib\\site-packages\\manim\\scene\\scene_file_writer.py#527\u001B\\\u001B[2m527\u001B[0m\u001B]8;;\u001B\\\n",
       "\u001B[2;36m                    \u001B[0m         \u001B[32m'E:\\ipynb\\python_design\\yty_math\\media\\videos\\1080p60\\partial\u001B[0m \u001B[2m                        \u001B[0m\n",
       "\u001B[2;36m                    \u001B[0m         \u001B[32m_movie_files\\MatrixMulShow\\2852726489_1582482207_382116342.mp\u001B[0m \u001B[2m                        \u001B[0m\n",
       "\u001B[2;36m                    \u001B[0m         \u001B[32m4'\u001B[0m                                                            \u001B[2m                        \u001B[0m\n"
      ],
      "text/html": [
       "<pre style=\"white-space:pre;overflow-x:auto;line-height:normal;font-family:Menlo,'DejaVu Sans Mono',consolas,'Courier New',monospace\"><span style=\"color: #7fbfbf; text-decoration-color: #7fbfbf\">[2024/12/7 2:18:25] </span><span style=\"color: #008000; text-decoration-color: #008000\">INFO    </span> Animation <span style=\"color: #008000; text-decoration-color: #008000\">4</span> : Partial movie file written in                   <a href=\"file://E:\\ipynb\\venv\\lib\\site-packages\\manim\\scene\\scene_file_writer.py\" target=\"_blank\"><span style=\"color: #7f7f7f; text-decoration-color: #7f7f7f\">scene_file_writer.py</span></a><span style=\"color: #7f7f7f; text-decoration-color: #7f7f7f\">:</span><a href=\"file://E:\\ipynb\\venv\\lib\\site-packages\\manim\\scene\\scene_file_writer.py#527\" target=\"_blank\"><span style=\"color: #7f7f7f; text-decoration-color: #7f7f7f\">527</span></a>\n",
       "<span style=\"color: #7fbfbf; text-decoration-color: #7fbfbf\">                    </span>         <span style=\"color: #008000; text-decoration-color: #008000\">'E:\\ipynb\\python_design\\yty_math\\media\\videos\\1080p60\\partial</span> <span style=\"color: #7f7f7f; text-decoration-color: #7f7f7f\">                        </span>\n",
       "<span style=\"color: #7fbfbf; text-decoration-color: #7fbfbf\">                    </span>         <span style=\"color: #008000; text-decoration-color: #008000\">_movie_files\\MatrixMulShow\\2852726489_1582482207_382116342.mp</span> <span style=\"color: #7f7f7f; text-decoration-color: #7f7f7f\">                        </span>\n",
       "<span style=\"color: #7fbfbf; text-decoration-color: #7fbfbf\">                    </span>         <span style=\"color: #008000; text-decoration-color: #008000\">4'</span>                                                            <span style=\"color: #7f7f7f; text-decoration-color: #7f7f7f\">                        </span>\n",
       "</pre>\n"
      ]
     },
     "metadata": {},
     "output_type": "display_data"
    },
    {
     "name": "stderr",
     "output_type": "stream",
     "text": [
      "                                                                                                      \r"
     ]
    },
    {
     "data": {
      "text/plain": [
       "\u001B[2;36m[2024/12/7 2:18:29]\u001B[0m\u001B[2;36m \u001B[0m\u001B[32mINFO    \u001B[0m Animation \u001B[32m5\u001B[0m : Partial movie file written in                   \u001B]8;id=255233;file://E:\\ipynb\\venv\\lib\\site-packages\\manim\\scene\\scene_file_writer.py\u001B\\\u001B[2mscene_file_writer.py\u001B[0m\u001B]8;;\u001B\\\u001B[2m:\u001B[0m\u001B]8;id=2060;file://E:\\ipynb\\venv\\lib\\site-packages\\manim\\scene\\scene_file_writer.py#527\u001B\\\u001B[2m527\u001B[0m\u001B]8;;\u001B\\\n",
       "\u001B[2;36m                    \u001B[0m         \u001B[32m'E:\\ipynb\\python_design\\yty_math\\media\\videos\\1080p60\\partial\u001B[0m \u001B[2m                        \u001B[0m\n",
       "\u001B[2;36m                    \u001B[0m         \u001B[32m_movie_files\\MatrixMulShow\\2852726489_979852111_1359917794.mp\u001B[0m \u001B[2m                        \u001B[0m\n",
       "\u001B[2;36m                    \u001B[0m         \u001B[32m4'\u001B[0m                                                            \u001B[2m                        \u001B[0m\n"
      ],
      "text/html": [
       "<pre style=\"white-space:pre;overflow-x:auto;line-height:normal;font-family:Menlo,'DejaVu Sans Mono',consolas,'Courier New',monospace\"><span style=\"color: #7fbfbf; text-decoration-color: #7fbfbf\">[2024/12/7 2:18:29] </span><span style=\"color: #008000; text-decoration-color: #008000\">INFO    </span> Animation <span style=\"color: #008000; text-decoration-color: #008000\">5</span> : Partial movie file written in                   <a href=\"file://E:\\ipynb\\venv\\lib\\site-packages\\manim\\scene\\scene_file_writer.py\" target=\"_blank\"><span style=\"color: #7f7f7f; text-decoration-color: #7f7f7f\">scene_file_writer.py</span></a><span style=\"color: #7f7f7f; text-decoration-color: #7f7f7f\">:</span><a href=\"file://E:\\ipynb\\venv\\lib\\site-packages\\manim\\scene\\scene_file_writer.py#527\" target=\"_blank\"><span style=\"color: #7f7f7f; text-decoration-color: #7f7f7f\">527</span></a>\n",
       "<span style=\"color: #7fbfbf; text-decoration-color: #7fbfbf\">                    </span>         <span style=\"color: #008000; text-decoration-color: #008000\">'E:\\ipynb\\python_design\\yty_math\\media\\videos\\1080p60\\partial</span> <span style=\"color: #7f7f7f; text-decoration-color: #7f7f7f\">                        </span>\n",
       "<span style=\"color: #7fbfbf; text-decoration-color: #7fbfbf\">                    </span>         <span style=\"color: #008000; text-decoration-color: #008000\">_movie_files\\MatrixMulShow\\2852726489_979852111_1359917794.mp</span> <span style=\"color: #7f7f7f; text-decoration-color: #7f7f7f\">                        </span>\n",
       "<span style=\"color: #7fbfbf; text-decoration-color: #7fbfbf\">                    </span>         <span style=\"color: #008000; text-decoration-color: #008000\">4'</span>                                                            <span style=\"color: #7f7f7f; text-decoration-color: #7f7f7f\">                        </span>\n",
       "</pre>\n"
      ]
     },
     "metadata": {},
     "output_type": "display_data"
    },
    {
     "name": "stderr",
     "output_type": "stream",
     "text": [
      "                                                                                                \r"
     ]
    },
    {
     "data": {
      "text/plain": [
       "\u001B[2;36m[2024/12/7 2:18:33]\u001B[0m\u001B[2;36m \u001B[0m\u001B[32mINFO    \u001B[0m Animation \u001B[32m6\u001B[0m : Partial movie file written in                   \u001B]8;id=515854;file://E:\\ipynb\\venv\\lib\\site-packages\\manim\\scene\\scene_file_writer.py\u001B\\\u001B[2mscene_file_writer.py\u001B[0m\u001B]8;;\u001B\\\u001B[2m:\u001B[0m\u001B]8;id=672278;file://E:\\ipynb\\venv\\lib\\site-packages\\manim\\scene\\scene_file_writer.py#527\u001B\\\u001B[2m527\u001B[0m\u001B]8;;\u001B\\\n",
       "\u001B[2;36m                    \u001B[0m         \u001B[32m'E:\\ipynb\\python_design\\yty_math\\media\\videos\\1080p60\\partial\u001B[0m \u001B[2m                        \u001B[0m\n",
       "\u001B[2;36m                    \u001B[0m         \u001B[32m_movie_files\\MatrixMulShow\\2852726489_3476539044_495835879.mp\u001B[0m \u001B[2m                        \u001B[0m\n",
       "\u001B[2;36m                    \u001B[0m         \u001B[32m4'\u001B[0m                                                            \u001B[2m                        \u001B[0m\n"
      ],
      "text/html": [
       "<pre style=\"white-space:pre;overflow-x:auto;line-height:normal;font-family:Menlo,'DejaVu Sans Mono',consolas,'Courier New',monospace\"><span style=\"color: #7fbfbf; text-decoration-color: #7fbfbf\">[2024/12/7 2:18:33] </span><span style=\"color: #008000; text-decoration-color: #008000\">INFO    </span> Animation <span style=\"color: #008000; text-decoration-color: #008000\">6</span> : Partial movie file written in                   <a href=\"file://E:\\ipynb\\venv\\lib\\site-packages\\manim\\scene\\scene_file_writer.py\" target=\"_blank\"><span style=\"color: #7f7f7f; text-decoration-color: #7f7f7f\">scene_file_writer.py</span></a><span style=\"color: #7f7f7f; text-decoration-color: #7f7f7f\">:</span><a href=\"file://E:\\ipynb\\venv\\lib\\site-packages\\manim\\scene\\scene_file_writer.py#527\" target=\"_blank\"><span style=\"color: #7f7f7f; text-decoration-color: #7f7f7f\">527</span></a>\n",
       "<span style=\"color: #7fbfbf; text-decoration-color: #7fbfbf\">                    </span>         <span style=\"color: #008000; text-decoration-color: #008000\">'E:\\ipynb\\python_design\\yty_math\\media\\videos\\1080p60\\partial</span> <span style=\"color: #7f7f7f; text-decoration-color: #7f7f7f\">                        </span>\n",
       "<span style=\"color: #7fbfbf; text-decoration-color: #7fbfbf\">                    </span>         <span style=\"color: #008000; text-decoration-color: #008000\">_movie_files\\MatrixMulShow\\2852726489_3476539044_495835879.mp</span> <span style=\"color: #7f7f7f; text-decoration-color: #7f7f7f\">                        </span>\n",
       "<span style=\"color: #7fbfbf; text-decoration-color: #7fbfbf\">                    </span>         <span style=\"color: #008000; text-decoration-color: #008000\">4'</span>                                                            <span style=\"color: #7f7f7f; text-decoration-color: #7f7f7f\">                        </span>\n",
       "</pre>\n"
      ]
     },
     "metadata": {},
     "output_type": "display_data"
    },
    {
     "name": "stderr",
     "output_type": "stream",
     "text": [
      "                                                                                \r"
     ]
    },
    {
     "data": {
      "text/plain": [
       "\u001B[2;36m[2024/12/7 2:18:37]\u001B[0m\u001B[2;36m \u001B[0m\u001B[32mINFO    \u001B[0m Animation \u001B[32m7\u001B[0m : Partial movie file written in                   \u001B]8;id=932210;file://E:\\ipynb\\venv\\lib\\site-packages\\manim\\scene\\scene_file_writer.py\u001B\\\u001B[2mscene_file_writer.py\u001B[0m\u001B]8;;\u001B\\\u001B[2m:\u001B[0m\u001B]8;id=317265;file://E:\\ipynb\\venv\\lib\\site-packages\\manim\\scene\\scene_file_writer.py#527\u001B\\\u001B[2m527\u001B[0m\u001B]8;;\u001B\\\n",
       "\u001B[2;36m                    \u001B[0m         \u001B[32m'E:\\ipynb\\python_design\\yty_math\\media\\videos\\1080p60\\partial\u001B[0m \u001B[2m                        \u001B[0m\n",
       "\u001B[2;36m                    \u001B[0m         \u001B[32m_movie_files\\MatrixMulShow\\2852726489_2605548094_3772861009.m\u001B[0m \u001B[2m                        \u001B[0m\n",
       "\u001B[2;36m                    \u001B[0m         \u001B[32mp4'\u001B[0m                                                           \u001B[2m                        \u001B[0m\n"
      ],
      "text/html": [
       "<pre style=\"white-space:pre;overflow-x:auto;line-height:normal;font-family:Menlo,'DejaVu Sans Mono',consolas,'Courier New',monospace\"><span style=\"color: #7fbfbf; text-decoration-color: #7fbfbf\">[2024/12/7 2:18:37] </span><span style=\"color: #008000; text-decoration-color: #008000\">INFO    </span> Animation <span style=\"color: #008000; text-decoration-color: #008000\">7</span> : Partial movie file written in                   <a href=\"file://E:\\ipynb\\venv\\lib\\site-packages\\manim\\scene\\scene_file_writer.py\" target=\"_blank\"><span style=\"color: #7f7f7f; text-decoration-color: #7f7f7f\">scene_file_writer.py</span></a><span style=\"color: #7f7f7f; text-decoration-color: #7f7f7f\">:</span><a href=\"file://E:\\ipynb\\venv\\lib\\site-packages\\manim\\scene\\scene_file_writer.py#527\" target=\"_blank\"><span style=\"color: #7f7f7f; text-decoration-color: #7f7f7f\">527</span></a>\n",
       "<span style=\"color: #7fbfbf; text-decoration-color: #7fbfbf\">                    </span>         <span style=\"color: #008000; text-decoration-color: #008000\">'E:\\ipynb\\python_design\\yty_math\\media\\videos\\1080p60\\partial</span> <span style=\"color: #7f7f7f; text-decoration-color: #7f7f7f\">                        </span>\n",
       "<span style=\"color: #7fbfbf; text-decoration-color: #7fbfbf\">                    </span>         <span style=\"color: #008000; text-decoration-color: #008000\">_movie_files\\MatrixMulShow\\2852726489_2605548094_3772861009.m</span> <span style=\"color: #7f7f7f; text-decoration-color: #7f7f7f\">                        </span>\n",
       "<span style=\"color: #7fbfbf; text-decoration-color: #7fbfbf\">                    </span>         <span style=\"color: #008000; text-decoration-color: #008000\">p4'</span>                                                           <span style=\"color: #7f7f7f; text-decoration-color: #7f7f7f\">                        </span>\n",
       "</pre>\n"
      ]
     },
     "metadata": {},
     "output_type": "display_data"
    },
    {
     "name": "stderr",
     "output_type": "stream",
     "text": [
      "                                                                                          \r"
     ]
    },
    {
     "data": {
      "text/plain": [
       "\u001B[2;36m[2024/12/7 2:18:41]\u001B[0m\u001B[2;36m \u001B[0m\u001B[32mINFO    \u001B[0m Animation \u001B[32m8\u001B[0m : Partial movie file written in                   \u001B]8;id=384982;file://E:\\ipynb\\venv\\lib\\site-packages\\manim\\scene\\scene_file_writer.py\u001B\\\u001B[2mscene_file_writer.py\u001B[0m\u001B]8;;\u001B\\\u001B[2m:\u001B[0m\u001B]8;id=155826;file://E:\\ipynb\\venv\\lib\\site-packages\\manim\\scene\\scene_file_writer.py#527\u001B\\\u001B[2m527\u001B[0m\u001B]8;;\u001B\\\n",
       "\u001B[2;36m                    \u001B[0m         \u001B[32m'E:\\ipynb\\python_design\\yty_math\\media\\videos\\1080p60\\partial\u001B[0m \u001B[2m                        \u001B[0m\n",
       "\u001B[2;36m                    \u001B[0m         \u001B[32m_movie_files\\MatrixMulShow\\2852726489_4129679794_1499163195.m\u001B[0m \u001B[2m                        \u001B[0m\n",
       "\u001B[2;36m                    \u001B[0m         \u001B[32mp4'\u001B[0m                                                           \u001B[2m                        \u001B[0m\n"
      ],
      "text/html": [
       "<pre style=\"white-space:pre;overflow-x:auto;line-height:normal;font-family:Menlo,'DejaVu Sans Mono',consolas,'Courier New',monospace\"><span style=\"color: #7fbfbf; text-decoration-color: #7fbfbf\">[2024/12/7 2:18:41] </span><span style=\"color: #008000; text-decoration-color: #008000\">INFO    </span> Animation <span style=\"color: #008000; text-decoration-color: #008000\">8</span> : Partial movie file written in                   <a href=\"file://E:\\ipynb\\venv\\lib\\site-packages\\manim\\scene\\scene_file_writer.py\" target=\"_blank\"><span style=\"color: #7f7f7f; text-decoration-color: #7f7f7f\">scene_file_writer.py</span></a><span style=\"color: #7f7f7f; text-decoration-color: #7f7f7f\">:</span><a href=\"file://E:\\ipynb\\venv\\lib\\site-packages\\manim\\scene\\scene_file_writer.py#527\" target=\"_blank\"><span style=\"color: #7f7f7f; text-decoration-color: #7f7f7f\">527</span></a>\n",
       "<span style=\"color: #7fbfbf; text-decoration-color: #7fbfbf\">                    </span>         <span style=\"color: #008000; text-decoration-color: #008000\">'E:\\ipynb\\python_design\\yty_math\\media\\videos\\1080p60\\partial</span> <span style=\"color: #7f7f7f; text-decoration-color: #7f7f7f\">                        </span>\n",
       "<span style=\"color: #7fbfbf; text-decoration-color: #7fbfbf\">                    </span>         <span style=\"color: #008000; text-decoration-color: #008000\">_movie_files\\MatrixMulShow\\2852726489_4129679794_1499163195.m</span> <span style=\"color: #7f7f7f; text-decoration-color: #7f7f7f\">                        </span>\n",
       "<span style=\"color: #7fbfbf; text-decoration-color: #7fbfbf\">                    </span>         <span style=\"color: #008000; text-decoration-color: #008000\">p4'</span>                                                           <span style=\"color: #7f7f7f; text-decoration-color: #7f7f7f\">                        </span>\n",
       "</pre>\n"
      ]
     },
     "metadata": {},
     "output_type": "display_data"
    },
    {
     "name": "stderr",
     "output_type": "stream",
     "text": [
      "                                                                                              \r"
     ]
    },
    {
     "data": {
      "text/plain": [
       "\u001B[2;36m[2024/12/7 2:18:46]\u001B[0m\u001B[2;36m \u001B[0m\u001B[32mINFO    \u001B[0m Animation \u001B[32m9\u001B[0m : Partial movie file written in                   \u001B]8;id=660238;file://E:\\ipynb\\venv\\lib\\site-packages\\manim\\scene\\scene_file_writer.py\u001B\\\u001B[2mscene_file_writer.py\u001B[0m\u001B]8;;\u001B\\\u001B[2m:\u001B[0m\u001B]8;id=274532;file://E:\\ipynb\\venv\\lib\\site-packages\\manim\\scene\\scene_file_writer.py#527\u001B\\\u001B[2m527\u001B[0m\u001B]8;;\u001B\\\n",
       "\u001B[2;36m                    \u001B[0m         \u001B[32m'E:\\ipynb\\python_design\\yty_math\\media\\videos\\1080p60\\partial\u001B[0m \u001B[2m                        \u001B[0m\n",
       "\u001B[2;36m                    \u001B[0m         \u001B[32m_movie_files\\MatrixMulShow\\2852726489_2442117124_2584608590.m\u001B[0m \u001B[2m                        \u001B[0m\n",
       "\u001B[2;36m                    \u001B[0m         \u001B[32mp4'\u001B[0m                                                           \u001B[2m                        \u001B[0m\n"
      ],
      "text/html": [
       "<pre style=\"white-space:pre;overflow-x:auto;line-height:normal;font-family:Menlo,'DejaVu Sans Mono',consolas,'Courier New',monospace\"><span style=\"color: #7fbfbf; text-decoration-color: #7fbfbf\">[2024/12/7 2:18:46] </span><span style=\"color: #008000; text-decoration-color: #008000\">INFO    </span> Animation <span style=\"color: #008000; text-decoration-color: #008000\">9</span> : Partial movie file written in                   <a href=\"file://E:\\ipynb\\venv\\lib\\site-packages\\manim\\scene\\scene_file_writer.py\" target=\"_blank\"><span style=\"color: #7f7f7f; text-decoration-color: #7f7f7f\">scene_file_writer.py</span></a><span style=\"color: #7f7f7f; text-decoration-color: #7f7f7f\">:</span><a href=\"file://E:\\ipynb\\venv\\lib\\site-packages\\manim\\scene\\scene_file_writer.py#527\" target=\"_blank\"><span style=\"color: #7f7f7f; text-decoration-color: #7f7f7f\">527</span></a>\n",
       "<span style=\"color: #7fbfbf; text-decoration-color: #7fbfbf\">                    </span>         <span style=\"color: #008000; text-decoration-color: #008000\">'E:\\ipynb\\python_design\\yty_math\\media\\videos\\1080p60\\partial</span> <span style=\"color: #7f7f7f; text-decoration-color: #7f7f7f\">                        </span>\n",
       "<span style=\"color: #7fbfbf; text-decoration-color: #7fbfbf\">                    </span>         <span style=\"color: #008000; text-decoration-color: #008000\">_movie_files\\MatrixMulShow\\2852726489_2442117124_2584608590.m</span> <span style=\"color: #7f7f7f; text-decoration-color: #7f7f7f\">                        </span>\n",
       "<span style=\"color: #7fbfbf; text-decoration-color: #7fbfbf\">                    </span>         <span style=\"color: #008000; text-decoration-color: #008000\">p4'</span>                                                           <span style=\"color: #7f7f7f; text-decoration-color: #7f7f7f\">                        </span>\n",
       "</pre>\n"
      ]
     },
     "metadata": {},
     "output_type": "display_data"
    },
    {
     "name": "stderr",
     "output_type": "stream",
     "text": [
      "                                                                                                    \r"
     ]
    },
    {
     "data": {
      "text/plain": [
       "\u001B[2;36m[2024/12/7 2:18:51]\u001B[0m\u001B[2;36m \u001B[0m\u001B[32mINFO    \u001B[0m Animation \u001B[32m10\u001B[0m : Partial movie file written in                  \u001B]8;id=148655;file://E:\\ipynb\\venv\\lib\\site-packages\\manim\\scene\\scene_file_writer.py\u001B\\\u001B[2mscene_file_writer.py\u001B[0m\u001B]8;;\u001B\\\u001B[2m:\u001B[0m\u001B]8;id=135478;file://E:\\ipynb\\venv\\lib\\site-packages\\manim\\scene\\scene_file_writer.py#527\u001B\\\u001B[2m527\u001B[0m\u001B]8;;\u001B\\\n",
       "\u001B[2;36m                    \u001B[0m         \u001B[32m'E:\\ipynb\\python_design\\yty_math\\media\\videos\\1080p60\\partial\u001B[0m \u001B[2m                        \u001B[0m\n",
       "\u001B[2;36m                    \u001B[0m         \u001B[32m_movie_files\\MatrixMulShow\\2852726489_2600806898_2074063850.m\u001B[0m \u001B[2m                        \u001B[0m\n",
       "\u001B[2;36m                    \u001B[0m         \u001B[32mp4'\u001B[0m                                                           \u001B[2m                        \u001B[0m\n"
      ],
      "text/html": [
       "<pre style=\"white-space:pre;overflow-x:auto;line-height:normal;font-family:Menlo,'DejaVu Sans Mono',consolas,'Courier New',monospace\"><span style=\"color: #7fbfbf; text-decoration-color: #7fbfbf\">[2024/12/7 2:18:51] </span><span style=\"color: #008000; text-decoration-color: #008000\">INFO    </span> Animation <span style=\"color: #008000; text-decoration-color: #008000\">10</span> : Partial movie file written in                  <a href=\"file://E:\\ipynb\\venv\\lib\\site-packages\\manim\\scene\\scene_file_writer.py\" target=\"_blank\"><span style=\"color: #7f7f7f; text-decoration-color: #7f7f7f\">scene_file_writer.py</span></a><span style=\"color: #7f7f7f; text-decoration-color: #7f7f7f\">:</span><a href=\"file://E:\\ipynb\\venv\\lib\\site-packages\\manim\\scene\\scene_file_writer.py#527\" target=\"_blank\"><span style=\"color: #7f7f7f; text-decoration-color: #7f7f7f\">527</span></a>\n",
       "<span style=\"color: #7fbfbf; text-decoration-color: #7fbfbf\">                    </span>         <span style=\"color: #008000; text-decoration-color: #008000\">'E:\\ipynb\\python_design\\yty_math\\media\\videos\\1080p60\\partial</span> <span style=\"color: #7f7f7f; text-decoration-color: #7f7f7f\">                        </span>\n",
       "<span style=\"color: #7fbfbf; text-decoration-color: #7fbfbf\">                    </span>         <span style=\"color: #008000; text-decoration-color: #008000\">_movie_files\\MatrixMulShow\\2852726489_2600806898_2074063850.m</span> <span style=\"color: #7f7f7f; text-decoration-color: #7f7f7f\">                        </span>\n",
       "<span style=\"color: #7fbfbf; text-decoration-color: #7fbfbf\">                    </span>         <span style=\"color: #008000; text-decoration-color: #008000\">p4'</span>                                                           <span style=\"color: #7f7f7f; text-decoration-color: #7f7f7f\">                        </span>\n",
       "</pre>\n"
      ]
     },
     "metadata": {},
     "output_type": "display_data"
    },
    {
     "name": "stderr",
     "output_type": "stream",
     "text": [
      "                                                                                                       \r"
     ]
    },
    {
     "data": {
      "text/plain": [
       "\u001B[2;36m[2024/12/7 2:18:55]\u001B[0m\u001B[2;36m \u001B[0m\u001B[32mINFO    \u001B[0m Animation \u001B[32m11\u001B[0m : Partial movie file written in                  \u001B]8;id=289704;file://E:\\ipynb\\venv\\lib\\site-packages\\manim\\scene\\scene_file_writer.py\u001B\\\u001B[2mscene_file_writer.py\u001B[0m\u001B]8;;\u001B\\\u001B[2m:\u001B[0m\u001B]8;id=839797;file://E:\\ipynb\\venv\\lib\\site-packages\\manim\\scene\\scene_file_writer.py#527\u001B\\\u001B[2m527\u001B[0m\u001B]8;;\u001B\\\n",
       "\u001B[2;36m                    \u001B[0m         \u001B[32m'E:\\ipynb\\python_design\\yty_math\\media\\videos\\1080p60\\partial\u001B[0m \u001B[2m                        \u001B[0m\n",
       "\u001B[2;36m                    \u001B[0m         \u001B[32m_movie_files\\MatrixMulShow\\2852726489_1107511904_3878531067.m\u001B[0m \u001B[2m                        \u001B[0m\n",
       "\u001B[2;36m                    \u001B[0m         \u001B[32mp4'\u001B[0m                                                           \u001B[2m                        \u001B[0m\n"
      ],
      "text/html": [
       "<pre style=\"white-space:pre;overflow-x:auto;line-height:normal;font-family:Menlo,'DejaVu Sans Mono',consolas,'Courier New',monospace\"><span style=\"color: #7fbfbf; text-decoration-color: #7fbfbf\">[2024/12/7 2:18:55] </span><span style=\"color: #008000; text-decoration-color: #008000\">INFO    </span> Animation <span style=\"color: #008000; text-decoration-color: #008000\">11</span> : Partial movie file written in                  <a href=\"file://E:\\ipynb\\venv\\lib\\site-packages\\manim\\scene\\scene_file_writer.py\" target=\"_blank\"><span style=\"color: #7f7f7f; text-decoration-color: #7f7f7f\">scene_file_writer.py</span></a><span style=\"color: #7f7f7f; text-decoration-color: #7f7f7f\">:</span><a href=\"file://E:\\ipynb\\venv\\lib\\site-packages\\manim\\scene\\scene_file_writer.py#527\" target=\"_blank\"><span style=\"color: #7f7f7f; text-decoration-color: #7f7f7f\">527</span></a>\n",
       "<span style=\"color: #7fbfbf; text-decoration-color: #7fbfbf\">                    </span>         <span style=\"color: #008000; text-decoration-color: #008000\">'E:\\ipynb\\python_design\\yty_math\\media\\videos\\1080p60\\partial</span> <span style=\"color: #7f7f7f; text-decoration-color: #7f7f7f\">                        </span>\n",
       "<span style=\"color: #7fbfbf; text-decoration-color: #7fbfbf\">                    </span>         <span style=\"color: #008000; text-decoration-color: #008000\">_movie_files\\MatrixMulShow\\2852726489_1107511904_3878531067.m</span> <span style=\"color: #7f7f7f; text-decoration-color: #7f7f7f\">                        </span>\n",
       "<span style=\"color: #7fbfbf; text-decoration-color: #7fbfbf\">                    </span>         <span style=\"color: #008000; text-decoration-color: #008000\">p4'</span>                                                           <span style=\"color: #7f7f7f; text-decoration-color: #7f7f7f\">                        </span>\n",
       "</pre>\n"
      ]
     },
     "metadata": {},
     "output_type": "display_data"
    },
    {
     "name": "stderr",
     "output_type": "stream",
     "text": [
      "                                                                                                   \r"
     ]
    },
    {
     "data": {
      "text/plain": [
       "\u001B[2;36m[2024/12/7 2:18:59]\u001B[0m\u001B[2;36m \u001B[0m\u001B[32mINFO    \u001B[0m Animation \u001B[32m12\u001B[0m : Partial movie file written in                  \u001B]8;id=611971;file://E:\\ipynb\\venv\\lib\\site-packages\\manim\\scene\\scene_file_writer.py\u001B\\\u001B[2mscene_file_writer.py\u001B[0m\u001B]8;;\u001B\\\u001B[2m:\u001B[0m\u001B]8;id=170531;file://E:\\ipynb\\venv\\lib\\site-packages\\manim\\scene\\scene_file_writer.py#527\u001B\\\u001B[2m527\u001B[0m\u001B]8;;\u001B\\\n",
       "\u001B[2;36m                    \u001B[0m         \u001B[32m'E:\\ipynb\\python_design\\yty_math\\media\\videos\\1080p60\\partial\u001B[0m \u001B[2m                        \u001B[0m\n",
       "\u001B[2;36m                    \u001B[0m         \u001B[32m_movie_files\\MatrixMulShow\\2852726489_927469503_3251103692.mp\u001B[0m \u001B[2m                        \u001B[0m\n",
       "\u001B[2;36m                    \u001B[0m         \u001B[32m4'\u001B[0m                                                            \u001B[2m                        \u001B[0m\n"
      ],
      "text/html": [
       "<pre style=\"white-space:pre;overflow-x:auto;line-height:normal;font-family:Menlo,'DejaVu Sans Mono',consolas,'Courier New',monospace\"><span style=\"color: #7fbfbf; text-decoration-color: #7fbfbf\">[2024/12/7 2:18:59] </span><span style=\"color: #008000; text-decoration-color: #008000\">INFO    </span> Animation <span style=\"color: #008000; text-decoration-color: #008000\">12</span> : Partial movie file written in                  <a href=\"file://E:\\ipynb\\venv\\lib\\site-packages\\manim\\scene\\scene_file_writer.py\" target=\"_blank\"><span style=\"color: #7f7f7f; text-decoration-color: #7f7f7f\">scene_file_writer.py</span></a><span style=\"color: #7f7f7f; text-decoration-color: #7f7f7f\">:</span><a href=\"file://E:\\ipynb\\venv\\lib\\site-packages\\manim\\scene\\scene_file_writer.py#527\" target=\"_blank\"><span style=\"color: #7f7f7f; text-decoration-color: #7f7f7f\">527</span></a>\n",
       "<span style=\"color: #7fbfbf; text-decoration-color: #7fbfbf\">                    </span>         <span style=\"color: #008000; text-decoration-color: #008000\">'E:\\ipynb\\python_design\\yty_math\\media\\videos\\1080p60\\partial</span> <span style=\"color: #7f7f7f; text-decoration-color: #7f7f7f\">                        </span>\n",
       "<span style=\"color: #7fbfbf; text-decoration-color: #7fbfbf\">                    </span>         <span style=\"color: #008000; text-decoration-color: #008000\">_movie_files\\MatrixMulShow\\2852726489_927469503_3251103692.mp</span> <span style=\"color: #7f7f7f; text-decoration-color: #7f7f7f\">                        </span>\n",
       "<span style=\"color: #7fbfbf; text-decoration-color: #7fbfbf\">                    </span>         <span style=\"color: #008000; text-decoration-color: #008000\">4'</span>                                                            <span style=\"color: #7f7f7f; text-decoration-color: #7f7f7f\">                        </span>\n",
       "</pre>\n"
      ]
     },
     "metadata": {},
     "output_type": "display_data"
    },
    {
     "name": "stderr",
     "output_type": "stream",
     "text": [
      "                                                                                                       \r"
     ]
    },
    {
     "data": {
      "text/plain": [
       "\u001B[2;36m[2024/12/7 2:19:04]\u001B[0m\u001B[2;36m \u001B[0m\u001B[32mINFO    \u001B[0m Animation \u001B[32m13\u001B[0m : Partial movie file written in                  \u001B]8;id=652280;file://E:\\ipynb\\venv\\lib\\site-packages\\manim\\scene\\scene_file_writer.py\u001B\\\u001B[2mscene_file_writer.py\u001B[0m\u001B]8;;\u001B\\\u001B[2m:\u001B[0m\u001B]8;id=646040;file://E:\\ipynb\\venv\\lib\\site-packages\\manim\\scene\\scene_file_writer.py#527\u001B\\\u001B[2m527\u001B[0m\u001B]8;;\u001B\\\n",
       "\u001B[2;36m                    \u001B[0m         \u001B[32m'E:\\ipynb\\python_design\\yty_math\\media\\videos\\1080p60\\partial\u001B[0m \u001B[2m                        \u001B[0m\n",
       "\u001B[2;36m                    \u001B[0m         \u001B[32m_movie_files\\MatrixMulShow\\2852726489_1109547649_3517870804.m\u001B[0m \u001B[2m                        \u001B[0m\n",
       "\u001B[2;36m                    \u001B[0m         \u001B[32mp4'\u001B[0m                                                           \u001B[2m                        \u001B[0m\n"
      ],
      "text/html": [
       "<pre style=\"white-space:pre;overflow-x:auto;line-height:normal;font-family:Menlo,'DejaVu Sans Mono',consolas,'Courier New',monospace\"><span style=\"color: #7fbfbf; text-decoration-color: #7fbfbf\">[2024/12/7 2:19:04] </span><span style=\"color: #008000; text-decoration-color: #008000\">INFO    </span> Animation <span style=\"color: #008000; text-decoration-color: #008000\">13</span> : Partial movie file written in                  <a href=\"file://E:\\ipynb\\venv\\lib\\site-packages\\manim\\scene\\scene_file_writer.py\" target=\"_blank\"><span style=\"color: #7f7f7f; text-decoration-color: #7f7f7f\">scene_file_writer.py</span></a><span style=\"color: #7f7f7f; text-decoration-color: #7f7f7f\">:</span><a href=\"file://E:\\ipynb\\venv\\lib\\site-packages\\manim\\scene\\scene_file_writer.py#527\" target=\"_blank\"><span style=\"color: #7f7f7f; text-decoration-color: #7f7f7f\">527</span></a>\n",
       "<span style=\"color: #7fbfbf; text-decoration-color: #7fbfbf\">                    </span>         <span style=\"color: #008000; text-decoration-color: #008000\">'E:\\ipynb\\python_design\\yty_math\\media\\videos\\1080p60\\partial</span> <span style=\"color: #7f7f7f; text-decoration-color: #7f7f7f\">                        </span>\n",
       "<span style=\"color: #7fbfbf; text-decoration-color: #7fbfbf\">                    </span>         <span style=\"color: #008000; text-decoration-color: #008000\">_movie_files\\MatrixMulShow\\2852726489_1109547649_3517870804.m</span> <span style=\"color: #7f7f7f; text-decoration-color: #7f7f7f\">                        </span>\n",
       "<span style=\"color: #7fbfbf; text-decoration-color: #7fbfbf\">                    </span>         <span style=\"color: #008000; text-decoration-color: #008000\">p4'</span>                                                           <span style=\"color: #7f7f7f; text-decoration-color: #7f7f7f\">                        </span>\n",
       "</pre>\n"
      ]
     },
     "metadata": {},
     "output_type": "display_data"
    },
    {
     "name": "stderr",
     "output_type": "stream",
     "text": [
      "                                                                                                 \r"
     ]
    },
    {
     "data": {
      "text/plain": [
       "\u001B[2;36m[2024/12/7 2:19:07]\u001B[0m\u001B[2;36m \u001B[0m\u001B[32mINFO    \u001B[0m Animation \u001B[32m14\u001B[0m : Partial movie file written in                  \u001B]8;id=416808;file://E:\\ipynb\\venv\\lib\\site-packages\\manim\\scene\\scene_file_writer.py\u001B\\\u001B[2mscene_file_writer.py\u001B[0m\u001B]8;;\u001B\\\u001B[2m:\u001B[0m\u001B]8;id=611571;file://E:\\ipynb\\venv\\lib\\site-packages\\manim\\scene\\scene_file_writer.py#527\u001B\\\u001B[2m527\u001B[0m\u001B]8;;\u001B\\\n",
       "\u001B[2;36m                    \u001B[0m         \u001B[32m'E:\\ipynb\\python_design\\yty_math\\media\\videos\\1080p60\\partial\u001B[0m \u001B[2m                        \u001B[0m\n",
       "\u001B[2;36m                    \u001B[0m         \u001B[32m_movie_files\\MatrixMulShow\\2852726489_2764808252_1432500273.m\u001B[0m \u001B[2m                        \u001B[0m\n",
       "\u001B[2;36m                    \u001B[0m         \u001B[32mp4'\u001B[0m                                                           \u001B[2m                        \u001B[0m\n"
      ],
      "text/html": [
       "<pre style=\"white-space:pre;overflow-x:auto;line-height:normal;font-family:Menlo,'DejaVu Sans Mono',consolas,'Courier New',monospace\"><span style=\"color: #7fbfbf; text-decoration-color: #7fbfbf\">[2024/12/7 2:19:07] </span><span style=\"color: #008000; text-decoration-color: #008000\">INFO    </span> Animation <span style=\"color: #008000; text-decoration-color: #008000\">14</span> : Partial movie file written in                  <a href=\"file://E:\\ipynb\\venv\\lib\\site-packages\\manim\\scene\\scene_file_writer.py\" target=\"_blank\"><span style=\"color: #7f7f7f; text-decoration-color: #7f7f7f\">scene_file_writer.py</span></a><span style=\"color: #7f7f7f; text-decoration-color: #7f7f7f\">:</span><a href=\"file://E:\\ipynb\\venv\\lib\\site-packages\\manim\\scene\\scene_file_writer.py#527\" target=\"_blank\"><span style=\"color: #7f7f7f; text-decoration-color: #7f7f7f\">527</span></a>\n",
       "<span style=\"color: #7fbfbf; text-decoration-color: #7fbfbf\">                    </span>         <span style=\"color: #008000; text-decoration-color: #008000\">'E:\\ipynb\\python_design\\yty_math\\media\\videos\\1080p60\\partial</span> <span style=\"color: #7f7f7f; text-decoration-color: #7f7f7f\">                        </span>\n",
       "<span style=\"color: #7fbfbf; text-decoration-color: #7fbfbf\">                    </span>         <span style=\"color: #008000; text-decoration-color: #008000\">_movie_files\\MatrixMulShow\\2852726489_2764808252_1432500273.m</span> <span style=\"color: #7f7f7f; text-decoration-color: #7f7f7f\">                        </span>\n",
       "<span style=\"color: #7fbfbf; text-decoration-color: #7fbfbf\">                    </span>         <span style=\"color: #008000; text-decoration-color: #008000\">p4'</span>                                                           <span style=\"color: #7f7f7f; text-decoration-color: #7f7f7f\">                        </span>\n",
       "</pre>\n"
      ]
     },
     "metadata": {},
     "output_type": "display_data"
    },
    {
     "name": "stderr",
     "output_type": "stream",
     "text": [
      "                                                                                 \r"
     ]
    },
    {
     "data": {
      "text/plain": [
       "\u001B[2;36m[2024/12/7 2:19:11]\u001B[0m\u001B[2;36m \u001B[0m\u001B[32mINFO    \u001B[0m Animation \u001B[32m15\u001B[0m : Partial movie file written in                  \u001B]8;id=385516;file://E:\\ipynb\\venv\\lib\\site-packages\\manim\\scene\\scene_file_writer.py\u001B\\\u001B[2mscene_file_writer.py\u001B[0m\u001B]8;;\u001B\\\u001B[2m:\u001B[0m\u001B]8;id=910840;file://E:\\ipynb\\venv\\lib\\site-packages\\manim\\scene\\scene_file_writer.py#527\u001B\\\u001B[2m527\u001B[0m\u001B]8;;\u001B\\\n",
       "\u001B[2;36m                    \u001B[0m         \u001B[32m'E:\\ipynb\\python_design\\yty_math\\media\\videos\\1080p60\\partial\u001B[0m \u001B[2m                        \u001B[0m\n",
       "\u001B[2;36m                    \u001B[0m         \u001B[32m_movie_files\\MatrixMulShow\\2852726489_1288924979_619683122.mp\u001B[0m \u001B[2m                        \u001B[0m\n",
       "\u001B[2;36m                    \u001B[0m         \u001B[32m4'\u001B[0m                                                            \u001B[2m                        \u001B[0m\n"
      ],
      "text/html": [
       "<pre style=\"white-space:pre;overflow-x:auto;line-height:normal;font-family:Menlo,'DejaVu Sans Mono',consolas,'Courier New',monospace\"><span style=\"color: #7fbfbf; text-decoration-color: #7fbfbf\">[2024/12/7 2:19:11] </span><span style=\"color: #008000; text-decoration-color: #008000\">INFO    </span> Animation <span style=\"color: #008000; text-decoration-color: #008000\">15</span> : Partial movie file written in                  <a href=\"file://E:\\ipynb\\venv\\lib\\site-packages\\manim\\scene\\scene_file_writer.py\" target=\"_blank\"><span style=\"color: #7f7f7f; text-decoration-color: #7f7f7f\">scene_file_writer.py</span></a><span style=\"color: #7f7f7f; text-decoration-color: #7f7f7f\">:</span><a href=\"file://E:\\ipynb\\venv\\lib\\site-packages\\manim\\scene\\scene_file_writer.py#527\" target=\"_blank\"><span style=\"color: #7f7f7f; text-decoration-color: #7f7f7f\">527</span></a>\n",
       "<span style=\"color: #7fbfbf; text-decoration-color: #7fbfbf\">                    </span>         <span style=\"color: #008000; text-decoration-color: #008000\">'E:\\ipynb\\python_design\\yty_math\\media\\videos\\1080p60\\partial</span> <span style=\"color: #7f7f7f; text-decoration-color: #7f7f7f\">                        </span>\n",
       "<span style=\"color: #7fbfbf; text-decoration-color: #7fbfbf\">                    </span>         <span style=\"color: #008000; text-decoration-color: #008000\">_movie_files\\MatrixMulShow\\2852726489_1288924979_619683122.mp</span> <span style=\"color: #7f7f7f; text-decoration-color: #7f7f7f\">                        </span>\n",
       "<span style=\"color: #7fbfbf; text-decoration-color: #7fbfbf\">                    </span>         <span style=\"color: #008000; text-decoration-color: #008000\">4'</span>                                                            <span style=\"color: #7f7f7f; text-decoration-color: #7f7f7f\">                        </span>\n",
       "</pre>\n"
      ]
     },
     "metadata": {},
     "output_type": "display_data"
    },
    {
     "name": "stderr",
     "output_type": "stream",
     "text": [
      "                                                                                           \r"
     ]
    },
    {
     "data": {
      "text/plain": [
       "\u001B[2;36m[2024/12/7 2:19:15]\u001B[0m\u001B[2;36m \u001B[0m\u001B[32mINFO    \u001B[0m Animation \u001B[32m16\u001B[0m : Partial movie file written in                  \u001B]8;id=824853;file://E:\\ipynb\\venv\\lib\\site-packages\\manim\\scene\\scene_file_writer.py\u001B\\\u001B[2mscene_file_writer.py\u001B[0m\u001B]8;;\u001B\\\u001B[2m:\u001B[0m\u001B]8;id=585880;file://E:\\ipynb\\venv\\lib\\site-packages\\manim\\scene\\scene_file_writer.py#527\u001B\\\u001B[2m527\u001B[0m\u001B]8;;\u001B\\\n",
       "\u001B[2;36m                    \u001B[0m         \u001B[32m'E:\\ipynb\\python_design\\yty_math\\media\\videos\\1080p60\\partial\u001B[0m \u001B[2m                        \u001B[0m\n",
       "\u001B[2;36m                    \u001B[0m         \u001B[32m_movie_files\\MatrixMulShow\\2852726489_853754150_1186091007.mp\u001B[0m \u001B[2m                        \u001B[0m\n",
       "\u001B[2;36m                    \u001B[0m         \u001B[32m4'\u001B[0m                                                            \u001B[2m                        \u001B[0m\n"
      ],
      "text/html": [
       "<pre style=\"white-space:pre;overflow-x:auto;line-height:normal;font-family:Menlo,'DejaVu Sans Mono',consolas,'Courier New',monospace\"><span style=\"color: #7fbfbf; text-decoration-color: #7fbfbf\">[2024/12/7 2:19:15] </span><span style=\"color: #008000; text-decoration-color: #008000\">INFO    </span> Animation <span style=\"color: #008000; text-decoration-color: #008000\">16</span> : Partial movie file written in                  <a href=\"file://E:\\ipynb\\venv\\lib\\site-packages\\manim\\scene\\scene_file_writer.py\" target=\"_blank\"><span style=\"color: #7f7f7f; text-decoration-color: #7f7f7f\">scene_file_writer.py</span></a><span style=\"color: #7f7f7f; text-decoration-color: #7f7f7f\">:</span><a href=\"file://E:\\ipynb\\venv\\lib\\site-packages\\manim\\scene\\scene_file_writer.py#527\" target=\"_blank\"><span style=\"color: #7f7f7f; text-decoration-color: #7f7f7f\">527</span></a>\n",
       "<span style=\"color: #7fbfbf; text-decoration-color: #7fbfbf\">                    </span>         <span style=\"color: #008000; text-decoration-color: #008000\">'E:\\ipynb\\python_design\\yty_math\\media\\videos\\1080p60\\partial</span> <span style=\"color: #7f7f7f; text-decoration-color: #7f7f7f\">                        </span>\n",
       "<span style=\"color: #7fbfbf; text-decoration-color: #7fbfbf\">                    </span>         <span style=\"color: #008000; text-decoration-color: #008000\">_movie_files\\MatrixMulShow\\2852726489_853754150_1186091007.mp</span> <span style=\"color: #7f7f7f; text-decoration-color: #7f7f7f\">                        </span>\n",
       "<span style=\"color: #7fbfbf; text-decoration-color: #7fbfbf\">                    </span>         <span style=\"color: #008000; text-decoration-color: #008000\">4'</span>                                                            <span style=\"color: #7f7f7f; text-decoration-color: #7f7f7f\">                        </span>\n",
       "</pre>\n"
      ]
     },
     "metadata": {},
     "output_type": "display_data"
    },
    {
     "name": "stderr",
     "output_type": "stream",
     "text": [
      "                                                                                               \r"
     ]
    },
    {
     "data": {
      "text/plain": [
       "\u001B[2;36m[2024/12/7 2:19:20]\u001B[0m\u001B[2;36m \u001B[0m\u001B[32mINFO    \u001B[0m Animation \u001B[32m17\u001B[0m : Partial movie file written in                  \u001B]8;id=729532;file://E:\\ipynb\\venv\\lib\\site-packages\\manim\\scene\\scene_file_writer.py\u001B\\\u001B[2mscene_file_writer.py\u001B[0m\u001B]8;;\u001B\\\u001B[2m:\u001B[0m\u001B]8;id=123394;file://E:\\ipynb\\venv\\lib\\site-packages\\manim\\scene\\scene_file_writer.py#527\u001B\\\u001B[2m527\u001B[0m\u001B]8;;\u001B\\\n",
       "\u001B[2;36m                    \u001B[0m         \u001B[32m'E:\\ipynb\\python_design\\yty_math\\media\\videos\\1080p60\\partial\u001B[0m \u001B[2m                        \u001B[0m\n",
       "\u001B[2;36m                    \u001B[0m         \u001B[32m_movie_files\\MatrixMulShow\\2852726489_106681968_1675105863.mp\u001B[0m \u001B[2m                        \u001B[0m\n",
       "\u001B[2;36m                    \u001B[0m         \u001B[32m4'\u001B[0m                                                            \u001B[2m                        \u001B[0m\n"
      ],
      "text/html": [
       "<pre style=\"white-space:pre;overflow-x:auto;line-height:normal;font-family:Menlo,'DejaVu Sans Mono',consolas,'Courier New',monospace\"><span style=\"color: #7fbfbf; text-decoration-color: #7fbfbf\">[2024/12/7 2:19:20] </span><span style=\"color: #008000; text-decoration-color: #008000\">INFO    </span> Animation <span style=\"color: #008000; text-decoration-color: #008000\">17</span> : Partial movie file written in                  <a href=\"file://E:\\ipynb\\venv\\lib\\site-packages\\manim\\scene\\scene_file_writer.py\" target=\"_blank\"><span style=\"color: #7f7f7f; text-decoration-color: #7f7f7f\">scene_file_writer.py</span></a><span style=\"color: #7f7f7f; text-decoration-color: #7f7f7f\">:</span><a href=\"file://E:\\ipynb\\venv\\lib\\site-packages\\manim\\scene\\scene_file_writer.py#527\" target=\"_blank\"><span style=\"color: #7f7f7f; text-decoration-color: #7f7f7f\">527</span></a>\n",
       "<span style=\"color: #7fbfbf; text-decoration-color: #7fbfbf\">                    </span>         <span style=\"color: #008000; text-decoration-color: #008000\">'E:\\ipynb\\python_design\\yty_math\\media\\videos\\1080p60\\partial</span> <span style=\"color: #7f7f7f; text-decoration-color: #7f7f7f\">                        </span>\n",
       "<span style=\"color: #7fbfbf; text-decoration-color: #7fbfbf\">                    </span>         <span style=\"color: #008000; text-decoration-color: #008000\">_movie_files\\MatrixMulShow\\2852726489_106681968_1675105863.mp</span> <span style=\"color: #7f7f7f; text-decoration-color: #7f7f7f\">                        </span>\n",
       "<span style=\"color: #7fbfbf; text-decoration-color: #7fbfbf\">                    </span>         <span style=\"color: #008000; text-decoration-color: #008000\">4'</span>                                                            <span style=\"color: #7f7f7f; text-decoration-color: #7f7f7f\">                        </span>\n",
       "</pre>\n"
      ]
     },
     "metadata": {},
     "output_type": "display_data"
    },
    {
     "name": "stderr",
     "output_type": "stream",
     "text": [
      "                                                                                                    \r"
     ]
    },
    {
     "data": {
      "text/plain": [
       "\u001B[2;36m[2024/12/7 2:19:24]\u001B[0m\u001B[2;36m \u001B[0m\u001B[32mINFO    \u001B[0m Animation \u001B[32m18\u001B[0m : Partial movie file written in                  \u001B]8;id=136025;file://E:\\ipynb\\venv\\lib\\site-packages\\manim\\scene\\scene_file_writer.py\u001B\\\u001B[2mscene_file_writer.py\u001B[0m\u001B]8;;\u001B\\\u001B[2m:\u001B[0m\u001B]8;id=615574;file://E:\\ipynb\\venv\\lib\\site-packages\\manim\\scene\\scene_file_writer.py#527\u001B\\\u001B[2m527\u001B[0m\u001B]8;;\u001B\\\n",
       "\u001B[2;36m                    \u001B[0m         \u001B[32m'E:\\ipynb\\python_design\\yty_math\\media\\videos\\1080p60\\partial\u001B[0m \u001B[2m                        \u001B[0m\n",
       "\u001B[2;36m                    \u001B[0m         \u001B[32m_movie_files\\MatrixMulShow\\2852726489_2178284132_2680008974.m\u001B[0m \u001B[2m                        \u001B[0m\n",
       "\u001B[2;36m                    \u001B[0m         \u001B[32mp4'\u001B[0m                                                           \u001B[2m                        \u001B[0m\n"
      ],
      "text/html": [
       "<pre style=\"white-space:pre;overflow-x:auto;line-height:normal;font-family:Menlo,'DejaVu Sans Mono',consolas,'Courier New',monospace\"><span style=\"color: #7fbfbf; text-decoration-color: #7fbfbf\">[2024/12/7 2:19:24] </span><span style=\"color: #008000; text-decoration-color: #008000\">INFO    </span> Animation <span style=\"color: #008000; text-decoration-color: #008000\">18</span> : Partial movie file written in                  <a href=\"file://E:\\ipynb\\venv\\lib\\site-packages\\manim\\scene\\scene_file_writer.py\" target=\"_blank\"><span style=\"color: #7f7f7f; text-decoration-color: #7f7f7f\">scene_file_writer.py</span></a><span style=\"color: #7f7f7f; text-decoration-color: #7f7f7f\">:</span><a href=\"file://E:\\ipynb\\venv\\lib\\site-packages\\manim\\scene\\scene_file_writer.py#527\" target=\"_blank\"><span style=\"color: #7f7f7f; text-decoration-color: #7f7f7f\">527</span></a>\n",
       "<span style=\"color: #7fbfbf; text-decoration-color: #7fbfbf\">                    </span>         <span style=\"color: #008000; text-decoration-color: #008000\">'E:\\ipynb\\python_design\\yty_math\\media\\videos\\1080p60\\partial</span> <span style=\"color: #7f7f7f; text-decoration-color: #7f7f7f\">                        </span>\n",
       "<span style=\"color: #7fbfbf; text-decoration-color: #7fbfbf\">                    </span>         <span style=\"color: #008000; text-decoration-color: #008000\">_movie_files\\MatrixMulShow\\2852726489_2178284132_2680008974.m</span> <span style=\"color: #7f7f7f; text-decoration-color: #7f7f7f\">                        </span>\n",
       "<span style=\"color: #7fbfbf; text-decoration-color: #7fbfbf\">                    </span>         <span style=\"color: #008000; text-decoration-color: #008000\">p4'</span>                                                           <span style=\"color: #7f7f7f; text-decoration-color: #7f7f7f\">                        </span>\n",
       "</pre>\n"
      ]
     },
     "metadata": {},
     "output_type": "display_data"
    },
    {
     "name": "stderr",
     "output_type": "stream",
     "text": [
      "                                                                                                       \r"
     ]
    },
    {
     "data": {
      "text/plain": [
       "\u001B[2;36m[2024/12/7 2:19:28]\u001B[0m\u001B[2;36m \u001B[0m\u001B[32mINFO    \u001B[0m Animation \u001B[32m19\u001B[0m : Partial movie file written in                  \u001B]8;id=656530;file://E:\\ipynb\\venv\\lib\\site-packages\\manim\\scene\\scene_file_writer.py\u001B\\\u001B[2mscene_file_writer.py\u001B[0m\u001B]8;;\u001B\\\u001B[2m:\u001B[0m\u001B]8;id=484118;file://E:\\ipynb\\venv\\lib\\site-packages\\manim\\scene\\scene_file_writer.py#527\u001B\\\u001B[2m527\u001B[0m\u001B]8;;\u001B\\\n",
       "\u001B[2;36m                    \u001B[0m         \u001B[32m'E:\\ipynb\\python_design\\yty_math\\media\\videos\\1080p60\\partial\u001B[0m \u001B[2m                        \u001B[0m\n",
       "\u001B[2;36m                    \u001B[0m         \u001B[32m_movie_files\\MatrixMulShow\\2852726489_1279969164_2467283579.m\u001B[0m \u001B[2m                        \u001B[0m\n",
       "\u001B[2;36m                    \u001B[0m         \u001B[32mp4'\u001B[0m                                                           \u001B[2m                        \u001B[0m\n"
      ],
      "text/html": [
       "<pre style=\"white-space:pre;overflow-x:auto;line-height:normal;font-family:Menlo,'DejaVu Sans Mono',consolas,'Courier New',monospace\"><span style=\"color: #7fbfbf; text-decoration-color: #7fbfbf\">[2024/12/7 2:19:28] </span><span style=\"color: #008000; text-decoration-color: #008000\">INFO    </span> Animation <span style=\"color: #008000; text-decoration-color: #008000\">19</span> : Partial movie file written in                  <a href=\"file://E:\\ipynb\\venv\\lib\\site-packages\\manim\\scene\\scene_file_writer.py\" target=\"_blank\"><span style=\"color: #7f7f7f; text-decoration-color: #7f7f7f\">scene_file_writer.py</span></a><span style=\"color: #7f7f7f; text-decoration-color: #7f7f7f\">:</span><a href=\"file://E:\\ipynb\\venv\\lib\\site-packages\\manim\\scene\\scene_file_writer.py#527\" target=\"_blank\"><span style=\"color: #7f7f7f; text-decoration-color: #7f7f7f\">527</span></a>\n",
       "<span style=\"color: #7fbfbf; text-decoration-color: #7fbfbf\">                    </span>         <span style=\"color: #008000; text-decoration-color: #008000\">'E:\\ipynb\\python_design\\yty_math\\media\\videos\\1080p60\\partial</span> <span style=\"color: #7f7f7f; text-decoration-color: #7f7f7f\">                        </span>\n",
       "<span style=\"color: #7fbfbf; text-decoration-color: #7fbfbf\">                    </span>         <span style=\"color: #008000; text-decoration-color: #008000\">_movie_files\\MatrixMulShow\\2852726489_1279969164_2467283579.m</span> <span style=\"color: #7f7f7f; text-decoration-color: #7f7f7f\">                        </span>\n",
       "<span style=\"color: #7fbfbf; text-decoration-color: #7fbfbf\">                    </span>         <span style=\"color: #008000; text-decoration-color: #008000\">p4'</span>                                                           <span style=\"color: #7f7f7f; text-decoration-color: #7f7f7f\">                        </span>\n",
       "</pre>\n"
      ]
     },
     "metadata": {},
     "output_type": "display_data"
    },
    {
     "name": "stderr",
     "output_type": "stream",
     "text": [
      "                                                                                                   \r"
     ]
    },
    {
     "data": {
      "text/plain": [
       "\u001B[2;36m[2024/12/7 2:19:32]\u001B[0m\u001B[2;36m \u001B[0m\u001B[32mINFO    \u001B[0m Animation \u001B[32m20\u001B[0m : Partial movie file written in                  \u001B]8;id=508708;file://E:\\ipynb\\venv\\lib\\site-packages\\manim\\scene\\scene_file_writer.py\u001B\\\u001B[2mscene_file_writer.py\u001B[0m\u001B]8;;\u001B\\\u001B[2m:\u001B[0m\u001B]8;id=436740;file://E:\\ipynb\\venv\\lib\\site-packages\\manim\\scene\\scene_file_writer.py#527\u001B\\\u001B[2m527\u001B[0m\u001B]8;;\u001B\\\n",
       "\u001B[2;36m                    \u001B[0m         \u001B[32m'E:\\ipynb\\python_design\\yty_math\\media\\videos\\1080p60\\partial\u001B[0m \u001B[2m                        \u001B[0m\n",
       "\u001B[2;36m                    \u001B[0m         \u001B[32m_movie_files\\MatrixMulShow\\2852726489_4227476663_2044752679.m\u001B[0m \u001B[2m                        \u001B[0m\n",
       "\u001B[2;36m                    \u001B[0m         \u001B[32mp4'\u001B[0m                                                           \u001B[2m                        \u001B[0m\n"
      ],
      "text/html": [
       "<pre style=\"white-space:pre;overflow-x:auto;line-height:normal;font-family:Menlo,'DejaVu Sans Mono',consolas,'Courier New',monospace\"><span style=\"color: #7fbfbf; text-decoration-color: #7fbfbf\">[2024/12/7 2:19:32] </span><span style=\"color: #008000; text-decoration-color: #008000\">INFO    </span> Animation <span style=\"color: #008000; text-decoration-color: #008000\">20</span> : Partial movie file written in                  <a href=\"file://E:\\ipynb\\venv\\lib\\site-packages\\manim\\scene\\scene_file_writer.py\" target=\"_blank\"><span style=\"color: #7f7f7f; text-decoration-color: #7f7f7f\">scene_file_writer.py</span></a><span style=\"color: #7f7f7f; text-decoration-color: #7f7f7f\">:</span><a href=\"file://E:\\ipynb\\venv\\lib\\site-packages\\manim\\scene\\scene_file_writer.py#527\" target=\"_blank\"><span style=\"color: #7f7f7f; text-decoration-color: #7f7f7f\">527</span></a>\n",
       "<span style=\"color: #7fbfbf; text-decoration-color: #7fbfbf\">                    </span>         <span style=\"color: #008000; text-decoration-color: #008000\">'E:\\ipynb\\python_design\\yty_math\\media\\videos\\1080p60\\partial</span> <span style=\"color: #7f7f7f; text-decoration-color: #7f7f7f\">                        </span>\n",
       "<span style=\"color: #7fbfbf; text-decoration-color: #7fbfbf\">                    </span>         <span style=\"color: #008000; text-decoration-color: #008000\">_movie_files\\MatrixMulShow\\2852726489_4227476663_2044752679.m</span> <span style=\"color: #7f7f7f; text-decoration-color: #7f7f7f\">                        </span>\n",
       "<span style=\"color: #7fbfbf; text-decoration-color: #7fbfbf\">                    </span>         <span style=\"color: #008000; text-decoration-color: #008000\">p4'</span>                                                           <span style=\"color: #7f7f7f; text-decoration-color: #7f7f7f\">                        </span>\n",
       "</pre>\n"
      ]
     },
     "metadata": {},
     "output_type": "display_data"
    },
    {
     "name": "stderr",
     "output_type": "stream",
     "text": [
      "                                                                                                       \r"
     ]
    },
    {
     "data": {
      "text/plain": [
       "\u001B[2;36m[2024/12/7 2:19:37]\u001B[0m\u001B[2;36m \u001B[0m\u001B[32mINFO    \u001B[0m Animation \u001B[32m21\u001B[0m : Partial movie file written in                  \u001B]8;id=683998;file://E:\\ipynb\\venv\\lib\\site-packages\\manim\\scene\\scene_file_writer.py\u001B\\\u001B[2mscene_file_writer.py\u001B[0m\u001B]8;;\u001B\\\u001B[2m:\u001B[0m\u001B]8;id=123743;file://E:\\ipynb\\venv\\lib\\site-packages\\manim\\scene\\scene_file_writer.py#527\u001B\\\u001B[2m527\u001B[0m\u001B]8;;\u001B\\\n",
       "\u001B[2;36m                    \u001B[0m         \u001B[32m'E:\\ipynb\\python_design\\yty_math\\media\\videos\\1080p60\\partial\u001B[0m \u001B[2m                        \u001B[0m\n",
       "\u001B[2;36m                    \u001B[0m         \u001B[32m_movie_files\\MatrixMulShow\\2852726489_1131899392_1368818778.m\u001B[0m \u001B[2m                        \u001B[0m\n",
       "\u001B[2;36m                    \u001B[0m         \u001B[32mp4'\u001B[0m                                                           \u001B[2m                        \u001B[0m\n"
      ],
      "text/html": [
       "<pre style=\"white-space:pre;overflow-x:auto;line-height:normal;font-family:Menlo,'DejaVu Sans Mono',consolas,'Courier New',monospace\"><span style=\"color: #7fbfbf; text-decoration-color: #7fbfbf\">[2024/12/7 2:19:37] </span><span style=\"color: #008000; text-decoration-color: #008000\">INFO    </span> Animation <span style=\"color: #008000; text-decoration-color: #008000\">21</span> : Partial movie file written in                  <a href=\"file://E:\\ipynb\\venv\\lib\\site-packages\\manim\\scene\\scene_file_writer.py\" target=\"_blank\"><span style=\"color: #7f7f7f; text-decoration-color: #7f7f7f\">scene_file_writer.py</span></a><span style=\"color: #7f7f7f; text-decoration-color: #7f7f7f\">:</span><a href=\"file://E:\\ipynb\\venv\\lib\\site-packages\\manim\\scene\\scene_file_writer.py#527\" target=\"_blank\"><span style=\"color: #7f7f7f; text-decoration-color: #7f7f7f\">527</span></a>\n",
       "<span style=\"color: #7fbfbf; text-decoration-color: #7fbfbf\">                    </span>         <span style=\"color: #008000; text-decoration-color: #008000\">'E:\\ipynb\\python_design\\yty_math\\media\\videos\\1080p60\\partial</span> <span style=\"color: #7f7f7f; text-decoration-color: #7f7f7f\">                        </span>\n",
       "<span style=\"color: #7fbfbf; text-decoration-color: #7fbfbf\">                    </span>         <span style=\"color: #008000; text-decoration-color: #008000\">_movie_files\\MatrixMulShow\\2852726489_1131899392_1368818778.m</span> <span style=\"color: #7f7f7f; text-decoration-color: #7f7f7f\">                        </span>\n",
       "<span style=\"color: #7fbfbf; text-decoration-color: #7fbfbf\">                    </span>         <span style=\"color: #008000; text-decoration-color: #008000\">p4'</span>                                                           <span style=\"color: #7f7f7f; text-decoration-color: #7f7f7f\">                        </span>\n",
       "</pre>\n"
      ]
     },
     "metadata": {},
     "output_type": "display_data"
    },
    {
     "name": "stderr",
     "output_type": "stream",
     "text": [
      "                                                                                                    \r"
     ]
    },
    {
     "data": {
      "text/plain": [
       "\u001B[2;36m[2024/12/7 2:19:41]\u001B[0m\u001B[2;36m \u001B[0m\u001B[32mINFO    \u001B[0m Animation \u001B[32m22\u001B[0m : Partial movie file written in                  \u001B]8;id=459701;file://E:\\ipynb\\venv\\lib\\site-packages\\manim\\scene\\scene_file_writer.py\u001B\\\u001B[2mscene_file_writer.py\u001B[0m\u001B]8;;\u001B\\\u001B[2m:\u001B[0m\u001B]8;id=183497;file://E:\\ipynb\\venv\\lib\\site-packages\\manim\\scene\\scene_file_writer.py#527\u001B\\\u001B[2m527\u001B[0m\u001B]8;;\u001B\\\n",
       "\u001B[2;36m                    \u001B[0m         \u001B[32m'E:\\ipynb\\python_design\\yty_math\\media\\videos\\1080p60\\partial\u001B[0m \u001B[2m                        \u001B[0m\n",
       "\u001B[2;36m                    \u001B[0m         \u001B[32m_movie_files\\MatrixMulShow\\2852726489_2510980760_2302123640.m\u001B[0m \u001B[2m                        \u001B[0m\n",
       "\u001B[2;36m                    \u001B[0m         \u001B[32mp4'\u001B[0m                                                           \u001B[2m                        \u001B[0m\n"
      ],
      "text/html": [
       "<pre style=\"white-space:pre;overflow-x:auto;line-height:normal;font-family:Menlo,'DejaVu Sans Mono',consolas,'Courier New',monospace\"><span style=\"color: #7fbfbf; text-decoration-color: #7fbfbf\">[2024/12/7 2:19:41] </span><span style=\"color: #008000; text-decoration-color: #008000\">INFO    </span> Animation <span style=\"color: #008000; text-decoration-color: #008000\">22</span> : Partial movie file written in                  <a href=\"file://E:\\ipynb\\venv\\lib\\site-packages\\manim\\scene\\scene_file_writer.py\" target=\"_blank\"><span style=\"color: #7f7f7f; text-decoration-color: #7f7f7f\">scene_file_writer.py</span></a><span style=\"color: #7f7f7f; text-decoration-color: #7f7f7f\">:</span><a href=\"file://E:\\ipynb\\venv\\lib\\site-packages\\manim\\scene\\scene_file_writer.py#527\" target=\"_blank\"><span style=\"color: #7f7f7f; text-decoration-color: #7f7f7f\">527</span></a>\n",
       "<span style=\"color: #7fbfbf; text-decoration-color: #7fbfbf\">                    </span>         <span style=\"color: #008000; text-decoration-color: #008000\">'E:\\ipynb\\python_design\\yty_math\\media\\videos\\1080p60\\partial</span> <span style=\"color: #7f7f7f; text-decoration-color: #7f7f7f\">                        </span>\n",
       "<span style=\"color: #7fbfbf; text-decoration-color: #7fbfbf\">                    </span>         <span style=\"color: #008000; text-decoration-color: #008000\">_movie_files\\MatrixMulShow\\2852726489_2510980760_2302123640.m</span> <span style=\"color: #7f7f7f; text-decoration-color: #7f7f7f\">                        </span>\n",
       "<span style=\"color: #7fbfbf; text-decoration-color: #7fbfbf\">                    </span>         <span style=\"color: #008000; text-decoration-color: #008000\">p4'</span>                                                           <span style=\"color: #7f7f7f; text-decoration-color: #7f7f7f\">                        </span>\n",
       "</pre>\n"
      ]
     },
     "metadata": {},
     "output_type": "display_data"
    },
    {
     "name": "stderr",
     "output_type": "stream",
     "text": [
      "                                                                                  \r"
     ]
    },
    {
     "data": {
      "text/plain": [
       "\u001B[2;36m[2024/12/7 2:19:45]\u001B[0m\u001B[2;36m \u001B[0m\u001B[32mINFO    \u001B[0m Animation \u001B[32m23\u001B[0m : Partial movie file written in                  \u001B]8;id=875800;file://E:\\ipynb\\venv\\lib\\site-packages\\manim\\scene\\scene_file_writer.py\u001B\\\u001B[2mscene_file_writer.py\u001B[0m\u001B]8;;\u001B\\\u001B[2m:\u001B[0m\u001B]8;id=573922;file://E:\\ipynb\\venv\\lib\\site-packages\\manim\\scene\\scene_file_writer.py#527\u001B\\\u001B[2m527\u001B[0m\u001B]8;;\u001B\\\n",
       "\u001B[2;36m                    \u001B[0m         \u001B[32m'E:\\ipynb\\python_design\\yty_math\\media\\videos\\1080p60\\partial\u001B[0m \u001B[2m                        \u001B[0m\n",
       "\u001B[2;36m                    \u001B[0m         \u001B[32m_movie_files\\MatrixMulShow\\2852726489_3994590928_3375464140.m\u001B[0m \u001B[2m                        \u001B[0m\n",
       "\u001B[2;36m                    \u001B[0m         \u001B[32mp4'\u001B[0m                                                           \u001B[2m                        \u001B[0m\n"
      ],
      "text/html": [
       "<pre style=\"white-space:pre;overflow-x:auto;line-height:normal;font-family:Menlo,'DejaVu Sans Mono',consolas,'Courier New',monospace\"><span style=\"color: #7fbfbf; text-decoration-color: #7fbfbf\">[2024/12/7 2:19:45] </span><span style=\"color: #008000; text-decoration-color: #008000\">INFO    </span> Animation <span style=\"color: #008000; text-decoration-color: #008000\">23</span> : Partial movie file written in                  <a href=\"file://E:\\ipynb\\venv\\lib\\site-packages\\manim\\scene\\scene_file_writer.py\" target=\"_blank\"><span style=\"color: #7f7f7f; text-decoration-color: #7f7f7f\">scene_file_writer.py</span></a><span style=\"color: #7f7f7f; text-decoration-color: #7f7f7f\">:</span><a href=\"file://E:\\ipynb\\venv\\lib\\site-packages\\manim\\scene\\scene_file_writer.py#527\" target=\"_blank\"><span style=\"color: #7f7f7f; text-decoration-color: #7f7f7f\">527</span></a>\n",
       "<span style=\"color: #7fbfbf; text-decoration-color: #7fbfbf\">                    </span>         <span style=\"color: #008000; text-decoration-color: #008000\">'E:\\ipynb\\python_design\\yty_math\\media\\videos\\1080p60\\partial</span> <span style=\"color: #7f7f7f; text-decoration-color: #7f7f7f\">                        </span>\n",
       "<span style=\"color: #7fbfbf; text-decoration-color: #7fbfbf\">                    </span>         <span style=\"color: #008000; text-decoration-color: #008000\">_movie_files\\MatrixMulShow\\2852726489_3994590928_3375464140.m</span> <span style=\"color: #7f7f7f; text-decoration-color: #7f7f7f\">                        </span>\n",
       "<span style=\"color: #7fbfbf; text-decoration-color: #7fbfbf\">                    </span>         <span style=\"color: #008000; text-decoration-color: #008000\">p4'</span>                                                           <span style=\"color: #7f7f7f; text-decoration-color: #7f7f7f\">                        </span>\n",
       "</pre>\n"
      ]
     },
     "metadata": {},
     "output_type": "display_data"
    },
    {
     "name": "stderr",
     "output_type": "stream",
     "text": [
      "                                                                                            \r"
     ]
    },
    {
     "data": {
      "text/plain": [
       "\u001B[2;36m[2024/12/7 2:19:50]\u001B[0m\u001B[2;36m \u001B[0m\u001B[32mINFO    \u001B[0m Animation \u001B[32m24\u001B[0m : Partial movie file written in                  \u001B]8;id=901155;file://E:\\ipynb\\venv\\lib\\site-packages\\manim\\scene\\scene_file_writer.py\u001B\\\u001B[2mscene_file_writer.py\u001B[0m\u001B]8;;\u001B\\\u001B[2m:\u001B[0m\u001B]8;id=724821;file://E:\\ipynb\\venv\\lib\\site-packages\\manim\\scene\\scene_file_writer.py#527\u001B\\\u001B[2m527\u001B[0m\u001B]8;;\u001B\\\n",
       "\u001B[2;36m                    \u001B[0m         \u001B[32m'E:\\ipynb\\python_design\\yty_math\\media\\videos\\1080p60\\partial\u001B[0m \u001B[2m                        \u001B[0m\n",
       "\u001B[2;36m                    \u001B[0m         \u001B[32m_movie_files\\MatrixMulShow\\2852726489_1116864975_3523991352.m\u001B[0m \u001B[2m                        \u001B[0m\n",
       "\u001B[2;36m                    \u001B[0m         \u001B[32mp4'\u001B[0m                                                           \u001B[2m                        \u001B[0m\n"
      ],
      "text/html": [
       "<pre style=\"white-space:pre;overflow-x:auto;line-height:normal;font-family:Menlo,'DejaVu Sans Mono',consolas,'Courier New',monospace\"><span style=\"color: #7fbfbf; text-decoration-color: #7fbfbf\">[2024/12/7 2:19:50] </span><span style=\"color: #008000; text-decoration-color: #008000\">INFO    </span> Animation <span style=\"color: #008000; text-decoration-color: #008000\">24</span> : Partial movie file written in                  <a href=\"file://E:\\ipynb\\venv\\lib\\site-packages\\manim\\scene\\scene_file_writer.py\" target=\"_blank\"><span style=\"color: #7f7f7f; text-decoration-color: #7f7f7f\">scene_file_writer.py</span></a><span style=\"color: #7f7f7f; text-decoration-color: #7f7f7f\">:</span><a href=\"file://E:\\ipynb\\venv\\lib\\site-packages\\manim\\scene\\scene_file_writer.py#527\" target=\"_blank\"><span style=\"color: #7f7f7f; text-decoration-color: #7f7f7f\">527</span></a>\n",
       "<span style=\"color: #7fbfbf; text-decoration-color: #7fbfbf\">                    </span>         <span style=\"color: #008000; text-decoration-color: #008000\">'E:\\ipynb\\python_design\\yty_math\\media\\videos\\1080p60\\partial</span> <span style=\"color: #7f7f7f; text-decoration-color: #7f7f7f\">                        </span>\n",
       "<span style=\"color: #7fbfbf; text-decoration-color: #7fbfbf\">                    </span>         <span style=\"color: #008000; text-decoration-color: #008000\">_movie_files\\MatrixMulShow\\2852726489_1116864975_3523991352.m</span> <span style=\"color: #7f7f7f; text-decoration-color: #7f7f7f\">                        </span>\n",
       "<span style=\"color: #7fbfbf; text-decoration-color: #7fbfbf\">                    </span>         <span style=\"color: #008000; text-decoration-color: #008000\">p4'</span>                                                           <span style=\"color: #7f7f7f; text-decoration-color: #7f7f7f\">                        </span>\n",
       "</pre>\n"
      ]
     },
     "metadata": {},
     "output_type": "display_data"
    },
    {
     "name": "stderr",
     "output_type": "stream",
     "text": [
      "                                                                                               \r"
     ]
    },
    {
     "data": {
      "text/plain": [
       "\u001B[2;36m[2024/12/7 2:19:56]\u001B[0m\u001B[2;36m \u001B[0m\u001B[32mINFO    \u001B[0m Animation \u001B[32m25\u001B[0m : Partial movie file written in                  \u001B]8;id=840472;file://E:\\ipynb\\venv\\lib\\site-packages\\manim\\scene\\scene_file_writer.py\u001B\\\u001B[2mscene_file_writer.py\u001B[0m\u001B]8;;\u001B\\\u001B[2m:\u001B[0m\u001B]8;id=893397;file://E:\\ipynb\\venv\\lib\\site-packages\\manim\\scene\\scene_file_writer.py#527\u001B\\\u001B[2m527\u001B[0m\u001B]8;;\u001B\\\n",
       "\u001B[2;36m                    \u001B[0m         \u001B[32m'E:\\ipynb\\python_design\\yty_math\\media\\videos\\1080p60\\partial\u001B[0m \u001B[2m                        \u001B[0m\n",
       "\u001B[2;36m                    \u001B[0m         \u001B[32m_movie_files\\MatrixMulShow\\2852726489_2817135638_1310917523.m\u001B[0m \u001B[2m                        \u001B[0m\n",
       "\u001B[2;36m                    \u001B[0m         \u001B[32mp4'\u001B[0m                                                           \u001B[2m                        \u001B[0m\n"
      ],
      "text/html": [
       "<pre style=\"white-space:pre;overflow-x:auto;line-height:normal;font-family:Menlo,'DejaVu Sans Mono',consolas,'Courier New',monospace\"><span style=\"color: #7fbfbf; text-decoration-color: #7fbfbf\">[2024/12/7 2:19:56] </span><span style=\"color: #008000; text-decoration-color: #008000\">INFO    </span> Animation <span style=\"color: #008000; text-decoration-color: #008000\">25</span> : Partial movie file written in                  <a href=\"file://E:\\ipynb\\venv\\lib\\site-packages\\manim\\scene\\scene_file_writer.py\" target=\"_blank\"><span style=\"color: #7f7f7f; text-decoration-color: #7f7f7f\">scene_file_writer.py</span></a><span style=\"color: #7f7f7f; text-decoration-color: #7f7f7f\">:</span><a href=\"file://E:\\ipynb\\venv\\lib\\site-packages\\manim\\scene\\scene_file_writer.py#527\" target=\"_blank\"><span style=\"color: #7f7f7f; text-decoration-color: #7f7f7f\">527</span></a>\n",
       "<span style=\"color: #7fbfbf; text-decoration-color: #7fbfbf\">                    </span>         <span style=\"color: #008000; text-decoration-color: #008000\">'E:\\ipynb\\python_design\\yty_math\\media\\videos\\1080p60\\partial</span> <span style=\"color: #7f7f7f; text-decoration-color: #7f7f7f\">                        </span>\n",
       "<span style=\"color: #7fbfbf; text-decoration-color: #7fbfbf\">                    </span>         <span style=\"color: #008000; text-decoration-color: #008000\">_movie_files\\MatrixMulShow\\2852726489_2817135638_1310917523.m</span> <span style=\"color: #7f7f7f; text-decoration-color: #7f7f7f\">                        </span>\n",
       "<span style=\"color: #7fbfbf; text-decoration-color: #7fbfbf\">                    </span>         <span style=\"color: #008000; text-decoration-color: #008000\">p4'</span>                                                           <span style=\"color: #7f7f7f; text-decoration-color: #7f7f7f\">                        </span>\n",
       "</pre>\n"
      ]
     },
     "metadata": {},
     "output_type": "display_data"
    },
    {
     "name": "stderr",
     "output_type": "stream",
     "text": [
      "                                                                                                    \r"
     ]
    },
    {
     "data": {
      "text/plain": [
       "\u001B[2;36m[2024/12/7 2:20:01]\u001B[0m\u001B[2;36m \u001B[0m\u001B[32mINFO    \u001B[0m Animation \u001B[32m26\u001B[0m : Partial movie file written in                  \u001B]8;id=855036;file://E:\\ipynb\\venv\\lib\\site-packages\\manim\\scene\\scene_file_writer.py\u001B\\\u001B[2mscene_file_writer.py\u001B[0m\u001B]8;;\u001B\\\u001B[2m:\u001B[0m\u001B]8;id=101126;file://E:\\ipynb\\venv\\lib\\site-packages\\manim\\scene\\scene_file_writer.py#527\u001B\\\u001B[2m527\u001B[0m\u001B]8;;\u001B\\\n",
       "\u001B[2;36m                    \u001B[0m         \u001B[32m'E:\\ipynb\\python_design\\yty_math\\media\\videos\\1080p60\\partial\u001B[0m \u001B[2m                        \u001B[0m\n",
       "\u001B[2;36m                    \u001B[0m         \u001B[32m_movie_files\\MatrixMulShow\\2852726489_3739537467_4029645189.m\u001B[0m \u001B[2m                        \u001B[0m\n",
       "\u001B[2;36m                    \u001B[0m         \u001B[32mp4'\u001B[0m                                                           \u001B[2m                        \u001B[0m\n"
      ],
      "text/html": [
       "<pre style=\"white-space:pre;overflow-x:auto;line-height:normal;font-family:Menlo,'DejaVu Sans Mono',consolas,'Courier New',monospace\"><span style=\"color: #7fbfbf; text-decoration-color: #7fbfbf\">[2024/12/7 2:20:01] </span><span style=\"color: #008000; text-decoration-color: #008000\">INFO    </span> Animation <span style=\"color: #008000; text-decoration-color: #008000\">26</span> : Partial movie file written in                  <a href=\"file://E:\\ipynb\\venv\\lib\\site-packages\\manim\\scene\\scene_file_writer.py\" target=\"_blank\"><span style=\"color: #7f7f7f; text-decoration-color: #7f7f7f\">scene_file_writer.py</span></a><span style=\"color: #7f7f7f; text-decoration-color: #7f7f7f\">:</span><a href=\"file://E:\\ipynb\\venv\\lib\\site-packages\\manim\\scene\\scene_file_writer.py#527\" target=\"_blank\"><span style=\"color: #7f7f7f; text-decoration-color: #7f7f7f\">527</span></a>\n",
       "<span style=\"color: #7fbfbf; text-decoration-color: #7fbfbf\">                    </span>         <span style=\"color: #008000; text-decoration-color: #008000\">'E:\\ipynb\\python_design\\yty_math\\media\\videos\\1080p60\\partial</span> <span style=\"color: #7f7f7f; text-decoration-color: #7f7f7f\">                        </span>\n",
       "<span style=\"color: #7fbfbf; text-decoration-color: #7fbfbf\">                    </span>         <span style=\"color: #008000; text-decoration-color: #008000\">_movie_files\\MatrixMulShow\\2852726489_3739537467_4029645189.m</span> <span style=\"color: #7f7f7f; text-decoration-color: #7f7f7f\">                        </span>\n",
       "<span style=\"color: #7fbfbf; text-decoration-color: #7fbfbf\">                    </span>         <span style=\"color: #008000; text-decoration-color: #008000\">p4'</span>                                                           <span style=\"color: #7f7f7f; text-decoration-color: #7f7f7f\">                        </span>\n",
       "</pre>\n"
      ]
     },
     "metadata": {},
     "output_type": "display_data"
    },
    {
     "name": "stderr",
     "output_type": "stream",
     "text": [
      "                                                                                                       \r"
     ]
    },
    {
     "data": {
      "text/plain": [
       "\u001B[2;36m[2024/12/7 2:20:06]\u001B[0m\u001B[2;36m \u001B[0m\u001B[32mINFO    \u001B[0m Animation \u001B[32m27\u001B[0m : Partial movie file written in                  \u001B]8;id=230200;file://E:\\ipynb\\venv\\lib\\site-packages\\manim\\scene\\scene_file_writer.py\u001B\\\u001B[2mscene_file_writer.py\u001B[0m\u001B]8;;\u001B\\\u001B[2m:\u001B[0m\u001B]8;id=587035;file://E:\\ipynb\\venv\\lib\\site-packages\\manim\\scene\\scene_file_writer.py#527\u001B\\\u001B[2m527\u001B[0m\u001B]8;;\u001B\\\n",
       "\u001B[2;36m                    \u001B[0m         \u001B[32m'E:\\ipynb\\python_design\\yty_math\\media\\videos\\1080p60\\partial\u001B[0m \u001B[2m                        \u001B[0m\n",
       "\u001B[2;36m                    \u001B[0m         \u001B[32m_movie_files\\MatrixMulShow\\2852726489_2131713695_862531631.mp\u001B[0m \u001B[2m                        \u001B[0m\n",
       "\u001B[2;36m                    \u001B[0m         \u001B[32m4'\u001B[0m                                                            \u001B[2m                        \u001B[0m\n"
      ],
      "text/html": [
       "<pre style=\"white-space:pre;overflow-x:auto;line-height:normal;font-family:Menlo,'DejaVu Sans Mono',consolas,'Courier New',monospace\"><span style=\"color: #7fbfbf; text-decoration-color: #7fbfbf\">[2024/12/7 2:20:06] </span><span style=\"color: #008000; text-decoration-color: #008000\">INFO    </span> Animation <span style=\"color: #008000; text-decoration-color: #008000\">27</span> : Partial movie file written in                  <a href=\"file://E:\\ipynb\\venv\\lib\\site-packages\\manim\\scene\\scene_file_writer.py\" target=\"_blank\"><span style=\"color: #7f7f7f; text-decoration-color: #7f7f7f\">scene_file_writer.py</span></a><span style=\"color: #7f7f7f; text-decoration-color: #7f7f7f\">:</span><a href=\"file://E:\\ipynb\\venv\\lib\\site-packages\\manim\\scene\\scene_file_writer.py#527\" target=\"_blank\"><span style=\"color: #7f7f7f; text-decoration-color: #7f7f7f\">527</span></a>\n",
       "<span style=\"color: #7fbfbf; text-decoration-color: #7fbfbf\">                    </span>         <span style=\"color: #008000; text-decoration-color: #008000\">'E:\\ipynb\\python_design\\yty_math\\media\\videos\\1080p60\\partial</span> <span style=\"color: #7f7f7f; text-decoration-color: #7f7f7f\">                        </span>\n",
       "<span style=\"color: #7fbfbf; text-decoration-color: #7fbfbf\">                    </span>         <span style=\"color: #008000; text-decoration-color: #008000\">_movie_files\\MatrixMulShow\\2852726489_2131713695_862531631.mp</span> <span style=\"color: #7f7f7f; text-decoration-color: #7f7f7f\">                        </span>\n",
       "<span style=\"color: #7fbfbf; text-decoration-color: #7fbfbf\">                    </span>         <span style=\"color: #008000; text-decoration-color: #008000\">4'</span>                                                            <span style=\"color: #7f7f7f; text-decoration-color: #7f7f7f\">                        </span>\n",
       "</pre>\n"
      ]
     },
     "metadata": {},
     "output_type": "display_data"
    },
    {
     "name": "stderr",
     "output_type": "stream",
     "text": [
      "                                                                                                    \r"
     ]
    },
    {
     "data": {
      "text/plain": [
       "\u001B[2;36m[2024/12/7 2:20:10]\u001B[0m\u001B[2;36m \u001B[0m\u001B[32mINFO    \u001B[0m Animation \u001B[32m28\u001B[0m : Partial movie file written in                  \u001B]8;id=108731;file://E:\\ipynb\\venv\\lib\\site-packages\\manim\\scene\\scene_file_writer.py\u001B\\\u001B[2mscene_file_writer.py\u001B[0m\u001B]8;;\u001B\\\u001B[2m:\u001B[0m\u001B]8;id=841368;file://E:\\ipynb\\venv\\lib\\site-packages\\manim\\scene\\scene_file_writer.py#527\u001B\\\u001B[2m527\u001B[0m\u001B]8;;\u001B\\\n",
       "\u001B[2;36m                    \u001B[0m         \u001B[32m'E:\\ipynb\\python_design\\yty_math\\media\\videos\\1080p60\\partial\u001B[0m \u001B[2m                        \u001B[0m\n",
       "\u001B[2;36m                    \u001B[0m         \u001B[32m_movie_files\\MatrixMulShow\\2852726489_2304827107_2013450072.m\u001B[0m \u001B[2m                        \u001B[0m\n",
       "\u001B[2;36m                    \u001B[0m         \u001B[32mp4'\u001B[0m                                                           \u001B[2m                        \u001B[0m\n"
      ],
      "text/html": [
       "<pre style=\"white-space:pre;overflow-x:auto;line-height:normal;font-family:Menlo,'DejaVu Sans Mono',consolas,'Courier New',monospace\"><span style=\"color: #7fbfbf; text-decoration-color: #7fbfbf\">[2024/12/7 2:20:10] </span><span style=\"color: #008000; text-decoration-color: #008000\">INFO    </span> Animation <span style=\"color: #008000; text-decoration-color: #008000\">28</span> : Partial movie file written in                  <a href=\"file://E:\\ipynb\\venv\\lib\\site-packages\\manim\\scene\\scene_file_writer.py\" target=\"_blank\"><span style=\"color: #7f7f7f; text-decoration-color: #7f7f7f\">scene_file_writer.py</span></a><span style=\"color: #7f7f7f; text-decoration-color: #7f7f7f\">:</span><a href=\"file://E:\\ipynb\\venv\\lib\\site-packages\\manim\\scene\\scene_file_writer.py#527\" target=\"_blank\"><span style=\"color: #7f7f7f; text-decoration-color: #7f7f7f\">527</span></a>\n",
       "<span style=\"color: #7fbfbf; text-decoration-color: #7fbfbf\">                    </span>         <span style=\"color: #008000; text-decoration-color: #008000\">'E:\\ipynb\\python_design\\yty_math\\media\\videos\\1080p60\\partial</span> <span style=\"color: #7f7f7f; text-decoration-color: #7f7f7f\">                        </span>\n",
       "<span style=\"color: #7fbfbf; text-decoration-color: #7fbfbf\">                    </span>         <span style=\"color: #008000; text-decoration-color: #008000\">_movie_files\\MatrixMulShow\\2852726489_2304827107_2013450072.m</span> <span style=\"color: #7f7f7f; text-decoration-color: #7f7f7f\">                        </span>\n",
       "<span style=\"color: #7fbfbf; text-decoration-color: #7fbfbf\">                    </span>         <span style=\"color: #008000; text-decoration-color: #008000\">p4'</span>                                                           <span style=\"color: #7f7f7f; text-decoration-color: #7f7f7f\">                        </span>\n",
       "</pre>\n"
      ]
     },
     "metadata": {},
     "output_type": "display_data"
    },
    {
     "name": "stderr",
     "output_type": "stream",
     "text": [
      "                                                                                                       \r"
     ]
    },
    {
     "data": {
      "text/plain": [
       "\u001B[2;36m[2024/12/7 2:20:15]\u001B[0m\u001B[2;36m \u001B[0m\u001B[32mINFO    \u001B[0m Animation \u001B[32m29\u001B[0m : Partial movie file written in                  \u001B]8;id=983879;file://E:\\ipynb\\venv\\lib\\site-packages\\manim\\scene\\scene_file_writer.py\u001B\\\u001B[2mscene_file_writer.py\u001B[0m\u001B]8;;\u001B\\\u001B[2m:\u001B[0m\u001B]8;id=266167;file://E:\\ipynb\\venv\\lib\\site-packages\\manim\\scene\\scene_file_writer.py#527\u001B\\\u001B[2m527\u001B[0m\u001B]8;;\u001B\\\n",
       "\u001B[2;36m                    \u001B[0m         \u001B[32m'E:\\ipynb\\python_design\\yty_math\\media\\videos\\1080p60\\partial\u001B[0m \u001B[2m                        \u001B[0m\n",
       "\u001B[2;36m                    \u001B[0m         \u001B[32m_movie_files\\MatrixMulShow\\2852726489_1962015243_2819085917.m\u001B[0m \u001B[2m                        \u001B[0m\n",
       "\u001B[2;36m                    \u001B[0m         \u001B[32mp4'\u001B[0m                                                           \u001B[2m                        \u001B[0m\n"
      ],
      "text/html": [
       "<pre style=\"white-space:pre;overflow-x:auto;line-height:normal;font-family:Menlo,'DejaVu Sans Mono',consolas,'Courier New',monospace\"><span style=\"color: #7fbfbf; text-decoration-color: #7fbfbf\">[2024/12/7 2:20:15] </span><span style=\"color: #008000; text-decoration-color: #008000\">INFO    </span> Animation <span style=\"color: #008000; text-decoration-color: #008000\">29</span> : Partial movie file written in                  <a href=\"file://E:\\ipynb\\venv\\lib\\site-packages\\manim\\scene\\scene_file_writer.py\" target=\"_blank\"><span style=\"color: #7f7f7f; text-decoration-color: #7f7f7f\">scene_file_writer.py</span></a><span style=\"color: #7f7f7f; text-decoration-color: #7f7f7f\">:</span><a href=\"file://E:\\ipynb\\venv\\lib\\site-packages\\manim\\scene\\scene_file_writer.py#527\" target=\"_blank\"><span style=\"color: #7f7f7f; text-decoration-color: #7f7f7f\">527</span></a>\n",
       "<span style=\"color: #7fbfbf; text-decoration-color: #7fbfbf\">                    </span>         <span style=\"color: #008000; text-decoration-color: #008000\">'E:\\ipynb\\python_design\\yty_math\\media\\videos\\1080p60\\partial</span> <span style=\"color: #7f7f7f; text-decoration-color: #7f7f7f\">                        </span>\n",
       "<span style=\"color: #7fbfbf; text-decoration-color: #7fbfbf\">                    </span>         <span style=\"color: #008000; text-decoration-color: #008000\">_movie_files\\MatrixMulShow\\2852726489_1962015243_2819085917.m</span> <span style=\"color: #7f7f7f; text-decoration-color: #7f7f7f\">                        </span>\n",
       "<span style=\"color: #7fbfbf; text-decoration-color: #7fbfbf\">                    </span>         <span style=\"color: #008000; text-decoration-color: #008000\">p4'</span>                                                           <span style=\"color: #7f7f7f; text-decoration-color: #7f7f7f\">                        </span>\n",
       "</pre>\n"
      ]
     },
     "metadata": {},
     "output_type": "display_data"
    },
    {
     "name": "stderr",
     "output_type": "stream",
     "text": [
      "                                                                                                    \r"
     ]
    },
    {
     "data": {
      "text/plain": [
       "\u001B[2;36m[2024/12/7 2:20:20]\u001B[0m\u001B[2;36m \u001B[0m\u001B[32mINFO    \u001B[0m Animation \u001B[32m30\u001B[0m : Partial movie file written in                  \u001B]8;id=409434;file://E:\\ipynb\\venv\\lib\\site-packages\\manim\\scene\\scene_file_writer.py\u001B\\\u001B[2mscene_file_writer.py\u001B[0m\u001B]8;;\u001B\\\u001B[2m:\u001B[0m\u001B]8;id=304702;file://E:\\ipynb\\venv\\lib\\site-packages\\manim\\scene\\scene_file_writer.py#527\u001B\\\u001B[2m527\u001B[0m\u001B]8;;\u001B\\\n",
       "\u001B[2;36m                    \u001B[0m         \u001B[32m'E:\\ipynb\\python_design\\yty_math\\media\\videos\\1080p60\\partial\u001B[0m \u001B[2m                        \u001B[0m\n",
       "\u001B[2;36m                    \u001B[0m         \u001B[32m_movie_files\\MatrixMulShow\\2852726489_1424331454_3009479457.m\u001B[0m \u001B[2m                        \u001B[0m\n",
       "\u001B[2;36m                    \u001B[0m         \u001B[32mp4'\u001B[0m                                                           \u001B[2m                        \u001B[0m\n"
      ],
      "text/html": [
       "<pre style=\"white-space:pre;overflow-x:auto;line-height:normal;font-family:Menlo,'DejaVu Sans Mono',consolas,'Courier New',monospace\"><span style=\"color: #7fbfbf; text-decoration-color: #7fbfbf\">[2024/12/7 2:20:20] </span><span style=\"color: #008000; text-decoration-color: #008000\">INFO    </span> Animation <span style=\"color: #008000; text-decoration-color: #008000\">30</span> : Partial movie file written in                  <a href=\"file://E:\\ipynb\\venv\\lib\\site-packages\\manim\\scene\\scene_file_writer.py\" target=\"_blank\"><span style=\"color: #7f7f7f; text-decoration-color: #7f7f7f\">scene_file_writer.py</span></a><span style=\"color: #7f7f7f; text-decoration-color: #7f7f7f\">:</span><a href=\"file://E:\\ipynb\\venv\\lib\\site-packages\\manim\\scene\\scene_file_writer.py#527\" target=\"_blank\"><span style=\"color: #7f7f7f; text-decoration-color: #7f7f7f\">527</span></a>\n",
       "<span style=\"color: #7fbfbf; text-decoration-color: #7fbfbf\">                    </span>         <span style=\"color: #008000; text-decoration-color: #008000\">'E:\\ipynb\\python_design\\yty_math\\media\\videos\\1080p60\\partial</span> <span style=\"color: #7f7f7f; text-decoration-color: #7f7f7f\">                        </span>\n",
       "<span style=\"color: #7fbfbf; text-decoration-color: #7fbfbf\">                    </span>         <span style=\"color: #008000; text-decoration-color: #008000\">_movie_files\\MatrixMulShow\\2852726489_1424331454_3009479457.m</span> <span style=\"color: #7f7f7f; text-decoration-color: #7f7f7f\">                        </span>\n",
       "<span style=\"color: #7fbfbf; text-decoration-color: #7fbfbf\">                    </span>         <span style=\"color: #008000; text-decoration-color: #008000\">p4'</span>                                                           <span style=\"color: #7f7f7f; text-decoration-color: #7f7f7f\">                        </span>\n",
       "</pre>\n"
      ]
     },
     "metadata": {},
     "output_type": "display_data"
    },
    {
     "name": "stderr",
     "output_type": "stream",
     "text": [
      "                                                                                  \r"
     ]
    },
    {
     "data": {
      "text/plain": [
       "\u001B[2;36m[2024/12/7 2:20:24]\u001B[0m\u001B[2;36m \u001B[0m\u001B[32mINFO    \u001B[0m Animation \u001B[32m31\u001B[0m : Partial movie file written in                  \u001B]8;id=804010;file://E:\\ipynb\\venv\\lib\\site-packages\\manim\\scene\\scene_file_writer.py\u001B\\\u001B[2mscene_file_writer.py\u001B[0m\u001B]8;;\u001B\\\u001B[2m:\u001B[0m\u001B]8;id=881007;file://E:\\ipynb\\venv\\lib\\site-packages\\manim\\scene\\scene_file_writer.py#527\u001B\\\u001B[2m527\u001B[0m\u001B]8;;\u001B\\\n",
       "\u001B[2;36m                    \u001B[0m         \u001B[32m'E:\\ipynb\\python_design\\yty_math\\media\\videos\\1080p60\\partial\u001B[0m \u001B[2m                        \u001B[0m\n",
       "\u001B[2;36m                    \u001B[0m         \u001B[32m_movie_files\\MatrixMulShow\\2852726489_3404056649_1849640746.m\u001B[0m \u001B[2m                        \u001B[0m\n",
       "\u001B[2;36m                    \u001B[0m         \u001B[32mp4'\u001B[0m                                                           \u001B[2m                        \u001B[0m\n"
      ],
      "text/html": [
       "<pre style=\"white-space:pre;overflow-x:auto;line-height:normal;font-family:Menlo,'DejaVu Sans Mono',consolas,'Courier New',monospace\"><span style=\"color: #7fbfbf; text-decoration-color: #7fbfbf\">[2024/12/7 2:20:24] </span><span style=\"color: #008000; text-decoration-color: #008000\">INFO    </span> Animation <span style=\"color: #008000; text-decoration-color: #008000\">31</span> : Partial movie file written in                  <a href=\"file://E:\\ipynb\\venv\\lib\\site-packages\\manim\\scene\\scene_file_writer.py\" target=\"_blank\"><span style=\"color: #7f7f7f; text-decoration-color: #7f7f7f\">scene_file_writer.py</span></a><span style=\"color: #7f7f7f; text-decoration-color: #7f7f7f\">:</span><a href=\"file://E:\\ipynb\\venv\\lib\\site-packages\\manim\\scene\\scene_file_writer.py#527\" target=\"_blank\"><span style=\"color: #7f7f7f; text-decoration-color: #7f7f7f\">527</span></a>\n",
       "<span style=\"color: #7fbfbf; text-decoration-color: #7fbfbf\">                    </span>         <span style=\"color: #008000; text-decoration-color: #008000\">'E:\\ipynb\\python_design\\yty_math\\media\\videos\\1080p60\\partial</span> <span style=\"color: #7f7f7f; text-decoration-color: #7f7f7f\">                        </span>\n",
       "<span style=\"color: #7fbfbf; text-decoration-color: #7fbfbf\">                    </span>         <span style=\"color: #008000; text-decoration-color: #008000\">_movie_files\\MatrixMulShow\\2852726489_3404056649_1849640746.m</span> <span style=\"color: #7f7f7f; text-decoration-color: #7f7f7f\">                        </span>\n",
       "<span style=\"color: #7fbfbf; text-decoration-color: #7fbfbf\">                    </span>         <span style=\"color: #008000; text-decoration-color: #008000\">p4'</span>                                                           <span style=\"color: #7f7f7f; text-decoration-color: #7f7f7f\">                        </span>\n",
       "</pre>\n"
      ]
     },
     "metadata": {},
     "output_type": "display_data"
    },
    {
     "name": "stderr",
     "output_type": "stream",
     "text": [
      "                                                                                            \r"
     ]
    },
    {
     "data": {
      "text/plain": [
       "\u001B[2;36m[2024/12/7 2:20:28]\u001B[0m\u001B[2;36m \u001B[0m\u001B[32mINFO    \u001B[0m Animation \u001B[32m32\u001B[0m : Partial movie file written in                  \u001B]8;id=802780;file://E:\\ipynb\\venv\\lib\\site-packages\\manim\\scene\\scene_file_writer.py\u001B\\\u001B[2mscene_file_writer.py\u001B[0m\u001B]8;;\u001B\\\u001B[2m:\u001B[0m\u001B]8;id=248169;file://E:\\ipynb\\venv\\lib\\site-packages\\manim\\scene\\scene_file_writer.py#527\u001B\\\u001B[2m527\u001B[0m\u001B]8;;\u001B\\\n",
       "\u001B[2;36m                    \u001B[0m         \u001B[32m'E:\\ipynb\\python_design\\yty_math\\media\\videos\\1080p60\\partial\u001B[0m \u001B[2m                        \u001B[0m\n",
       "\u001B[2;36m                    \u001B[0m         \u001B[32m_movie_files\\MatrixMulShow\\2852726489_796211903_1364716106.mp\u001B[0m \u001B[2m                        \u001B[0m\n",
       "\u001B[2;36m                    \u001B[0m         \u001B[32m4'\u001B[0m                                                            \u001B[2m                        \u001B[0m\n"
      ],
      "text/html": [
       "<pre style=\"white-space:pre;overflow-x:auto;line-height:normal;font-family:Menlo,'DejaVu Sans Mono',consolas,'Courier New',monospace\"><span style=\"color: #7fbfbf; text-decoration-color: #7fbfbf\">[2024/12/7 2:20:28] </span><span style=\"color: #008000; text-decoration-color: #008000\">INFO    </span> Animation <span style=\"color: #008000; text-decoration-color: #008000\">32</span> : Partial movie file written in                  <a href=\"file://E:\\ipynb\\venv\\lib\\site-packages\\manim\\scene\\scene_file_writer.py\" target=\"_blank\"><span style=\"color: #7f7f7f; text-decoration-color: #7f7f7f\">scene_file_writer.py</span></a><span style=\"color: #7f7f7f; text-decoration-color: #7f7f7f\">:</span><a href=\"file://E:\\ipynb\\venv\\lib\\site-packages\\manim\\scene\\scene_file_writer.py#527\" target=\"_blank\"><span style=\"color: #7f7f7f; text-decoration-color: #7f7f7f\">527</span></a>\n",
       "<span style=\"color: #7fbfbf; text-decoration-color: #7fbfbf\">                    </span>         <span style=\"color: #008000; text-decoration-color: #008000\">'E:\\ipynb\\python_design\\yty_math\\media\\videos\\1080p60\\partial</span> <span style=\"color: #7f7f7f; text-decoration-color: #7f7f7f\">                        </span>\n",
       "<span style=\"color: #7fbfbf; text-decoration-color: #7fbfbf\">                    </span>         <span style=\"color: #008000; text-decoration-color: #008000\">_movie_files\\MatrixMulShow\\2852726489_796211903_1364716106.mp</span> <span style=\"color: #7f7f7f; text-decoration-color: #7f7f7f\">                        </span>\n",
       "<span style=\"color: #7fbfbf; text-decoration-color: #7fbfbf\">                    </span>         <span style=\"color: #008000; text-decoration-color: #008000\">4'</span>                                                            <span style=\"color: #7f7f7f; text-decoration-color: #7f7f7f\">                        </span>\n",
       "</pre>\n"
      ]
     },
     "metadata": {},
     "output_type": "display_data"
    },
    {
     "name": "stderr",
     "output_type": "stream",
     "text": [
      "                                                                                               \r"
     ]
    },
    {
     "data": {
      "text/plain": [
       "\u001B[2;36m[2024/12/7 2:20:34]\u001B[0m\u001B[2;36m \u001B[0m\u001B[32mINFO    \u001B[0m Animation \u001B[32m33\u001B[0m : Partial movie file written in                  \u001B]8;id=723417;file://E:\\ipynb\\venv\\lib\\site-packages\\manim\\scene\\scene_file_writer.py\u001B\\\u001B[2mscene_file_writer.py\u001B[0m\u001B]8;;\u001B\\\u001B[2m:\u001B[0m\u001B]8;id=805050;file://E:\\ipynb\\venv\\lib\\site-packages\\manim\\scene\\scene_file_writer.py#527\u001B\\\u001B[2m527\u001B[0m\u001B]8;;\u001B\\\n",
       "\u001B[2;36m                    \u001B[0m         \u001B[32m'E:\\ipynb\\python_design\\yty_math\\media\\videos\\1080p60\\partial\u001B[0m \u001B[2m                        \u001B[0m\n",
       "\u001B[2;36m                    \u001B[0m         \u001B[32m_movie_files\\MatrixMulShow\\2852726489_2368968864_714959377.mp\u001B[0m \u001B[2m                        \u001B[0m\n",
       "\u001B[2;36m                    \u001B[0m         \u001B[32m4'\u001B[0m                                                            \u001B[2m                        \u001B[0m\n"
      ],
      "text/html": [
       "<pre style=\"white-space:pre;overflow-x:auto;line-height:normal;font-family:Menlo,'DejaVu Sans Mono',consolas,'Courier New',monospace\"><span style=\"color: #7fbfbf; text-decoration-color: #7fbfbf\">[2024/12/7 2:20:34] </span><span style=\"color: #008000; text-decoration-color: #008000\">INFO    </span> Animation <span style=\"color: #008000; text-decoration-color: #008000\">33</span> : Partial movie file written in                  <a href=\"file://E:\\ipynb\\venv\\lib\\site-packages\\manim\\scene\\scene_file_writer.py\" target=\"_blank\"><span style=\"color: #7f7f7f; text-decoration-color: #7f7f7f\">scene_file_writer.py</span></a><span style=\"color: #7f7f7f; text-decoration-color: #7f7f7f\">:</span><a href=\"file://E:\\ipynb\\venv\\lib\\site-packages\\manim\\scene\\scene_file_writer.py#527\" target=\"_blank\"><span style=\"color: #7f7f7f; text-decoration-color: #7f7f7f\">527</span></a>\n",
       "<span style=\"color: #7fbfbf; text-decoration-color: #7fbfbf\">                    </span>         <span style=\"color: #008000; text-decoration-color: #008000\">'E:\\ipynb\\python_design\\yty_math\\media\\videos\\1080p60\\partial</span> <span style=\"color: #7f7f7f; text-decoration-color: #7f7f7f\">                        </span>\n",
       "<span style=\"color: #7fbfbf; text-decoration-color: #7fbfbf\">                    </span>         <span style=\"color: #008000; text-decoration-color: #008000\">_movie_files\\MatrixMulShow\\2852726489_2368968864_714959377.mp</span> <span style=\"color: #7f7f7f; text-decoration-color: #7f7f7f\">                        </span>\n",
       "<span style=\"color: #7fbfbf; text-decoration-color: #7fbfbf\">                    </span>         <span style=\"color: #008000; text-decoration-color: #008000\">4'</span>                                                            <span style=\"color: #7f7f7f; text-decoration-color: #7f7f7f\">                        </span>\n",
       "</pre>\n"
      ]
     },
     "metadata": {},
     "output_type": "display_data"
    },
    {
     "name": "stderr",
     "output_type": "stream",
     "text": [
      "                                                                                                    \r"
     ]
    },
    {
     "data": {
      "text/plain": [
       "\u001B[2;36m[2024/12/7 2:20:39]\u001B[0m\u001B[2;36m \u001B[0m\u001B[32mINFO    \u001B[0m Animation \u001B[32m34\u001B[0m : Partial movie file written in                  \u001B]8;id=30518;file://E:\\ipynb\\venv\\lib\\site-packages\\manim\\scene\\scene_file_writer.py\u001B\\\u001B[2mscene_file_writer.py\u001B[0m\u001B]8;;\u001B\\\u001B[2m:\u001B[0m\u001B]8;id=97666;file://E:\\ipynb\\venv\\lib\\site-packages\\manim\\scene\\scene_file_writer.py#527\u001B\\\u001B[2m527\u001B[0m\u001B]8;;\u001B\\\n",
       "\u001B[2;36m                    \u001B[0m         \u001B[32m'E:\\ipynb\\python_design\\yty_math\\media\\videos\\1080p60\\partial\u001B[0m \u001B[2m                        \u001B[0m\n",
       "\u001B[2;36m                    \u001B[0m         \u001B[32m_movie_files\\MatrixMulShow\\2852726489_1403350489_3854217695.m\u001B[0m \u001B[2m                        \u001B[0m\n",
       "\u001B[2;36m                    \u001B[0m         \u001B[32mp4'\u001B[0m                                                           \u001B[2m                        \u001B[0m\n"
      ],
      "text/html": [
       "<pre style=\"white-space:pre;overflow-x:auto;line-height:normal;font-family:Menlo,'DejaVu Sans Mono',consolas,'Courier New',monospace\"><span style=\"color: #7fbfbf; text-decoration-color: #7fbfbf\">[2024/12/7 2:20:39] </span><span style=\"color: #008000; text-decoration-color: #008000\">INFO    </span> Animation <span style=\"color: #008000; text-decoration-color: #008000\">34</span> : Partial movie file written in                  <a href=\"file://E:\\ipynb\\venv\\lib\\site-packages\\manim\\scene\\scene_file_writer.py\" target=\"_blank\"><span style=\"color: #7f7f7f; text-decoration-color: #7f7f7f\">scene_file_writer.py</span></a><span style=\"color: #7f7f7f; text-decoration-color: #7f7f7f\">:</span><a href=\"file://E:\\ipynb\\venv\\lib\\site-packages\\manim\\scene\\scene_file_writer.py#527\" target=\"_blank\"><span style=\"color: #7f7f7f; text-decoration-color: #7f7f7f\">527</span></a>\n",
       "<span style=\"color: #7fbfbf; text-decoration-color: #7fbfbf\">                    </span>         <span style=\"color: #008000; text-decoration-color: #008000\">'E:\\ipynb\\python_design\\yty_math\\media\\videos\\1080p60\\partial</span> <span style=\"color: #7f7f7f; text-decoration-color: #7f7f7f\">                        </span>\n",
       "<span style=\"color: #7fbfbf; text-decoration-color: #7fbfbf\">                    </span>         <span style=\"color: #008000; text-decoration-color: #008000\">_movie_files\\MatrixMulShow\\2852726489_1403350489_3854217695.m</span> <span style=\"color: #7f7f7f; text-decoration-color: #7f7f7f\">                        </span>\n",
       "<span style=\"color: #7fbfbf; text-decoration-color: #7fbfbf\">                    </span>         <span style=\"color: #008000; text-decoration-color: #008000\">p4'</span>                                                           <span style=\"color: #7f7f7f; text-decoration-color: #7f7f7f\">                        </span>\n",
       "</pre>\n"
      ]
     },
     "metadata": {},
     "output_type": "display_data"
    },
    {
     "name": "stderr",
     "output_type": "stream",
     "text": [
      "                                                                                                       \r"
     ]
    },
    {
     "data": {
      "text/plain": [
       "\u001B[2;36m[2024/12/7 2:20:46]\u001B[0m\u001B[2;36m \u001B[0m\u001B[32mINFO    \u001B[0m Animation \u001B[32m35\u001B[0m : Partial movie file written in                  \u001B]8;id=768082;file://E:\\ipynb\\venv\\lib\\site-packages\\manim\\scene\\scene_file_writer.py\u001B\\\u001B[2mscene_file_writer.py\u001B[0m\u001B]8;;\u001B\\\u001B[2m:\u001B[0m\u001B]8;id=864211;file://E:\\ipynb\\venv\\lib\\site-packages\\manim\\scene\\scene_file_writer.py#527\u001B\\\u001B[2m527\u001B[0m\u001B]8;;\u001B\\\n",
       "\u001B[2;36m                    \u001B[0m         \u001B[32m'E:\\ipynb\\python_design\\yty_math\\media\\videos\\1080p60\\partial\u001B[0m \u001B[2m                        \u001B[0m\n",
       "\u001B[2;36m                    \u001B[0m         \u001B[32m_movie_files\\MatrixMulShow\\2852726489_1493933694_584460831.mp\u001B[0m \u001B[2m                        \u001B[0m\n",
       "\u001B[2;36m                    \u001B[0m         \u001B[32m4'\u001B[0m                                                            \u001B[2m                        \u001B[0m\n"
      ],
      "text/html": [
       "<pre style=\"white-space:pre;overflow-x:auto;line-height:normal;font-family:Menlo,'DejaVu Sans Mono',consolas,'Courier New',monospace\"><span style=\"color: #7fbfbf; text-decoration-color: #7fbfbf\">[2024/12/7 2:20:46] </span><span style=\"color: #008000; text-decoration-color: #008000\">INFO    </span> Animation <span style=\"color: #008000; text-decoration-color: #008000\">35</span> : Partial movie file written in                  <a href=\"file://E:\\ipynb\\venv\\lib\\site-packages\\manim\\scene\\scene_file_writer.py\" target=\"_blank\"><span style=\"color: #7f7f7f; text-decoration-color: #7f7f7f\">scene_file_writer.py</span></a><span style=\"color: #7f7f7f; text-decoration-color: #7f7f7f\">:</span><a href=\"file://E:\\ipynb\\venv\\lib\\site-packages\\manim\\scene\\scene_file_writer.py#527\" target=\"_blank\"><span style=\"color: #7f7f7f; text-decoration-color: #7f7f7f\">527</span></a>\n",
       "<span style=\"color: #7fbfbf; text-decoration-color: #7fbfbf\">                    </span>         <span style=\"color: #008000; text-decoration-color: #008000\">'E:\\ipynb\\python_design\\yty_math\\media\\videos\\1080p60\\partial</span> <span style=\"color: #7f7f7f; text-decoration-color: #7f7f7f\">                        </span>\n",
       "<span style=\"color: #7fbfbf; text-decoration-color: #7fbfbf\">                    </span>         <span style=\"color: #008000; text-decoration-color: #008000\">_movie_files\\MatrixMulShow\\2852726489_1493933694_584460831.mp</span> <span style=\"color: #7f7f7f; text-decoration-color: #7f7f7f\">                        </span>\n",
       "<span style=\"color: #7fbfbf; text-decoration-color: #7fbfbf\">                    </span>         <span style=\"color: #008000; text-decoration-color: #008000\">4'</span>                                                            <span style=\"color: #7f7f7f; text-decoration-color: #7f7f7f\">                        </span>\n",
       "</pre>\n"
      ]
     },
     "metadata": {},
     "output_type": "display_data"
    },
    {
     "name": "stderr",
     "output_type": "stream",
     "text": [
      "                                                                                                 \r"
     ]
    },
    {
     "data": {
      "text/plain": [
       "\u001B[2;36m[2024/12/7 2:20:50]\u001B[0m\u001B[2;36m \u001B[0m\u001B[32mINFO    \u001B[0m Animation \u001B[32m36\u001B[0m : Partial movie file written in                  \u001B]8;id=759694;file://E:\\ipynb\\venv\\lib\\site-packages\\manim\\scene\\scene_file_writer.py\u001B\\\u001B[2mscene_file_writer.py\u001B[0m\u001B]8;;\u001B\\\u001B[2m:\u001B[0m\u001B]8;id=637388;file://E:\\ipynb\\venv\\lib\\site-packages\\manim\\scene\\scene_file_writer.py#527\u001B\\\u001B[2m527\u001B[0m\u001B]8;;\u001B\\\n",
       "\u001B[2;36m                    \u001B[0m         \u001B[32m'E:\\ipynb\\python_design\\yty_math\\media\\videos\\1080p60\\partial\u001B[0m \u001B[2m                        \u001B[0m\n",
       "\u001B[2;36m                    \u001B[0m         \u001B[32m_movie_files\\MatrixMulShow\\2852726489_1111274327_2154734746.m\u001B[0m \u001B[2m                        \u001B[0m\n",
       "\u001B[2;36m                    \u001B[0m         \u001B[32mp4'\u001B[0m                                                           \u001B[2m                        \u001B[0m\n"
      ],
      "text/html": [
       "<pre style=\"white-space:pre;overflow-x:auto;line-height:normal;font-family:Menlo,'DejaVu Sans Mono',consolas,'Courier New',monospace\"><span style=\"color: #7fbfbf; text-decoration-color: #7fbfbf\">[2024/12/7 2:20:50] </span><span style=\"color: #008000; text-decoration-color: #008000\">INFO    </span> Animation <span style=\"color: #008000; text-decoration-color: #008000\">36</span> : Partial movie file written in                  <a href=\"file://E:\\ipynb\\venv\\lib\\site-packages\\manim\\scene\\scene_file_writer.py\" target=\"_blank\"><span style=\"color: #7f7f7f; text-decoration-color: #7f7f7f\">scene_file_writer.py</span></a><span style=\"color: #7f7f7f; text-decoration-color: #7f7f7f\">:</span><a href=\"file://E:\\ipynb\\venv\\lib\\site-packages\\manim\\scene\\scene_file_writer.py#527\" target=\"_blank\"><span style=\"color: #7f7f7f; text-decoration-color: #7f7f7f\">527</span></a>\n",
       "<span style=\"color: #7fbfbf; text-decoration-color: #7fbfbf\">                    </span>         <span style=\"color: #008000; text-decoration-color: #008000\">'E:\\ipynb\\python_design\\yty_math\\media\\videos\\1080p60\\partial</span> <span style=\"color: #7f7f7f; text-decoration-color: #7f7f7f\">                        </span>\n",
       "<span style=\"color: #7fbfbf; text-decoration-color: #7fbfbf\">                    </span>         <span style=\"color: #008000; text-decoration-color: #008000\">_movie_files\\MatrixMulShow\\2852726489_1111274327_2154734746.m</span> <span style=\"color: #7f7f7f; text-decoration-color: #7f7f7f\">                        </span>\n",
       "<span style=\"color: #7fbfbf; text-decoration-color: #7fbfbf\">                    </span>         <span style=\"color: #008000; text-decoration-color: #008000\">p4'</span>                                                           <span style=\"color: #7f7f7f; text-decoration-color: #7f7f7f\">                        </span>\n",
       "</pre>\n"
      ]
     },
     "metadata": {},
     "output_type": "display_data"
    },
    {
     "name": "stderr",
     "output_type": "stream",
     "text": [
      "                                                                                                       \r"
     ]
    },
    {
     "data": {
      "text/plain": [
       "\u001B[2;36m[2024/12/7 2:20:56]\u001B[0m\u001B[2;36m \u001B[0m\u001B[32mINFO    \u001B[0m Animation \u001B[32m37\u001B[0m : Partial movie file written in                  \u001B]8;id=775500;file://E:\\ipynb\\venv\\lib\\site-packages\\manim\\scene\\scene_file_writer.py\u001B\\\u001B[2mscene_file_writer.py\u001B[0m\u001B]8;;\u001B\\\u001B[2m:\u001B[0m\u001B]8;id=180113;file://E:\\ipynb\\venv\\lib\\site-packages\\manim\\scene\\scene_file_writer.py#527\u001B\\\u001B[2m527\u001B[0m\u001B]8;;\u001B\\\n",
       "\u001B[2;36m                    \u001B[0m         \u001B[32m'E:\\ipynb\\python_design\\yty_math\\media\\videos\\1080p60\\partial\u001B[0m \u001B[2m                        \u001B[0m\n",
       "\u001B[2;36m                    \u001B[0m         \u001B[32m_movie_files\\MatrixMulShow\\2852726489_2593376904_3105097369.m\u001B[0m \u001B[2m                        \u001B[0m\n",
       "\u001B[2;36m                    \u001B[0m         \u001B[32mp4'\u001B[0m                                                           \u001B[2m                        \u001B[0m\n"
      ],
      "text/html": [
       "<pre style=\"white-space:pre;overflow-x:auto;line-height:normal;font-family:Menlo,'DejaVu Sans Mono',consolas,'Courier New',monospace\"><span style=\"color: #7fbfbf; text-decoration-color: #7fbfbf\">[2024/12/7 2:20:56] </span><span style=\"color: #008000; text-decoration-color: #008000\">INFO    </span> Animation <span style=\"color: #008000; text-decoration-color: #008000\">37</span> : Partial movie file written in                  <a href=\"file://E:\\ipynb\\venv\\lib\\site-packages\\manim\\scene\\scene_file_writer.py\" target=\"_blank\"><span style=\"color: #7f7f7f; text-decoration-color: #7f7f7f\">scene_file_writer.py</span></a><span style=\"color: #7f7f7f; text-decoration-color: #7f7f7f\">:</span><a href=\"file://E:\\ipynb\\venv\\lib\\site-packages\\manim\\scene\\scene_file_writer.py#527\" target=\"_blank\"><span style=\"color: #7f7f7f; text-decoration-color: #7f7f7f\">527</span></a>\n",
       "<span style=\"color: #7fbfbf; text-decoration-color: #7fbfbf\">                    </span>         <span style=\"color: #008000; text-decoration-color: #008000\">'E:\\ipynb\\python_design\\yty_math\\media\\videos\\1080p60\\partial</span> <span style=\"color: #7f7f7f; text-decoration-color: #7f7f7f\">                        </span>\n",
       "<span style=\"color: #7fbfbf; text-decoration-color: #7fbfbf\">                    </span>         <span style=\"color: #008000; text-decoration-color: #008000\">_movie_files\\MatrixMulShow\\2852726489_2593376904_3105097369.m</span> <span style=\"color: #7f7f7f; text-decoration-color: #7f7f7f\">                        </span>\n",
       "<span style=\"color: #7fbfbf; text-decoration-color: #7fbfbf\">                    </span>         <span style=\"color: #008000; text-decoration-color: #008000\">p4'</span>                                                           <span style=\"color: #7f7f7f; text-decoration-color: #7f7f7f\">                        </span>\n",
       "</pre>\n"
      ]
     },
     "metadata": {},
     "output_type": "display_data"
    },
    {
     "name": "stderr",
     "output_type": "stream",
     "text": [
      "                                                                                                    \r"
     ]
    },
    {
     "data": {
      "text/plain": [
       "\u001B[2;36m[2024/12/7 2:21:00]\u001B[0m\u001B[2;36m \u001B[0m\u001B[32mINFO    \u001B[0m Animation \u001B[32m38\u001B[0m : Partial movie file written in                  \u001B]8;id=94660;file://E:\\ipynb\\venv\\lib\\site-packages\\manim\\scene\\scene_file_writer.py\u001B\\\u001B[2mscene_file_writer.py\u001B[0m\u001B]8;;\u001B\\\u001B[2m:\u001B[0m\u001B]8;id=893292;file://E:\\ipynb\\venv\\lib\\site-packages\\manim\\scene\\scene_file_writer.py#527\u001B\\\u001B[2m527\u001B[0m\u001B]8;;\u001B\\\n",
       "\u001B[2;36m                    \u001B[0m         \u001B[32m'E:\\ipynb\\python_design\\yty_math\\media\\videos\\1080p60\\partial\u001B[0m \u001B[2m                        \u001B[0m\n",
       "\u001B[2;36m                    \u001B[0m         \u001B[32m_movie_files\\MatrixMulShow\\2852726489_55077851_3331085414.mp4\u001B[0m \u001B[2m                        \u001B[0m\n",
       "\u001B[2;36m                    \u001B[0m         \u001B[32m'\u001B[0m                                                             \u001B[2m                        \u001B[0m\n"
      ],
      "text/html": [
       "<pre style=\"white-space:pre;overflow-x:auto;line-height:normal;font-family:Menlo,'DejaVu Sans Mono',consolas,'Courier New',monospace\"><span style=\"color: #7fbfbf; text-decoration-color: #7fbfbf\">[2024/12/7 2:21:00] </span><span style=\"color: #008000; text-decoration-color: #008000\">INFO    </span> Animation <span style=\"color: #008000; text-decoration-color: #008000\">38</span> : Partial movie file written in                  <a href=\"file://E:\\ipynb\\venv\\lib\\site-packages\\manim\\scene\\scene_file_writer.py\" target=\"_blank\"><span style=\"color: #7f7f7f; text-decoration-color: #7f7f7f\">scene_file_writer.py</span></a><span style=\"color: #7f7f7f; text-decoration-color: #7f7f7f\">:</span><a href=\"file://E:\\ipynb\\venv\\lib\\site-packages\\manim\\scene\\scene_file_writer.py#527\" target=\"_blank\"><span style=\"color: #7f7f7f; text-decoration-color: #7f7f7f\">527</span></a>\n",
       "<span style=\"color: #7fbfbf; text-decoration-color: #7fbfbf\">                    </span>         <span style=\"color: #008000; text-decoration-color: #008000\">'E:\\ipynb\\python_design\\yty_math\\media\\videos\\1080p60\\partial</span> <span style=\"color: #7f7f7f; text-decoration-color: #7f7f7f\">                        </span>\n",
       "<span style=\"color: #7fbfbf; text-decoration-color: #7fbfbf\">                    </span>         <span style=\"color: #008000; text-decoration-color: #008000\">_movie_files\\MatrixMulShow\\2852726489_55077851_3331085414.mp4</span> <span style=\"color: #7f7f7f; text-decoration-color: #7f7f7f\">                        </span>\n",
       "<span style=\"color: #7fbfbf; text-decoration-color: #7fbfbf\">                    </span>         <span style=\"color: #008000; text-decoration-color: #008000\">'</span>                                                             <span style=\"color: #7f7f7f; text-decoration-color: #7f7f7f\">                        </span>\n",
       "</pre>\n"
      ]
     },
     "metadata": {},
     "output_type": "display_data"
    },
    {
     "name": "stderr",
     "output_type": "stream",
     "text": [
      "                                                                                  \r"
     ]
    },
    {
     "data": {
      "text/plain": [
       "\u001B[2;36m[2024/12/7 2:21:04]\u001B[0m\u001B[2;36m \u001B[0m\u001B[32mINFO    \u001B[0m Animation \u001B[32m39\u001B[0m : Partial movie file written in                  \u001B]8;id=545931;file://E:\\ipynb\\venv\\lib\\site-packages\\manim\\scene\\scene_file_writer.py\u001B\\\u001B[2mscene_file_writer.py\u001B[0m\u001B]8;;\u001B\\\u001B[2m:\u001B[0m\u001B]8;id=383353;file://E:\\ipynb\\venv\\lib\\site-packages\\manim\\scene\\scene_file_writer.py#527\u001B\\\u001B[2m527\u001B[0m\u001B]8;;\u001B\\\n",
       "\u001B[2;36m                    \u001B[0m         \u001B[32m'E:\\ipynb\\python_design\\yty_math\\media\\videos\\1080p60\\partial\u001B[0m \u001B[2m                        \u001B[0m\n",
       "\u001B[2;36m                    \u001B[0m         \u001B[32m_movie_files\\MatrixMulShow\\2852726489_3340663468_2869663369.m\u001B[0m \u001B[2m                        \u001B[0m\n",
       "\u001B[2;36m                    \u001B[0m         \u001B[32mp4'\u001B[0m                                                           \u001B[2m                        \u001B[0m\n"
      ],
      "text/html": [
       "<pre style=\"white-space:pre;overflow-x:auto;line-height:normal;font-family:Menlo,'DejaVu Sans Mono',consolas,'Courier New',monospace\"><span style=\"color: #7fbfbf; text-decoration-color: #7fbfbf\">[2024/12/7 2:21:04] </span><span style=\"color: #008000; text-decoration-color: #008000\">INFO    </span> Animation <span style=\"color: #008000; text-decoration-color: #008000\">39</span> : Partial movie file written in                  <a href=\"file://E:\\ipynb\\venv\\lib\\site-packages\\manim\\scene\\scene_file_writer.py\" target=\"_blank\"><span style=\"color: #7f7f7f; text-decoration-color: #7f7f7f\">scene_file_writer.py</span></a><span style=\"color: #7f7f7f; text-decoration-color: #7f7f7f\">:</span><a href=\"file://E:\\ipynb\\venv\\lib\\site-packages\\manim\\scene\\scene_file_writer.py#527\" target=\"_blank\"><span style=\"color: #7f7f7f; text-decoration-color: #7f7f7f\">527</span></a>\n",
       "<span style=\"color: #7fbfbf; text-decoration-color: #7fbfbf\">                    </span>         <span style=\"color: #008000; text-decoration-color: #008000\">'E:\\ipynb\\python_design\\yty_math\\media\\videos\\1080p60\\partial</span> <span style=\"color: #7f7f7f; text-decoration-color: #7f7f7f\">                        </span>\n",
       "<span style=\"color: #7fbfbf; text-decoration-color: #7fbfbf\">                    </span>         <span style=\"color: #008000; text-decoration-color: #008000\">_movie_files\\MatrixMulShow\\2852726489_3340663468_2869663369.m</span> <span style=\"color: #7f7f7f; text-decoration-color: #7f7f7f\">                        </span>\n",
       "<span style=\"color: #7fbfbf; text-decoration-color: #7fbfbf\">                    </span>         <span style=\"color: #008000; text-decoration-color: #008000\">p4'</span>                                                           <span style=\"color: #7f7f7f; text-decoration-color: #7f7f7f\">                        </span>\n",
       "</pre>\n"
      ]
     },
     "metadata": {},
     "output_type": "display_data"
    },
    {
     "name": "stderr",
     "output_type": "stream",
     "text": [
      "                                                                                            \r"
     ]
    },
    {
     "data": {
      "text/plain": [
       "\u001B[2;36m[2024/12/7 2:21:09]\u001B[0m\u001B[2;36m \u001B[0m\u001B[32mINFO    \u001B[0m Animation \u001B[32m40\u001B[0m : Partial movie file written in                  \u001B]8;id=930443;file://E:\\ipynb\\venv\\lib\\site-packages\\manim\\scene\\scene_file_writer.py\u001B\\\u001B[2mscene_file_writer.py\u001B[0m\u001B]8;;\u001B\\\u001B[2m:\u001B[0m\u001B]8;id=746082;file://E:\\ipynb\\venv\\lib\\site-packages\\manim\\scene\\scene_file_writer.py#527\u001B\\\u001B[2m527\u001B[0m\u001B]8;;\u001B\\\n",
       "\u001B[2;36m                    \u001B[0m         \u001B[32m'E:\\ipynb\\python_design\\yty_math\\media\\videos\\1080p60\\partial\u001B[0m \u001B[2m                        \u001B[0m\n",
       "\u001B[2;36m                    \u001B[0m         \u001B[32m_movie_files\\MatrixMulShow\\2852726489_1721455365_1063095071.m\u001B[0m \u001B[2m                        \u001B[0m\n",
       "\u001B[2;36m                    \u001B[0m         \u001B[32mp4'\u001B[0m                                                           \u001B[2m                        \u001B[0m\n"
      ],
      "text/html": [
       "<pre style=\"white-space:pre;overflow-x:auto;line-height:normal;font-family:Menlo,'DejaVu Sans Mono',consolas,'Courier New',monospace\"><span style=\"color: #7fbfbf; text-decoration-color: #7fbfbf\">[2024/12/7 2:21:09] </span><span style=\"color: #008000; text-decoration-color: #008000\">INFO    </span> Animation <span style=\"color: #008000; text-decoration-color: #008000\">40</span> : Partial movie file written in                  <a href=\"file://E:\\ipynb\\venv\\lib\\site-packages\\manim\\scene\\scene_file_writer.py\" target=\"_blank\"><span style=\"color: #7f7f7f; text-decoration-color: #7f7f7f\">scene_file_writer.py</span></a><span style=\"color: #7f7f7f; text-decoration-color: #7f7f7f\">:</span><a href=\"file://E:\\ipynb\\venv\\lib\\site-packages\\manim\\scene\\scene_file_writer.py#527\" target=\"_blank\"><span style=\"color: #7f7f7f; text-decoration-color: #7f7f7f\">527</span></a>\n",
       "<span style=\"color: #7fbfbf; text-decoration-color: #7fbfbf\">                    </span>         <span style=\"color: #008000; text-decoration-color: #008000\">'E:\\ipynb\\python_design\\yty_math\\media\\videos\\1080p60\\partial</span> <span style=\"color: #7f7f7f; text-decoration-color: #7f7f7f\">                        </span>\n",
       "<span style=\"color: #7fbfbf; text-decoration-color: #7fbfbf\">                    </span>         <span style=\"color: #008000; text-decoration-color: #008000\">_movie_files\\MatrixMulShow\\2852726489_1721455365_1063095071.m</span> <span style=\"color: #7f7f7f; text-decoration-color: #7f7f7f\">                        </span>\n",
       "<span style=\"color: #7fbfbf; text-decoration-color: #7fbfbf\">                    </span>         <span style=\"color: #008000; text-decoration-color: #008000\">p4'</span>                                                           <span style=\"color: #7f7f7f; text-decoration-color: #7f7f7f\">                        </span>\n",
       "</pre>\n"
      ]
     },
     "metadata": {},
     "output_type": "display_data"
    },
    {
     "name": "stderr",
     "output_type": "stream",
     "text": [
      "                                                                                               \r"
     ]
    },
    {
     "data": {
      "text/plain": [
       "\u001B[2;36m[2024/12/7 2:21:14]\u001B[0m\u001B[2;36m \u001B[0m\u001B[32mINFO    \u001B[0m Animation \u001B[32m41\u001B[0m : Partial movie file written in                  \u001B]8;id=935650;file://E:\\ipynb\\venv\\lib\\site-packages\\manim\\scene\\scene_file_writer.py\u001B\\\u001B[2mscene_file_writer.py\u001B[0m\u001B]8;;\u001B\\\u001B[2m:\u001B[0m\u001B]8;id=989471;file://E:\\ipynb\\venv\\lib\\site-packages\\manim\\scene\\scene_file_writer.py#527\u001B\\\u001B[2m527\u001B[0m\u001B]8;;\u001B\\\n",
       "\u001B[2;36m                    \u001B[0m         \u001B[32m'E:\\ipynb\\python_design\\yty_math\\media\\videos\\1080p60\\partial\u001B[0m \u001B[2m                        \u001B[0m\n",
       "\u001B[2;36m                    \u001B[0m         \u001B[32m_movie_files\\MatrixMulShow\\2852726489_2663452942_3988749269.m\u001B[0m \u001B[2m                        \u001B[0m\n",
       "\u001B[2;36m                    \u001B[0m         \u001B[32mp4'\u001B[0m                                                           \u001B[2m                        \u001B[0m\n"
      ],
      "text/html": [
       "<pre style=\"white-space:pre;overflow-x:auto;line-height:normal;font-family:Menlo,'DejaVu Sans Mono',consolas,'Courier New',monospace\"><span style=\"color: #7fbfbf; text-decoration-color: #7fbfbf\">[2024/12/7 2:21:14] </span><span style=\"color: #008000; text-decoration-color: #008000\">INFO    </span> Animation <span style=\"color: #008000; text-decoration-color: #008000\">41</span> : Partial movie file written in                  <a href=\"file://E:\\ipynb\\venv\\lib\\site-packages\\manim\\scene\\scene_file_writer.py\" target=\"_blank\"><span style=\"color: #7f7f7f; text-decoration-color: #7f7f7f\">scene_file_writer.py</span></a><span style=\"color: #7f7f7f; text-decoration-color: #7f7f7f\">:</span><a href=\"file://E:\\ipynb\\venv\\lib\\site-packages\\manim\\scene\\scene_file_writer.py#527\" target=\"_blank\"><span style=\"color: #7f7f7f; text-decoration-color: #7f7f7f\">527</span></a>\n",
       "<span style=\"color: #7fbfbf; text-decoration-color: #7fbfbf\">                    </span>         <span style=\"color: #008000; text-decoration-color: #008000\">'E:\\ipynb\\python_design\\yty_math\\media\\videos\\1080p60\\partial</span> <span style=\"color: #7f7f7f; text-decoration-color: #7f7f7f\">                        </span>\n",
       "<span style=\"color: #7fbfbf; text-decoration-color: #7fbfbf\">                    </span>         <span style=\"color: #008000; text-decoration-color: #008000\">_movie_files\\MatrixMulShow\\2852726489_2663452942_3988749269.m</span> <span style=\"color: #7f7f7f; text-decoration-color: #7f7f7f\">                        </span>\n",
       "<span style=\"color: #7fbfbf; text-decoration-color: #7fbfbf\">                    </span>         <span style=\"color: #008000; text-decoration-color: #008000\">p4'</span>                                                           <span style=\"color: #7f7f7f; text-decoration-color: #7f7f7f\">                        </span>\n",
       "</pre>\n"
      ]
     },
     "metadata": {},
     "output_type": "display_data"
    },
    {
     "name": "stderr",
     "output_type": "stream",
     "text": [
      "                                                                                                    \r"
     ]
    },
    {
     "data": {
      "text/plain": [
       "\u001B[2;36m[2024/12/7 2:21:19]\u001B[0m\u001B[2;36m \u001B[0m\u001B[32mINFO    \u001B[0m Animation \u001B[32m42\u001B[0m : Partial movie file written in                  \u001B]8;id=337281;file://E:\\ipynb\\venv\\lib\\site-packages\\manim\\scene\\scene_file_writer.py\u001B\\\u001B[2mscene_file_writer.py\u001B[0m\u001B]8;;\u001B\\\u001B[2m:\u001B[0m\u001B]8;id=981226;file://E:\\ipynb\\venv\\lib\\site-packages\\manim\\scene\\scene_file_writer.py#527\u001B\\\u001B[2m527\u001B[0m\u001B]8;;\u001B\\\n",
       "\u001B[2;36m                    \u001B[0m         \u001B[32m'E:\\ipynb\\python_design\\yty_math\\media\\videos\\1080p60\\partial\u001B[0m \u001B[2m                        \u001B[0m\n",
       "\u001B[2;36m                    \u001B[0m         \u001B[32m_movie_files\\MatrixMulShow\\2852726489_912224447_1431232390.mp\u001B[0m \u001B[2m                        \u001B[0m\n",
       "\u001B[2;36m                    \u001B[0m         \u001B[32m4'\u001B[0m                                                            \u001B[2m                        \u001B[0m\n"
      ],
      "text/html": [
       "<pre style=\"white-space:pre;overflow-x:auto;line-height:normal;font-family:Menlo,'DejaVu Sans Mono',consolas,'Courier New',monospace\"><span style=\"color: #7fbfbf; text-decoration-color: #7fbfbf\">[2024/12/7 2:21:19] </span><span style=\"color: #008000; text-decoration-color: #008000\">INFO    </span> Animation <span style=\"color: #008000; text-decoration-color: #008000\">42</span> : Partial movie file written in                  <a href=\"file://E:\\ipynb\\venv\\lib\\site-packages\\manim\\scene\\scene_file_writer.py\" target=\"_blank\"><span style=\"color: #7f7f7f; text-decoration-color: #7f7f7f\">scene_file_writer.py</span></a><span style=\"color: #7f7f7f; text-decoration-color: #7f7f7f\">:</span><a href=\"file://E:\\ipynb\\venv\\lib\\site-packages\\manim\\scene\\scene_file_writer.py#527\" target=\"_blank\"><span style=\"color: #7f7f7f; text-decoration-color: #7f7f7f\">527</span></a>\n",
       "<span style=\"color: #7fbfbf; text-decoration-color: #7fbfbf\">                    </span>         <span style=\"color: #008000; text-decoration-color: #008000\">'E:\\ipynb\\python_design\\yty_math\\media\\videos\\1080p60\\partial</span> <span style=\"color: #7f7f7f; text-decoration-color: #7f7f7f\">                        </span>\n",
       "<span style=\"color: #7fbfbf; text-decoration-color: #7fbfbf\">                    </span>         <span style=\"color: #008000; text-decoration-color: #008000\">_movie_files\\MatrixMulShow\\2852726489_912224447_1431232390.mp</span> <span style=\"color: #7f7f7f; text-decoration-color: #7f7f7f\">                        </span>\n",
       "<span style=\"color: #7fbfbf; text-decoration-color: #7fbfbf\">                    </span>         <span style=\"color: #008000; text-decoration-color: #008000\">4'</span>                                                            <span style=\"color: #7f7f7f; text-decoration-color: #7f7f7f\">                        </span>\n",
       "</pre>\n"
      ]
     },
     "metadata": {},
     "output_type": "display_data"
    },
    {
     "name": "stderr",
     "output_type": "stream",
     "text": [
      "                                                                                                       \r"
     ]
    },
    {
     "data": {
      "text/plain": [
       "\u001B[2;36m[2024/12/7 2:21:25]\u001B[0m\u001B[2;36m \u001B[0m\u001B[32mINFO    \u001B[0m Animation \u001B[32m43\u001B[0m : Partial movie file written in                  \u001B]8;id=244499;file://E:\\ipynb\\venv\\lib\\site-packages\\manim\\scene\\scene_file_writer.py\u001B\\\u001B[2mscene_file_writer.py\u001B[0m\u001B]8;;\u001B\\\u001B[2m:\u001B[0m\u001B]8;id=865557;file://E:\\ipynb\\venv\\lib\\site-packages\\manim\\scene\\scene_file_writer.py#527\u001B\\\u001B[2m527\u001B[0m\u001B]8;;\u001B\\\n",
       "\u001B[2;36m                    \u001B[0m         \u001B[32m'E:\\ipynb\\python_design\\yty_math\\media\\videos\\1080p60\\partial\u001B[0m \u001B[2m                        \u001B[0m\n",
       "\u001B[2;36m                    \u001B[0m         \u001B[32m_movie_files\\MatrixMulShow\\2852726489_3225177645_1629464121.m\u001B[0m \u001B[2m                        \u001B[0m\n",
       "\u001B[2;36m                    \u001B[0m         \u001B[32mp4'\u001B[0m                                                           \u001B[2m                        \u001B[0m\n"
      ],
      "text/html": [
       "<pre style=\"white-space:pre;overflow-x:auto;line-height:normal;font-family:Menlo,'DejaVu Sans Mono',consolas,'Courier New',monospace\"><span style=\"color: #7fbfbf; text-decoration-color: #7fbfbf\">[2024/12/7 2:21:25] </span><span style=\"color: #008000; text-decoration-color: #008000\">INFO    </span> Animation <span style=\"color: #008000; text-decoration-color: #008000\">43</span> : Partial movie file written in                  <a href=\"file://E:\\ipynb\\venv\\lib\\site-packages\\manim\\scene\\scene_file_writer.py\" target=\"_blank\"><span style=\"color: #7f7f7f; text-decoration-color: #7f7f7f\">scene_file_writer.py</span></a><span style=\"color: #7f7f7f; text-decoration-color: #7f7f7f\">:</span><a href=\"file://E:\\ipynb\\venv\\lib\\site-packages\\manim\\scene\\scene_file_writer.py#527\" target=\"_blank\"><span style=\"color: #7f7f7f; text-decoration-color: #7f7f7f\">527</span></a>\n",
       "<span style=\"color: #7fbfbf; text-decoration-color: #7fbfbf\">                    </span>         <span style=\"color: #008000; text-decoration-color: #008000\">'E:\\ipynb\\python_design\\yty_math\\media\\videos\\1080p60\\partial</span> <span style=\"color: #7f7f7f; text-decoration-color: #7f7f7f\">                        </span>\n",
       "<span style=\"color: #7fbfbf; text-decoration-color: #7fbfbf\">                    </span>         <span style=\"color: #008000; text-decoration-color: #008000\">_movie_files\\MatrixMulShow\\2852726489_3225177645_1629464121.m</span> <span style=\"color: #7f7f7f; text-decoration-color: #7f7f7f\">                        </span>\n",
       "<span style=\"color: #7fbfbf; text-decoration-color: #7fbfbf\">                    </span>         <span style=\"color: #008000; text-decoration-color: #008000\">p4'</span>                                                           <span style=\"color: #7f7f7f; text-decoration-color: #7f7f7f\">                        </span>\n",
       "</pre>\n"
      ]
     },
     "metadata": {},
     "output_type": "display_data"
    },
    {
     "name": "stderr",
     "output_type": "stream",
     "text": [
      "                                                                                                 \r"
     ]
    },
    {
     "data": {
      "text/plain": [
       "\u001B[2;36m[2024/12/7 2:21:29]\u001B[0m\u001B[2;36m \u001B[0m\u001B[32mINFO    \u001B[0m Animation \u001B[32m44\u001B[0m : Partial movie file written in                  \u001B]8;id=290913;file://E:\\ipynb\\venv\\lib\\site-packages\\manim\\scene\\scene_file_writer.py\u001B\\\u001B[2mscene_file_writer.py\u001B[0m\u001B]8;;\u001B\\\u001B[2m:\u001B[0m\u001B]8;id=989275;file://E:\\ipynb\\venv\\lib\\site-packages\\manim\\scene\\scene_file_writer.py#527\u001B\\\u001B[2m527\u001B[0m\u001B]8;;\u001B\\\n",
       "\u001B[2;36m                    \u001B[0m         \u001B[32m'E:\\ipynb\\python_design\\yty_math\\media\\videos\\1080p60\\partial\u001B[0m \u001B[2m                        \u001B[0m\n",
       "\u001B[2;36m                    \u001B[0m         \u001B[32m_movie_files\\MatrixMulShow\\2852726489_31090494_3338952993.mp4\u001B[0m \u001B[2m                        \u001B[0m\n",
       "\u001B[2;36m                    \u001B[0m         \u001B[32m'\u001B[0m                                                             \u001B[2m                        \u001B[0m\n"
      ],
      "text/html": [
       "<pre style=\"white-space:pre;overflow-x:auto;line-height:normal;font-family:Menlo,'DejaVu Sans Mono',consolas,'Courier New',monospace\"><span style=\"color: #7fbfbf; text-decoration-color: #7fbfbf\">[2024/12/7 2:21:29] </span><span style=\"color: #008000; text-decoration-color: #008000\">INFO    </span> Animation <span style=\"color: #008000; text-decoration-color: #008000\">44</span> : Partial movie file written in                  <a href=\"file://E:\\ipynb\\venv\\lib\\site-packages\\manim\\scene\\scene_file_writer.py\" target=\"_blank\"><span style=\"color: #7f7f7f; text-decoration-color: #7f7f7f\">scene_file_writer.py</span></a><span style=\"color: #7f7f7f; text-decoration-color: #7f7f7f\">:</span><a href=\"file://E:\\ipynb\\venv\\lib\\site-packages\\manim\\scene\\scene_file_writer.py#527\" target=\"_blank\"><span style=\"color: #7f7f7f; text-decoration-color: #7f7f7f\">527</span></a>\n",
       "<span style=\"color: #7fbfbf; text-decoration-color: #7fbfbf\">                    </span>         <span style=\"color: #008000; text-decoration-color: #008000\">'E:\\ipynb\\python_design\\yty_math\\media\\videos\\1080p60\\partial</span> <span style=\"color: #7f7f7f; text-decoration-color: #7f7f7f\">                        </span>\n",
       "<span style=\"color: #7fbfbf; text-decoration-color: #7fbfbf\">                    </span>         <span style=\"color: #008000; text-decoration-color: #008000\">_movie_files\\MatrixMulShow\\2852726489_31090494_3338952993.mp4</span> <span style=\"color: #7f7f7f; text-decoration-color: #7f7f7f\">                        </span>\n",
       "<span style=\"color: #7fbfbf; text-decoration-color: #7fbfbf\">                    </span>         <span style=\"color: #008000; text-decoration-color: #008000\">'</span>                                                             <span style=\"color: #7f7f7f; text-decoration-color: #7f7f7f\">                        </span>\n",
       "</pre>\n"
      ]
     },
     "metadata": {},
     "output_type": "display_data"
    },
    {
     "name": "stderr",
     "output_type": "stream",
     "text": [
      "                                                                                                       \r"
     ]
    },
    {
     "data": {
      "text/plain": [
       "\u001B[2;36m[2024/12/7 2:21:35]\u001B[0m\u001B[2;36m \u001B[0m\u001B[32mINFO    \u001B[0m Animation \u001B[32m45\u001B[0m : Partial movie file written in                  \u001B]8;id=955753;file://E:\\ipynb\\venv\\lib\\site-packages\\manim\\scene\\scene_file_writer.py\u001B\\\u001B[2mscene_file_writer.py\u001B[0m\u001B]8;;\u001B\\\u001B[2m:\u001B[0m\u001B]8;id=749994;file://E:\\ipynb\\venv\\lib\\site-packages\\manim\\scene\\scene_file_writer.py#527\u001B\\\u001B[2m527\u001B[0m\u001B]8;;\u001B\\\n",
       "\u001B[2;36m                    \u001B[0m         \u001B[32m'E:\\ipynb\\python_design\\yty_math\\media\\videos\\1080p60\\partial\u001B[0m \u001B[2m                        \u001B[0m\n",
       "\u001B[2;36m                    \u001B[0m         \u001B[32m_movie_files\\MatrixMulShow\\2852726489_2411344275_2268885477.m\u001B[0m \u001B[2m                        \u001B[0m\n",
       "\u001B[2;36m                    \u001B[0m         \u001B[32mp4'\u001B[0m                                                           \u001B[2m                        \u001B[0m\n"
      ],
      "text/html": [
       "<pre style=\"white-space:pre;overflow-x:auto;line-height:normal;font-family:Menlo,'DejaVu Sans Mono',consolas,'Courier New',monospace\"><span style=\"color: #7fbfbf; text-decoration-color: #7fbfbf\">[2024/12/7 2:21:35] </span><span style=\"color: #008000; text-decoration-color: #008000\">INFO    </span> Animation <span style=\"color: #008000; text-decoration-color: #008000\">45</span> : Partial movie file written in                  <a href=\"file://E:\\ipynb\\venv\\lib\\site-packages\\manim\\scene\\scene_file_writer.py\" target=\"_blank\"><span style=\"color: #7f7f7f; text-decoration-color: #7f7f7f\">scene_file_writer.py</span></a><span style=\"color: #7f7f7f; text-decoration-color: #7f7f7f\">:</span><a href=\"file://E:\\ipynb\\venv\\lib\\site-packages\\manim\\scene\\scene_file_writer.py#527\" target=\"_blank\"><span style=\"color: #7f7f7f; text-decoration-color: #7f7f7f\">527</span></a>\n",
       "<span style=\"color: #7fbfbf; text-decoration-color: #7fbfbf\">                    </span>         <span style=\"color: #008000; text-decoration-color: #008000\">'E:\\ipynb\\python_design\\yty_math\\media\\videos\\1080p60\\partial</span> <span style=\"color: #7f7f7f; text-decoration-color: #7f7f7f\">                        </span>\n",
       "<span style=\"color: #7fbfbf; text-decoration-color: #7fbfbf\">                    </span>         <span style=\"color: #008000; text-decoration-color: #008000\">_movie_files\\MatrixMulShow\\2852726489_2411344275_2268885477.m</span> <span style=\"color: #7f7f7f; text-decoration-color: #7f7f7f\">                        </span>\n",
       "<span style=\"color: #7fbfbf; text-decoration-color: #7fbfbf\">                    </span>         <span style=\"color: #008000; text-decoration-color: #008000\">p4'</span>                                                           <span style=\"color: #7f7f7f; text-decoration-color: #7f7f7f\">                        </span>\n",
       "</pre>\n"
      ]
     },
     "metadata": {},
     "output_type": "display_data"
    },
    {
     "name": "stderr",
     "output_type": "stream",
     "text": [
      "                                                                                                 \r"
     ]
    },
    {
     "data": {
      "text/plain": [
       "\u001B[2;36m[2024/12/7 2:21:40]\u001B[0m\u001B[2;36m \u001B[0m\u001B[32mINFO    \u001B[0m Animation \u001B[32m46\u001B[0m : Partial movie file written in                  \u001B]8;id=784139;file://E:\\ipynb\\venv\\lib\\site-packages\\manim\\scene\\scene_file_writer.py\u001B\\\u001B[2mscene_file_writer.py\u001B[0m\u001B]8;;\u001B\\\u001B[2m:\u001B[0m\u001B]8;id=440521;file://E:\\ipynb\\venv\\lib\\site-packages\\manim\\scene\\scene_file_writer.py#527\u001B\\\u001B[2m527\u001B[0m\u001B]8;;\u001B\\\n",
       "\u001B[2;36m                    \u001B[0m         \u001B[32m'E:\\ipynb\\python_design\\yty_math\\media\\videos\\1080p60\\partial\u001B[0m \u001B[2m                        \u001B[0m\n",
       "\u001B[2;36m                    \u001B[0m         \u001B[32m_movie_files\\MatrixMulShow\\2852726489_2732647952_333084363.mp\u001B[0m \u001B[2m                        \u001B[0m\n",
       "\u001B[2;36m                    \u001B[0m         \u001B[32m4'\u001B[0m                                                            \u001B[2m                        \u001B[0m\n"
      ],
      "text/html": [
       "<pre style=\"white-space:pre;overflow-x:auto;line-height:normal;font-family:Menlo,'DejaVu Sans Mono',consolas,'Courier New',monospace\"><span style=\"color: #7fbfbf; text-decoration-color: #7fbfbf\">[2024/12/7 2:21:40] </span><span style=\"color: #008000; text-decoration-color: #008000\">INFO    </span> Animation <span style=\"color: #008000; text-decoration-color: #008000\">46</span> : Partial movie file written in                  <a href=\"file://E:\\ipynb\\venv\\lib\\site-packages\\manim\\scene\\scene_file_writer.py\" target=\"_blank\"><span style=\"color: #7f7f7f; text-decoration-color: #7f7f7f\">scene_file_writer.py</span></a><span style=\"color: #7f7f7f; text-decoration-color: #7f7f7f\">:</span><a href=\"file://E:\\ipynb\\venv\\lib\\site-packages\\manim\\scene\\scene_file_writer.py#527\" target=\"_blank\"><span style=\"color: #7f7f7f; text-decoration-color: #7f7f7f\">527</span></a>\n",
       "<span style=\"color: #7fbfbf; text-decoration-color: #7fbfbf\">                    </span>         <span style=\"color: #008000; text-decoration-color: #008000\">'E:\\ipynb\\python_design\\yty_math\\media\\videos\\1080p60\\partial</span> <span style=\"color: #7f7f7f; text-decoration-color: #7f7f7f\">                        </span>\n",
       "<span style=\"color: #7fbfbf; text-decoration-color: #7fbfbf\">                    </span>         <span style=\"color: #008000; text-decoration-color: #008000\">_movie_files\\MatrixMulShow\\2852726489_2732647952_333084363.mp</span> <span style=\"color: #7f7f7f; text-decoration-color: #7f7f7f\">                        </span>\n",
       "<span style=\"color: #7fbfbf; text-decoration-color: #7fbfbf\">                    </span>         <span style=\"color: #008000; text-decoration-color: #008000\">4'</span>                                                            <span style=\"color: #7f7f7f; text-decoration-color: #7f7f7f\">                        </span>\n",
       "</pre>\n"
      ]
     },
     "metadata": {},
     "output_type": "display_data"
    },
    {
     "name": "stderr",
     "output_type": "stream",
     "text": [
      "                                                                                 \r"
     ]
    },
    {
     "data": {
      "text/plain": [
       "\u001B[2;36m[2024/12/7 2:21:44]\u001B[0m\u001B[2;36m \u001B[0m\u001B[32mINFO    \u001B[0m Animation \u001B[32m47\u001B[0m : Partial movie file written in                  \u001B]8;id=190095;file://E:\\ipynb\\venv\\lib\\site-packages\\manim\\scene\\scene_file_writer.py\u001B\\\u001B[2mscene_file_writer.py\u001B[0m\u001B]8;;\u001B\\\u001B[2m:\u001B[0m\u001B]8;id=529283;file://E:\\ipynb\\venv\\lib\\site-packages\\manim\\scene\\scene_file_writer.py#527\u001B\\\u001B[2m527\u001B[0m\u001B]8;;\u001B\\\n",
       "\u001B[2;36m                    \u001B[0m         \u001B[32m'E:\\ipynb\\python_design\\yty_math\\media\\videos\\1080p60\\partial\u001B[0m \u001B[2m                        \u001B[0m\n",
       "\u001B[2;36m                    \u001B[0m         \u001B[32m_movie_files\\MatrixMulShow\\2852726489_2478382553_847036009.mp\u001B[0m \u001B[2m                        \u001B[0m\n",
       "\u001B[2;36m                    \u001B[0m         \u001B[32m4'\u001B[0m                                                            \u001B[2m                        \u001B[0m\n"
      ],
      "text/html": [
       "<pre style=\"white-space:pre;overflow-x:auto;line-height:normal;font-family:Menlo,'DejaVu Sans Mono',consolas,'Courier New',monospace\"><span style=\"color: #7fbfbf; text-decoration-color: #7fbfbf\">[2024/12/7 2:21:44] </span><span style=\"color: #008000; text-decoration-color: #008000\">INFO    </span> Animation <span style=\"color: #008000; text-decoration-color: #008000\">47</span> : Partial movie file written in                  <a href=\"file://E:\\ipynb\\venv\\lib\\site-packages\\manim\\scene\\scene_file_writer.py\" target=\"_blank\"><span style=\"color: #7f7f7f; text-decoration-color: #7f7f7f\">scene_file_writer.py</span></a><span style=\"color: #7f7f7f; text-decoration-color: #7f7f7f\">:</span><a href=\"file://E:\\ipynb\\venv\\lib\\site-packages\\manim\\scene\\scene_file_writer.py#527\" target=\"_blank\"><span style=\"color: #7f7f7f; text-decoration-color: #7f7f7f\">527</span></a>\n",
       "<span style=\"color: #7fbfbf; text-decoration-color: #7fbfbf\">                    </span>         <span style=\"color: #008000; text-decoration-color: #008000\">'E:\\ipynb\\python_design\\yty_math\\media\\videos\\1080p60\\partial</span> <span style=\"color: #7f7f7f; text-decoration-color: #7f7f7f\">                        </span>\n",
       "<span style=\"color: #7fbfbf; text-decoration-color: #7fbfbf\">                    </span>         <span style=\"color: #008000; text-decoration-color: #008000\">_movie_files\\MatrixMulShow\\2852726489_2478382553_847036009.mp</span> <span style=\"color: #7f7f7f; text-decoration-color: #7f7f7f\">                        </span>\n",
       "<span style=\"color: #7fbfbf; text-decoration-color: #7fbfbf\">                    </span>         <span style=\"color: #008000; text-decoration-color: #008000\">4'</span>                                                            <span style=\"color: #7f7f7f; text-decoration-color: #7f7f7f\">                        </span>\n",
       "</pre>\n"
      ]
     },
     "metadata": {},
     "output_type": "display_data"
    },
    {
     "name": "stderr",
     "output_type": "stream",
     "text": [
      "                                                                                           \r"
     ]
    },
    {
     "data": {
      "text/plain": [
       "\u001B[2;36m[2024/12/7 2:21:48]\u001B[0m\u001B[2;36m \u001B[0m\u001B[32mINFO    \u001B[0m Animation \u001B[32m48\u001B[0m : Partial movie file written in                  \u001B]8;id=909928;file://E:\\ipynb\\venv\\lib\\site-packages\\manim\\scene\\scene_file_writer.py\u001B\\\u001B[2mscene_file_writer.py\u001B[0m\u001B]8;;\u001B\\\u001B[2m:\u001B[0m\u001B]8;id=71627;file://E:\\ipynb\\venv\\lib\\site-packages\\manim\\scene\\scene_file_writer.py#527\u001B\\\u001B[2m527\u001B[0m\u001B]8;;\u001B\\\n",
       "\u001B[2;36m                    \u001B[0m         \u001B[32m'E:\\ipynb\\python_design\\yty_math\\media\\videos\\1080p60\\partial\u001B[0m \u001B[2m                        \u001B[0m\n",
       "\u001B[2;36m                    \u001B[0m         \u001B[32m_movie_files\\MatrixMulShow\\2852726489_3928211084_1098528732.m\u001B[0m \u001B[2m                        \u001B[0m\n",
       "\u001B[2;36m                    \u001B[0m         \u001B[32mp4'\u001B[0m                                                           \u001B[2m                        \u001B[0m\n"
      ],
      "text/html": [
       "<pre style=\"white-space:pre;overflow-x:auto;line-height:normal;font-family:Menlo,'DejaVu Sans Mono',consolas,'Courier New',monospace\"><span style=\"color: #7fbfbf; text-decoration-color: #7fbfbf\">[2024/12/7 2:21:48] </span><span style=\"color: #008000; text-decoration-color: #008000\">INFO    </span> Animation <span style=\"color: #008000; text-decoration-color: #008000\">48</span> : Partial movie file written in                  <a href=\"file://E:\\ipynb\\venv\\lib\\site-packages\\manim\\scene\\scene_file_writer.py\" target=\"_blank\"><span style=\"color: #7f7f7f; text-decoration-color: #7f7f7f\">scene_file_writer.py</span></a><span style=\"color: #7f7f7f; text-decoration-color: #7f7f7f\">:</span><a href=\"file://E:\\ipynb\\venv\\lib\\site-packages\\manim\\scene\\scene_file_writer.py#527\" target=\"_blank\"><span style=\"color: #7f7f7f; text-decoration-color: #7f7f7f\">527</span></a>\n",
       "<span style=\"color: #7fbfbf; text-decoration-color: #7fbfbf\">                    </span>         <span style=\"color: #008000; text-decoration-color: #008000\">'E:\\ipynb\\python_design\\yty_math\\media\\videos\\1080p60\\partial</span> <span style=\"color: #7f7f7f; text-decoration-color: #7f7f7f\">                        </span>\n",
       "<span style=\"color: #7fbfbf; text-decoration-color: #7fbfbf\">                    </span>         <span style=\"color: #008000; text-decoration-color: #008000\">_movie_files\\MatrixMulShow\\2852726489_3928211084_1098528732.m</span> <span style=\"color: #7f7f7f; text-decoration-color: #7f7f7f\">                        </span>\n",
       "<span style=\"color: #7fbfbf; text-decoration-color: #7fbfbf\">                    </span>         <span style=\"color: #008000; text-decoration-color: #008000\">p4'</span>                                                           <span style=\"color: #7f7f7f; text-decoration-color: #7f7f7f\">                        </span>\n",
       "</pre>\n"
      ]
     },
     "metadata": {},
     "output_type": "display_data"
    },
    {
     "name": "stderr",
     "output_type": "stream",
     "text": [
      "                                                                                               \r"
     ]
    },
    {
     "data": {
      "text/plain": [
       "\u001B[2;36m[2024/12/7 2:21:54]\u001B[0m\u001B[2;36m \u001B[0m\u001B[32mINFO    \u001B[0m Animation \u001B[32m49\u001B[0m : Partial movie file written in                  \u001B]8;id=263838;file://E:\\ipynb\\venv\\lib\\site-packages\\manim\\scene\\scene_file_writer.py\u001B\\\u001B[2mscene_file_writer.py\u001B[0m\u001B]8;;\u001B\\\u001B[2m:\u001B[0m\u001B]8;id=978728;file://E:\\ipynb\\venv\\lib\\site-packages\\manim\\scene\\scene_file_writer.py#527\u001B\\\u001B[2m527\u001B[0m\u001B]8;;\u001B\\\n",
       "\u001B[2;36m                    \u001B[0m         \u001B[32m'E:\\ipynb\\python_design\\yty_math\\media\\videos\\1080p60\\partial\u001B[0m \u001B[2m                        \u001B[0m\n",
       "\u001B[2;36m                    \u001B[0m         \u001B[32m_movie_files\\MatrixMulShow\\2852726489_1477943769_1482714433.m\u001B[0m \u001B[2m                        \u001B[0m\n",
       "\u001B[2;36m                    \u001B[0m         \u001B[32mp4'\u001B[0m                                                           \u001B[2m                        \u001B[0m\n"
      ],
      "text/html": [
       "<pre style=\"white-space:pre;overflow-x:auto;line-height:normal;font-family:Menlo,'DejaVu Sans Mono',consolas,'Courier New',monospace\"><span style=\"color: #7fbfbf; text-decoration-color: #7fbfbf\">[2024/12/7 2:21:54] </span><span style=\"color: #008000; text-decoration-color: #008000\">INFO    </span> Animation <span style=\"color: #008000; text-decoration-color: #008000\">49</span> : Partial movie file written in                  <a href=\"file://E:\\ipynb\\venv\\lib\\site-packages\\manim\\scene\\scene_file_writer.py\" target=\"_blank\"><span style=\"color: #7f7f7f; text-decoration-color: #7f7f7f\">scene_file_writer.py</span></a><span style=\"color: #7f7f7f; text-decoration-color: #7f7f7f\">:</span><a href=\"file://E:\\ipynb\\venv\\lib\\site-packages\\manim\\scene\\scene_file_writer.py#527\" target=\"_blank\"><span style=\"color: #7f7f7f; text-decoration-color: #7f7f7f\">527</span></a>\n",
       "<span style=\"color: #7fbfbf; text-decoration-color: #7fbfbf\">                    </span>         <span style=\"color: #008000; text-decoration-color: #008000\">'E:\\ipynb\\python_design\\yty_math\\media\\videos\\1080p60\\partial</span> <span style=\"color: #7f7f7f; text-decoration-color: #7f7f7f\">                        </span>\n",
       "<span style=\"color: #7fbfbf; text-decoration-color: #7fbfbf\">                    </span>         <span style=\"color: #008000; text-decoration-color: #008000\">_movie_files\\MatrixMulShow\\2852726489_1477943769_1482714433.m</span> <span style=\"color: #7f7f7f; text-decoration-color: #7f7f7f\">                        </span>\n",
       "<span style=\"color: #7fbfbf; text-decoration-color: #7fbfbf\">                    </span>         <span style=\"color: #008000; text-decoration-color: #008000\">p4'</span>                                                           <span style=\"color: #7f7f7f; text-decoration-color: #7f7f7f\">                        </span>\n",
       "</pre>\n"
      ]
     },
     "metadata": {},
     "output_type": "display_data"
    },
    {
     "name": "stderr",
     "output_type": "stream",
     "text": [
      "                                                                                                    \r"
     ]
    },
    {
     "data": {
      "text/plain": [
       "\u001B[2;36m[2024/12/7 2:21:59]\u001B[0m\u001B[2;36m \u001B[0m\u001B[32mINFO    \u001B[0m Animation \u001B[32m50\u001B[0m : Partial movie file written in                  \u001B]8;id=576139;file://E:\\ipynb\\venv\\lib\\site-packages\\manim\\scene\\scene_file_writer.py\u001B\\\u001B[2mscene_file_writer.py\u001B[0m\u001B]8;;\u001B\\\u001B[2m:\u001B[0m\u001B]8;id=821397;file://E:\\ipynb\\venv\\lib\\site-packages\\manim\\scene\\scene_file_writer.py#527\u001B\\\u001B[2m527\u001B[0m\u001B]8;;\u001B\\\n",
       "\u001B[2;36m                    \u001B[0m         \u001B[32m'E:\\ipynb\\python_design\\yty_math\\media\\videos\\1080p60\\partial\u001B[0m \u001B[2m                        \u001B[0m\n",
       "\u001B[2;36m                    \u001B[0m         \u001B[32m_movie_files\\MatrixMulShow\\2852726489_117014889_3653043166.mp\u001B[0m \u001B[2m                        \u001B[0m\n",
       "\u001B[2;36m                    \u001B[0m         \u001B[32m4'\u001B[0m                                                            \u001B[2m                        \u001B[0m\n"
      ],
      "text/html": [
       "<pre style=\"white-space:pre;overflow-x:auto;line-height:normal;font-family:Menlo,'DejaVu Sans Mono',consolas,'Courier New',monospace\"><span style=\"color: #7fbfbf; text-decoration-color: #7fbfbf\">[2024/12/7 2:21:59] </span><span style=\"color: #008000; text-decoration-color: #008000\">INFO    </span> Animation <span style=\"color: #008000; text-decoration-color: #008000\">50</span> : Partial movie file written in                  <a href=\"file://E:\\ipynb\\venv\\lib\\site-packages\\manim\\scene\\scene_file_writer.py\" target=\"_blank\"><span style=\"color: #7f7f7f; text-decoration-color: #7f7f7f\">scene_file_writer.py</span></a><span style=\"color: #7f7f7f; text-decoration-color: #7f7f7f\">:</span><a href=\"file://E:\\ipynb\\venv\\lib\\site-packages\\manim\\scene\\scene_file_writer.py#527\" target=\"_blank\"><span style=\"color: #7f7f7f; text-decoration-color: #7f7f7f\">527</span></a>\n",
       "<span style=\"color: #7fbfbf; text-decoration-color: #7fbfbf\">                    </span>         <span style=\"color: #008000; text-decoration-color: #008000\">'E:\\ipynb\\python_design\\yty_math\\media\\videos\\1080p60\\partial</span> <span style=\"color: #7f7f7f; text-decoration-color: #7f7f7f\">                        </span>\n",
       "<span style=\"color: #7fbfbf; text-decoration-color: #7fbfbf\">                    </span>         <span style=\"color: #008000; text-decoration-color: #008000\">_movie_files\\MatrixMulShow\\2852726489_117014889_3653043166.mp</span> <span style=\"color: #7f7f7f; text-decoration-color: #7f7f7f\">                        </span>\n",
       "<span style=\"color: #7fbfbf; text-decoration-color: #7fbfbf\">                    </span>         <span style=\"color: #008000; text-decoration-color: #008000\">4'</span>                                                            <span style=\"color: #7f7f7f; text-decoration-color: #7f7f7f\">                        </span>\n",
       "</pre>\n"
      ]
     },
     "metadata": {},
     "output_type": "display_data"
    },
    {
     "name": "stderr",
     "output_type": "stream",
     "text": [
      "                                                                                                       \r"
     ]
    },
    {
     "data": {
      "text/plain": [
       "\u001B[2;36m[2024/12/7 2:22:05]\u001B[0m\u001B[2;36m \u001B[0m\u001B[32mINFO    \u001B[0m Animation \u001B[32m51\u001B[0m : Partial movie file written in                  \u001B]8;id=478359;file://E:\\ipynb\\venv\\lib\\site-packages\\manim\\scene\\scene_file_writer.py\u001B\\\u001B[2mscene_file_writer.py\u001B[0m\u001B]8;;\u001B\\\u001B[2m:\u001B[0m\u001B]8;id=21214;file://E:\\ipynb\\venv\\lib\\site-packages\\manim\\scene\\scene_file_writer.py#527\u001B\\\u001B[2m527\u001B[0m\u001B]8;;\u001B\\\n",
       "\u001B[2;36m                    \u001B[0m         \u001B[32m'E:\\ipynb\\python_design\\yty_math\\media\\videos\\1080p60\\partial\u001B[0m \u001B[2m                        \u001B[0m\n",
       "\u001B[2;36m                    \u001B[0m         \u001B[32m_movie_files\\MatrixMulShow\\2852726489_1835525135_2448164777.m\u001B[0m \u001B[2m                        \u001B[0m\n",
       "\u001B[2;36m                    \u001B[0m         \u001B[32mp4'\u001B[0m                                                           \u001B[2m                        \u001B[0m\n"
      ],
      "text/html": [
       "<pre style=\"white-space:pre;overflow-x:auto;line-height:normal;font-family:Menlo,'DejaVu Sans Mono',consolas,'Courier New',monospace\"><span style=\"color: #7fbfbf; text-decoration-color: #7fbfbf\">[2024/12/7 2:22:05] </span><span style=\"color: #008000; text-decoration-color: #008000\">INFO    </span> Animation <span style=\"color: #008000; text-decoration-color: #008000\">51</span> : Partial movie file written in                  <a href=\"file://E:\\ipynb\\venv\\lib\\site-packages\\manim\\scene\\scene_file_writer.py\" target=\"_blank\"><span style=\"color: #7f7f7f; text-decoration-color: #7f7f7f\">scene_file_writer.py</span></a><span style=\"color: #7f7f7f; text-decoration-color: #7f7f7f\">:</span><a href=\"file://E:\\ipynb\\venv\\lib\\site-packages\\manim\\scene\\scene_file_writer.py#527\" target=\"_blank\"><span style=\"color: #7f7f7f; text-decoration-color: #7f7f7f\">527</span></a>\n",
       "<span style=\"color: #7fbfbf; text-decoration-color: #7fbfbf\">                    </span>         <span style=\"color: #008000; text-decoration-color: #008000\">'E:\\ipynb\\python_design\\yty_math\\media\\videos\\1080p60\\partial</span> <span style=\"color: #7f7f7f; text-decoration-color: #7f7f7f\">                        </span>\n",
       "<span style=\"color: #7fbfbf; text-decoration-color: #7fbfbf\">                    </span>         <span style=\"color: #008000; text-decoration-color: #008000\">_movie_files\\MatrixMulShow\\2852726489_1835525135_2448164777.m</span> <span style=\"color: #7f7f7f; text-decoration-color: #7f7f7f\">                        </span>\n",
       "<span style=\"color: #7fbfbf; text-decoration-color: #7fbfbf\">                    </span>         <span style=\"color: #008000; text-decoration-color: #008000\">p4'</span>                                                           <span style=\"color: #7f7f7f; text-decoration-color: #7f7f7f\">                        </span>\n",
       "</pre>\n"
      ]
     },
     "metadata": {},
     "output_type": "display_data"
    },
    {
     "name": "stderr",
     "output_type": "stream",
     "text": [
      "                                                                                                 \r"
     ]
    },
    {
     "data": {
      "text/plain": [
       "\u001B[2;36m[2024/12/7 2:22:10]\u001B[0m\u001B[2;36m \u001B[0m\u001B[32mINFO    \u001B[0m Animation \u001B[32m52\u001B[0m : Partial movie file written in                  \u001B]8;id=903652;file://E:\\ipynb\\venv\\lib\\site-packages\\manim\\scene\\scene_file_writer.py\u001B\\\u001B[2mscene_file_writer.py\u001B[0m\u001B]8;;\u001B\\\u001B[2m:\u001B[0m\u001B]8;id=590300;file://E:\\ipynb\\venv\\lib\\site-packages\\manim\\scene\\scene_file_writer.py#527\u001B\\\u001B[2m527\u001B[0m\u001B]8;;\u001B\\\n",
       "\u001B[2;36m                    \u001B[0m         \u001B[32m'E:\\ipynb\\python_design\\yty_math\\media\\videos\\1080p60\\partial\u001B[0m \u001B[2m                        \u001B[0m\n",
       "\u001B[2;36m                    \u001B[0m         \u001B[32m_movie_files\\MatrixMulShow\\2852726489_518384158_928832829.mp4\u001B[0m \u001B[2m                        \u001B[0m\n",
       "\u001B[2;36m                    \u001B[0m         \u001B[32m'\u001B[0m                                                             \u001B[2m                        \u001B[0m\n"
      ],
      "text/html": [
       "<pre style=\"white-space:pre;overflow-x:auto;line-height:normal;font-family:Menlo,'DejaVu Sans Mono',consolas,'Courier New',monospace\"><span style=\"color: #7fbfbf; text-decoration-color: #7fbfbf\">[2024/12/7 2:22:10] </span><span style=\"color: #008000; text-decoration-color: #008000\">INFO    </span> Animation <span style=\"color: #008000; text-decoration-color: #008000\">52</span> : Partial movie file written in                  <a href=\"file://E:\\ipynb\\venv\\lib\\site-packages\\manim\\scene\\scene_file_writer.py\" target=\"_blank\"><span style=\"color: #7f7f7f; text-decoration-color: #7f7f7f\">scene_file_writer.py</span></a><span style=\"color: #7f7f7f; text-decoration-color: #7f7f7f\">:</span><a href=\"file://E:\\ipynb\\venv\\lib\\site-packages\\manim\\scene\\scene_file_writer.py#527\" target=\"_blank\"><span style=\"color: #7f7f7f; text-decoration-color: #7f7f7f\">527</span></a>\n",
       "<span style=\"color: #7fbfbf; text-decoration-color: #7fbfbf\">                    </span>         <span style=\"color: #008000; text-decoration-color: #008000\">'E:\\ipynb\\python_design\\yty_math\\media\\videos\\1080p60\\partial</span> <span style=\"color: #7f7f7f; text-decoration-color: #7f7f7f\">                        </span>\n",
       "<span style=\"color: #7fbfbf; text-decoration-color: #7fbfbf\">                    </span>         <span style=\"color: #008000; text-decoration-color: #008000\">_movie_files\\MatrixMulShow\\2852726489_518384158_928832829.mp4</span> <span style=\"color: #7f7f7f; text-decoration-color: #7f7f7f\">                        </span>\n",
       "<span style=\"color: #7fbfbf; text-decoration-color: #7fbfbf\">                    </span>         <span style=\"color: #008000; text-decoration-color: #008000\">'</span>                                                             <span style=\"color: #7f7f7f; text-decoration-color: #7f7f7f\">                        </span>\n",
       "</pre>\n"
      ]
     },
     "metadata": {},
     "output_type": "display_data"
    },
    {
     "name": "stderr",
     "output_type": "stream",
     "text": [
      "                                                                                                       \r"
     ]
    },
    {
     "data": {
      "text/plain": [
       "\u001B[2;36m[2024/12/7 2:22:16]\u001B[0m\u001B[2;36m \u001B[0m\u001B[32mINFO    \u001B[0m Animation \u001B[32m53\u001B[0m : Partial movie file written in                  \u001B]8;id=304835;file://E:\\ipynb\\venv\\lib\\site-packages\\manim\\scene\\scene_file_writer.py\u001B\\\u001B[2mscene_file_writer.py\u001B[0m\u001B]8;;\u001B\\\u001B[2m:\u001B[0m\u001B]8;id=604929;file://E:\\ipynb\\venv\\lib\\site-packages\\manim\\scene\\scene_file_writer.py#527\u001B\\\u001B[2m527\u001B[0m\u001B]8;;\u001B\\\n",
       "\u001B[2;36m                    \u001B[0m         \u001B[32m'E:\\ipynb\\python_design\\yty_math\\media\\videos\\1080p60\\partial\u001B[0m \u001B[2m                        \u001B[0m\n",
       "\u001B[2;36m                    \u001B[0m         \u001B[32m_movie_files\\MatrixMulShow\\2852726489_3717489857_2927493079.m\u001B[0m \u001B[2m                        \u001B[0m\n",
       "\u001B[2;36m                    \u001B[0m         \u001B[32mp4'\u001B[0m                                                           \u001B[2m                        \u001B[0m\n"
      ],
      "text/html": [
       "<pre style=\"white-space:pre;overflow-x:auto;line-height:normal;font-family:Menlo,'DejaVu Sans Mono',consolas,'Courier New',monospace\"><span style=\"color: #7fbfbf; text-decoration-color: #7fbfbf\">[2024/12/7 2:22:16] </span><span style=\"color: #008000; text-decoration-color: #008000\">INFO    </span> Animation <span style=\"color: #008000; text-decoration-color: #008000\">53</span> : Partial movie file written in                  <a href=\"file://E:\\ipynb\\venv\\lib\\site-packages\\manim\\scene\\scene_file_writer.py\" target=\"_blank\"><span style=\"color: #7f7f7f; text-decoration-color: #7f7f7f\">scene_file_writer.py</span></a><span style=\"color: #7f7f7f; text-decoration-color: #7f7f7f\">:</span><a href=\"file://E:\\ipynb\\venv\\lib\\site-packages\\manim\\scene\\scene_file_writer.py#527\" target=\"_blank\"><span style=\"color: #7f7f7f; text-decoration-color: #7f7f7f\">527</span></a>\n",
       "<span style=\"color: #7fbfbf; text-decoration-color: #7fbfbf\">                    </span>         <span style=\"color: #008000; text-decoration-color: #008000\">'E:\\ipynb\\python_design\\yty_math\\media\\videos\\1080p60\\partial</span> <span style=\"color: #7f7f7f; text-decoration-color: #7f7f7f\">                        </span>\n",
       "<span style=\"color: #7fbfbf; text-decoration-color: #7fbfbf\">                    </span>         <span style=\"color: #008000; text-decoration-color: #008000\">_movie_files\\MatrixMulShow\\2852726489_3717489857_2927493079.m</span> <span style=\"color: #7f7f7f; text-decoration-color: #7f7f7f\">                        </span>\n",
       "<span style=\"color: #7fbfbf; text-decoration-color: #7fbfbf\">                    </span>         <span style=\"color: #008000; text-decoration-color: #008000\">p4'</span>                                                           <span style=\"color: #7f7f7f; text-decoration-color: #7f7f7f\">                        </span>\n",
       "</pre>\n"
      ]
     },
     "metadata": {},
     "output_type": "display_data"
    },
    {
     "name": "stderr",
     "output_type": "stream",
     "text": [
      "                                                                                                 \r"
     ]
    },
    {
     "data": {
      "text/plain": [
       "\u001B[2;36m[2024/12/7 2:22:21]\u001B[0m\u001B[2;36m \u001B[0m\u001B[32mINFO    \u001B[0m Animation \u001B[32m54\u001B[0m : Partial movie file written in                  \u001B]8;id=232920;file://E:\\ipynb\\venv\\lib\\site-packages\\manim\\scene\\scene_file_writer.py\u001B\\\u001B[2mscene_file_writer.py\u001B[0m\u001B]8;;\u001B\\\u001B[2m:\u001B[0m\u001B]8;id=865052;file://E:\\ipynb\\venv\\lib\\site-packages\\manim\\scene\\scene_file_writer.py#527\u001B\\\u001B[2m527\u001B[0m\u001B]8;;\u001B\\\n",
       "\u001B[2;36m                    \u001B[0m         \u001B[32m'E:\\ipynb\\python_design\\yty_math\\media\\videos\\1080p60\\partial\u001B[0m \u001B[2m                        \u001B[0m\n",
       "\u001B[2;36m                    \u001B[0m         \u001B[32m_movie_files\\MatrixMulShow\\2852726489_971790780_3233519359.mp\u001B[0m \u001B[2m                        \u001B[0m\n",
       "\u001B[2;36m                    \u001B[0m         \u001B[32m4'\u001B[0m                                                            \u001B[2m                        \u001B[0m\n"
      ],
      "text/html": [
       "<pre style=\"white-space:pre;overflow-x:auto;line-height:normal;font-family:Menlo,'DejaVu Sans Mono',consolas,'Courier New',monospace\"><span style=\"color: #7fbfbf; text-decoration-color: #7fbfbf\">[2024/12/7 2:22:21] </span><span style=\"color: #008000; text-decoration-color: #008000\">INFO    </span> Animation <span style=\"color: #008000; text-decoration-color: #008000\">54</span> : Partial movie file written in                  <a href=\"file://E:\\ipynb\\venv\\lib\\site-packages\\manim\\scene\\scene_file_writer.py\" target=\"_blank\"><span style=\"color: #7f7f7f; text-decoration-color: #7f7f7f\">scene_file_writer.py</span></a><span style=\"color: #7f7f7f; text-decoration-color: #7f7f7f\">:</span><a href=\"file://E:\\ipynb\\venv\\lib\\site-packages\\manim\\scene\\scene_file_writer.py#527\" target=\"_blank\"><span style=\"color: #7f7f7f; text-decoration-color: #7f7f7f\">527</span></a>\n",
       "<span style=\"color: #7fbfbf; text-decoration-color: #7fbfbf\">                    </span>         <span style=\"color: #008000; text-decoration-color: #008000\">'E:\\ipynb\\python_design\\yty_math\\media\\videos\\1080p60\\partial</span> <span style=\"color: #7f7f7f; text-decoration-color: #7f7f7f\">                        </span>\n",
       "<span style=\"color: #7fbfbf; text-decoration-color: #7fbfbf\">                    </span>         <span style=\"color: #008000; text-decoration-color: #008000\">_movie_files\\MatrixMulShow\\2852726489_971790780_3233519359.mp</span> <span style=\"color: #7f7f7f; text-decoration-color: #7f7f7f\">                        </span>\n",
       "<span style=\"color: #7fbfbf; text-decoration-color: #7fbfbf\">                    </span>         <span style=\"color: #008000; text-decoration-color: #008000\">4'</span>                                                            <span style=\"color: #7f7f7f; text-decoration-color: #7f7f7f\">                        </span>\n",
       "</pre>\n"
      ]
     },
     "metadata": {},
     "output_type": "display_data"
    },
    {
     "name": "stderr",
     "output_type": "stream",
     "text": [
      "                                                                                 \r"
     ]
    },
    {
     "data": {
      "text/plain": [
       "\u001B[2;36m[2024/12/7 2:22:25]\u001B[0m\u001B[2;36m \u001B[0m\u001B[32mINFO    \u001B[0m Animation \u001B[32m55\u001B[0m : Partial movie file written in                  \u001B]8;id=234415;file://E:\\ipynb\\venv\\lib\\site-packages\\manim\\scene\\scene_file_writer.py\u001B\\\u001B[2mscene_file_writer.py\u001B[0m\u001B]8;;\u001B\\\u001B[2m:\u001B[0m\u001B]8;id=40372;file://E:\\ipynb\\venv\\lib\\site-packages\\manim\\scene\\scene_file_writer.py#527\u001B\\\u001B[2m527\u001B[0m\u001B]8;;\u001B\\\n",
       "\u001B[2;36m                    \u001B[0m         \u001B[32m'E:\\ipynb\\python_design\\yty_math\\media\\videos\\1080p60\\partial\u001B[0m \u001B[2m                        \u001B[0m\n",
       "\u001B[2;36m                    \u001B[0m         \u001B[32m_movie_files\\MatrixMulShow\\2852726489_1001976832_2669238528.m\u001B[0m \u001B[2m                        \u001B[0m\n",
       "\u001B[2;36m                    \u001B[0m         \u001B[32mp4'\u001B[0m                                                           \u001B[2m                        \u001B[0m\n"
      ],
      "text/html": [
       "<pre style=\"white-space:pre;overflow-x:auto;line-height:normal;font-family:Menlo,'DejaVu Sans Mono',consolas,'Courier New',monospace\"><span style=\"color: #7fbfbf; text-decoration-color: #7fbfbf\">[2024/12/7 2:22:25] </span><span style=\"color: #008000; text-decoration-color: #008000\">INFO    </span> Animation <span style=\"color: #008000; text-decoration-color: #008000\">55</span> : Partial movie file written in                  <a href=\"file://E:\\ipynb\\venv\\lib\\site-packages\\manim\\scene\\scene_file_writer.py\" target=\"_blank\"><span style=\"color: #7f7f7f; text-decoration-color: #7f7f7f\">scene_file_writer.py</span></a><span style=\"color: #7f7f7f; text-decoration-color: #7f7f7f\">:</span><a href=\"file://E:\\ipynb\\venv\\lib\\site-packages\\manim\\scene\\scene_file_writer.py#527\" target=\"_blank\"><span style=\"color: #7f7f7f; text-decoration-color: #7f7f7f\">527</span></a>\n",
       "<span style=\"color: #7fbfbf; text-decoration-color: #7fbfbf\">                    </span>         <span style=\"color: #008000; text-decoration-color: #008000\">'E:\\ipynb\\python_design\\yty_math\\media\\videos\\1080p60\\partial</span> <span style=\"color: #7f7f7f; text-decoration-color: #7f7f7f\">                        </span>\n",
       "<span style=\"color: #7fbfbf; text-decoration-color: #7fbfbf\">                    </span>         <span style=\"color: #008000; text-decoration-color: #008000\">_movie_files\\MatrixMulShow\\2852726489_1001976832_2669238528.m</span> <span style=\"color: #7f7f7f; text-decoration-color: #7f7f7f\">                        </span>\n",
       "<span style=\"color: #7fbfbf; text-decoration-color: #7fbfbf\">                    </span>         <span style=\"color: #008000; text-decoration-color: #008000\">p4'</span>                                                           <span style=\"color: #7f7f7f; text-decoration-color: #7f7f7f\">                        </span>\n",
       "</pre>\n"
      ]
     },
     "metadata": {},
     "output_type": "display_data"
    },
    {
     "name": "stderr",
     "output_type": "stream",
     "text": [
      "                                                                                           \r"
     ]
    },
    {
     "data": {
      "text/plain": [
       "\u001B[2;36m[2024/12/7 2:22:30]\u001B[0m\u001B[2;36m \u001B[0m\u001B[32mINFO    \u001B[0m Animation \u001B[32m56\u001B[0m : Partial movie file written in                  \u001B]8;id=938602;file://E:\\ipynb\\venv\\lib\\site-packages\\manim\\scene\\scene_file_writer.py\u001B\\\u001B[2mscene_file_writer.py\u001B[0m\u001B]8;;\u001B\\\u001B[2m:\u001B[0m\u001B]8;id=482303;file://E:\\ipynb\\venv\\lib\\site-packages\\manim\\scene\\scene_file_writer.py#527\u001B\\\u001B[2m527\u001B[0m\u001B]8;;\u001B\\\n",
       "\u001B[2;36m                    \u001B[0m         \u001B[32m'E:\\ipynb\\python_design\\yty_math\\media\\videos\\1080p60\\partial\u001B[0m \u001B[2m                        \u001B[0m\n",
       "\u001B[2;36m                    \u001B[0m         \u001B[32m_movie_files\\MatrixMulShow\\2852726489_3383832932_1696615000.m\u001B[0m \u001B[2m                        \u001B[0m\n",
       "\u001B[2;36m                    \u001B[0m         \u001B[32mp4'\u001B[0m                                                           \u001B[2m                        \u001B[0m\n"
      ],
      "text/html": [
       "<pre style=\"white-space:pre;overflow-x:auto;line-height:normal;font-family:Menlo,'DejaVu Sans Mono',consolas,'Courier New',monospace\"><span style=\"color: #7fbfbf; text-decoration-color: #7fbfbf\">[2024/12/7 2:22:30] </span><span style=\"color: #008000; text-decoration-color: #008000\">INFO    </span> Animation <span style=\"color: #008000; text-decoration-color: #008000\">56</span> : Partial movie file written in                  <a href=\"file://E:\\ipynb\\venv\\lib\\site-packages\\manim\\scene\\scene_file_writer.py\" target=\"_blank\"><span style=\"color: #7f7f7f; text-decoration-color: #7f7f7f\">scene_file_writer.py</span></a><span style=\"color: #7f7f7f; text-decoration-color: #7f7f7f\">:</span><a href=\"file://E:\\ipynb\\venv\\lib\\site-packages\\manim\\scene\\scene_file_writer.py#527\" target=\"_blank\"><span style=\"color: #7f7f7f; text-decoration-color: #7f7f7f\">527</span></a>\n",
       "<span style=\"color: #7fbfbf; text-decoration-color: #7fbfbf\">                    </span>         <span style=\"color: #008000; text-decoration-color: #008000\">'E:\\ipynb\\python_design\\yty_math\\media\\videos\\1080p60\\partial</span> <span style=\"color: #7f7f7f; text-decoration-color: #7f7f7f\">                        </span>\n",
       "<span style=\"color: #7fbfbf; text-decoration-color: #7fbfbf\">                    </span>         <span style=\"color: #008000; text-decoration-color: #008000\">_movie_files\\MatrixMulShow\\2852726489_3383832932_1696615000.m</span> <span style=\"color: #7f7f7f; text-decoration-color: #7f7f7f\">                        </span>\n",
       "<span style=\"color: #7fbfbf; text-decoration-color: #7fbfbf\">                    </span>         <span style=\"color: #008000; text-decoration-color: #008000\">p4'</span>                                                           <span style=\"color: #7f7f7f; text-decoration-color: #7f7f7f\">                        </span>\n",
       "</pre>\n"
      ]
     },
     "metadata": {},
     "output_type": "display_data"
    },
    {
     "name": "stderr",
     "output_type": "stream",
     "text": [
      "                                                                                               \r"
     ]
    },
    {
     "data": {
      "text/plain": [
       "\u001B[2;36m[2024/12/7 2:22:37]\u001B[0m\u001B[2;36m \u001B[0m\u001B[32mINFO    \u001B[0m Animation \u001B[32m57\u001B[0m : Partial movie file written in                  \u001B]8;id=958805;file://E:\\ipynb\\venv\\lib\\site-packages\\manim\\scene\\scene_file_writer.py\u001B\\\u001B[2mscene_file_writer.py\u001B[0m\u001B]8;;\u001B\\\u001B[2m:\u001B[0m\u001B]8;id=971905;file://E:\\ipynb\\venv\\lib\\site-packages\\manim\\scene\\scene_file_writer.py#527\u001B\\\u001B[2m527\u001B[0m\u001B]8;;\u001B\\\n",
       "\u001B[2;36m                    \u001B[0m         \u001B[32m'E:\\ipynb\\python_design\\yty_math\\media\\videos\\1080p60\\partial\u001B[0m \u001B[2m                        \u001B[0m\n",
       "\u001B[2;36m                    \u001B[0m         \u001B[32m_movie_files\\MatrixMulShow\\2852726489_3201114511_4269231438.m\u001B[0m \u001B[2m                        \u001B[0m\n",
       "\u001B[2;36m                    \u001B[0m         \u001B[32mp4'\u001B[0m                                                           \u001B[2m                        \u001B[0m\n"
      ],
      "text/html": [
       "<pre style=\"white-space:pre;overflow-x:auto;line-height:normal;font-family:Menlo,'DejaVu Sans Mono',consolas,'Courier New',monospace\"><span style=\"color: #7fbfbf; text-decoration-color: #7fbfbf\">[2024/12/7 2:22:37] </span><span style=\"color: #008000; text-decoration-color: #008000\">INFO    </span> Animation <span style=\"color: #008000; text-decoration-color: #008000\">57</span> : Partial movie file written in                  <a href=\"file://E:\\ipynb\\venv\\lib\\site-packages\\manim\\scene\\scene_file_writer.py\" target=\"_blank\"><span style=\"color: #7f7f7f; text-decoration-color: #7f7f7f\">scene_file_writer.py</span></a><span style=\"color: #7f7f7f; text-decoration-color: #7f7f7f\">:</span><a href=\"file://E:\\ipynb\\venv\\lib\\site-packages\\manim\\scene\\scene_file_writer.py#527\" target=\"_blank\"><span style=\"color: #7f7f7f; text-decoration-color: #7f7f7f\">527</span></a>\n",
       "<span style=\"color: #7fbfbf; text-decoration-color: #7fbfbf\">                    </span>         <span style=\"color: #008000; text-decoration-color: #008000\">'E:\\ipynb\\python_design\\yty_math\\media\\videos\\1080p60\\partial</span> <span style=\"color: #7f7f7f; text-decoration-color: #7f7f7f\">                        </span>\n",
       "<span style=\"color: #7fbfbf; text-decoration-color: #7fbfbf\">                    </span>         <span style=\"color: #008000; text-decoration-color: #008000\">_movie_files\\MatrixMulShow\\2852726489_3201114511_4269231438.m</span> <span style=\"color: #7f7f7f; text-decoration-color: #7f7f7f\">                        </span>\n",
       "<span style=\"color: #7fbfbf; text-decoration-color: #7fbfbf\">                    </span>         <span style=\"color: #008000; text-decoration-color: #008000\">p4'</span>                                                           <span style=\"color: #7f7f7f; text-decoration-color: #7f7f7f\">                        </span>\n",
       "</pre>\n"
      ]
     },
     "metadata": {},
     "output_type": "display_data"
    },
    {
     "name": "stderr",
     "output_type": "stream",
     "text": [
      "                                                                                                    \r"
     ]
    },
    {
     "data": {
      "text/plain": [
       "\u001B[2;36m[2024/12/7 2:22:42]\u001B[0m\u001B[2;36m \u001B[0m\u001B[32mINFO    \u001B[0m Animation \u001B[32m58\u001B[0m : Partial movie file written in                  \u001B]8;id=500204;file://E:\\ipynb\\venv\\lib\\site-packages\\manim\\scene\\scene_file_writer.py\u001B\\\u001B[2mscene_file_writer.py\u001B[0m\u001B]8;;\u001B\\\u001B[2m:\u001B[0m\u001B]8;id=973886;file://E:\\ipynb\\venv\\lib\\site-packages\\manim\\scene\\scene_file_writer.py#527\u001B\\\u001B[2m527\u001B[0m\u001B]8;;\u001B\\\n",
       "\u001B[2;36m                    \u001B[0m         \u001B[32m'E:\\ipynb\\python_design\\yty_math\\media\\videos\\1080p60\\partial\u001B[0m \u001B[2m                        \u001B[0m\n",
       "\u001B[2;36m                    \u001B[0m         \u001B[32m_movie_files\\MatrixMulShow\\2852726489_128983017_876639885.mp4\u001B[0m \u001B[2m                        \u001B[0m\n",
       "\u001B[2;36m                    \u001B[0m         \u001B[32m'\u001B[0m                                                             \u001B[2m                        \u001B[0m\n"
      ],
      "text/html": [
       "<pre style=\"white-space:pre;overflow-x:auto;line-height:normal;font-family:Menlo,'DejaVu Sans Mono',consolas,'Courier New',monospace\"><span style=\"color: #7fbfbf; text-decoration-color: #7fbfbf\">[2024/12/7 2:22:42] </span><span style=\"color: #008000; text-decoration-color: #008000\">INFO    </span> Animation <span style=\"color: #008000; text-decoration-color: #008000\">58</span> : Partial movie file written in                  <a href=\"file://E:\\ipynb\\venv\\lib\\site-packages\\manim\\scene\\scene_file_writer.py\" target=\"_blank\"><span style=\"color: #7f7f7f; text-decoration-color: #7f7f7f\">scene_file_writer.py</span></a><span style=\"color: #7f7f7f; text-decoration-color: #7f7f7f\">:</span><a href=\"file://E:\\ipynb\\venv\\lib\\site-packages\\manim\\scene\\scene_file_writer.py#527\" target=\"_blank\"><span style=\"color: #7f7f7f; text-decoration-color: #7f7f7f\">527</span></a>\n",
       "<span style=\"color: #7fbfbf; text-decoration-color: #7fbfbf\">                    </span>         <span style=\"color: #008000; text-decoration-color: #008000\">'E:\\ipynb\\python_design\\yty_math\\media\\videos\\1080p60\\partial</span> <span style=\"color: #7f7f7f; text-decoration-color: #7f7f7f\">                        </span>\n",
       "<span style=\"color: #7fbfbf; text-decoration-color: #7fbfbf\">                    </span>         <span style=\"color: #008000; text-decoration-color: #008000\">_movie_files\\MatrixMulShow\\2852726489_128983017_876639885.mp4</span> <span style=\"color: #7f7f7f; text-decoration-color: #7f7f7f\">                        </span>\n",
       "<span style=\"color: #7fbfbf; text-decoration-color: #7fbfbf\">                    </span>         <span style=\"color: #008000; text-decoration-color: #008000\">'</span>                                                             <span style=\"color: #7f7f7f; text-decoration-color: #7f7f7f\">                        </span>\n",
       "</pre>\n"
      ]
     },
     "metadata": {},
     "output_type": "display_data"
    },
    {
     "name": "stderr",
     "output_type": "stream",
     "text": [
      "                                                                                                       \r"
     ]
    },
    {
     "data": {
      "text/plain": [
       "\u001B[2;36m[2024/12/7 2:22:48]\u001B[0m\u001B[2;36m \u001B[0m\u001B[32mINFO    \u001B[0m Animation \u001B[32m59\u001B[0m : Partial movie file written in                  \u001B]8;id=249119;file://E:\\ipynb\\venv\\lib\\site-packages\\manim\\scene\\scene_file_writer.py\u001B\\\u001B[2mscene_file_writer.py\u001B[0m\u001B]8;;\u001B\\\u001B[2m:\u001B[0m\u001B]8;id=612059;file://E:\\ipynb\\venv\\lib\\site-packages\\manim\\scene\\scene_file_writer.py#527\u001B\\\u001B[2m527\u001B[0m\u001B]8;;\u001B\\\n",
       "\u001B[2;36m                    \u001B[0m         \u001B[32m'E:\\ipynb\\python_design\\yty_math\\media\\videos\\1080p60\\partial\u001B[0m \u001B[2m                        \u001B[0m\n",
       "\u001B[2;36m                    \u001B[0m         \u001B[32m_movie_files\\MatrixMulShow\\2852726489_1864180669_2035576905.m\u001B[0m \u001B[2m                        \u001B[0m\n",
       "\u001B[2;36m                    \u001B[0m         \u001B[32mp4'\u001B[0m                                                           \u001B[2m                        \u001B[0m\n"
      ],
      "text/html": [
       "<pre style=\"white-space:pre;overflow-x:auto;line-height:normal;font-family:Menlo,'DejaVu Sans Mono',consolas,'Courier New',monospace\"><span style=\"color: #7fbfbf; text-decoration-color: #7fbfbf\">[2024/12/7 2:22:48] </span><span style=\"color: #008000; text-decoration-color: #008000\">INFO    </span> Animation <span style=\"color: #008000; text-decoration-color: #008000\">59</span> : Partial movie file written in                  <a href=\"file://E:\\ipynb\\venv\\lib\\site-packages\\manim\\scene\\scene_file_writer.py\" target=\"_blank\"><span style=\"color: #7f7f7f; text-decoration-color: #7f7f7f\">scene_file_writer.py</span></a><span style=\"color: #7f7f7f; text-decoration-color: #7f7f7f\">:</span><a href=\"file://E:\\ipynb\\venv\\lib\\site-packages\\manim\\scene\\scene_file_writer.py#527\" target=\"_blank\"><span style=\"color: #7f7f7f; text-decoration-color: #7f7f7f\">527</span></a>\n",
       "<span style=\"color: #7fbfbf; text-decoration-color: #7fbfbf\">                    </span>         <span style=\"color: #008000; text-decoration-color: #008000\">'E:\\ipynb\\python_design\\yty_math\\media\\videos\\1080p60\\partial</span> <span style=\"color: #7f7f7f; text-decoration-color: #7f7f7f\">                        </span>\n",
       "<span style=\"color: #7fbfbf; text-decoration-color: #7fbfbf\">                    </span>         <span style=\"color: #008000; text-decoration-color: #008000\">_movie_files\\MatrixMulShow\\2852726489_1864180669_2035576905.m</span> <span style=\"color: #7f7f7f; text-decoration-color: #7f7f7f\">                        </span>\n",
       "<span style=\"color: #7fbfbf; text-decoration-color: #7fbfbf\">                    </span>         <span style=\"color: #008000; text-decoration-color: #008000\">p4'</span>                                                           <span style=\"color: #7f7f7f; text-decoration-color: #7f7f7f\">                        </span>\n",
       "</pre>\n"
      ]
     },
     "metadata": {},
     "output_type": "display_data"
    },
    {
     "name": "stderr",
     "output_type": "stream",
     "text": [
      "                                                                                                    \r"
     ]
    },
    {
     "data": {
      "text/plain": [
       "\u001B[2;36m[2024/12/7 2:22:53]\u001B[0m\u001B[2;36m \u001B[0m\u001B[32mINFO    \u001B[0m Animation \u001B[32m60\u001B[0m : Partial movie file written in                  \u001B]8;id=613623;file://E:\\ipynb\\venv\\lib\\site-packages\\manim\\scene\\scene_file_writer.py\u001B\\\u001B[2mscene_file_writer.py\u001B[0m\u001B]8;;\u001B\\\u001B[2m:\u001B[0m\u001B]8;id=957988;file://E:\\ipynb\\venv\\lib\\site-packages\\manim\\scene\\scene_file_writer.py#527\u001B\\\u001B[2m527\u001B[0m\u001B]8;;\u001B\\\n",
       "\u001B[2;36m                    \u001B[0m         \u001B[32m'E:\\ipynb\\python_design\\yty_math\\media\\videos\\1080p60\\partial\u001B[0m \u001B[2m                        \u001B[0m\n",
       "\u001B[2;36m                    \u001B[0m         \u001B[32m_movie_files\\MatrixMulShow\\2852726489_3081607062_2224100491.m\u001B[0m \u001B[2m                        \u001B[0m\n",
       "\u001B[2;36m                    \u001B[0m         \u001B[32mp4'\u001B[0m                                                           \u001B[2m                        \u001B[0m\n"
      ],
      "text/html": [
       "<pre style=\"white-space:pre;overflow-x:auto;line-height:normal;font-family:Menlo,'DejaVu Sans Mono',consolas,'Courier New',monospace\"><span style=\"color: #7fbfbf; text-decoration-color: #7fbfbf\">[2024/12/7 2:22:53] </span><span style=\"color: #008000; text-decoration-color: #008000\">INFO    </span> Animation <span style=\"color: #008000; text-decoration-color: #008000\">60</span> : Partial movie file written in                  <a href=\"file://E:\\ipynb\\venv\\lib\\site-packages\\manim\\scene\\scene_file_writer.py\" target=\"_blank\"><span style=\"color: #7f7f7f; text-decoration-color: #7f7f7f\">scene_file_writer.py</span></a><span style=\"color: #7f7f7f; text-decoration-color: #7f7f7f\">:</span><a href=\"file://E:\\ipynb\\venv\\lib\\site-packages\\manim\\scene\\scene_file_writer.py#527\" target=\"_blank\"><span style=\"color: #7f7f7f; text-decoration-color: #7f7f7f\">527</span></a>\n",
       "<span style=\"color: #7fbfbf; text-decoration-color: #7fbfbf\">                    </span>         <span style=\"color: #008000; text-decoration-color: #008000\">'E:\\ipynb\\python_design\\yty_math\\media\\videos\\1080p60\\partial</span> <span style=\"color: #7f7f7f; text-decoration-color: #7f7f7f\">                        </span>\n",
       "<span style=\"color: #7fbfbf; text-decoration-color: #7fbfbf\">                    </span>         <span style=\"color: #008000; text-decoration-color: #008000\">_movie_files\\MatrixMulShow\\2852726489_3081607062_2224100491.m</span> <span style=\"color: #7f7f7f; text-decoration-color: #7f7f7f\">                        </span>\n",
       "<span style=\"color: #7fbfbf; text-decoration-color: #7fbfbf\">                    </span>         <span style=\"color: #008000; text-decoration-color: #008000\">p4'</span>                                                           <span style=\"color: #7f7f7f; text-decoration-color: #7f7f7f\">                        </span>\n",
       "</pre>\n"
      ]
     },
     "metadata": {},
     "output_type": "display_data"
    },
    {
     "name": "stderr",
     "output_type": "stream",
     "text": [
      "                                                                                                       \r"
     ]
    },
    {
     "data": {
      "text/plain": [
       "\u001B[2;36m[2024/12/7 2:23:00]\u001B[0m\u001B[2;36m \u001B[0m\u001B[32mINFO    \u001B[0m Animation \u001B[32m61\u001B[0m : Partial movie file written in                  \u001B]8;id=751399;file://E:\\ipynb\\venv\\lib\\site-packages\\manim\\scene\\scene_file_writer.py\u001B\\\u001B[2mscene_file_writer.py\u001B[0m\u001B]8;;\u001B\\\u001B[2m:\u001B[0m\u001B]8;id=619214;file://E:\\ipynb\\venv\\lib\\site-packages\\manim\\scene\\scene_file_writer.py#527\u001B\\\u001B[2m527\u001B[0m\u001B]8;;\u001B\\\n",
       "\u001B[2;36m                    \u001B[0m         \u001B[32m'E:\\ipynb\\python_design\\yty_math\\media\\videos\\1080p60\\partial\u001B[0m \u001B[2m                        \u001B[0m\n",
       "\u001B[2;36m                    \u001B[0m         \u001B[32m_movie_files\\MatrixMulShow\\2852726489_2940939273_723801461.mp\u001B[0m \u001B[2m                        \u001B[0m\n",
       "\u001B[2;36m                    \u001B[0m         \u001B[32m4'\u001B[0m                                                            \u001B[2m                        \u001B[0m\n"
      ],
      "text/html": [
       "<pre style=\"white-space:pre;overflow-x:auto;line-height:normal;font-family:Menlo,'DejaVu Sans Mono',consolas,'Courier New',monospace\"><span style=\"color: #7fbfbf; text-decoration-color: #7fbfbf\">[2024/12/7 2:23:00] </span><span style=\"color: #008000; text-decoration-color: #008000\">INFO    </span> Animation <span style=\"color: #008000; text-decoration-color: #008000\">61</span> : Partial movie file written in                  <a href=\"file://E:\\ipynb\\venv\\lib\\site-packages\\manim\\scene\\scene_file_writer.py\" target=\"_blank\"><span style=\"color: #7f7f7f; text-decoration-color: #7f7f7f\">scene_file_writer.py</span></a><span style=\"color: #7f7f7f; text-decoration-color: #7f7f7f\">:</span><a href=\"file://E:\\ipynb\\venv\\lib\\site-packages\\manim\\scene\\scene_file_writer.py#527\" target=\"_blank\"><span style=\"color: #7f7f7f; text-decoration-color: #7f7f7f\">527</span></a>\n",
       "<span style=\"color: #7fbfbf; text-decoration-color: #7fbfbf\">                    </span>         <span style=\"color: #008000; text-decoration-color: #008000\">'E:\\ipynb\\python_design\\yty_math\\media\\videos\\1080p60\\partial</span> <span style=\"color: #7f7f7f; text-decoration-color: #7f7f7f\">                        </span>\n",
       "<span style=\"color: #7fbfbf; text-decoration-color: #7fbfbf\">                    </span>         <span style=\"color: #008000; text-decoration-color: #008000\">_movie_files\\MatrixMulShow\\2852726489_2940939273_723801461.mp</span> <span style=\"color: #7f7f7f; text-decoration-color: #7f7f7f\">                        </span>\n",
       "<span style=\"color: #7fbfbf; text-decoration-color: #7fbfbf\">                    </span>         <span style=\"color: #008000; text-decoration-color: #008000\">4'</span>                                                            <span style=\"color: #7f7f7f; text-decoration-color: #7f7f7f\">                        </span>\n",
       "</pre>\n"
      ]
     },
     "metadata": {},
     "output_type": "display_data"
    },
    {
     "name": "stderr",
     "output_type": "stream",
     "text": [
      "                                                                                                 \r"
     ]
    },
    {
     "data": {
      "text/plain": [
       "\u001B[2;36m[2024/12/7 2:23:05]\u001B[0m\u001B[2;36m \u001B[0m\u001B[32mINFO    \u001B[0m Animation \u001B[32m62\u001B[0m : Partial movie file written in                  \u001B]8;id=375505;file://E:\\ipynb\\venv\\lib\\site-packages\\manim\\scene\\scene_file_writer.py\u001B\\\u001B[2mscene_file_writer.py\u001B[0m\u001B]8;;\u001B\\\u001B[2m:\u001B[0m\u001B]8;id=611313;file://E:\\ipynb\\venv\\lib\\site-packages\\manim\\scene\\scene_file_writer.py#527\u001B\\\u001B[2m527\u001B[0m\u001B]8;;\u001B\\\n",
       "\u001B[2;36m                    \u001B[0m         \u001B[32m'E:\\ipynb\\python_design\\yty_math\\media\\videos\\1080p60\\partial\u001B[0m \u001B[2m                        \u001B[0m\n",
       "\u001B[2;36m                    \u001B[0m         \u001B[32m_movie_files\\MatrixMulShow\\2852726489_4968015_700715196.mp4'\u001B[0m  \u001B[2m                        \u001B[0m\n"
      ],
      "text/html": [
       "<pre style=\"white-space:pre;overflow-x:auto;line-height:normal;font-family:Menlo,'DejaVu Sans Mono',consolas,'Courier New',monospace\"><span style=\"color: #7fbfbf; text-decoration-color: #7fbfbf\">[2024/12/7 2:23:05] </span><span style=\"color: #008000; text-decoration-color: #008000\">INFO    </span> Animation <span style=\"color: #008000; text-decoration-color: #008000\">62</span> : Partial movie file written in                  <a href=\"file://E:\\ipynb\\venv\\lib\\site-packages\\manim\\scene\\scene_file_writer.py\" target=\"_blank\"><span style=\"color: #7f7f7f; text-decoration-color: #7f7f7f\">scene_file_writer.py</span></a><span style=\"color: #7f7f7f; text-decoration-color: #7f7f7f\">:</span><a href=\"file://E:\\ipynb\\venv\\lib\\site-packages\\manim\\scene\\scene_file_writer.py#527\" target=\"_blank\"><span style=\"color: #7f7f7f; text-decoration-color: #7f7f7f\">527</span></a>\n",
       "<span style=\"color: #7fbfbf; text-decoration-color: #7fbfbf\">                    </span>         <span style=\"color: #008000; text-decoration-color: #008000\">'E:\\ipynb\\python_design\\yty_math\\media\\videos\\1080p60\\partial</span> <span style=\"color: #7f7f7f; text-decoration-color: #7f7f7f\">                        </span>\n",
       "<span style=\"color: #7fbfbf; text-decoration-color: #7fbfbf\">                    </span>         <span style=\"color: #008000; text-decoration-color: #008000\">_movie_files\\MatrixMulShow\\2852726489_4968015_700715196.mp4'</span>  <span style=\"color: #7f7f7f; text-decoration-color: #7f7f7f\">                        </span>\n",
       "</pre>\n"
      ]
     },
     "metadata": {},
     "output_type": "display_data"
    },
    {
     "name": "stderr",
     "output_type": "stream",
     "text": [
      "                                                                                 \r"
     ]
    },
    {
     "data": {
      "text/plain": [
       "\u001B[2;36m[2024/12/7 2:23:10]\u001B[0m\u001B[2;36m \u001B[0m\u001B[32mINFO    \u001B[0m Animation \u001B[32m63\u001B[0m : Partial movie file written in                  \u001B]8;id=85678;file://E:\\ipynb\\venv\\lib\\site-packages\\manim\\scene\\scene_file_writer.py\u001B\\\u001B[2mscene_file_writer.py\u001B[0m\u001B]8;;\u001B\\\u001B[2m:\u001B[0m\u001B]8;id=82988;file://E:\\ipynb\\venv\\lib\\site-packages\\manim\\scene\\scene_file_writer.py#527\u001B\\\u001B[2m527\u001B[0m\u001B]8;;\u001B\\\n",
       "\u001B[2;36m                    \u001B[0m         \u001B[32m'E:\\ipynb\\python_design\\yty_math\\media\\videos\\1080p60\\partial\u001B[0m \u001B[2m                        \u001B[0m\n",
       "\u001B[2;36m                    \u001B[0m         \u001B[32m_movie_files\\MatrixMulShow\\2852726489_1810034657_1587133476.m\u001B[0m \u001B[2m                        \u001B[0m\n",
       "\u001B[2;36m                    \u001B[0m         \u001B[32mp4'\u001B[0m                                                           \u001B[2m                        \u001B[0m\n"
      ],
      "text/html": [
       "<pre style=\"white-space:pre;overflow-x:auto;line-height:normal;font-family:Menlo,'DejaVu Sans Mono',consolas,'Courier New',monospace\"><span style=\"color: #7fbfbf; text-decoration-color: #7fbfbf\">[2024/12/7 2:23:10] </span><span style=\"color: #008000; text-decoration-color: #008000\">INFO    </span> Animation <span style=\"color: #008000; text-decoration-color: #008000\">63</span> : Partial movie file written in                  <a href=\"file://E:\\ipynb\\venv\\lib\\site-packages\\manim\\scene\\scene_file_writer.py\" target=\"_blank\"><span style=\"color: #7f7f7f; text-decoration-color: #7f7f7f\">scene_file_writer.py</span></a><span style=\"color: #7f7f7f; text-decoration-color: #7f7f7f\">:</span><a href=\"file://E:\\ipynb\\venv\\lib\\site-packages\\manim\\scene\\scene_file_writer.py#527\" target=\"_blank\"><span style=\"color: #7f7f7f; text-decoration-color: #7f7f7f\">527</span></a>\n",
       "<span style=\"color: #7fbfbf; text-decoration-color: #7fbfbf\">                    </span>         <span style=\"color: #008000; text-decoration-color: #008000\">'E:\\ipynb\\python_design\\yty_math\\media\\videos\\1080p60\\partial</span> <span style=\"color: #7f7f7f; text-decoration-color: #7f7f7f\">                        </span>\n",
       "<span style=\"color: #7fbfbf; text-decoration-color: #7fbfbf\">                    </span>         <span style=\"color: #008000; text-decoration-color: #008000\">_movie_files\\MatrixMulShow\\2852726489_1810034657_1587133476.m</span> <span style=\"color: #7f7f7f; text-decoration-color: #7f7f7f\">                        </span>\n",
       "<span style=\"color: #7fbfbf; text-decoration-color: #7fbfbf\">                    </span>         <span style=\"color: #008000; text-decoration-color: #008000\">p4'</span>                                                           <span style=\"color: #7f7f7f; text-decoration-color: #7f7f7f\">                        </span>\n",
       "</pre>\n"
      ]
     },
     "metadata": {},
     "output_type": "display_data"
    },
    {
     "name": "stderr",
     "output_type": "stream",
     "text": [
      "                                                                                           \r"
     ]
    },
    {
     "data": {
      "text/plain": [
       "\u001B[2;36m[2024/12/7 2:23:15]\u001B[0m\u001B[2;36m \u001B[0m\u001B[32mINFO    \u001B[0m Animation \u001B[32m64\u001B[0m : Partial movie file written in                  \u001B]8;id=652167;file://E:\\ipynb\\venv\\lib\\site-packages\\manim\\scene\\scene_file_writer.py\u001B\\\u001B[2mscene_file_writer.py\u001B[0m\u001B]8;;\u001B\\\u001B[2m:\u001B[0m\u001B]8;id=621481;file://E:\\ipynb\\venv\\lib\\site-packages\\manim\\scene\\scene_file_writer.py#527\u001B\\\u001B[2m527\u001B[0m\u001B]8;;\u001B\\\n",
       "\u001B[2;36m                    \u001B[0m         \u001B[32m'E:\\ipynb\\python_design\\yty_math\\media\\videos\\1080p60\\partial\u001B[0m \u001B[2m                        \u001B[0m\n",
       "\u001B[2;36m                    \u001B[0m         \u001B[32m_movie_files\\MatrixMulShow\\2852726489_3799558314_2083973830.m\u001B[0m \u001B[2m                        \u001B[0m\n",
       "\u001B[2;36m                    \u001B[0m         \u001B[32mp4'\u001B[0m                                                           \u001B[2m                        \u001B[0m\n"
      ],
      "text/html": [
       "<pre style=\"white-space:pre;overflow-x:auto;line-height:normal;font-family:Menlo,'DejaVu Sans Mono',consolas,'Courier New',monospace\"><span style=\"color: #7fbfbf; text-decoration-color: #7fbfbf\">[2024/12/7 2:23:15] </span><span style=\"color: #008000; text-decoration-color: #008000\">INFO    </span> Animation <span style=\"color: #008000; text-decoration-color: #008000\">64</span> : Partial movie file written in                  <a href=\"file://E:\\ipynb\\venv\\lib\\site-packages\\manim\\scene\\scene_file_writer.py\" target=\"_blank\"><span style=\"color: #7f7f7f; text-decoration-color: #7f7f7f\">scene_file_writer.py</span></a><span style=\"color: #7f7f7f; text-decoration-color: #7f7f7f\">:</span><a href=\"file://E:\\ipynb\\venv\\lib\\site-packages\\manim\\scene\\scene_file_writer.py#527\" target=\"_blank\"><span style=\"color: #7f7f7f; text-decoration-color: #7f7f7f\">527</span></a>\n",
       "<span style=\"color: #7fbfbf; text-decoration-color: #7fbfbf\">                    </span>         <span style=\"color: #008000; text-decoration-color: #008000\">'E:\\ipynb\\python_design\\yty_math\\media\\videos\\1080p60\\partial</span> <span style=\"color: #7f7f7f; text-decoration-color: #7f7f7f\">                        </span>\n",
       "<span style=\"color: #7fbfbf; text-decoration-color: #7fbfbf\">                    </span>         <span style=\"color: #008000; text-decoration-color: #008000\">_movie_files\\MatrixMulShow\\2852726489_3799558314_2083973830.m</span> <span style=\"color: #7f7f7f; text-decoration-color: #7f7f7f\">                        </span>\n",
       "<span style=\"color: #7fbfbf; text-decoration-color: #7fbfbf\">                    </span>         <span style=\"color: #008000; text-decoration-color: #008000\">p4'</span>                                                           <span style=\"color: #7f7f7f; text-decoration-color: #7f7f7f\">                        </span>\n",
       "</pre>\n"
      ]
     },
     "metadata": {},
     "output_type": "display_data"
    },
    {
     "name": "stderr",
     "output_type": "stream",
     "text": [
      "                                                                                               \r"
     ]
    },
    {
     "data": {
      "text/plain": [
       "\u001B[2;36m[2024/12/7 2:23:23]\u001B[0m\u001B[2;36m \u001B[0m\u001B[32mINFO    \u001B[0m Animation \u001B[32m65\u001B[0m : Partial movie file written in                  \u001B]8;id=547605;file://E:\\ipynb\\venv\\lib\\site-packages\\manim\\scene\\scene_file_writer.py\u001B\\\u001B[2mscene_file_writer.py\u001B[0m\u001B]8;;\u001B\\\u001B[2m:\u001B[0m\u001B]8;id=453603;file://E:\\ipynb\\venv\\lib\\site-packages\\manim\\scene\\scene_file_writer.py#527\u001B\\\u001B[2m527\u001B[0m\u001B]8;;\u001B\\\n",
       "\u001B[2;36m                    \u001B[0m         \u001B[32m'E:\\ipynb\\python_design\\yty_math\\media\\videos\\1080p60\\partial\u001B[0m \u001B[2m                        \u001B[0m\n",
       "\u001B[2;36m                    \u001B[0m         \u001B[32m_movie_files\\MatrixMulShow\\2852726489_3071103008_2215580100.m\u001B[0m \u001B[2m                        \u001B[0m\n",
       "\u001B[2;36m                    \u001B[0m         \u001B[32mp4'\u001B[0m                                                           \u001B[2m                        \u001B[0m\n"
      ],
      "text/html": [
       "<pre style=\"white-space:pre;overflow-x:auto;line-height:normal;font-family:Menlo,'DejaVu Sans Mono',consolas,'Courier New',monospace\"><span style=\"color: #7fbfbf; text-decoration-color: #7fbfbf\">[2024/12/7 2:23:23] </span><span style=\"color: #008000; text-decoration-color: #008000\">INFO    </span> Animation <span style=\"color: #008000; text-decoration-color: #008000\">65</span> : Partial movie file written in                  <a href=\"file://E:\\ipynb\\venv\\lib\\site-packages\\manim\\scene\\scene_file_writer.py\" target=\"_blank\"><span style=\"color: #7f7f7f; text-decoration-color: #7f7f7f\">scene_file_writer.py</span></a><span style=\"color: #7f7f7f; text-decoration-color: #7f7f7f\">:</span><a href=\"file://E:\\ipynb\\venv\\lib\\site-packages\\manim\\scene\\scene_file_writer.py#527\" target=\"_blank\"><span style=\"color: #7f7f7f; text-decoration-color: #7f7f7f\">527</span></a>\n",
       "<span style=\"color: #7fbfbf; text-decoration-color: #7fbfbf\">                    </span>         <span style=\"color: #008000; text-decoration-color: #008000\">'E:\\ipynb\\python_design\\yty_math\\media\\videos\\1080p60\\partial</span> <span style=\"color: #7f7f7f; text-decoration-color: #7f7f7f\">                        </span>\n",
       "<span style=\"color: #7fbfbf; text-decoration-color: #7fbfbf\">                    </span>         <span style=\"color: #008000; text-decoration-color: #008000\">_movie_files\\MatrixMulShow\\2852726489_3071103008_2215580100.m</span> <span style=\"color: #7f7f7f; text-decoration-color: #7f7f7f\">                        </span>\n",
       "<span style=\"color: #7fbfbf; text-decoration-color: #7fbfbf\">                    </span>         <span style=\"color: #008000; text-decoration-color: #008000\">p4'</span>                                                           <span style=\"color: #7f7f7f; text-decoration-color: #7f7f7f\">                        </span>\n",
       "</pre>\n"
      ]
     },
     "metadata": {},
     "output_type": "display_data"
    },
    {
     "name": "stderr",
     "output_type": "stream",
     "text": [
      "                                                                                                    \r"
     ]
    },
    {
     "data": {
      "text/plain": [
       "\u001B[2;36m[2024/12/7 2:23:29]\u001B[0m\u001B[2;36m \u001B[0m\u001B[32mINFO    \u001B[0m Animation \u001B[32m66\u001B[0m : Partial movie file written in                  \u001B]8;id=977380;file://E:\\ipynb\\venv\\lib\\site-packages\\manim\\scene\\scene_file_writer.py\u001B\\\u001B[2mscene_file_writer.py\u001B[0m\u001B]8;;\u001B\\\u001B[2m:\u001B[0m\u001B]8;id=53232;file://E:\\ipynb\\venv\\lib\\site-packages\\manim\\scene\\scene_file_writer.py#527\u001B\\\u001B[2m527\u001B[0m\u001B]8;;\u001B\\\n",
       "\u001B[2;36m                    \u001B[0m         \u001B[32m'E:\\ipynb\\python_design\\yty_math\\media\\videos\\1080p60\\partial\u001B[0m \u001B[2m                        \u001B[0m\n",
       "\u001B[2;36m                    \u001B[0m         \u001B[32m_movie_files\\MatrixMulShow\\2852726489_1548963865_2069014554.m\u001B[0m \u001B[2m                        \u001B[0m\n",
       "\u001B[2;36m                    \u001B[0m         \u001B[32mp4'\u001B[0m                                                           \u001B[2m                        \u001B[0m\n"
      ],
      "text/html": [
       "<pre style=\"white-space:pre;overflow-x:auto;line-height:normal;font-family:Menlo,'DejaVu Sans Mono',consolas,'Courier New',monospace\"><span style=\"color: #7fbfbf; text-decoration-color: #7fbfbf\">[2024/12/7 2:23:29] </span><span style=\"color: #008000; text-decoration-color: #008000\">INFO    </span> Animation <span style=\"color: #008000; text-decoration-color: #008000\">66</span> : Partial movie file written in                  <a href=\"file://E:\\ipynb\\venv\\lib\\site-packages\\manim\\scene\\scene_file_writer.py\" target=\"_blank\"><span style=\"color: #7f7f7f; text-decoration-color: #7f7f7f\">scene_file_writer.py</span></a><span style=\"color: #7f7f7f; text-decoration-color: #7f7f7f\">:</span><a href=\"file://E:\\ipynb\\venv\\lib\\site-packages\\manim\\scene\\scene_file_writer.py#527\" target=\"_blank\"><span style=\"color: #7f7f7f; text-decoration-color: #7f7f7f\">527</span></a>\n",
       "<span style=\"color: #7fbfbf; text-decoration-color: #7fbfbf\">                    </span>         <span style=\"color: #008000; text-decoration-color: #008000\">'E:\\ipynb\\python_design\\yty_math\\media\\videos\\1080p60\\partial</span> <span style=\"color: #7f7f7f; text-decoration-color: #7f7f7f\">                        </span>\n",
       "<span style=\"color: #7fbfbf; text-decoration-color: #7fbfbf\">                    </span>         <span style=\"color: #008000; text-decoration-color: #008000\">_movie_files\\MatrixMulShow\\2852726489_1548963865_2069014554.m</span> <span style=\"color: #7f7f7f; text-decoration-color: #7f7f7f\">                        </span>\n",
       "<span style=\"color: #7fbfbf; text-decoration-color: #7fbfbf\">                    </span>         <span style=\"color: #008000; text-decoration-color: #008000\">p4'</span>                                                           <span style=\"color: #7f7f7f; text-decoration-color: #7f7f7f\">                        </span>\n",
       "</pre>\n"
      ]
     },
     "metadata": {},
     "output_type": "display_data"
    },
    {
     "name": "stderr",
     "output_type": "stream",
     "text": [
      "                                                                                                       \r"
     ]
    },
    {
     "data": {
      "text/plain": [
       "\u001B[2;36m[2024/12/7 2:23:36]\u001B[0m\u001B[2;36m \u001B[0m\u001B[32mINFO    \u001B[0m Animation \u001B[32m67\u001B[0m : Partial movie file written in                  \u001B]8;id=3390;file://E:\\ipynb\\venv\\lib\\site-packages\\manim\\scene\\scene_file_writer.py\u001B\\\u001B[2mscene_file_writer.py\u001B[0m\u001B]8;;\u001B\\\u001B[2m:\u001B[0m\u001B]8;id=68175;file://E:\\ipynb\\venv\\lib\\site-packages\\manim\\scene\\scene_file_writer.py#527\u001B\\\u001B[2m527\u001B[0m\u001B]8;;\u001B\\\n",
       "\u001B[2;36m                    \u001B[0m         \u001B[32m'E:\\ipynb\\python_design\\yty_math\\media\\videos\\1080p60\\partial\u001B[0m \u001B[2m                        \u001B[0m\n",
       "\u001B[2;36m                    \u001B[0m         \u001B[32m_movie_files\\MatrixMulShow\\2852726489_1608151962_733209826.mp\u001B[0m \u001B[2m                        \u001B[0m\n",
       "\u001B[2;36m                    \u001B[0m         \u001B[32m4'\u001B[0m                                                            \u001B[2m                        \u001B[0m\n"
      ],
      "text/html": [
       "<pre style=\"white-space:pre;overflow-x:auto;line-height:normal;font-family:Menlo,'DejaVu Sans Mono',consolas,'Courier New',monospace\"><span style=\"color: #7fbfbf; text-decoration-color: #7fbfbf\">[2024/12/7 2:23:36] </span><span style=\"color: #008000; text-decoration-color: #008000\">INFO    </span> Animation <span style=\"color: #008000; text-decoration-color: #008000\">67</span> : Partial movie file written in                  <a href=\"file://E:\\ipynb\\venv\\lib\\site-packages\\manim\\scene\\scene_file_writer.py\" target=\"_blank\"><span style=\"color: #7f7f7f; text-decoration-color: #7f7f7f\">scene_file_writer.py</span></a><span style=\"color: #7f7f7f; text-decoration-color: #7f7f7f\">:</span><a href=\"file://E:\\ipynb\\venv\\lib\\site-packages\\manim\\scene\\scene_file_writer.py#527\" target=\"_blank\"><span style=\"color: #7f7f7f; text-decoration-color: #7f7f7f\">527</span></a>\n",
       "<span style=\"color: #7fbfbf; text-decoration-color: #7fbfbf\">                    </span>         <span style=\"color: #008000; text-decoration-color: #008000\">'E:\\ipynb\\python_design\\yty_math\\media\\videos\\1080p60\\partial</span> <span style=\"color: #7f7f7f; text-decoration-color: #7f7f7f\">                        </span>\n",
       "<span style=\"color: #7fbfbf; text-decoration-color: #7fbfbf\">                    </span>         <span style=\"color: #008000; text-decoration-color: #008000\">_movie_files\\MatrixMulShow\\2852726489_1608151962_733209826.mp</span> <span style=\"color: #7f7f7f; text-decoration-color: #7f7f7f\">                        </span>\n",
       "<span style=\"color: #7fbfbf; text-decoration-color: #7fbfbf\">                    </span>         <span style=\"color: #008000; text-decoration-color: #008000\">4'</span>                                                            <span style=\"color: #7f7f7f; text-decoration-color: #7f7f7f\">                        </span>\n",
       "</pre>\n"
      ]
     },
     "metadata": {},
     "output_type": "display_data"
    },
    {
     "name": "stderr",
     "output_type": "stream",
     "text": [
      "                                                                                                    \r"
     ]
    },
    {
     "data": {
      "text/plain": [
       "\u001B[2;36m[2024/12/7 2:23:41]\u001B[0m\u001B[2;36m \u001B[0m\u001B[32mINFO    \u001B[0m Animation \u001B[32m68\u001B[0m : Partial movie file written in                  \u001B]8;id=969632;file://E:\\ipynb\\venv\\lib\\site-packages\\manim\\scene\\scene_file_writer.py\u001B\\\u001B[2mscene_file_writer.py\u001B[0m\u001B]8;;\u001B\\\u001B[2m:\u001B[0m\u001B]8;id=855630;file://E:\\ipynb\\venv\\lib\\site-packages\\manim\\scene\\scene_file_writer.py#527\u001B\\\u001B[2m527\u001B[0m\u001B]8;;\u001B\\\n",
       "\u001B[2;36m                    \u001B[0m         \u001B[32m'E:\\ipynb\\python_design\\yty_math\\media\\videos\\1080p60\\partial\u001B[0m \u001B[2m                        \u001B[0m\n",
       "\u001B[2;36m                    \u001B[0m         \u001B[32m_movie_files\\MatrixMulShow\\2852726489_2723576844_3862114578.m\u001B[0m \u001B[2m                        \u001B[0m\n",
       "\u001B[2;36m                    \u001B[0m         \u001B[32mp4'\u001B[0m                                                           \u001B[2m                        \u001B[0m\n"
      ],
      "text/html": [
       "<pre style=\"white-space:pre;overflow-x:auto;line-height:normal;font-family:Menlo,'DejaVu Sans Mono',consolas,'Courier New',monospace\"><span style=\"color: #7fbfbf; text-decoration-color: #7fbfbf\">[2024/12/7 2:23:41] </span><span style=\"color: #008000; text-decoration-color: #008000\">INFO    </span> Animation <span style=\"color: #008000; text-decoration-color: #008000\">68</span> : Partial movie file written in                  <a href=\"file://E:\\ipynb\\venv\\lib\\site-packages\\manim\\scene\\scene_file_writer.py\" target=\"_blank\"><span style=\"color: #7f7f7f; text-decoration-color: #7f7f7f\">scene_file_writer.py</span></a><span style=\"color: #7f7f7f; text-decoration-color: #7f7f7f\">:</span><a href=\"file://E:\\ipynb\\venv\\lib\\site-packages\\manim\\scene\\scene_file_writer.py#527\" target=\"_blank\"><span style=\"color: #7f7f7f; text-decoration-color: #7f7f7f\">527</span></a>\n",
       "<span style=\"color: #7fbfbf; text-decoration-color: #7fbfbf\">                    </span>         <span style=\"color: #008000; text-decoration-color: #008000\">'E:\\ipynb\\python_design\\yty_math\\media\\videos\\1080p60\\partial</span> <span style=\"color: #7f7f7f; text-decoration-color: #7f7f7f\">                        </span>\n",
       "<span style=\"color: #7fbfbf; text-decoration-color: #7fbfbf\">                    </span>         <span style=\"color: #008000; text-decoration-color: #008000\">_movie_files\\MatrixMulShow\\2852726489_2723576844_3862114578.m</span> <span style=\"color: #7f7f7f; text-decoration-color: #7f7f7f\">                        </span>\n",
       "<span style=\"color: #7fbfbf; text-decoration-color: #7fbfbf\">                    </span>         <span style=\"color: #008000; text-decoration-color: #008000\">p4'</span>                                                           <span style=\"color: #7f7f7f; text-decoration-color: #7f7f7f\">                        </span>\n",
       "</pre>\n"
      ]
     },
     "metadata": {},
     "output_type": "display_data"
    },
    {
     "name": "stderr",
     "output_type": "stream",
     "text": [
      "                                                                                                       \r"
     ]
    },
    {
     "data": {
      "text/plain": [
       "\u001B[2;36m[2024/12/7 2:23:48]\u001B[0m\u001B[2;36m \u001B[0m\u001B[32mINFO    \u001B[0m Animation \u001B[32m69\u001B[0m : Partial movie file written in                  \u001B]8;id=986512;file://E:\\ipynb\\venv\\lib\\site-packages\\manim\\scene\\scene_file_writer.py\u001B\\\u001B[2mscene_file_writer.py\u001B[0m\u001B]8;;\u001B\\\u001B[2m:\u001B[0m\u001B]8;id=620912;file://E:\\ipynb\\venv\\lib\\site-packages\\manim\\scene\\scene_file_writer.py#527\u001B\\\u001B[2m527\u001B[0m\u001B]8;;\u001B\\\n",
       "\u001B[2;36m                    \u001B[0m         \u001B[32m'E:\\ipynb\\python_design\\yty_math\\media\\videos\\1080p60\\partial\u001B[0m \u001B[2m                        \u001B[0m\n",
       "\u001B[2;36m                    \u001B[0m         \u001B[32m_movie_files\\MatrixMulShow\\2852726489_2327097548_2159200832.m\u001B[0m \u001B[2m                        \u001B[0m\n",
       "\u001B[2;36m                    \u001B[0m         \u001B[32mp4'\u001B[0m                                                           \u001B[2m                        \u001B[0m\n"
      ],
      "text/html": [
       "<pre style=\"white-space:pre;overflow-x:auto;line-height:normal;font-family:Menlo,'DejaVu Sans Mono',consolas,'Courier New',monospace\"><span style=\"color: #7fbfbf; text-decoration-color: #7fbfbf\">[2024/12/7 2:23:48] </span><span style=\"color: #008000; text-decoration-color: #008000\">INFO    </span> Animation <span style=\"color: #008000; text-decoration-color: #008000\">69</span> : Partial movie file written in                  <a href=\"file://E:\\ipynb\\venv\\lib\\site-packages\\manim\\scene\\scene_file_writer.py\" target=\"_blank\"><span style=\"color: #7f7f7f; text-decoration-color: #7f7f7f\">scene_file_writer.py</span></a><span style=\"color: #7f7f7f; text-decoration-color: #7f7f7f\">:</span><a href=\"file://E:\\ipynb\\venv\\lib\\site-packages\\manim\\scene\\scene_file_writer.py#527\" target=\"_blank\"><span style=\"color: #7f7f7f; text-decoration-color: #7f7f7f\">527</span></a>\n",
       "<span style=\"color: #7fbfbf; text-decoration-color: #7fbfbf\">                    </span>         <span style=\"color: #008000; text-decoration-color: #008000\">'E:\\ipynb\\python_design\\yty_math\\media\\videos\\1080p60\\partial</span> <span style=\"color: #7f7f7f; text-decoration-color: #7f7f7f\">                        </span>\n",
       "<span style=\"color: #7fbfbf; text-decoration-color: #7fbfbf\">                    </span>         <span style=\"color: #008000; text-decoration-color: #008000\">_movie_files\\MatrixMulShow\\2852726489_2327097548_2159200832.m</span> <span style=\"color: #7f7f7f; text-decoration-color: #7f7f7f\">                        </span>\n",
       "<span style=\"color: #7fbfbf; text-decoration-color: #7fbfbf\">                    </span>         <span style=\"color: #008000; text-decoration-color: #008000\">p4'</span>                                                           <span style=\"color: #7f7f7f; text-decoration-color: #7f7f7f\">                        </span>\n",
       "</pre>\n"
      ]
     },
     "metadata": {},
     "output_type": "display_data"
    },
    {
     "name": "stderr",
     "output_type": "stream",
     "text": [
      "                                                                                                    \r"
     ]
    },
    {
     "data": {
      "text/plain": [
       "\u001B[2;36m[2024/12/7 2:23:53]\u001B[0m\u001B[2;36m \u001B[0m\u001B[32mINFO    \u001B[0m Animation \u001B[32m70\u001B[0m : Partial movie file written in                  \u001B]8;id=325672;file://E:\\ipynb\\venv\\lib\\site-packages\\manim\\scene\\scene_file_writer.py\u001B\\\u001B[2mscene_file_writer.py\u001B[0m\u001B]8;;\u001B\\\u001B[2m:\u001B[0m\u001B]8;id=126579;file://E:\\ipynb\\venv\\lib\\site-packages\\manim\\scene\\scene_file_writer.py#527\u001B\\\u001B[2m527\u001B[0m\u001B]8;;\u001B\\\n",
       "\u001B[2;36m                    \u001B[0m         \u001B[32m'E:\\ipynb\\python_design\\yty_math\\media\\videos\\1080p60\\partial\u001B[0m \u001B[2m                        \u001B[0m\n",
       "\u001B[2;36m                    \u001B[0m         \u001B[32m_movie_files\\MatrixMulShow\\2852726489_1114035792_3334134758.m\u001B[0m \u001B[2m                        \u001B[0m\n",
       "\u001B[2;36m                    \u001B[0m         \u001B[32mp4'\u001B[0m                                                           \u001B[2m                        \u001B[0m\n"
      ],
      "text/html": [
       "<pre style=\"white-space:pre;overflow-x:auto;line-height:normal;font-family:Menlo,'DejaVu Sans Mono',consolas,'Courier New',monospace\"><span style=\"color: #7fbfbf; text-decoration-color: #7fbfbf\">[2024/12/7 2:23:53] </span><span style=\"color: #008000; text-decoration-color: #008000\">INFO    </span> Animation <span style=\"color: #008000; text-decoration-color: #008000\">70</span> : Partial movie file written in                  <a href=\"file://E:\\ipynb\\venv\\lib\\site-packages\\manim\\scene\\scene_file_writer.py\" target=\"_blank\"><span style=\"color: #7f7f7f; text-decoration-color: #7f7f7f\">scene_file_writer.py</span></a><span style=\"color: #7f7f7f; text-decoration-color: #7f7f7f\">:</span><a href=\"file://E:\\ipynb\\venv\\lib\\site-packages\\manim\\scene\\scene_file_writer.py#527\" target=\"_blank\"><span style=\"color: #7f7f7f; text-decoration-color: #7f7f7f\">527</span></a>\n",
       "<span style=\"color: #7fbfbf; text-decoration-color: #7fbfbf\">                    </span>         <span style=\"color: #008000; text-decoration-color: #008000\">'E:\\ipynb\\python_design\\yty_math\\media\\videos\\1080p60\\partial</span> <span style=\"color: #7f7f7f; text-decoration-color: #7f7f7f\">                        </span>\n",
       "<span style=\"color: #7fbfbf; text-decoration-color: #7fbfbf\">                    </span>         <span style=\"color: #008000; text-decoration-color: #008000\">_movie_files\\MatrixMulShow\\2852726489_1114035792_3334134758.m</span> <span style=\"color: #7f7f7f; text-decoration-color: #7f7f7f\">                        </span>\n",
       "<span style=\"color: #7fbfbf; text-decoration-color: #7fbfbf\">                    </span>         <span style=\"color: #008000; text-decoration-color: #008000\">p4'</span>                                                           <span style=\"color: #7f7f7f; text-decoration-color: #7f7f7f\">                        </span>\n",
       "</pre>\n"
      ]
     },
     "metadata": {},
     "output_type": "display_data"
    },
    {
     "name": "stderr",
     "output_type": "stream",
     "text": [
      "                                                                                   \r"
     ]
    },
    {
     "data": {
      "text/plain": [
       "\u001B[2;36m[2024/12/7 2:23:58]\u001B[0m\u001B[2;36m \u001B[0m\u001B[32mINFO    \u001B[0m Animation \u001B[32m71\u001B[0m : Partial movie file written in                  \u001B]8;id=316417;file://E:\\ipynb\\venv\\lib\\site-packages\\manim\\scene\\scene_file_writer.py\u001B\\\u001B[2mscene_file_writer.py\u001B[0m\u001B]8;;\u001B\\\u001B[2m:\u001B[0m\u001B]8;id=49078;file://E:\\ipynb\\venv\\lib\\site-packages\\manim\\scene\\scene_file_writer.py#527\u001B\\\u001B[2m527\u001B[0m\u001B]8;;\u001B\\\n",
       "\u001B[2;36m                    \u001B[0m         \u001B[32m'E:\\ipynb\\python_design\\yty_math\\media\\videos\\1080p60\\partial\u001B[0m \u001B[2m                        \u001B[0m\n",
       "\u001B[2;36m                    \u001B[0m         \u001B[32m_movie_files\\MatrixMulShow\\2852726489_548394318_1194768459.mp\u001B[0m \u001B[2m                        \u001B[0m\n",
       "\u001B[2;36m                    \u001B[0m         \u001B[32m4'\u001B[0m                                                            \u001B[2m                        \u001B[0m\n"
      ],
      "text/html": [
       "<pre style=\"white-space:pre;overflow-x:auto;line-height:normal;font-family:Menlo,'DejaVu Sans Mono',consolas,'Courier New',monospace\"><span style=\"color: #7fbfbf; text-decoration-color: #7fbfbf\">[2024/12/7 2:23:58] </span><span style=\"color: #008000; text-decoration-color: #008000\">INFO    </span> Animation <span style=\"color: #008000; text-decoration-color: #008000\">71</span> : Partial movie file written in                  <a href=\"file://E:\\ipynb\\venv\\lib\\site-packages\\manim\\scene\\scene_file_writer.py\" target=\"_blank\"><span style=\"color: #7f7f7f; text-decoration-color: #7f7f7f\">scene_file_writer.py</span></a><span style=\"color: #7f7f7f; text-decoration-color: #7f7f7f\">:</span><a href=\"file://E:\\ipynb\\venv\\lib\\site-packages\\manim\\scene\\scene_file_writer.py#527\" target=\"_blank\"><span style=\"color: #7f7f7f; text-decoration-color: #7f7f7f\">527</span></a>\n",
       "<span style=\"color: #7fbfbf; text-decoration-color: #7fbfbf\">                    </span>         <span style=\"color: #008000; text-decoration-color: #008000\">'E:\\ipynb\\python_design\\yty_math\\media\\videos\\1080p60\\partial</span> <span style=\"color: #7f7f7f; text-decoration-color: #7f7f7f\">                        </span>\n",
       "<span style=\"color: #7fbfbf; text-decoration-color: #7fbfbf\">                    </span>         <span style=\"color: #008000; text-decoration-color: #008000\">_movie_files\\MatrixMulShow\\2852726489_548394318_1194768459.mp</span> <span style=\"color: #7f7f7f; text-decoration-color: #7f7f7f\">                        </span>\n",
       "<span style=\"color: #7fbfbf; text-decoration-color: #7fbfbf\">                    </span>         <span style=\"color: #008000; text-decoration-color: #008000\">4'</span>                                                            <span style=\"color: #7f7f7f; text-decoration-color: #7f7f7f\">                        </span>\n",
       "</pre>\n"
      ]
     },
     "metadata": {},
     "output_type": "display_data"
    },
    {
     "name": "stderr",
     "output_type": "stream",
     "text": [
      "                                                                                             \r"
     ]
    },
    {
     "data": {
      "text/plain": [
       "\u001B[2;36m[2024/12/7 2:24:03]\u001B[0m\u001B[2;36m \u001B[0m\u001B[32mINFO    \u001B[0m Animation \u001B[32m72\u001B[0m : Partial movie file written in                  \u001B]8;id=764227;file://E:\\ipynb\\venv\\lib\\site-packages\\manim\\scene\\scene_file_writer.py\u001B\\\u001B[2mscene_file_writer.py\u001B[0m\u001B]8;;\u001B\\\u001B[2m:\u001B[0m\u001B]8;id=94558;file://E:\\ipynb\\venv\\lib\\site-packages\\manim\\scene\\scene_file_writer.py#527\u001B\\\u001B[2m527\u001B[0m\u001B]8;;\u001B\\\n",
       "\u001B[2;36m                    \u001B[0m         \u001B[32m'E:\\ipynb\\python_design\\yty_math\\media\\videos\\1080p60\\partial\u001B[0m \u001B[2m                        \u001B[0m\n",
       "\u001B[2;36m                    \u001B[0m         \u001B[32m_movie_files\\MatrixMulShow\\2852726489_2145663514_3209045263.m\u001B[0m \u001B[2m                        \u001B[0m\n",
       "\u001B[2;36m                    \u001B[0m         \u001B[32mp4'\u001B[0m                                                           \u001B[2m                        \u001B[0m\n"
      ],
      "text/html": [
       "<pre style=\"white-space:pre;overflow-x:auto;line-height:normal;font-family:Menlo,'DejaVu Sans Mono',consolas,'Courier New',monospace\"><span style=\"color: #7fbfbf; text-decoration-color: #7fbfbf\">[2024/12/7 2:24:03] </span><span style=\"color: #008000; text-decoration-color: #008000\">INFO    </span> Animation <span style=\"color: #008000; text-decoration-color: #008000\">72</span> : Partial movie file written in                  <a href=\"file://E:\\ipynb\\venv\\lib\\site-packages\\manim\\scene\\scene_file_writer.py\" target=\"_blank\"><span style=\"color: #7f7f7f; text-decoration-color: #7f7f7f\">scene_file_writer.py</span></a><span style=\"color: #7f7f7f; text-decoration-color: #7f7f7f\">:</span><a href=\"file://E:\\ipynb\\venv\\lib\\site-packages\\manim\\scene\\scene_file_writer.py#527\" target=\"_blank\"><span style=\"color: #7f7f7f; text-decoration-color: #7f7f7f\">527</span></a>\n",
       "<span style=\"color: #7fbfbf; text-decoration-color: #7fbfbf\">                    </span>         <span style=\"color: #008000; text-decoration-color: #008000\">'E:\\ipynb\\python_design\\yty_math\\media\\videos\\1080p60\\partial</span> <span style=\"color: #7f7f7f; text-decoration-color: #7f7f7f\">                        </span>\n",
       "<span style=\"color: #7fbfbf; text-decoration-color: #7fbfbf\">                    </span>         <span style=\"color: #008000; text-decoration-color: #008000\">_movie_files\\MatrixMulShow\\2852726489_2145663514_3209045263.m</span> <span style=\"color: #7f7f7f; text-decoration-color: #7f7f7f\">                        </span>\n",
       "<span style=\"color: #7fbfbf; text-decoration-color: #7fbfbf\">                    </span>         <span style=\"color: #008000; text-decoration-color: #008000\">p4'</span>                                                           <span style=\"color: #7f7f7f; text-decoration-color: #7f7f7f\">                        </span>\n",
       "</pre>\n"
      ]
     },
     "metadata": {},
     "output_type": "display_data"
    },
    {
     "name": "stderr",
     "output_type": "stream",
     "text": [
      "                                                                                               \r"
     ]
    },
    {
     "data": {
      "text/plain": [
       "\u001B[2;36m[2024/12/7 2:24:10]\u001B[0m\u001B[2;36m \u001B[0m\u001B[32mINFO    \u001B[0m Animation \u001B[32m73\u001B[0m : Partial movie file written in                  \u001B]8;id=330306;file://E:\\ipynb\\venv\\lib\\site-packages\\manim\\scene\\scene_file_writer.py\u001B\\\u001B[2mscene_file_writer.py\u001B[0m\u001B]8;;\u001B\\\u001B[2m:\u001B[0m\u001B]8;id=234869;file://E:\\ipynb\\venv\\lib\\site-packages\\manim\\scene\\scene_file_writer.py#527\u001B\\\u001B[2m527\u001B[0m\u001B]8;;\u001B\\\n",
       "\u001B[2;36m                    \u001B[0m         \u001B[32m'E:\\ipynb\\python_design\\yty_math\\media\\videos\\1080p60\\partial\u001B[0m \u001B[2m                        \u001B[0m\n",
       "\u001B[2;36m                    \u001B[0m         \u001B[32m_movie_files\\MatrixMulShow\\2852726489_3400616670_3820368461.m\u001B[0m \u001B[2m                        \u001B[0m\n",
       "\u001B[2;36m                    \u001B[0m         \u001B[32mp4'\u001B[0m                                                           \u001B[2m                        \u001B[0m\n"
      ],
      "text/html": [
       "<pre style=\"white-space:pre;overflow-x:auto;line-height:normal;font-family:Menlo,'DejaVu Sans Mono',consolas,'Courier New',monospace\"><span style=\"color: #7fbfbf; text-decoration-color: #7fbfbf\">[2024/12/7 2:24:10] </span><span style=\"color: #008000; text-decoration-color: #008000\">INFO    </span> Animation <span style=\"color: #008000; text-decoration-color: #008000\">73</span> : Partial movie file written in                  <a href=\"file://E:\\ipynb\\venv\\lib\\site-packages\\manim\\scene\\scene_file_writer.py\" target=\"_blank\"><span style=\"color: #7f7f7f; text-decoration-color: #7f7f7f\">scene_file_writer.py</span></a><span style=\"color: #7f7f7f; text-decoration-color: #7f7f7f\">:</span><a href=\"file://E:\\ipynb\\venv\\lib\\site-packages\\manim\\scene\\scene_file_writer.py#527\" target=\"_blank\"><span style=\"color: #7f7f7f; text-decoration-color: #7f7f7f\">527</span></a>\n",
       "<span style=\"color: #7fbfbf; text-decoration-color: #7fbfbf\">                    </span>         <span style=\"color: #008000; text-decoration-color: #008000\">'E:\\ipynb\\python_design\\yty_math\\media\\videos\\1080p60\\partial</span> <span style=\"color: #7f7f7f; text-decoration-color: #7f7f7f\">                        </span>\n",
       "<span style=\"color: #7fbfbf; text-decoration-color: #7fbfbf\">                    </span>         <span style=\"color: #008000; text-decoration-color: #008000\">_movie_files\\MatrixMulShow\\2852726489_3400616670_3820368461.m</span> <span style=\"color: #7f7f7f; text-decoration-color: #7f7f7f\">                        </span>\n",
       "<span style=\"color: #7fbfbf; text-decoration-color: #7fbfbf\">                    </span>         <span style=\"color: #008000; text-decoration-color: #008000\">p4'</span>                                                           <span style=\"color: #7f7f7f; text-decoration-color: #7f7f7f\">                        </span>\n",
       "</pre>\n"
      ]
     },
     "metadata": {},
     "output_type": "display_data"
    },
    {
     "data": {
      "text/plain": [
       "\u001B[2;36m[2024/12/7 2:24:15]\u001B[0m\u001B[2;36m \u001B[0m\u001B[32mINFO    \u001B[0m Animation \u001B[32m74\u001B[0m : Partial movie file written in                  \u001B]8;id=24178;file://E:\\ipynb\\venv\\lib\\site-packages\\manim\\scene\\scene_file_writer.py\u001B\\\u001B[2mscene_file_writer.py\u001B[0m\u001B]8;;\u001B\\\u001B[2m:\u001B[0m\u001B]8;id=73259;file://E:\\ipynb\\venv\\lib\\site-packages\\manim\\scene\\scene_file_writer.py#527\u001B\\\u001B[2m527\u001B[0m\u001B]8;;\u001B\\\n",
       "\u001B[2;36m                    \u001B[0m         \u001B[32m'E:\\ipynb\\python_design\\yty_math\\media\\videos\\1080p60\\partial\u001B[0m \u001B[2m                        \u001B[0m\n",
       "\u001B[2;36m                    \u001B[0m         \u001B[32m_movie_files\\MatrixMulShow\\2852726489_784179552_900190783.mp4\u001B[0m \u001B[2m                        \u001B[0m\n",
       "\u001B[2;36m                    \u001B[0m         \u001B[32m'\u001B[0m                                                             \u001B[2m                        \u001B[0m\n"
      ],
      "text/html": [
       "<pre style=\"white-space:pre;overflow-x:auto;line-height:normal;font-family:Menlo,'DejaVu Sans Mono',consolas,'Courier New',monospace\"><span style=\"color: #7fbfbf; text-decoration-color: #7fbfbf\">[2024/12/7 2:24:15] </span><span style=\"color: #008000; text-decoration-color: #008000\">INFO    </span> Animation <span style=\"color: #008000; text-decoration-color: #008000\">74</span> : Partial movie file written in                  <a href=\"file://E:\\ipynb\\venv\\lib\\site-packages\\manim\\scene\\scene_file_writer.py\" target=\"_blank\"><span style=\"color: #7f7f7f; text-decoration-color: #7f7f7f\">scene_file_writer.py</span></a><span style=\"color: #7f7f7f; text-decoration-color: #7f7f7f\">:</span><a href=\"file://E:\\ipynb\\venv\\lib\\site-packages\\manim\\scene\\scene_file_writer.py#527\" target=\"_blank\"><span style=\"color: #7f7f7f; text-decoration-color: #7f7f7f\">527</span></a>\n",
       "<span style=\"color: #7fbfbf; text-decoration-color: #7fbfbf\">                    </span>         <span style=\"color: #008000; text-decoration-color: #008000\">'E:\\ipynb\\python_design\\yty_math\\media\\videos\\1080p60\\partial</span> <span style=\"color: #7f7f7f; text-decoration-color: #7f7f7f\">                        </span>\n",
       "<span style=\"color: #7fbfbf; text-decoration-color: #7fbfbf\">                    </span>         <span style=\"color: #008000; text-decoration-color: #008000\">_movie_files\\MatrixMulShow\\2852726489_784179552_900190783.mp4</span> <span style=\"color: #7f7f7f; text-decoration-color: #7f7f7f\">                        </span>\n",
       "<span style=\"color: #7fbfbf; text-decoration-color: #7fbfbf\">                    </span>         <span style=\"color: #008000; text-decoration-color: #008000\">'</span>                                                             <span style=\"color: #7f7f7f; text-decoration-color: #7f7f7f\">                        </span>\n",
       "</pre>\n"
      ]
     },
     "metadata": {},
     "output_type": "display_data"
    }
   ],
   "execution_count": 6
  },
  {
   "metadata": {
    "ExecuteTime": {
     "end_time": "2024-12-06T15:32:02.004416Z",
     "start_time": "2024-12-06T15:32:00.144028Z"
    }
   },
   "cell_type": "code",
   "source": [
    "from pyflowchart import Flowchart\n",
    "\n",
    "code = \"\"\"\n",
    "def find_max(numbers):\n",
    "    max_num = numbers[0]\n",
    "    for num in numbers:\n",
    "        if num > max_num:\n",
    "            max_num = num\n",
    "    return max_num\n",
    "\"\"\"\n",
    "flowchart = Flowchart.from_code(code)\n",
    "print(flowchart.flowchart())\n"
   ],
   "id": "65a72324e73bbe8d",
   "outputs": [
    {
     "name": "stdout",
     "output_type": "stream",
     "text": [
      "st3=>start: start find_max\n",
      "io5=>inputoutput: input: numbers\n",
      "op8=>operation: max_num = numbers[0]\n",
      "cond11=>condition: for num in numbers\n",
      "cond28=>operation: max_num = num if  (num > max_num)\n",
      "io43=>inputoutput: output:  max_num\n",
      "e41=>end: end function return\n",
      "\n",
      "st3->io5\n",
      "io5->op8\n",
      "op8->cond11\n",
      "cond11(yes)->cond28\n",
      "cond28->cond11\n",
      "cond11(no)->io43\n",
      "io43->e41\n",
      "\n"
     ]
    }
   ],
   "execution_count": 4
  },
  {
   "metadata": {},
   "cell_type": "markdown",
   "source": [
    "saves\n",
    "├── manim\n",
    "│   └── manim_cache.png\n",
    "└── math_cache\n",
    "    ├── cache.txt\n",
    "    ├── matrix0_cache.txt\n",
    "    ├── matrix0_cache.png\n",
    "    ├── matrix1_cache.txt\n",
    "    ├── matrix1_cache.png\n",
    "    ├── canvas_matrix.txt\n",
    "    ├── canvas_cache.png\n",
    "    ├── canvas_cache.ps\n",
    "    └── ...(其他矩阵存储)\n",
    "    \n",
    "\n",
    "\n",
    "\n"
   ],
   "id": "1b0814ec86d64007"
  },
  {
   "metadata": {},
   "cell_type": "code",
   "outputs": [],
   "execution_count": null,
   "source": "",
   "id": "8df335370ece77a"
  }
 ],
 "metadata": {
  "kernelspec": {
   "display_name": "Python 3",
   "language": "python",
   "name": "python3"
  },
  "language_info": {
   "codemirror_mode": {
    "name": "ipython",
    "version": 2
   },
   "file_extension": ".py",
   "mimetype": "text/x-python",
   "name": "python",
   "nbconvert_exporter": "python",
   "pygments_lexer": "ipython2",
   "version": "2.7.6"
  }
 },
 "nbformat": 4,
 "nbformat_minor": 5
}
