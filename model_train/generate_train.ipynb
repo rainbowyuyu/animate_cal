{
 "cells": [
  {
   "metadata": {
    "ExecuteTime": {
     "end_time": "2024-11-19T09:23:17.979716Z",
     "start_time": "2024-11-19T09:23:17.953453Z"
    }
   },
   "cell_type": "code",
   "source": [
    "import os\n",
    "import random\n",
    "from PIL import Image, ImageDraw\n",
    "from tqdm import tqdm  # 用于生成进度条"
   ],
   "id": "2b1cf213246e93d5",
   "outputs": [],
   "execution_count": 13
  },
  {
   "cell_type": "code",
   "id": "initial_id",
   "metadata": {
    "collapsed": true,
    "ExecuteTime": {
     "end_time": "2024-11-19T08:45:23.895902Z",
     "start_time": "2024-11-19T08:44:56.716603Z"
    }
   },
   "source": [
    "# 定义路径\n",
    "small_images_dir = r\"E:\\ipynb\\datasets\\math_need_to_use\"  # 小图片存放路径\n",
    "class_mapping_path = r\"E:\\ipynb\\pyhton_design\\test_datasets\\class.txt\"  # 类别映射文件路径\n",
    "\n",
    "# 生成类别映射\n",
    "class_mapping = {class_name: idx for idx, class_name in enumerate(sorted(os.listdir(small_images_dir)))}\n",
    "with open(class_mapping_path, \"w\") as mapping_file:\n",
    "    for class_name, class_id in class_mapping.items():\n",
    "        mapping_file.write(f\"{class_name}\\n\")\n",
    "\n",
    "# 加载小图片\n",
    "small_images = []\n",
    "for class_name in os.listdir(small_images_dir):\n",
    "    class_path = os.path.join(small_images_dir, class_name)\n",
    "    if os.path.isdir(class_path):\n",
    "        for filename in os.listdir(class_path):\n",
    "            if filename.endswith(\".png\") or filename.endswith(\".jpg\"):\n",
    "                with Image.open(os.path.join(class_path, filename)) as img:\n",
    "                    small_images.append((img.copy(), class_mapping[class_name]))  # 保存图片和类别数字\n"
   ],
   "outputs": [
    {
     "name": "stderr",
     "output_type": "stream",
     "text": [
      "Generating Images: 100%|██████████| 10/10 [00:00<00:00, 436.85it/s]\n"
     ]
    }
   ],
   "execution_count": 10
  },
  {
   "metadata": {
    "ExecuteTime": {
     "end_time": "2024-11-19T09:50:41.888955Z",
     "start_time": "2024-11-19T09:48:41.268952Z"
    }
   },
   "cell_type": "code",
   "source": [
    "output_images_dir = r\"E:\\ipynb\\pyhton_design\\datasets\\final\\data_train\"  # 生成的图片存放路径\n",
    "output_labels_dir = r\"E:\\ipynb\\pyhton_design\\datasets\\final\\data_train\"  # 标签文件存放路径\n",
    "\n",
    "# 创建输出目录\n",
    "os.makedirs(output_images_dir, exist_ok=True)\n",
    "os.makedirs(output_labels_dir, exist_ok=True)\n",
    "\n",
    "# 定义背景图片大小\n",
    "background_size = (512 + random.randint(-200, 200), 512 + random.randint(-200, 200))\n",
    "\n",
    "# 生成 10000 张图片\n",
    "for img_idx in tqdm(range(60000), desc=\"Generating Images\"):  # 使用 tqdm 添加进度条\n",
    "    # 创建随机背景\n",
    "    background = Image.new(\"RGB\", background_size, (255, 255, 255))  # 白色背景\n",
    "    draw = ImageDraw.Draw(background)\n",
    "\n",
    "    annotations = []  # 用于存储标注内容\n",
    "\n",
    "    # 随机添加小图片\n",
    "    num_objects = random.randint(10, 20)  # 每张图片随机放置 5-20 个小图片\n",
    "    for _ in range(num_objects):\n",
    "        small_img, label_id = random.choice(small_images)  # 随机选取小图片\n",
    "        scale = random.uniform(0.5, 1.5)  # 随机缩放比例\n",
    "        resized_img = small_img.resize((int(45 * scale), int(45 * scale)))\n",
    "\n",
    "        # 随机放置位置\n",
    "        max_x = background_size[0] - resized_img.size[0]\n",
    "        max_y = background_size[1] - resized_img.size[1]\n",
    "        if max_x <= 0 or max_y <= 0:\n",
    "            continue  # 如果背景太小，跳过\n",
    "        x_min = random.randint(0, max_x)\n",
    "        y_min = random.randint(0, max_y)\n",
    "        x_max = x_min + resized_img.size[0]\n",
    "        y_max = y_min + resized_img.size[1]\n",
    "\n",
    "        # 添加小幅度的框形状变化\n",
    "        delta_width = random.randint(-10, 10)  # 框宽度的随机偏差\n",
    "        delta_height = random.randint(-10, 10)  # 框高度的随机偏差\n",
    "        x_max += delta_width\n",
    "        y_max += delta_height\n",
    "\n",
    "        # 粘贴小图片到背景\n",
    "        background.paste(resized_img, (x_min, y_min))\n",
    "\n",
    "        # 归一化坐标\n",
    "        x_center = round((x_min + x_max) / 2 / background_size[0], 6)\n",
    "        y_center = round((y_min + y_max) / 2 / background_size[1], 6)\n",
    "        width = round((x_max - x_min) / background_size[0], 6)\n",
    "        height = round((y_max - y_min) / background_size[1], 6)\n",
    "\n",
    "        # 添加标注（使用类别数字和归一化后的坐标）\n",
    "        annotations.append(f\"{label_id} {x_center} {y_center} {width} {height}\")\n",
    "\n",
    "    # 添加随机黑色噪点\n",
    "    num_noise_points = random.randint(25, 125)  # 随机噪点数量\n",
    "    for _ in range(num_noise_points):\n",
    "        noise_x = random.randint(0, background_size[0] - 1)\n",
    "        noise_y = random.randint(0, background_size[1] - 1)\n",
    "        draw.point((noise_x, noise_y), fill=\"black\")  # 在背景上绘制黑点\n",
    "\n",
    "    # 保存图片\n",
    "    image_path = os.path.join(output_images_dir, f\"image_{img_idx}.jpg\")\n",
    "    background.save(image_path)\n",
    "\n",
    "    # 保存标注\n",
    "    label_path = os.path.join(output_labels_dir, f\"image_{img_idx}.txt\")\n",
    "    with open(label_path, \"w\") as label_file:\n",
    "        label_file.write(\"\\n\".join(annotations))\n"
   ],
   "id": "c8e5c6e864f12141",
   "outputs": [
    {
     "name": "stderr",
     "output_type": "stream",
     "text": [
      "Generating Images: 100%|██████████| 60000/60000 [02:00<00:00, 497.48it/s]\n"
     ]
    }
   ],
   "execution_count": 16
  },
  {
   "metadata": {},
   "cell_type": "code",
   "outputs": [],
   "execution_count": null,
   "source": "",
   "id": "7863ab9538951dee"
  }
 ],
 "metadata": {
  "kernelspec": {
   "display_name": "Python 3",
   "language": "python",
   "name": "python3"
  },
  "language_info": {
   "codemirror_mode": {
    "name": "ipython",
    "version": 2
   },
   "file_extension": ".py",
   "mimetype": "text/x-python",
   "name": "python",
   "nbconvert_exporter": "python",
   "pygments_lexer": "ipython2",
   "version": "2.7.6"
  }
 },
 "nbformat": 4,
 "nbformat_minor": 5
}
